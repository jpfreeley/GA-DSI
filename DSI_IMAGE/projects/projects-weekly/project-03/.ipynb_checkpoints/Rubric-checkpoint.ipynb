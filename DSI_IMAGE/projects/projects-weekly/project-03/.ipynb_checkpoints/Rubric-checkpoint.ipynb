{
 "cells": [
  {
   "cell_type": "markdown",
   "metadata": {},
   "source": [
    "# ![](https://ga-dash.s3.amazonaws.com/production/assets/logo-9f88ae6c9c3871690e33280fcf557f33.png) PROJECT 3 RUBRIC\n",
    "Data Science Immersive | Project 3\t \t\t\t\t\t\t\n",
    "\n",
    "Your project will be assessed using the following standards, [derived from the data science workflow](../../../../resources/syllabus/DSI-workflow-v1.pdf):\n",
    "\n",
    "\n",
    "- [ ] Identify problem\n",
    "- [ ] Acquire Data\n",
    "- [ ] Parse Data\n",
    "- [ ] Mine Data\n",
    "- [ ] Refine Data\n",
    "- [ ] Model Data\n",
    "- [ ] Present Results\n",
    "\n",
    "Acceptable performance for these standards is based on how well you've performed the specific requirements listed below.\n",
    "\n",
    "---\n",
    "\n",
    "### Performance Evaluation\n",
    "\n",
    "\n",
    "| Requirements | Incomplete (0) | Does Not Meet Expectations (1) | Meets Expectations (2) | Exceeds Expectations (3) |\n",
    "|---|---|---|---|---|\n",
    "| Identify: Write a detailed problem statement + Describe Goals & Criteria for Success | | | | |\n",
    "| Acquire: Import with Pandas & create at least one exploratory plot | | | | n/a |\n",
    "| Parse: State the risks & assumptions of your data | | | | n/a |\n",
    "| Mine: Create necessary columns + Clean/format/process data | | | | n/a |\n",
    "| Refine: Determine outliers + distribution, correlation, & statistical analysis | | | | *Bonus: handle outliers*  |\n",
    "| Model: Create at least one linear model; calculate probabilities + evaluate model, perform cross-validation, describe bias-variance tradeoff| | | | *Challenging Bonus: perform Ridge and Lasso regularization and explain what they do* |\n",
    "| Present: Create executive summary, present findings, summarize conclusions/recommendations, tailored for your audience (based on your scenario) | | | | *Bonus: Include additional data & improvement suggestions* |\n",
    "| *Bonus! Present: Create blog post summary* | | | | |\n",
    "\n",
    "\n",
    "- Notes:\n",
    "\n",
    "---\n",
    "\n",
    "## Score:\n",
    "Based on the requirements, you can earn a maximum of  **21**  points on this project. Your score is: **#**\n",
    "\n",
    "- Remember, your total score is helpful as a gauge of how well you met the project requirements, but use the individual standards and instructor feedback to help iterate and improve on your projects!\n",
    "\n",
    "---\n",
    "\n",
    "## PROGRESS REPORT\n",
    "**Student Check-in:**\n",
    "\n",
    "|WHAT’S GOING WELL?|STRUGGLES|DEVELOPMENT PLAN|\n",
    "|---|---|---|\n",
    "| | | |\n"
   ]
  }
 ],
 "metadata": {
  "anaconda-cloud": {},
  "kernelspec": {
   "display_name": "Python [Root]",
   "language": "python",
   "name": "Python [Root]"
  },
  "language_info": {
   "codemirror_mode": {
    "name": "ipython",
    "version": 2
   },
   "file_extension": ".py",
   "mimetype": "text/x-python",
   "name": "python",
   "nbconvert_exporter": "python",
   "pygments_lexer": "ipython2",
   "version": "2.7.12"
  }
 },
 "nbformat": 4,
 "nbformat_minor": 0
}
