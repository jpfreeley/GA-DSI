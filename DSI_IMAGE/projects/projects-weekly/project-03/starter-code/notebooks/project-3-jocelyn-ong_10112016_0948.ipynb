{
 "cells": [
  {
   "cell_type": "markdown",
   "metadata": {
    "slideshow": {
     "slide_type": "slide"
    }
   },
   "source": [
    "# Getting started\n",
    "\n",
    "Once you've chosen your scenario, download the data from [the Iowa website](https://data.iowa.gov/Economy/Iowa-Liquor-Sales/m3tr-qhgy) in csv format. Start by loading the data with pandas. You may need to parse the date columns appropriately."
   ]
  },
  {
   "cell_type": "code",
   "execution_count": 7,
   "metadata": {
    "ExecuteTime": {
     "end_time": "2016-10-11T09:52:18.981559",
     "start_time": "2016-10-11T09:52:18.971201"
    },
    "collapsed": false,
    "slideshow": {
     "slide_type": "slide"
    }
   },
   "outputs": [],
   "source": [
    "# Import relevant libraries\n",
    "import pandas as pd\n",
    "import numpy as np\n",
    "import seaborn as sns\n",
    "import matplotlib.pyplot as plt\n",
    "%matplotlib inline\n",
    "from sklearn import linear_model"
   ]
  },
  {
   "cell_type": "code",
   "execution_count": 8,
   "metadata": {
    "ExecuteTime": {
     "end_time": "2016-10-11T09:52:20.597241",
     "start_time": "2016-10-11T09:52:19.486482"
    },
    "collapsed": false,
    "slideshow": {
     "slide_type": "-"
    }
   },
   "outputs": [],
   "source": [
    "## Load the data into a DataFrame\n",
    "df = pd.read_csv('../data/Iowa_Liquor_sales_sample_10pct.csv')"
   ]
  },
  {
   "cell_type": "code",
   "execution_count": 9,
   "metadata": {
    "ExecuteTime": {
     "end_time": "2016-10-11T09:52:22.132590",
     "start_time": "2016-10-11T09:52:20.599722"
    },
    "collapsed": false,
    "slideshow": {
     "slide_type": "-"
    }
   },
   "outputs": [],
   "source": [
    "## Transform the dates column\n",
    "df[\"Date\"] = pd.to_datetime(df[\"Date\"], format='%m/%d/%Y')"
   ]
  },
  {
   "cell_type": "markdown",
   "metadata": {},
   "source": [
    "To ensure accuracy, we are importing a list of Iowa zip codes, cities, counties and county numbers."
   ]
  },
  {
   "cell_type": "code",
   "execution_count": 10,
   "metadata": {
    "ExecuteTime": {
     "end_time": "2016-10-11T09:52:22.155702",
     "start_time": "2016-10-11T09:52:22.136669"
    },
    "collapsed": false
   },
   "outputs": [],
   "source": [
    "location_data = pd.read_csv('../data/ia_zip_city_county_sqm.csv')"
   ]
  },
  {
   "cell_type": "code",
   "execution_count": 11,
   "metadata": {
    "ExecuteTime": {
     "end_time": "2016-10-11T09:52:23.278156",
     "start_time": "2016-10-11T09:52:23.240585"
    },
    "collapsed": false
   },
   "outputs": [
    {
     "data": {
      "text/html": [
       "<div>\n",
       "<table border=\"1\" class=\"dataframe\">\n",
       "  <thead>\n",
       "    <tr style=\"text-align: right;\">\n",
       "      <th></th>\n",
       "      <th>Unnamed: 0</th>\n",
       "      <th>zip</th>\n",
       "      <th>primary_city</th>\n",
       "      <th>county</th>\n",
       "      <th>state</th>\n",
       "      <th>County#</th>\n",
       "      <th>ZCTA5CE10</th>\n",
       "      <th>area-sqm</th>\n",
       "    </tr>\n",
       "  </thead>\n",
       "  <tbody>\n",
       "    <tr>\n",
       "      <th>0</th>\n",
       "      <td>0</td>\n",
       "      <td>50001</td>\n",
       "      <td>ACKWORTH</td>\n",
       "      <td>Warren</td>\n",
       "      <td>IA</td>\n",
       "      <td>91</td>\n",
       "      <td>50001</td>\n",
       "      <td>62796656</td>\n",
       "    </tr>\n",
       "    <tr>\n",
       "      <th>1</th>\n",
       "      <td>1</td>\n",
       "      <td>50002</td>\n",
       "      <td>ADAIR</td>\n",
       "      <td>Guthrie</td>\n",
       "      <td>IA</td>\n",
       "      <td>39</td>\n",
       "      <td>50002</td>\n",
       "      <td>279202219</td>\n",
       "    </tr>\n",
       "    <tr>\n",
       "      <th>2</th>\n",
       "      <td>2</td>\n",
       "      <td>50003</td>\n",
       "      <td>ADEL</td>\n",
       "      <td>Dallas</td>\n",
       "      <td>IA</td>\n",
       "      <td>25</td>\n",
       "      <td>50003</td>\n",
       "      <td>298086291</td>\n",
       "    </tr>\n",
       "    <tr>\n",
       "      <th>3</th>\n",
       "      <td>3</td>\n",
       "      <td>50005</td>\n",
       "      <td>ALBION</td>\n",
       "      <td>Marshall</td>\n",
       "      <td>IA</td>\n",
       "      <td>64</td>\n",
       "      <td>50005</td>\n",
       "      <td>69623573</td>\n",
       "    </tr>\n",
       "    <tr>\n",
       "      <th>4</th>\n",
       "      <td>4</td>\n",
       "      <td>50006</td>\n",
       "      <td>ALDEN</td>\n",
       "      <td>Hardin</td>\n",
       "      <td>IA</td>\n",
       "      <td>42</td>\n",
       "      <td>50006</td>\n",
       "      <td>317745150</td>\n",
       "    </tr>\n",
       "  </tbody>\n",
       "</table>\n",
       "</div>"
      ],
      "text/plain": [
       "   Unnamed: 0    zip primary_city    county state  County#  ZCTA5CE10  \\\n",
       "0           0  50001     ACKWORTH    Warren    IA       91      50001   \n",
       "1           1  50002        ADAIR   Guthrie    IA       39      50002   \n",
       "2           2  50003         ADEL    Dallas    IA       25      50003   \n",
       "3           3  50005       ALBION  Marshall    IA       64      50005   \n",
       "4           4  50006        ALDEN    Hardin    IA       42      50006   \n",
       "\n",
       "    area-sqm  \n",
       "0   62796656  \n",
       "1  279202219  \n",
       "2  298086291  \n",
       "3   69623573  \n",
       "4  317745150  "
      ]
     },
     "execution_count": 11,
     "metadata": {},
     "output_type": "execute_result"
    }
   ],
   "source": [
    "location_data.head()"
   ]
  },
  {
   "cell_type": "code",
   "execution_count": 12,
   "metadata": {
    "ExecuteTime": {
     "end_time": "2016-10-11T09:52:24.438876",
     "start_time": "2016-10-11T09:52:24.431953"
    },
    "collapsed": false
   },
   "outputs": [],
   "source": [
    "location_data.columns = ['number', 'Zip Code', 'City', 'County', 'State','County Number', 'repeat', 'Area (sqkm)']\n",
    "location_data['Area (sqkm)'] = location_data['Area (sqkm)'] / 1000000"
   ]
  },
  {
   "cell_type": "code",
   "execution_count": 13,
   "metadata": {
    "ExecuteTime": {
     "end_time": "2016-10-11T09:52:25.769615",
     "start_time": "2016-10-11T09:52:25.762436"
    },
    "collapsed": false
   },
   "outputs": [],
   "source": [
    "location_data.drop(['number', 'repeat'], axis=1, inplace=True)"
   ]
  },
  {
   "cell_type": "markdown",
   "metadata": {},
   "source": [
    "We will run a check on zip codes before joining the 2 tables"
   ]
  },
  {
   "cell_type": "code",
   "execution_count": 14,
   "metadata": {
    "ExecuteTime": {
     "end_time": "2016-10-11T09:52:27.099752",
     "start_time": "2016-10-11T09:52:27.050731"
    },
    "collapsed": false
   },
   "outputs": [
    {
     "name": "stdout",
     "output_type": "stream",
     "text": [
      "['52303', '712-2', '52087', '52084', '52036', '52733', '56201', '50300']\n"
     ]
    }
   ],
   "source": [
    "liquor_zips = df['Zip Code'].drop_duplicates().tolist()\n",
    "ref_zips = location_data['Zip Code'].astype(str).tolist()\n",
    "z = [x for x in liquor_zips if x not in ref_zips]\n",
    "print z"
   ]
  },
  {
   "cell_type": "code",
   "execution_count": 15,
   "metadata": {
    "ExecuteTime": {
     "end_time": "2016-10-11T09:52:29.134940",
     "start_time": "2016-10-11T09:52:28.220841"
    },
    "collapsed": false
   },
   "outputs": [
    {
     "name": "stdout",
     "output_type": "stream",
     "text": [
      "   Zip Code          City County  County Number\n",
      "78    52303  CEDAR RAPIDS   Linn           57.0\n",
      "CEDAR RAPIDS\n",
      "     Zip Code          City County State  County Number  Area (sqkm)\n",
      "805     52401  CEDAR RAPIDS   Linn    IA             57     3.464505\n",
      "806     52402  CEDAR RAPIDS   Linn    IA             57    36.420817\n",
      "807     52403  CEDAR RAPIDS   Linn    IA             57    69.523743\n",
      "808     52404  CEDAR RAPIDS   Linn    IA             57   142.933490\n",
      "809     52405  CEDAR RAPIDS   Linn    IA             57    38.493180\n",
      "810     52411  CEDAR RAPIDS   Linn    IA             57    44.635019\n",
      "\n",
      "     Zip Code    City    County  County Number\n",
      "114     712-2  DUNLAP  Harrison           43.0\n",
      "8186    712-2  DUNLAP       NaN            NaN\n",
      "DUNLAP\n",
      "     Zip Code    City    County State  County Number  Area (sqkm)\n",
      "570     51529  DUNLAP  Harrison    IA             43   333.953737\n",
      "\n",
      "    Zip Code        City    County  County Number\n",
      "267    52087  MANCHESTER  Delaware           28.0\n",
      "MANCHESTER\n",
      "     Zip Code        City    County State  County Number  Area (sqkm)\n",
      "658     52057  MANCHESTER  Delaware    IA             28   362.350079\n",
      "\n",
      "    Zip Code       City County  County Number\n",
      "464    52084  DAVENPORT  Scott           82.0\n",
      "DAVENPORT\n",
      "     Zip Code       City County State  County Number  Area (sqkm)\n",
      "934     52801  DAVENPORT  Scott    IA             82     1.359908\n",
      "935     52802  DAVENPORT  Scott    IA             82    29.294412\n",
      "936     52803  DAVENPORT  Scott    IA             82    14.068035\n",
      "937     52804  DAVENPORT  Scott    IA             82    88.861422\n",
      "938     52806  DAVENPORT  Scott    IA             82    79.448284\n",
      "939     52807  DAVENPORT  Scott    IA             82    76.469440\n",
      "\n",
      "    Zip Code      City    County  County Number\n",
      "496    52036  DELAWARE  Delaware           28.0\n",
      "DELAWARE\n",
      "Empty DataFrame\n",
      "Columns: [Zip Code, City, County, State, County Number, Area (sqkm)]\n",
      "Index: []\n",
      "\n",
      "     Zip Code     City   County  County Number\n",
      "1055    52733  CLINTON  Clinton           23.0\n",
      "CLINTON\n",
      "     Zip Code     City   County State  County Number  Area (sqkm)\n",
      "901     52732  CLINTON  Clinton    IA             23   310.704633\n",
      "\n",
      "     Zip Code        City      County  County Number\n",
      "1871    56201  BURLINGTON  Des Moines           29.0\n",
      "BURLINGTON\n",
      "     Zip Code        City      County State  County Number  Area (sqkm)\n",
      "859     52601  BURLINGTON  Des Moines    IA             29    312.02532\n",
      "\n",
      "     Zip Code        City County  County Number\n",
      "4942    50300  DES MOINES   Polk           77.0\n",
      "DES MOINES\n",
      "     Zip Code        City County State  County Number  Area (sqkm)\n",
      "190     50309  DES MOINES   Polk    IA             77     7.776473\n",
      "191     50310  DES MOINES   Polk    IA             77    21.123546\n",
      "192     50311  DES MOINES   Polk    IA             77     6.511832\n",
      "193     50312  DES MOINES   Polk    IA             77    15.051060\n",
      "194     50313  DES MOINES   Polk    IA             77    47.635293\n",
      "195     50314  DES MOINES   Polk    IA             77     6.629721\n",
      "196     50315  DES MOINES   Polk    IA             77    26.560331\n",
      "197     50316  DES MOINES   Polk    IA             77     9.302481\n",
      "198     50317  DES MOINES   Polk    IA             77    60.041842\n",
      "199     50319  DES MOINES   Polk    IA             77     0.213707\n",
      "200     50320  DES MOINES   Polk    IA             77    49.547031\n",
      "201     50321  DES MOINES   Polk    IA             77    30.969186\n",
      "\n"
     ]
    }
   ],
   "source": [
    "for i in z:\n",
    "    print df[['Zip Code', 'City', 'County', 'County Number']][df['Zip Code'] == i].drop_duplicates()\n",
    "    city = df['City'][df['Zip Code'] == i].drop_duplicates().iloc[0].upper()\n",
    "    print city\n",
    "    try:\n",
    "        print location_data[location_data['City']==city].drop_duplicates()\n",
    "    except:\n",
    "        print i, 'not in Iowa'\n",
    "    print"
   ]
  },
  {
   "cell_type": "markdown",
   "metadata": {},
   "source": [
    "Based on the above, we get a vague idea of what the zips are supposed to be"
   ]
  },
  {
   "cell_type": "code",
   "execution_count": 16,
   "metadata": {
    "ExecuteTime": {
     "end_time": "2016-10-11T09:52:30.459144",
     "start_time": "2016-10-11T09:52:30.102436"
    },
    "collapsed": false
   },
   "outputs": [],
   "source": [
    "corrected_zips = ['52403','51529', '52057','52804','0','52732','52601','50309']\n",
    "for i in range(len(z)):\n",
    "    df.ix[df['Zip Code']==z[i], 'Zip Code']=corrected_zips[i]"
   ]
  },
  {
   "cell_type": "code",
   "execution_count": 17,
   "metadata": {
    "ExecuteTime": {
     "end_time": "2016-10-11T09:52:30.970640",
     "start_time": "2016-10-11T09:52:30.942818"
    },
    "collapsed": false
   },
   "outputs": [
    {
     "name": "stdout",
     "output_type": "stream",
     "text": [
      "['0']\n"
     ]
    }
   ],
   "source": [
    "# Run the test again\n",
    "liquor_zips = df['Zip Code'].drop_duplicates().tolist()\n",
    "ref_zips = location_data['Zip Code'].astype(str).tolist()\n",
    "z = [x for x in liquor_zips if x not in ref_zips]\n",
    "print z"
   ]
  },
  {
   "cell_type": "code",
   "execution_count": 18,
   "metadata": {
    "ExecuteTime": {
     "end_time": "2016-10-11T09:52:32.302513",
     "start_time": "2016-10-11T09:52:32.085312"
    },
    "collapsed": false
   },
   "outputs": [],
   "source": [
    "df['Zip Code'] = df['Zip Code'].astype(int)"
   ]
  },
  {
   "cell_type": "markdown",
   "metadata": {},
   "source": [
    "Now we merge our location data to our liquor sales"
   ]
  },
  {
   "cell_type": "code",
   "execution_count": 19,
   "metadata": {
    "ExecuteTime": {
     "end_time": "2016-10-11T09:52:33.996887",
     "start_time": "2016-10-11T09:52:33.640420"
    },
    "collapsed": false
   },
   "outputs": [],
   "source": [
    "df2 = df.copy()\n",
    "df2.drop(['County Number', 'City', 'County'], axis=1, inplace=True)\n",
    "df2 = df2.merge(location_data, how='left', on='Zip Code')\n",
    "df2.drop(['State'], axis=1, inplace=True)"
   ]
  },
  {
   "cell_type": "code",
   "execution_count": 20,
   "metadata": {
    "ExecuteTime": {
     "end_time": "2016-10-11T09:52:34.879433",
     "start_time": "2016-10-11T09:52:34.811086"
    },
    "collapsed": false
   },
   "outputs": [
    {
     "data": {
      "text/html": [
       "<div>\n",
       "<table border=\"1\" class=\"dataframe\">\n",
       "  <thead>\n",
       "    <tr style=\"text-align: right;\">\n",
       "      <th></th>\n",
       "      <th>Date</th>\n",
       "      <th>Store Number</th>\n",
       "      <th>Zip Code</th>\n",
       "      <th>Category</th>\n",
       "      <th>Category Name</th>\n",
       "      <th>Vendor Number</th>\n",
       "      <th>Item Number</th>\n",
       "      <th>Item Description</th>\n",
       "      <th>Bottle Volume (ml)</th>\n",
       "      <th>State Bottle Cost</th>\n",
       "      <th>State Bottle Retail</th>\n",
       "      <th>Bottles Sold</th>\n",
       "      <th>Sale (Dollars)</th>\n",
       "      <th>Volume Sold (Liters)</th>\n",
       "      <th>Volume Sold (Gallons)</th>\n",
       "      <th>City</th>\n",
       "      <th>County</th>\n",
       "      <th>County Number</th>\n",
       "      <th>Area (sqkm)</th>\n",
       "    </tr>\n",
       "  </thead>\n",
       "  <tbody>\n",
       "    <tr>\n",
       "      <th>0</th>\n",
       "      <td>2015-11-04</td>\n",
       "      <td>3717</td>\n",
       "      <td>50674</td>\n",
       "      <td>1051100.0</td>\n",
       "      <td>APRICOT BRANDIES</td>\n",
       "      <td>55</td>\n",
       "      <td>54436</td>\n",
       "      <td>Mr. Boston Apricot Brandy</td>\n",
       "      <td>750</td>\n",
       "      <td>$4.50</td>\n",
       "      <td>$6.75</td>\n",
       "      <td>12</td>\n",
       "      <td>$81.00</td>\n",
       "      <td>9.0</td>\n",
       "      <td>2.38</td>\n",
       "      <td>SUMNER</td>\n",
       "      <td>Bremer</td>\n",
       "      <td>9.0</td>\n",
       "      <td>408.690075</td>\n",
       "    </tr>\n",
       "    <tr>\n",
       "      <th>1</th>\n",
       "      <td>2016-03-02</td>\n",
       "      <td>2614</td>\n",
       "      <td>52807</td>\n",
       "      <td>1011100.0</td>\n",
       "      <td>BLENDED WHISKIES</td>\n",
       "      <td>395</td>\n",
       "      <td>27605</td>\n",
       "      <td>Tin Cup</td>\n",
       "      <td>750</td>\n",
       "      <td>$13.75</td>\n",
       "      <td>$20.63</td>\n",
       "      <td>2</td>\n",
       "      <td>$41.26</td>\n",
       "      <td>1.5</td>\n",
       "      <td>0.40</td>\n",
       "      <td>DAVENPORT</td>\n",
       "      <td>Scott</td>\n",
       "      <td>82.0</td>\n",
       "      <td>76.469440</td>\n",
       "    </tr>\n",
       "    <tr>\n",
       "      <th>2</th>\n",
       "      <td>2016-02-11</td>\n",
       "      <td>2106</td>\n",
       "      <td>50613</td>\n",
       "      <td>1011200.0</td>\n",
       "      <td>STRAIGHT BOURBON WHISKIES</td>\n",
       "      <td>65</td>\n",
       "      <td>19067</td>\n",
       "      <td>Jim Beam</td>\n",
       "      <td>1000</td>\n",
       "      <td>$12.59</td>\n",
       "      <td>$18.89</td>\n",
       "      <td>24</td>\n",
       "      <td>$453.36</td>\n",
       "      <td>24.0</td>\n",
       "      <td>6.34</td>\n",
       "      <td>CEDAR FALLS</td>\n",
       "      <td>Black Hawk</td>\n",
       "      <td>7.0</td>\n",
       "      <td>329.972902</td>\n",
       "    </tr>\n",
       "    <tr>\n",
       "      <th>3</th>\n",
       "      <td>2016-02-03</td>\n",
       "      <td>2501</td>\n",
       "      <td>50010</td>\n",
       "      <td>1071100.0</td>\n",
       "      <td>AMERICAN COCKTAILS</td>\n",
       "      <td>395</td>\n",
       "      <td>59154</td>\n",
       "      <td>1800 Ultimate Margarita</td>\n",
       "      <td>1750</td>\n",
       "      <td>$9.50</td>\n",
       "      <td>$14.25</td>\n",
       "      <td>6</td>\n",
       "      <td>$85.50</td>\n",
       "      <td>10.5</td>\n",
       "      <td>2.77</td>\n",
       "      <td>AMES</td>\n",
       "      <td>Story</td>\n",
       "      <td>85.0</td>\n",
       "      <td>155.294118</td>\n",
       "    </tr>\n",
       "    <tr>\n",
       "      <th>4</th>\n",
       "      <td>2015-08-18</td>\n",
       "      <td>3654</td>\n",
       "      <td>50421</td>\n",
       "      <td>1031080.0</td>\n",
       "      <td>VODKA 80 PROOF</td>\n",
       "      <td>297</td>\n",
       "      <td>35918</td>\n",
       "      <td>Five O'clock Vodka</td>\n",
       "      <td>1750</td>\n",
       "      <td>$7.20</td>\n",
       "      <td>$10.80</td>\n",
       "      <td>12</td>\n",
       "      <td>$129.60</td>\n",
       "      <td>21.0</td>\n",
       "      <td>5.55</td>\n",
       "      <td>BELMOND</td>\n",
       "      <td>Wright</td>\n",
       "      <td>99.0</td>\n",
       "      <td>232.911303</td>\n",
       "    </tr>\n",
       "  </tbody>\n",
       "</table>\n",
       "</div>"
      ],
      "text/plain": [
       "        Date  Store Number  Zip Code   Category              Category Name  \\\n",
       "0 2015-11-04          3717     50674  1051100.0           APRICOT BRANDIES   \n",
       "1 2016-03-02          2614     52807  1011100.0           BLENDED WHISKIES   \n",
       "2 2016-02-11          2106     50613  1011200.0  STRAIGHT BOURBON WHISKIES   \n",
       "3 2016-02-03          2501     50010  1071100.0         AMERICAN COCKTAILS   \n",
       "4 2015-08-18          3654     50421  1031080.0             VODKA 80 PROOF   \n",
       "\n",
       "   Vendor Number  Item Number           Item Description  Bottle Volume (ml)  \\\n",
       "0             55        54436  Mr. Boston Apricot Brandy                 750   \n",
       "1            395        27605                    Tin Cup                 750   \n",
       "2             65        19067                   Jim Beam                1000   \n",
       "3            395        59154    1800 Ultimate Margarita                1750   \n",
       "4            297        35918         Five O'clock Vodka                1750   \n",
       "\n",
       "  State Bottle Cost State Bottle Retail  Bottles Sold Sale (Dollars)  \\\n",
       "0             $4.50               $6.75            12         $81.00   \n",
       "1            $13.75              $20.63             2         $41.26   \n",
       "2            $12.59              $18.89            24        $453.36   \n",
       "3             $9.50              $14.25             6         $85.50   \n",
       "4             $7.20              $10.80            12        $129.60   \n",
       "\n",
       "   Volume Sold (Liters)  Volume Sold (Gallons)         City      County  \\\n",
       "0                   9.0                   2.38       SUMNER      Bremer   \n",
       "1                   1.5                   0.40    DAVENPORT       Scott   \n",
       "2                  24.0                   6.34  CEDAR FALLS  Black Hawk   \n",
       "3                  10.5                   2.77         AMES       Story   \n",
       "4                  21.0                   5.55      BELMOND      Wright   \n",
       "\n",
       "   County Number  Area (sqkm)  \n",
       "0            9.0   408.690075  \n",
       "1           82.0    76.469440  \n",
       "2            7.0   329.972902  \n",
       "3           85.0   155.294118  \n",
       "4           99.0   232.911303  "
      ]
     },
     "execution_count": 20,
     "metadata": {},
     "output_type": "execute_result"
    }
   ],
   "source": [
    "df2.head()"
   ]
  },
  {
   "cell_type": "raw",
   "metadata": {
    "ExecuteTime": {
     "end_time": "2016-10-11T09:23:40.875953",
     "start_time": "2016-10-11T09:23:40.864499"
    },
    "collapsed": false,
    "slideshow": {
     "slide_type": "fragment"
    }
   },
   "source": [
    "df2.dtypes"
   ]
  },
  {
   "cell_type": "code",
   "execution_count": 21,
   "metadata": {
    "ExecuteTime": {
     "end_time": "2016-10-11T09:52:37.459092",
     "start_time": "2016-10-11T09:52:37.440892"
    },
    "collapsed": false
   },
   "outputs": [],
   "source": [
    "# Write a function that cross references related columns and fills the data in where it's missing\n",
    "def fill_missing(related_cols, column, dataframe):\n",
    "    related_cols.remove(column)\n",
    "    reference = dataframe[related_cols][dataframe[column].isnull()].drop_duplicates()\n",
    "    for j in range(len(related_cols)):\n",
    "        col_1 = reference[related_cols[j]]\n",
    "        for i in col_1:\n",
    "            try:\n",
    "                x = dataframe[column][(dataframe[related_cols[j]]==i) & (dataframe[column].notnull())].drop_duplicates()\n",
    "                if len(x) < 2:\n",
    "                    #print 'Missing: {}, Reference: {}, Ref_value: {}, filler: {}'.\\\n",
    "                    #format(column, related_cols[j], i, x.iloc[0])\n",
    "                    value = x.iloc[0]\n",
    "                    dataframe.ix[(dataframe[related_cols[j]]==i) & (dataframe[column].isnull()), column] = value\n",
    "            except:\n",
    "                pass"
   ]
  },
  {
   "cell_type": "code",
   "execution_count": 22,
   "metadata": {
    "ExecuteTime": {
     "end_time": "2016-10-11T09:52:38.577042",
     "start_time": "2016-10-11T09:52:38.236033"
    },
    "collapsed": false,
    "scrolled": false
   },
   "outputs": [],
   "source": [
    "fill_missing(['Category', 'Category Name'], 'Category Name', df2)\n",
    "fill_missing(['Category', 'Category Name'], 'Category', df2)\n",
    "\n",
    "fill_missing(['Item Number', 'Item Description'], 'Item Description', df2)\n",
    "fill_missing(['Item Number', 'Item Description'], 'Item Number', df2)"
   ]
  },
  {
   "cell_type": "code",
   "execution_count": 23,
   "metadata": {
    "ExecuteTime": {
     "end_time": "2016-10-11T09:52:39.862899",
     "start_time": "2016-10-11T09:52:39.195618"
    },
    "collapsed": false
   },
   "outputs": [],
   "source": [
    "# Convert all dollar columns to floats\n",
    "df2['State Bottle Cost'] = df2['State Bottle Cost'].map(lambda x: x.strip('$')).astype(float)\n",
    "df2['State Bottle Retail'] = df2['State Bottle Retail'].map(lambda x: x.strip('$')).astype(float)\n",
    "df2['Sale (Dollars)'] = df2['Sale (Dollars)'].map(lambda x: x.strip('$')).astype(float)"
   ]
  },
  {
   "cell_type": "code",
   "execution_count": 24,
   "metadata": {
    "ExecuteTime": {
     "end_time": "2016-10-11T09:52:42.796123",
     "start_time": "2016-10-11T09:52:39.973715"
    },
    "collapsed": false
   },
   "outputs": [],
   "source": [
    "# Extract Month and Year\n",
    "df2['Month'] = df2['Date'].map(lambda x: x.month)\n",
    "df2['Year'] = df2['Date'].map(lambda x: x.year)"
   ]
  },
  {
   "cell_type": "code",
   "execution_count": 25,
   "metadata": {
    "ExecuteTime": {
     "end_time": "2016-10-11T09:52:43.365320",
     "start_time": "2016-10-11T09:52:42.799707"
    },
    "collapsed": false
   },
   "outputs": [
    {
     "name": "stderr",
     "output_type": "stream",
     "text": [
      "/Applications/anaconda/anaconda/lib/python2.7/site-packages/pandas/tools/merge.py:480: UserWarning: merging between different levels can give an unintended result (1 levels on the left, 2 on the right)\n",
      "  warnings.warn(msg, UserWarning)\n",
      "/Applications/anaconda/anaconda/lib/python2.7/site-packages/pandas/tools/merge.py:782: PerformanceWarning: dropping on a non-lexsorted multi-index without a level parameter may impact performance.\n",
      "  self.right = self.right.drop(right_drop, axis=1)\n"
     ]
    }
   ],
   "source": [
    "df3 = df2.copy()\n",
    "\n",
    "# Aggregate sales and volume by zip code\n",
    "agg_sales = pd.pivot_table(df3, index=['Zip Code'], \\\n",
    "               values=['Bottles Sold', 'Volume Sold (Liters)', 'Sale (Dollars)'],\\\n",
    "                     aggfunc=[np.median, sum]).reset_index()\n",
    "df2 = df2.merge(agg_sales, how='left',on='Zip Code')\n",
    "\n",
    "# Get number of stores\n",
    "df3_gb = df2[['Zip Code','Store Number']].drop_duplicates()\n",
    "df3_gb = df3_gb.rename(columns={'Store Number': 'StoreCount'})\n",
    "df3_gb = df3_gb.groupby(['Zip Code']).count().reset_index()\n",
    "df2 = df2.merge(df3_gb, how='left', on='Zip Code')"
   ]
  },
  {
   "cell_type": "code",
   "execution_count": 26,
   "metadata": {
    "ExecuteTime": {
     "end_time": "2016-10-11T09:52:43.376401",
     "start_time": "2016-10-11T09:52:43.368337"
    },
    "collapsed": false
   },
   "outputs": [
    {
     "data": {
      "text/plain": [
       "array(['Date', 'Store Number', 'Zip Code', 'Category', 'Category Name',\n",
       "       'Vendor Number', 'Item Number', 'Item Description',\n",
       "       'Bottle Volume (ml)', 'State Bottle Cost', 'State Bottle Retail',\n",
       "       'Bottles Sold', 'Sale (Dollars)', 'Volume Sold (Liters)',\n",
       "       'Volume Sold (Gallons)', 'City', 'County', 'County Number',\n",
       "       'Area (sqkm)', 'Month', 'Year', ('median', 'Bottles Sold'),\n",
       "       ('median', 'Sale (Dollars)'), ('median', 'Volume Sold (Liters)'),\n",
       "       ('sum', 'Bottles Sold'), ('sum', 'Sale (Dollars)'),\n",
       "       ('sum', 'Volume Sold (Liters)'), 'StoreCount'], dtype=object)"
      ]
     },
     "execution_count": 26,
     "metadata": {},
     "output_type": "execute_result"
    }
   ],
   "source": [
    "df2.columns.values"
   ]
  },
  {
   "cell_type": "code",
   "execution_count": 27,
   "metadata": {
    "ExecuteTime": {
     "end_time": "2016-10-11T09:53:15.027489",
     "start_time": "2016-10-11T09:53:15.020032"
    },
    "collapsed": false
   },
   "outputs": [],
   "source": [
    "# Rename the columns\n",
    "df2.columns = ['Date', 'Store Number', 'Zip Code', 'Category', 'Category Name',\\\n",
    "       'Vendor Number', 'Item Number', 'Item Description',\\\n",
    "       'Bottle Volume (ml)', 'State Bottle Cost', 'State Bottle Retail',\\\n",
    "       'Bottles Sold', 'Sale (Dollars)', 'Volume Sold (Liters)',\\\n",
    "       'Volume Sold (Gallons)', 'City', 'County', 'County Number', 'Area (sqkm)','Month',\\\n",
    "       'Year', 'median bottles sold', 'median sales',\\\n",
    "       'median volume sold', 'total bottles sold', 'total sales', 'total volume sold', 'Store Count']"
   ]
  },
  {
   "cell_type": "code",
   "execution_count": 28,
   "metadata": {
    "ExecuteTime": {
     "end_time": "2016-10-11T09:53:15.813306",
     "start_time": "2016-10-11T09:53:15.781935"
    },
    "collapsed": false
   },
   "outputs": [],
   "source": [
    "# Adding a column for dollar per litre\n",
    "df2['Dollar per litre'] = df2['total sales']/df2['total volume sold']"
   ]
  },
  {
   "cell_type": "code",
   "execution_count": 29,
   "metadata": {
    "ExecuteTime": {
     "end_time": "2016-10-11T09:53:16.288949",
     "start_time": "2016-10-11T09:53:16.278057"
    },
    "collapsed": false
   },
   "outputs": [],
   "source": [
    "# Adding a column for stores per sqkm\n",
    "df2['Stores per sqkm'] = df2['Store Count']/df2['Area (sqkm)']"
   ]
  },
  {
   "cell_type": "markdown",
   "metadata": {},
   "source": [
    "\n",
    "# Explore the data\n",
    "\n",
    "Perform some exploratory statistical analysis and make some plots, such as histograms of transaction totals, bottles sold, etc."
   ]
  },
  {
   "cell_type": "markdown",
   "metadata": {},
   "source": [
    "For the purposes of our market research, we will only be considering full years' data.  \n",
    "Any year which is not a full year will be dropped.  \n",
    "We would also like to aggregate sales by zip code and dollar per litre by zip code.  \n",
    "We also want to know how many stores there are per zip code."
   ]
  },
  {
   "cell_type": "code",
   "execution_count": 30,
   "metadata": {
    "ExecuteTime": {
     "end_time": "2016-10-11T09:53:18.011384",
     "start_time": "2016-10-11T09:53:17.968041"
    },
    "collapsed": false
   },
   "outputs": [
    {
     "data": {
      "text/plain": [
       "[2016]"
      ]
     },
     "execution_count": 30,
     "metadata": {},
     "output_type": "execute_result"
    }
   ],
   "source": [
    "# Find all the full years in the data set\n",
    "not_full_years = [i for i in df2['Year'].unique() if len(df2['Month'][df2['Year']==i].unique()) != 12]\n",
    "not_full_years"
   ]
  },
  {
   "cell_type": "code",
   "execution_count": 31,
   "metadata": {
    "ExecuteTime": {
     "end_time": "2016-10-11T09:53:19.200892",
     "start_time": "2016-10-11T09:53:19.007503"
    },
    "collapsed": true
   },
   "outputs": [],
   "source": [
    "# We're just interested in the following columns\n",
    "col_required = ['Zip Code', 'median bottles sold', 'median sales', 'median volume sold',\\\n",
    "                'total bottles sold', 'total sales', 'total volume sold', 'Store Count',\\\n",
    "                'Dollar per litre', 'Area (sqkm)', 'Stores per sqkm', 'Year']\n",
    "full_df = df2\n",
    "sales_df = full_df.copy()"
   ]
  },
  {
   "cell_type": "code",
   "execution_count": 32,
   "metadata": {
    "ExecuteTime": {
     "end_time": "2016-10-11T09:53:20.133971",
     "start_time": "2016-10-11T09:53:19.912057"
    },
    "collapsed": false
   },
   "outputs": [],
   "source": [
    "for i in not_full_years:\n",
    "    sales_df = sales_df.drop(sales_df[sales_df['Year']==i].index)\n",
    "sales_df = sales_df[sales_df['Year']==2015]\n",
    "sales_df = sales_df[col_required]"
   ]
  },
  {
   "cell_type": "markdown",
   "metadata": {},
   "source": [
    "# Mine the data\n",
    "Now you are ready to compute the variables you will use for your regression from the data. For example, you may want to\n",
    "compute total sales per store from Jan to March of 2015, mean price per bottle, etc. Refer to the readme for more ideas appropriate to your scenario.\n",
    "\n",
    "Pandas is your friend for this task. Take a look at the operations [here](http://pandas.pydata.org/pandas-docs/stable/groupby.html) for ideas on how to make the best use of pandas and feel free to search for blog and Stack Overflow posts to help you group data by certain variables and compute sums, means, etc. You may find it useful to create a new data frame to house this summary data."
   ]
  },
  {
   "cell_type": "markdown",
   "metadata": {},
   "source": [
    "Our hypothesis is that the demographics of an area would affect the liquor sales there.  \n",
    "Ideally, we would have wanted to combine our liquor sales data with the demographics data of the corresponding year.  \n",
    "We were unable to do that and have combined it with the demographics data that we were able to find.  \n",
    "- This may compromise our model and we should seek to improve it if possible"
   ]
  },
  {
   "cell_type": "code",
   "execution_count": 33,
   "metadata": {
    "ExecuteTime": {
     "end_time": "2016-10-11T09:53:21.984963",
     "start_time": "2016-10-11T09:53:21.911679"
    },
    "collapsed": false
   },
   "outputs": [
    {
     "data": {
      "text/html": [
       "<div>\n",
       "<table border=\"1\" class=\"dataframe\">\n",
       "  <thead>\n",
       "    <tr style=\"text-align: right;\">\n",
       "      <th></th>\n",
       "      <th>Zip Code</th>\n",
       "      <th>median bottles sold</th>\n",
       "      <th>median sales</th>\n",
       "      <th>median volume sold</th>\n",
       "      <th>total bottles sold</th>\n",
       "      <th>total sales</th>\n",
       "      <th>total volume sold</th>\n",
       "      <th>Store Count</th>\n",
       "      <th>Dollar per litre</th>\n",
       "      <th>Area (sqkm)</th>\n",
       "      <th>Stores per sqkm</th>\n",
       "      <th>Year</th>\n",
       "    </tr>\n",
       "  </thead>\n",
       "  <tbody>\n",
       "    <tr>\n",
       "      <th>0</th>\n",
       "      <td>50674</td>\n",
       "      <td>2.0</td>\n",
       "      <td>27.00</td>\n",
       "      <td>1.75</td>\n",
       "      <td>801</td>\n",
       "      <td>11533.32</td>\n",
       "      <td>872.53</td>\n",
       "      <td>1</td>\n",
       "      <td>13.218250</td>\n",
       "      <td>408.690075</td>\n",
       "      <td>0.002447</td>\n",
       "      <td>2015</td>\n",
       "    </tr>\n",
       "    <tr>\n",
       "      <th>4</th>\n",
       "      <td>50421</td>\n",
       "      <td>6.0</td>\n",
       "      <td>82.17</td>\n",
       "      <td>9.00</td>\n",
       "      <td>2679</td>\n",
       "      <td>34198.21</td>\n",
       "      <td>3083.70</td>\n",
       "      <td>3</td>\n",
       "      <td>11.089993</td>\n",
       "      <td>232.911303</td>\n",
       "      <td>0.012880</td>\n",
       "      <td>2015</td>\n",
       "    </tr>\n",
       "    <tr>\n",
       "      <th>5</th>\n",
       "      <td>52402</td>\n",
       "      <td>6.0</td>\n",
       "      <td>70.56</td>\n",
       "      <td>4.50</td>\n",
       "      <td>90743</td>\n",
       "      <td>1171002.49</td>\n",
       "      <td>82746.06</td>\n",
       "      <td>30</td>\n",
       "      <td>14.151761</td>\n",
       "      <td>36.420817</td>\n",
       "      <td>0.823705</td>\n",
       "      <td>2015</td>\n",
       "    </tr>\n",
       "    <tr>\n",
       "      <th>6</th>\n",
       "      <td>52501</td>\n",
       "      <td>4.0</td>\n",
       "      <td>50.62</td>\n",
       "      <td>3.00</td>\n",
       "      <td>23926</td>\n",
       "      <td>310672.94</td>\n",
       "      <td>21653.76</td>\n",
       "      <td>11</td>\n",
       "      <td>14.347298</td>\n",
       "      <td>591.297871</td>\n",
       "      <td>0.018603</td>\n",
       "      <td>2015</td>\n",
       "    </tr>\n",
       "    <tr>\n",
       "      <th>7</th>\n",
       "      <td>50428</td>\n",
       "      <td>4.0</td>\n",
       "      <td>60.30</td>\n",
       "      <td>3.50</td>\n",
       "      <td>14187</td>\n",
       "      <td>201903.11</td>\n",
       "      <td>14752.74</td>\n",
       "      <td>4</td>\n",
       "      <td>13.685804</td>\n",
       "      <td>316.380154</td>\n",
       "      <td>0.012643</td>\n",
       "      <td>2015</td>\n",
       "    </tr>\n",
       "  </tbody>\n",
       "</table>\n",
       "</div>"
      ],
      "text/plain": [
       "   Zip Code  median bottles sold  median sales  median volume sold  \\\n",
       "0     50674                  2.0         27.00                1.75   \n",
       "4     50421                  6.0         82.17                9.00   \n",
       "5     52402                  6.0         70.56                4.50   \n",
       "6     52501                  4.0         50.62                3.00   \n",
       "7     50428                  4.0         60.30                3.50   \n",
       "\n",
       "   total bottles sold  total sales  total volume sold  Store Count  \\\n",
       "0                 801     11533.32             872.53            1   \n",
       "4                2679     34198.21            3083.70            3   \n",
       "5               90743   1171002.49           82746.06           30   \n",
       "6               23926    310672.94           21653.76           11   \n",
       "7               14187    201903.11           14752.74            4   \n",
       "\n",
       "   Dollar per litre  Area (sqkm)  Stores per sqkm  Year  \n",
       "0         13.218250   408.690075         0.002447  2015  \n",
       "4         11.089993   232.911303         0.012880  2015  \n",
       "5         14.151761    36.420817         0.823705  2015  \n",
       "6         14.347298   591.297871         0.018603  2015  \n",
       "7         13.685804   316.380154         0.012643  2015  "
      ]
     },
     "execution_count": 33,
     "metadata": {},
     "output_type": "execute_result"
    }
   ],
   "source": [
    "sales_df.head()"
   ]
  },
  {
   "cell_type": "code",
   "execution_count": 35,
   "metadata": {
    "ExecuteTime": {
     "end_time": "2016-10-11T09:53:33.277605",
     "start_time": "2016-10-11T09:53:33.244408"
    },
    "collapsed": false
   },
   "outputs": [],
   "source": [
    "# Read in our demographics data\n",
    "demo_df = pd.read_csv('../data/IowaZIPdemos.csv')"
   ]
  },
  {
   "cell_type": "code",
   "execution_count": 36,
   "metadata": {
    "ExecuteTime": {
     "end_time": "2016-10-11T09:53:34.360145",
     "start_time": "2016-10-11T09:53:34.346731"
    },
    "collapsed": false
   },
   "outputs": [],
   "source": [
    "# Remove any rows with null values\n",
    "# Convert zips to integers for easy comparison\n",
    "demo_df.dropna(inplace=True)\n",
    "demo_df['Area'] = demo_df['Area'].astype(int)"
   ]
  },
  {
   "cell_type": "code",
   "execution_count": 37,
   "metadata": {
    "ExecuteTime": {
     "end_time": "2016-10-11T09:53:34.865993",
     "start_time": "2016-10-11T09:53:34.852272"
    },
    "collapsed": false
   },
   "outputs": [],
   "source": [
    "demo_cols = demo_df.columns.values.tolist()\n",
    "\n",
    "object_cols = [i for i in demo_cols if demo_df[i].dtype == 'O']"
   ]
  },
  {
   "cell_type": "code",
   "execution_count": 38,
   "metadata": {
    "ExecuteTime": {
     "end_time": "2016-10-11T09:53:35.684745",
     "start_time": "2016-10-11T09:53:35.544523"
    },
    "collapsed": false
   },
   "outputs": [],
   "source": [
    "# Define a function to remove symbols and convert numbers to floats\n",
    "def rem_symbols(x):\n",
    "    for i in [',', '%', '$', '-']:\n",
    "        x = x.replace(i, '')\n",
    "    try:\n",
    "        return float(x)\n",
    "    except:\n",
    "        print x\n",
    "    \n",
    "for i in object_cols:\n",
    "    demo_df[i] = demo_df[i].map(rem_symbols)"
   ]
  },
  {
   "cell_type": "code",
   "execution_count": 39,
   "metadata": {
    "ExecuteTime": {
     "end_time": "2016-10-11T09:53:36.385900",
     "start_time": "2016-10-11T09:53:36.232841"
    },
    "collapsed": false
   },
   "outputs": [],
   "source": [
    "model_df = sales_df.merge(demo_df, how='left', left_on='Zip Code', right_on='Area')"
   ]
  },
  {
   "cell_type": "markdown",
   "metadata": {},
   "source": [
    "# Refine the data\n",
    "Look for any statistical relationships, correlations, or other relevant properties of the dataset."
   ]
  },
  {
   "cell_type": "code",
   "execution_count": 40,
   "metadata": {
    "ExecuteTime": {
     "end_time": "2016-10-11T09:53:40.678116",
     "start_time": "2016-10-11T09:53:37.858830"
    },
    "collapsed": false
   },
   "outputs": [
    {
     "data": {
      "image/png": "[encoded data removed]",
      "text/plain": [
       "<matplotlib.figure.Figure at 0x114e96c50>"
      ]
     },
     "metadata": {},
     "output_type": "display_data"
    }
   ],
   "source": [
    "fig, ax = plt.subplots(figsize=(4,10));\n",
    "sns.heatmap(model_df.corr()[['total sales']].iloc[11:]);"
   ]
  },
  {
   "cell_type": "code",
   "execution_count": 41,
   "metadata": {
    "ExecuteTime": {
     "end_time": "2016-10-11T09:53:41.980092",
     "start_time": "2016-10-11T09:53:41.549505"
    },
    "collapsed": false
   },
   "outputs": [
    {
     "data": {
      "image/png": "[encoded data removed]",
      "text/plain": [
       "<matplotlib.figure.Figure at 0x119137c90>"
      ]
     },
     "metadata": {},
     "output_type": "display_data"
    }
   ],
   "source": [
    "model_df['total sales'].hist();\n",
    "plt.title('Total sales');\n",
    "plt.xlabel('Total sales');\n",
    "plt.ylabel('Frequency');"
   ]
  },
  {
   "cell_type": "code",
   "execution_count": 42,
   "metadata": {
    "ExecuteTime": {
     "end_time": "2016-10-11T09:53:45.763885",
     "start_time": "2016-10-11T09:53:43.213463"
    },
    "collapsed": false
   },
   "outputs": [
    {
     "data": {
      "image/png": "[encoded data removed]",
      "text/plain": [
       "<matplotlib.figure.Figure at 0x1154b5fd0>"
      ]
     },
     "metadata": {},
     "output_type": "display_data"
    }
   ],
   "source": [
    "fig, ax = plt.subplots(figsize=(4,10));\n",
    "sns.heatmap(model_df.corr()[['Dollar per litre']].iloc[11:]);"
   ]
  },
  {
   "cell_type": "code",
   "execution_count": 43,
   "metadata": {
    "ExecuteTime": {
     "end_time": "2016-10-11T09:53:46.230780",
     "start_time": "2016-10-11T09:53:45.766882"
    },
    "collapsed": false
   },
   "outputs": [
    {
     "data": {
      "image/png": "[encoded data removed]",
      "text/plain": [
       "<matplotlib.figure.Figure at 0x11529c790>"
      ]
     },
     "metadata": {},
     "output_type": "display_data"
    }
   ],
   "source": [
    "model_df['Dollar per litre'].hist();\n",
    "plt.title('Price per litre');\n",
    "plt.xlabel('Price per litre');\n",
    "plt.ylabel('Frequency');"
   ]
  },
  {
   "cell_type": "code",
   "execution_count": 44,
   "metadata": {
    "ExecuteTime": {
     "end_time": "2016-10-11T09:53:47.107829",
     "start_time": "2016-10-11T09:53:46.977795"
    },
    "collapsed": false
   },
   "outputs": [],
   "source": [
    "# Remove outliers in sales that are 3 std away from the median\n",
    "sales_median = model_df['total sales'].median()\n",
    "sales_std = model_df['total sales'].std()\n",
    "model_df = model_df[abs(model_df['total sales'] - sales_median) <= 3*sales_std]"
   ]
  },
  {
   "cell_type": "code",
   "execution_count": 45,
   "metadata": {
    "ExecuteTime": {
     "end_time": "2016-10-11T09:53:47.873492",
     "start_time": "2016-10-11T09:53:47.799597"
    },
    "collapsed": false
   },
   "outputs": [],
   "source": [
    "# Remove outliers in dollar per litre that are 3 std away from the median\n",
    "dollar_median = model_df['Dollar per litre'].median()\n",
    "dollar_std = model_df['Dollar per litre'].std()\n",
    "model_df = model_df[abs(model_df['Dollar per litre'] - dollar_median) <= 3*dollar_std]"
   ]
  },
  {
   "cell_type": "code",
   "execution_count": 46,
   "metadata": {
    "ExecuteTime": {
     "end_time": "2016-10-11T09:53:49.346471",
     "start_time": "2016-10-11T09:53:48.961141"
    },
    "collapsed": false
   },
   "outputs": [
    {
     "data": {
      "image/png": "[encoded data removed]",
      "text/plain": [
       "<matplotlib.figure.Figure at 0x1181f9a10>"
      ]
     },
     "metadata": {},
     "output_type": "display_data"
    }
   ],
   "source": [
    "model_df['total sales'].hist();\n",
    "plt.title('Total sales');\n",
    "plt.xlabel('Total sales');\n",
    "plt.ylabel('Frequency');"
   ]
  },
  {
   "cell_type": "code",
   "execution_count": 47,
   "metadata": {
    "ExecuteTime": {
     "end_time": "2016-10-11T09:53:50.343229",
     "start_time": "2016-10-11T09:53:49.989373"
    },
    "collapsed": false
   },
   "outputs": [
    {
     "data": {
      "image/png": "[encoded data removed]",
      "text/plain": [
       "<matplotlib.figure.Figure at 0x118821310>"
      ]
     },
     "metadata": {},
     "output_type": "display_data"
    }
   ],
   "source": [
    "model_df['Dollar per litre'].hist();\n",
    "plt.title('Price per litre');\n",
    "plt.xlabel('Price per litre');\n",
    "plt.ylabel('Frequency');"
   ]
  },
  {
   "cell_type": "markdown",
   "metadata": {},
   "source": [
    "# Build your models\n",
    "\n",
    "Using scikit-learn or statsmodels, build the necessary models for your scenario. Evaluate model fit."
   ]
  },
  {
   "cell_type": "code",
   "execution_count": 48,
   "metadata": {
    "ExecuteTime": {
     "end_time": "2016-10-11T09:53:52.277046",
     "start_time": "2016-10-11T09:53:52.272438"
    },
    "collapsed": false
   },
   "outputs": [
    {
     "name": "stdout",
     "output_type": "stream",
     "text": [
      "['Zip Code', 'median bottles sold', 'median sales', 'median volume sold', 'total bottles sold', 'total sales', 'total volume sold', 'Store Count', 'Dollar per litre', 'Area (sqkm)', 'Stores per sqkm', 'Year', 'Area', 'Total Pop', 'Median HH Inc', 'Per Capita Inc', 'White', 'Afr Amer', 'Native Amer', 'Asian Amer', 'Pac Islander', 'Other', 'Bi- Multi-Racial', 'Hispanic or Latino', 'Med Age', '<5 years', '5-17 yrs', '18-20 yrs', '21-24 yrs', '25-34 yrs', '35-44 yrs', '45-54 yrs', '55-59 yrs', '60-64 yrs', '65-74 yrs', '78-84 yrs', '85+ yrs', '% P16+ in labor force', 'Total # Homes Owned', 'Med. Home Value', 'Tot Housing units', 'Owner occupied housing units', 'Renter occupied housing units', 'households', 'Family households', 'Married-couple family households', 'Single mother households', 'Nonfamily households', 'Single Occupancy', 'Avg HH Size', 'Avg Family Size', 'Pop Below Poverty Level', '% P25+ HS Grad', '% P25-54 BA+']\n"
     ]
    }
   ],
   "source": [
    "features = model_df.columns.values.tolist()\n",
    "print features"
   ]
  },
  {
   "cell_type": "code",
   "execution_count": 49,
   "metadata": {
    "ExecuteTime": {
     "end_time": "2016-10-11T09:53:53.371536",
     "start_time": "2016-10-11T09:53:53.365162"
    },
    "collapsed": false
   },
   "outputs": [],
   "source": [
    "drop_features = ['Zip Code', 'median bottles sold', 'median sales',\\\n",
    "                 'median volume sold', 'total bottles sold', 'total sales',\\\n",
    "                 'total volume sold', 'Store Count', 'Dollar per litre', 'Area (sqkm)', 'Stores per sqkm', 'Area']\n",
    "for i in drop_features:\n",
    "    features.remove(i)\n"
   ]
  },
  {
   "cell_type": "code",
   "execution_count": 50,
   "metadata": {
    "ExecuteTime": {
     "end_time": "2016-10-11T09:53:57.932281",
     "start_time": "2016-10-11T09:53:57.428460"
    },
    "collapsed": false
   },
   "outputs": [],
   "source": [
    "model_df.dropna(inplace=True)\n",
    "X = model_df[features]"
   ]
  },
  {
   "cell_type": "code",
   "execution_count": 51,
   "metadata": {
    "ExecuteTime": {
     "end_time": "2016-10-11T09:54:11.196156",
     "start_time": "2016-10-11T09:53:58.825582"
    },
    "collapsed": false
   },
   "outputs": [
    {
     "name": "stdout",
     "output_type": "stream",
     "text": [
      "r-squared: 0.865402146202\n",
      "alpha applied: 0.1\n"
     ]
    },
    {
     "data": {
      "image/png": "[encoded data removed]",
      "text/plain": [
       "<matplotlib.figure.Figure at 0x11730ad50>"
      ]
     },
     "metadata": {},
     "output_type": "display_data"
    }
   ],
   "source": [
    "y_sales = model_df['total sales']\n",
    "ridge = linear_model.RidgeCV(cv=5)\n",
    "model_sales = ridge.fit(X,y_sales)\n",
    "print 'r-squared: {}'.format(model_sales.score(X,y_sales))\n",
    "print 'alpha applied: {}'.format(model_sales.alpha_)\n",
    "\n",
    "feature_imp = pd.DataFrame([features, model_sales.coef_.tolist()], index=['feature', 'coef']).T\n",
    "feature_imp['coef'] = feature_imp['coef'].astype(float)\n",
    "feature_imp = feature_imp.sort_values(by='coef', ascending=False)\n",
    "\n",
    "predicted_sales = model_sales.predict(X)\n",
    "fig, ax = plt.subplots(figsize=(8,8));\n",
    "plt.scatter(predicted_sales, y_sales);\n",
    "plt.plot([min(y_sales), max(y_sales)], [min(y_sales), max(y_sales)], '-');\n",
    "plt.title('Predicted and actual sales');\n",
    "plt.xlabel('Predicted sales');\n",
    "plt.ylabel('Actual sales');"
   ]
  },
  {
   "cell_type": "code",
   "execution_count": 52,
   "metadata": {
    "ExecuteTime": {
     "end_time": "2016-10-11T09:54:25.269629",
     "start_time": "2016-10-11T09:54:11.199384"
    },
    "collapsed": false
   },
   "outputs": [
    {
     "name": "stdout",
     "output_type": "stream",
     "text": [
      "r-squared: 0.688057980203\n",
      "alpha applied: 0.1\n"
     ]
    },
    {
     "data": {
      "image/png": "[encoded data removed]",
      "text/plain": [
       "<matplotlib.figure.Figure at 0x118b88150>"
      ]
     },
     "metadata": {},
     "output_type": "display_data"
    }
   ],
   "source": [
    "y_dollar = model_df['Dollar per litre']\n",
    "ridge2 = linear_model.RidgeCV(cv=5)\n",
    "model_dollar = ridge2.fit(X,y_dollar)\n",
    "print 'r-squared: {}'.format(model_dollar.score(X,y_dollar))\n",
    "print 'alpha applied: {}'.format(model_dollar.alpha_)\n",
    "\n",
    "feature_imp_d = pd.DataFrame([features, model_dollar.coef_.tolist()], index=['feature', 'coef']).T\n",
    "feature_imp_d['coef'] = feature_imp_d['coef'].astype(float)\n",
    "feature_imp_d = feature_imp_d.sort_values(by='coef', ascending=False)\n",
    "\n",
    "predicted_dollar = model_dollar.predict(X)\n",
    "fig, ax = plt.subplots(figsize=(8,8));\n",
    "plt.scatter(predicted_dollar, y_dollar);\n",
    "plt.plot([min(y_dollar), max(y_dollar)], [min(y_dollar), max(y_dollar)], '-');\n",
    "plt.title('Predicted and actual dollar per litre');\n",
    "plt.xlabel('Predicted');\n",
    "plt.ylabel('Actual');"
   ]
  },
  {
   "cell_type": "code",
   "execution_count": 53,
   "metadata": {
    "ExecuteTime": {
     "end_time": "2016-10-11T09:54:42.378635",
     "start_time": "2016-10-11T09:54:42.348403"
    },
    "collapsed": false
   },
   "outputs": [],
   "source": [
    "predict_df = location_data.copy()\n",
    "predict_df['Year'] = 2016\n",
    "predict_df = predict_df.merge(demo_df, left_on='Zip Code', right_on='Area')"
   ]
  },
  {
   "cell_type": "code",
   "execution_count": 54,
   "metadata": {
    "ExecuteTime": {
     "end_time": "2016-10-11T09:54:43.394605",
     "start_time": "2016-10-11T09:54:43.314193"
    },
    "collapsed": false
   },
   "outputs": [
    {
     "data": {
      "text/html": [
       "<div>\n",
       "<table border=\"1\" class=\"dataframe\">\n",
       "  <thead>\n",
       "    <tr style=\"text-align: right;\">\n",
       "      <th></th>\n",
       "      <th>Zip Code</th>\n",
       "      <th>City</th>\n",
       "      <th>County</th>\n",
       "      <th>State</th>\n",
       "      <th>County Number</th>\n",
       "      <th>Area (sqkm)</th>\n",
       "      <th>Year</th>\n",
       "      <th>Area</th>\n",
       "      <th>Total Pop</th>\n",
       "      <th>Median HH Inc</th>\n",
       "      <th>...</th>\n",
       "      <th>Family households</th>\n",
       "      <th>Married-couple family households</th>\n",
       "      <th>Single mother households</th>\n",
       "      <th>Nonfamily households</th>\n",
       "      <th>Single Occupancy</th>\n",
       "      <th>Avg HH Size</th>\n",
       "      <th>Avg Family Size</th>\n",
       "      <th>Pop Below Poverty Level</th>\n",
       "      <th>% P25+ HS Grad</th>\n",
       "      <th>% P25-54 BA+</th>\n",
       "    </tr>\n",
       "  </thead>\n",
       "  <tbody>\n",
       "    <tr>\n",
       "      <th>0</th>\n",
       "      <td>50001</td>\n",
       "      <td>ACKWORTH</td>\n",
       "      <td>Warren</td>\n",
       "      <td>IA</td>\n",
       "      <td>91</td>\n",
       "      <td>62.796656</td>\n",
       "      <td>2016</td>\n",
       "      <td>50001</td>\n",
       "      <td>615.0</td>\n",
       "      <td>43611.0</td>\n",
       "      <td>...</td>\n",
       "      <td>174.0</td>\n",
       "      <td>158.0</td>\n",
       "      <td>12.0</td>\n",
       "      <td>42.0</td>\n",
       "      <td>34.0</td>\n",
       "      <td>2.85</td>\n",
       "      <td>3.21</td>\n",
       "      <td>711.0</td>\n",
       "      <td>88.8</td>\n",
       "      <td>9.7</td>\n",
       "    </tr>\n",
       "    <tr>\n",
       "      <th>1</th>\n",
       "      <td>50002</td>\n",
       "      <td>ADAIR</td>\n",
       "      <td>Guthrie</td>\n",
       "      <td>IA</td>\n",
       "      <td>39</td>\n",
       "      <td>279.202219</td>\n",
       "      <td>2016</td>\n",
       "      <td>50002</td>\n",
       "      <td>1339.0</td>\n",
       "      <td>32500.0</td>\n",
       "      <td>...</td>\n",
       "      <td>370.0</td>\n",
       "      <td>333.0</td>\n",
       "      <td>30.0</td>\n",
       "      <td>205.0</td>\n",
       "      <td>185.0</td>\n",
       "      <td>2.25</td>\n",
       "      <td>2.86</td>\n",
       "      <td>1232.0</td>\n",
       "      <td>87.6</td>\n",
       "      <td>11.2</td>\n",
       "    </tr>\n",
       "    <tr>\n",
       "      <th>2</th>\n",
       "      <td>50003</td>\n",
       "      <td>ADEL</td>\n",
       "      <td>Dallas</td>\n",
       "      <td>IA</td>\n",
       "      <td>25</td>\n",
       "      <td>298.086291</td>\n",
       "      <td>2016</td>\n",
       "      <td>50003</td>\n",
       "      <td>5835.0</td>\n",
       "      <td>47649.0</td>\n",
       "      <td>...</td>\n",
       "      <td>1615.0</td>\n",
       "      <td>1390.0</td>\n",
       "      <td>162.0</td>\n",
       "      <td>619.0</td>\n",
       "      <td>529.0</td>\n",
       "      <td>2.58</td>\n",
       "      <td>3.08</td>\n",
       "      <td>5816.0</td>\n",
       "      <td>91.0</td>\n",
       "      <td>24.0</td>\n",
       "    </tr>\n",
       "    <tr>\n",
       "      <th>3</th>\n",
       "      <td>50005</td>\n",
       "      <td>ALBION</td>\n",
       "      <td>Marshall</td>\n",
       "      <td>IA</td>\n",
       "      <td>64</td>\n",
       "      <td>69.623573</td>\n",
       "      <td>2016</td>\n",
       "      <td>50005</td>\n",
       "      <td>851.0</td>\n",
       "      <td>41786.0</td>\n",
       "      <td>...</td>\n",
       "      <td>251.0</td>\n",
       "      <td>208.0</td>\n",
       "      <td>28.0</td>\n",
       "      <td>69.0</td>\n",
       "      <td>56.0</td>\n",
       "      <td>2.66</td>\n",
       "      <td>2.98</td>\n",
       "      <td>917.0</td>\n",
       "      <td>80.8</td>\n",
       "      <td>12.7</td>\n",
       "    </tr>\n",
       "    <tr>\n",
       "      <th>4</th>\n",
       "      <td>50006</td>\n",
       "      <td>ALDEN</td>\n",
       "      <td>Hardin</td>\n",
       "      <td>IA</td>\n",
       "      <td>42</td>\n",
       "      <td>317.745150</td>\n",
       "      <td>2016</td>\n",
       "      <td>50006</td>\n",
       "      <td>1959.0</td>\n",
       "      <td>36494.0</td>\n",
       "      <td>...</td>\n",
       "      <td>547.0</td>\n",
       "      <td>477.0</td>\n",
       "      <td>43.0</td>\n",
       "      <td>220.0</td>\n",
       "      <td>194.0</td>\n",
       "      <td>2.55</td>\n",
       "      <td>3.09</td>\n",
       "      <td>1939.0</td>\n",
       "      <td>88.9</td>\n",
       "      <td>14.8</td>\n",
       "    </tr>\n",
       "  </tbody>\n",
       "</table>\n",
       "<p>5 rows × 49 columns</p>\n",
       "</div>"
      ],
      "text/plain": [
       "   Zip Code      City    County State  County Number  Area (sqkm)  Year  \\\n",
       "0     50001  ACKWORTH    Warren    IA             91    62.796656  2016   \n",
       "1     50002     ADAIR   Guthrie    IA             39   279.202219  2016   \n",
       "2     50003      ADEL    Dallas    IA             25   298.086291  2016   \n",
       "3     50005    ALBION  Marshall    IA             64    69.623573  2016   \n",
       "4     50006     ALDEN    Hardin    IA             42   317.745150  2016   \n",
       "\n",
       "    Area  Total Pop  Median HH Inc      ...       Family households  \\\n",
       "0  50001      615.0        43611.0      ...                   174.0   \n",
       "1  50002     1339.0        32500.0      ...                   370.0   \n",
       "2  50003     5835.0        47649.0      ...                  1615.0   \n",
       "3  50005      851.0        41786.0      ...                   251.0   \n",
       "4  50006     1959.0        36494.0      ...                   547.0   \n",
       "\n",
       "   Married-couple family households  Single mother households  \\\n",
       "0                             158.0                      12.0   \n",
       "1                             333.0                      30.0   \n",
       "2                            1390.0                     162.0   \n",
       "3                             208.0                      28.0   \n",
       "4                             477.0                      43.0   \n",
       "\n",
       "   Nonfamily households  Single Occupancy  Avg HH Size  Avg Family Size  \\\n",
       "0                  42.0              34.0         2.85             3.21   \n",
       "1                 205.0             185.0         2.25             2.86   \n",
       "2                 619.0             529.0         2.58             3.08   \n",
       "3                  69.0              56.0         2.66             2.98   \n",
       "4                 220.0             194.0         2.55             3.09   \n",
       "\n",
       "   Pop Below Poverty Level  % P25+ HS Grad  % P25-54 BA+  \n",
       "0                    711.0            88.8           9.7  \n",
       "1                   1232.0            87.6          11.2  \n",
       "2                   5816.0            91.0          24.0  \n",
       "3                    917.0            80.8          12.7  \n",
       "4                   1939.0            88.9          14.8  \n",
       "\n",
       "[5 rows x 49 columns]"
      ]
     },
     "execution_count": 54,
     "metadata": {},
     "output_type": "execute_result"
    }
   ],
   "source": [
    "predict_df.head()"
   ]
  },
  {
   "cell_type": "code",
   "execution_count": 55,
   "metadata": {
    "ExecuteTime": {
     "end_time": "2016-10-11T09:54:45.994783",
     "start_time": "2016-10-11T09:54:45.983824"
    },
    "collapsed": false
   },
   "outputs": [],
   "source": [
    "X_predict = predict_df[features]\n",
    "all_sales = model_sales.predict(X_predict)\n",
    "all_dollar_per_litre = model_dollar.predict(X_predict)"
   ]
  },
  {
   "cell_type": "code",
   "execution_count": 56,
   "metadata": {
    "ExecuteTime": {
     "end_time": "2016-10-11T09:54:46.844181",
     "start_time": "2016-10-11T09:54:46.835620"
    },
    "collapsed": false
   },
   "outputs": [],
   "source": [
    "all_sales = pd.DataFrame(all_sales, columns=['predicted total sales'])\n",
    "all_dollar_per_litre = pd.DataFrame(all_dollar_per_litre, columns=['predicted dollar/litre'])"
   ]
  },
  {
   "cell_type": "code",
   "execution_count": 57,
   "metadata": {
    "ExecuteTime": {
     "end_time": "2016-10-11T09:54:47.342799",
     "start_time": "2016-10-11T09:54:47.333855"
    },
    "collapsed": false
   },
   "outputs": [],
   "source": [
    "predict_df['predicted total sales'] = all_sales['predicted total sales']\n",
    "predict_df['predicted dollar/litre'] = all_dollar_per_litre['predicted dollar/litre']"
   ]
  },
  {
   "cell_type": "code",
   "execution_count": 58,
   "metadata": {
    "ExecuteTime": {
     "end_time": "2016-10-11T09:54:48.259204",
     "start_time": "2016-10-11T09:54:48.153708"
    },
    "collapsed": false
   },
   "outputs": [
    {
     "data": {
      "text/html": [
       "<div>\n",
       "<table border=\"1\" class=\"dataframe\">\n",
       "  <thead>\n",
       "    <tr style=\"text-align: right;\">\n",
       "      <th></th>\n",
       "      <th>Zip Code</th>\n",
       "      <th>City</th>\n",
       "      <th>County</th>\n",
       "      <th>State</th>\n",
       "      <th>County Number</th>\n",
       "      <th>Area (sqkm)</th>\n",
       "      <th>Year</th>\n",
       "      <th>Area</th>\n",
       "      <th>Total Pop</th>\n",
       "      <th>Median HH Inc</th>\n",
       "      <th>...</th>\n",
       "      <th>Single mother households</th>\n",
       "      <th>Nonfamily households</th>\n",
       "      <th>Single Occupancy</th>\n",
       "      <th>Avg HH Size</th>\n",
       "      <th>Avg Family Size</th>\n",
       "      <th>Pop Below Poverty Level</th>\n",
       "      <th>% P25+ HS Grad</th>\n",
       "      <th>% P25-54 BA+</th>\n",
       "      <th>predicted total sales</th>\n",
       "      <th>predicted dollar/litre</th>\n",
       "    </tr>\n",
       "  </thead>\n",
       "  <tbody>\n",
       "    <tr>\n",
       "      <th>0</th>\n",
       "      <td>50001</td>\n",
       "      <td>ACKWORTH</td>\n",
       "      <td>Warren</td>\n",
       "      <td>IA</td>\n",
       "      <td>91</td>\n",
       "      <td>62.796656</td>\n",
       "      <td>2016</td>\n",
       "      <td>50001</td>\n",
       "      <td>615.0</td>\n",
       "      <td>43611.0</td>\n",
       "      <td>...</td>\n",
       "      <td>12.0</td>\n",
       "      <td>42.0</td>\n",
       "      <td>34.0</td>\n",
       "      <td>2.85</td>\n",
       "      <td>3.21</td>\n",
       "      <td>711.0</td>\n",
       "      <td>88.8</td>\n",
       "      <td>9.7</td>\n",
       "      <td>31238.131293</td>\n",
       "      <td>12.088761</td>\n",
       "    </tr>\n",
       "    <tr>\n",
       "      <th>1</th>\n",
       "      <td>50002</td>\n",
       "      <td>ADAIR</td>\n",
       "      <td>Guthrie</td>\n",
       "      <td>IA</td>\n",
       "      <td>39</td>\n",
       "      <td>279.202219</td>\n",
       "      <td>2016</td>\n",
       "      <td>50002</td>\n",
       "      <td>1339.0</td>\n",
       "      <td>32500.0</td>\n",
       "      <td>...</td>\n",
       "      <td>30.0</td>\n",
       "      <td>205.0</td>\n",
       "      <td>185.0</td>\n",
       "      <td>2.25</td>\n",
       "      <td>2.86</td>\n",
       "      <td>1232.0</td>\n",
       "      <td>87.6</td>\n",
       "      <td>11.2</td>\n",
       "      <td>-22998.718427</td>\n",
       "      <td>13.009286</td>\n",
       "    </tr>\n",
       "    <tr>\n",
       "      <th>2</th>\n",
       "      <td>50003</td>\n",
       "      <td>ADEL</td>\n",
       "      <td>Dallas</td>\n",
       "      <td>IA</td>\n",
       "      <td>25</td>\n",
       "      <td>298.086291</td>\n",
       "      <td>2016</td>\n",
       "      <td>50003</td>\n",
       "      <td>5835.0</td>\n",
       "      <td>47649.0</td>\n",
       "      <td>...</td>\n",
       "      <td>162.0</td>\n",
       "      <td>619.0</td>\n",
       "      <td>529.0</td>\n",
       "      <td>2.58</td>\n",
       "      <td>3.08</td>\n",
       "      <td>5816.0</td>\n",
       "      <td>91.0</td>\n",
       "      <td>24.0</td>\n",
       "      <td>117471.848947</td>\n",
       "      <td>13.213215</td>\n",
       "    </tr>\n",
       "    <tr>\n",
       "      <th>3</th>\n",
       "      <td>50005</td>\n",
       "      <td>ALBION</td>\n",
       "      <td>Marshall</td>\n",
       "      <td>IA</td>\n",
       "      <td>64</td>\n",
       "      <td>69.623573</td>\n",
       "      <td>2016</td>\n",
       "      <td>50005</td>\n",
       "      <td>851.0</td>\n",
       "      <td>41786.0</td>\n",
       "      <td>...</td>\n",
       "      <td>28.0</td>\n",
       "      <td>69.0</td>\n",
       "      <td>56.0</td>\n",
       "      <td>2.66</td>\n",
       "      <td>2.98</td>\n",
       "      <td>917.0</td>\n",
       "      <td>80.8</td>\n",
       "      <td>12.7</td>\n",
       "      <td>-49876.095228</td>\n",
       "      <td>12.268817</td>\n",
       "    </tr>\n",
       "    <tr>\n",
       "      <th>4</th>\n",
       "      <td>50006</td>\n",
       "      <td>ALDEN</td>\n",
       "      <td>Hardin</td>\n",
       "      <td>IA</td>\n",
       "      <td>42</td>\n",
       "      <td>317.745150</td>\n",
       "      <td>2016</td>\n",
       "      <td>50006</td>\n",
       "      <td>1959.0</td>\n",
       "      <td>36494.0</td>\n",
       "      <td>...</td>\n",
       "      <td>43.0</td>\n",
       "      <td>220.0</td>\n",
       "      <td>194.0</td>\n",
       "      <td>2.55</td>\n",
       "      <td>3.09</td>\n",
       "      <td>1939.0</td>\n",
       "      <td>88.9</td>\n",
       "      <td>14.8</td>\n",
       "      <td>4532.019192</td>\n",
       "      <td>12.875207</td>\n",
       "    </tr>\n",
       "  </tbody>\n",
       "</table>\n",
       "<p>5 rows × 51 columns</p>\n",
       "</div>"
      ],
      "text/plain": [
       "   Zip Code      City    County State  County Number  Area (sqkm)  Year  \\\n",
       "0     50001  ACKWORTH    Warren    IA             91    62.796656  2016   \n",
       "1     50002     ADAIR   Guthrie    IA             39   279.202219  2016   \n",
       "2     50003      ADEL    Dallas    IA             25   298.086291  2016   \n",
       "3     50005    ALBION  Marshall    IA             64    69.623573  2016   \n",
       "4     50006     ALDEN    Hardin    IA             42   317.745150  2016   \n",
       "\n",
       "    Area  Total Pop  Median HH Inc           ...            \\\n",
       "0  50001      615.0        43611.0           ...             \n",
       "1  50002     1339.0        32500.0           ...             \n",
       "2  50003     5835.0        47649.0           ...             \n",
       "3  50005      851.0        41786.0           ...             \n",
       "4  50006     1959.0        36494.0           ...             \n",
       "\n",
       "   Single mother households  Nonfamily households  Single Occupancy  \\\n",
       "0                      12.0                  42.0              34.0   \n",
       "1                      30.0                 205.0             185.0   \n",
       "2                     162.0                 619.0             529.0   \n",
       "3                      28.0                  69.0              56.0   \n",
       "4                      43.0                 220.0             194.0   \n",
       "\n",
       "   Avg HH Size  Avg Family Size  Pop Below Poverty Level  % P25+ HS Grad  \\\n",
       "0         2.85             3.21                    711.0            88.8   \n",
       "1         2.25             2.86                   1232.0            87.6   \n",
       "2         2.58             3.08                   5816.0            91.0   \n",
       "3         2.66             2.98                    917.0            80.8   \n",
       "4         2.55             3.09                   1939.0            88.9   \n",
       "\n",
       "   % P25-54 BA+  predicted total sales  predicted dollar/litre  \n",
       "0           9.7           31238.131293               12.088761  \n",
       "1          11.2          -22998.718427               13.009286  \n",
       "2          24.0          117471.848947               13.213215  \n",
       "3          12.7          -49876.095228               12.268817  \n",
       "4          14.8            4532.019192               12.875207  \n",
       "\n",
       "[5 rows x 51 columns]"
      ]
     },
     "execution_count": 58,
     "metadata": {},
     "output_type": "execute_result"
    }
   ],
   "source": [
    "predict_df.head()"
   ]
  },
  {
   "cell_type": "code",
   "execution_count": 59,
   "metadata": {
    "ExecuteTime": {
     "end_time": "2016-10-11T09:54:50.348656",
     "start_time": "2016-10-11T09:54:50.344489"
    },
    "collapsed": false
   },
   "outputs": [],
   "source": [
    "present_columns = ['Zip Code', 'predicted total sales', 'predicted dollar/litre']"
   ]
  },
  {
   "cell_type": "code",
   "execution_count": 60,
   "metadata": {
    "ExecuteTime": {
     "end_time": "2016-10-11T09:54:51.150321",
     "start_time": "2016-10-11T09:54:51.143514"
    },
    "collapsed": false
   },
   "outputs": [],
   "source": [
    "present_df = predict_df[present_columns]"
   ]
  },
  {
   "cell_type": "code",
   "execution_count": 61,
   "metadata": {
    "ExecuteTime": {
     "end_time": "2016-10-11T09:54:51.899799",
     "start_time": "2016-10-11T09:54:51.660892"
    },
    "collapsed": false
   },
   "outputs": [],
   "source": [
    "present_df = present_df.merge(df2[['Zip Code', 'Store Count', 'Area (sqkm)', 'Stores per sqkm']],\\\n",
    "                              how='left', on='Zip Code').drop_duplicates()"
   ]
  },
  {
   "cell_type": "code",
   "execution_count": 62,
   "metadata": {
    "ExecuteTime": {
     "end_time": "2016-10-11T09:54:52.374097",
     "start_time": "2016-10-11T09:54:52.346702"
    },
    "collapsed": false
   },
   "outputs": [
    {
     "data": {
      "text/html": [
       "<div>\n",
       "<table border=\"1\" class=\"dataframe\">\n",
       "  <thead>\n",
       "    <tr style=\"text-align: right;\">\n",
       "      <th></th>\n",
       "      <th>Zip Code</th>\n",
       "      <th>predicted total sales</th>\n",
       "      <th>predicted dollar/litre</th>\n",
       "      <th>Store Count</th>\n",
       "      <th>Area (sqkm)</th>\n",
       "      <th>Stores per sqkm</th>\n",
       "    </tr>\n",
       "  </thead>\n",
       "  <tbody>\n",
       "    <tr>\n",
       "      <th>0</th>\n",
       "      <td>50001</td>\n",
       "      <td>31238.131293</td>\n",
       "      <td>12.088761</td>\n",
       "      <td>NaN</td>\n",
       "      <td>NaN</td>\n",
       "      <td>NaN</td>\n",
       "    </tr>\n",
       "    <tr>\n",
       "      <th>1</th>\n",
       "      <td>50002</td>\n",
       "      <td>-22998.718427</td>\n",
       "      <td>13.009286</td>\n",
       "      <td>2.0</td>\n",
       "      <td>279.202219</td>\n",
       "      <td>0.007163</td>\n",
       "    </tr>\n",
       "    <tr>\n",
       "      <th>44</th>\n",
       "      <td>50003</td>\n",
       "      <td>117471.848947</td>\n",
       "      <td>13.213215</td>\n",
       "      <td>3.0</td>\n",
       "      <td>298.086291</td>\n",
       "      <td>0.010064</td>\n",
       "    </tr>\n",
       "    <tr>\n",
       "      <th>362</th>\n",
       "      <td>50005</td>\n",
       "      <td>-49876.095228</td>\n",
       "      <td>12.268817</td>\n",
       "      <td>NaN</td>\n",
       "      <td>NaN</td>\n",
       "      <td>NaN</td>\n",
       "    </tr>\n",
       "    <tr>\n",
       "      <th>363</th>\n",
       "      <td>50006</td>\n",
       "      <td>4532.019192</td>\n",
       "      <td>12.875207</td>\n",
       "      <td>2.0</td>\n",
       "      <td>317.745150</td>\n",
       "      <td>0.006294</td>\n",
       "    </tr>\n",
       "  </tbody>\n",
       "</table>\n",
       "</div>"
      ],
      "text/plain": [
       "     Zip Code  predicted total sales  predicted dollar/litre  Store Count  \\\n",
       "0       50001           31238.131293               12.088761          NaN   \n",
       "1       50002          -22998.718427               13.009286          2.0   \n",
       "44      50003          117471.848947               13.213215          3.0   \n",
       "362     50005          -49876.095228               12.268817          NaN   \n",
       "363     50006            4532.019192               12.875207          2.0   \n",
       "\n",
       "     Area (sqkm)  Stores per sqkm  \n",
       "0            NaN              NaN  \n",
       "1     279.202219         0.007163  \n",
       "44    298.086291         0.010064  \n",
       "362          NaN              NaN  \n",
       "363   317.745150         0.006294  "
      ]
     },
     "execution_count": 62,
     "metadata": {},
     "output_type": "execute_result"
    }
   ],
   "source": [
    "present_df.head()"
   ]
  },
  {
   "cell_type": "code",
   "execution_count": 63,
   "metadata": {
    "ExecuteTime": {
     "end_time": "2016-10-11T09:54:53.612255",
     "start_time": "2016-10-11T09:54:53.605324"
    },
    "collapsed": false
   },
   "outputs": [],
   "source": [
    "top_10 = present_df.sort_values(by='predicted total sales', ascending=False).head(10)"
   ]
  },
  {
   "cell_type": "code",
   "execution_count": 64,
   "metadata": {
    "ExecuteTime": {
     "end_time": "2016-10-11T09:54:54.706324",
     "start_time": "2016-10-11T09:54:54.668533"
    },
    "collapsed": false
   },
   "outputs": [
    {
     "data": {
      "text/html": [
       "<div>\n",
       "<table border=\"1\" class=\"dataframe\">\n",
       "  <thead>\n",
       "    <tr style=\"text-align: right;\">\n",
       "      <th></th>\n",
       "      <th>Zip Code</th>\n",
       "      <th>predicted total sales</th>\n",
       "      <th>predicted dollar/litre</th>\n",
       "      <th>Store Count</th>\n",
       "      <th>Area (sqkm)</th>\n",
       "      <th>Stores per sqkm</th>\n",
       "    </tr>\n",
       "  </thead>\n",
       "  <tbody>\n",
       "    <tr>\n",
       "      <th>185116</th>\n",
       "      <td>52240</td>\n",
       "      <td>1.083193e+06</td>\n",
       "      <td>15.669300</td>\n",
       "      <td>20.0</td>\n",
       "      <td>415.571318</td>\n",
       "      <td>0.048127</td>\n",
       "    </tr>\n",
       "    <tr>\n",
       "      <th>211962</th>\n",
       "      <td>52402</td>\n",
       "      <td>9.687031e+05</td>\n",
       "      <td>13.873812</td>\n",
       "      <td>30.0</td>\n",
       "      <td>36.420817</td>\n",
       "      <td>0.823705</td>\n",
       "    </tr>\n",
       "    <tr>\n",
       "      <th>2600</th>\n",
       "      <td>50010</td>\n",
       "      <td>8.626789e+05</td>\n",
       "      <td>14.551172</td>\n",
       "      <td>21.0</td>\n",
       "      <td>155.294118</td>\n",
       "      <td>0.135227</td>\n",
       "    </tr>\n",
       "    <tr>\n",
       "      <th>45989</th>\n",
       "      <td>50266</td>\n",
       "      <td>7.393243e+05</td>\n",
       "      <td>17.135838</td>\n",
       "      <td>16.0</td>\n",
       "      <td>43.060835</td>\n",
       "      <td>0.371567</td>\n",
       "    </tr>\n",
       "    <tr>\n",
       "      <th>154613</th>\n",
       "      <td>51501</td>\n",
       "      <td>7.013168e+05</td>\n",
       "      <td>15.117108</td>\n",
       "      <td>26.0</td>\n",
       "      <td>68.663347</td>\n",
       "      <td>0.378659</td>\n",
       "    </tr>\n",
       "    <tr>\n",
       "      <th>168403</th>\n",
       "      <td>52001</td>\n",
       "      <td>6.619171e+05</td>\n",
       "      <td>14.726091</td>\n",
       "      <td>18.0</td>\n",
       "      <td>75.057763</td>\n",
       "      <td>0.239815</td>\n",
       "    </tr>\n",
       "    <tr>\n",
       "      <th>103139</th>\n",
       "      <td>50613</td>\n",
       "      <td>6.124042e+05</td>\n",
       "      <td>14.306028</td>\n",
       "      <td>16.0</td>\n",
       "      <td>329.972902</td>\n",
       "      <td>0.048489</td>\n",
       "    </tr>\n",
       "    <tr>\n",
       "      <th>268241</th>\n",
       "      <td>52807</td>\n",
       "      <td>6.026441e+05</td>\n",
       "      <td>15.277305</td>\n",
       "      <td>9.0</td>\n",
       "      <td>76.469440</td>\n",
       "      <td>0.117694</td>\n",
       "    </tr>\n",
       "    <tr>\n",
       "      <th>52467</th>\n",
       "      <td>50311</td>\n",
       "      <td>5.845783e+05</td>\n",
       "      <td>15.028908</td>\n",
       "      <td>7.0</td>\n",
       "      <td>6.511832</td>\n",
       "      <td>1.074966</td>\n",
       "    </tr>\n",
       "    <tr>\n",
       "      <th>76254</th>\n",
       "      <td>50322</td>\n",
       "      <td>5.817951e+05</td>\n",
       "      <td>16.084670</td>\n",
       "      <td>19.0</td>\n",
       "      <td>27.938267</td>\n",
       "      <td>0.680071</td>\n",
       "    </tr>\n",
       "  </tbody>\n",
       "</table>\n",
       "</div>"
      ],
      "text/plain": [
       "        Zip Code  predicted total sales  predicted dollar/litre  Store Count  \\\n",
       "185116     52240           1.083193e+06               15.669300         20.0   \n",
       "211962     52402           9.687031e+05               13.873812         30.0   \n",
       "2600       50010           8.626789e+05               14.551172         21.0   \n",
       "45989      50266           7.393243e+05               17.135838         16.0   \n",
       "154613     51501           7.013168e+05               15.117108         26.0   \n",
       "168403     52001           6.619171e+05               14.726091         18.0   \n",
       "103139     50613           6.124042e+05               14.306028         16.0   \n",
       "268241     52807           6.026441e+05               15.277305          9.0   \n",
       "52467      50311           5.845783e+05               15.028908          7.0   \n",
       "76254      50322           5.817951e+05               16.084670         19.0   \n",
       "\n",
       "        Area (sqkm)  Stores per sqkm  \n",
       "185116   415.571318         0.048127  \n",
       "211962    36.420817         0.823705  \n",
       "2600     155.294118         0.135227  \n",
       "45989     43.060835         0.371567  \n",
       "154613    68.663347         0.378659  \n",
       "168403    75.057763         0.239815  \n",
       "103139   329.972902         0.048489  \n",
       "268241    76.469440         0.117694  \n",
       "52467      6.511832         1.074966  \n",
       "76254     27.938267         0.680071  "
      ]
     },
     "execution_count": 64,
     "metadata": {},
     "output_type": "execute_result"
    }
   ],
   "source": [
    "top_10"
   ]
  },
  {
   "cell_type": "markdown",
   "metadata": {},
   "source": [
    "## Record your findings\n",
    "\n",
    "Be sure to write out anything observations from your exploratory analysis."
   ]
  },
  {
   "cell_type": "markdown",
   "metadata": {},
   "source": [
    "## Plot your results\n",
    "\n",
    "Again make sure that you record any valuable information. For example, in the tax scenario, did you find the sales from the first three months of the year to be a good predictor of the total sales for the year? Plot the predictions versus the true values and discuss the successes and limitations of your models"
   ]
  },
  {
   "cell_type": "markdown",
   "metadata": {},
   "source": [
    "# Present the Results\n",
    "\n",
    "Present your conclusions and results. If you have more than one interesting model feel free to include more than one along with a discussion. Use your work in this notebook to prepare your write-up."
   ]
  }
 ],
 "metadata": {
  "celltoolbar": "Slideshow",
  "kernelspec": {
   "display_name": "Python [default]",
   "language": "python",
   "name": "python2"
  },
  "language_info": {
   "codemirror_mode": {
    "name": "ipython",
    "version": 2
   },
   "file_extension": ".py",
   "mimetype": "text/x-python",
   "name": "python",
   "nbconvert_exporter": "python",
   "pygments_lexer": "ipython2",
   "version": "2.7.12"
  }
 },
 "nbformat": 4,
 "nbformat_minor": 0
}
