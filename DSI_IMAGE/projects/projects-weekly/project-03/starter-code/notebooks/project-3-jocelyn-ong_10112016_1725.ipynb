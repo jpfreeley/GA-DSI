{
 "cells": [
  {
   "cell_type": "markdown",
   "metadata": {
    "slideshow": {
     "slide_type": "slide"
    }
   },
   "source": [
    "# Getting started\n",
    "\n",
    "Once you've chosen your scenario, download the data from [the Iowa website](https://data.iowa.gov/Economy/Iowa-Liquor-Sales/m3tr-qhgy) in csv format. Start by loading the data with pandas. You may need to parse the date columns appropriately."
   ]
  },
  {
   "cell_type": "code",
   "execution_count": 152,
   "metadata": {
    "ExecuteTime": {
     "end_time": "2016-10-11T22:46:19.698179",
     "start_time": "2016-10-11T22:46:19.195803"
    },
    "collapsed": false,
    "slideshow": {
     "slide_type": "slide"
    }
   },
   "outputs": [],
   "source": [
    "# Import relevant libraries\n",
    "import pandas as pd\n",
    "import numpy as np\n",
    "import seaborn as sns\n",
    "import matplotlib.pyplot as plt\n",
    "%matplotlib inline\n",
    "from sklearn import linear_model\n",
    "pd.options.display.float_format = '{:,.2f}'.format"
   ]
  },
  {
   "cell_type": "code",
   "execution_count": 153,
   "metadata": {
    "ExecuteTime": {
     "end_time": "2016-10-11T22:46:19.822150",
     "start_time": "2016-10-11T22:46:19.815150"
    },
    "collapsed": false,
    "slideshow": {
     "slide_type": "-"
    }
   },
   "outputs": [],
   "source": [
    "def load_file(file_path):\n",
    "    try:\n",
    "        return pd.read_csv(file_path_name, low_memory=False)\n",
    "    except:\n",
    "        print 'Error: Check file path/ name'"
   ]
  },
  {
   "cell_type": "code",
   "execution_count": 154,
   "metadata": {
    "ExecuteTime": {
     "end_time": "2016-10-11T22:46:31.341782",
     "start_time": "2016-10-11T22:46:20.721304"
    },
    "collapsed": false
   },
   "outputs": [],
   "source": [
    "# Load the data into a DataFrame\n",
    "base_path = '../data/'\n",
    "file_path_name = base_path + 'Iowa_Liquor_Sales_reduced.csv'\n",
    "df = load_file(file_path_name)"
   ]
  },
  {
   "cell_type": "code",
   "execution_count": 155,
   "metadata": {
    "ExecuteTime": {
     "end_time": "2016-10-11T22:46:44.827328",
     "start_time": "2016-10-11T22:46:31.344225"
    },
    "collapsed": false,
    "slideshow": {
     "slide_type": "-"
    }
   },
   "outputs": [],
   "source": [
    "## Transform the dates column\n",
    "df[\"Date\"] = pd.to_datetime(df[\"Date\"], format='%m/%d/%Y')"
   ]
  },
  {
   "cell_type": "markdown",
   "metadata": {},
   "source": [
    "To ensure accuracy, we are importing a list of Iowa zip codes, cities, counties and county numbers."
   ]
  },
  {
   "cell_type": "code",
   "execution_count": 156,
   "metadata": {
    "ExecuteTime": {
     "end_time": "2016-10-11T22:46:44.857099",
     "start_time": "2016-10-11T22:46:44.830972"
    },
    "collapsed": false
   },
   "outputs": [],
   "source": [
    "file_path_name = base_path + 'ia_zip_city_county_sqm.csv'\n",
    "location_data = load_file(file_path_name)"
   ]
  },
  {
   "cell_type": "code",
   "execution_count": 157,
   "metadata": {
    "ExecuteTime": {
     "end_time": "2016-10-11T22:46:44.906742",
     "start_time": "2016-10-11T22:46:44.859808"
    },
    "collapsed": false
   },
   "outputs": [
    {
     "data": {
      "text/html": [
       "<div>\n",
       "<table border=\"1\" class=\"dataframe\">\n",
       "  <thead>\n",
       "    <tr style=\"text-align: right;\">\n",
       "      <th></th>\n",
       "      <th>Unnamed: 0</th>\n",
       "      <th>zip</th>\n",
       "      <th>primary_city</th>\n",
       "      <th>county</th>\n",
       "      <th>state</th>\n",
       "      <th>County#</th>\n",
       "      <th>ZCTA5CE10</th>\n",
       "      <th>area-sqm</th>\n",
       "    </tr>\n",
       "  </thead>\n",
       "  <tbody>\n",
       "    <tr>\n",
       "      <th>0</th>\n",
       "      <td>0</td>\n",
       "      <td>50001</td>\n",
       "      <td>ACKWORTH</td>\n",
       "      <td>Warren</td>\n",
       "      <td>IA</td>\n",
       "      <td>91</td>\n",
       "      <td>50001</td>\n",
       "      <td>62796656</td>\n",
       "    </tr>\n",
       "    <tr>\n",
       "      <th>1</th>\n",
       "      <td>1</td>\n",
       "      <td>50002</td>\n",
       "      <td>ADAIR</td>\n",
       "      <td>Guthrie</td>\n",
       "      <td>IA</td>\n",
       "      <td>39</td>\n",
       "      <td>50002</td>\n",
       "      <td>279202219</td>\n",
       "    </tr>\n",
       "    <tr>\n",
       "      <th>2</th>\n",
       "      <td>2</td>\n",
       "      <td>50003</td>\n",
       "      <td>ADEL</td>\n",
       "      <td>Dallas</td>\n",
       "      <td>IA</td>\n",
       "      <td>25</td>\n",
       "      <td>50003</td>\n",
       "      <td>298086291</td>\n",
       "    </tr>\n",
       "    <tr>\n",
       "      <th>3</th>\n",
       "      <td>3</td>\n",
       "      <td>50005</td>\n",
       "      <td>ALBION</td>\n",
       "      <td>Marshall</td>\n",
       "      <td>IA</td>\n",
       "      <td>64</td>\n",
       "      <td>50005</td>\n",
       "      <td>69623573</td>\n",
       "    </tr>\n",
       "    <tr>\n",
       "      <th>4</th>\n",
       "      <td>4</td>\n",
       "      <td>50006</td>\n",
       "      <td>ALDEN</td>\n",
       "      <td>Hardin</td>\n",
       "      <td>IA</td>\n",
       "      <td>42</td>\n",
       "      <td>50006</td>\n",
       "      <td>317745150</td>\n",
       "    </tr>\n",
       "  </tbody>\n",
       "</table>\n",
       "</div>"
      ],
      "text/plain": [
       "   Unnamed: 0    zip primary_city    county state  County#  ZCTA5CE10  \\\n",
       "0           0  50001     ACKWORTH    Warren    IA       91      50001   \n",
       "1           1  50002        ADAIR   Guthrie    IA       39      50002   \n",
       "2           2  50003         ADEL    Dallas    IA       25      50003   \n",
       "3           3  50005       ALBION  Marshall    IA       64      50005   \n",
       "4           4  50006        ALDEN    Hardin    IA       42      50006   \n",
       "\n",
       "    area-sqm  \n",
       "0   62796656  \n",
       "1  279202219  \n",
       "2  298086291  \n",
       "3   69623573  \n",
       "4  317745150  "
      ]
     },
     "execution_count": 157,
     "metadata": {},
     "output_type": "execute_result"
    }
   ],
   "source": [
    "location_data.head()"
   ]
  },
  {
   "cell_type": "code",
   "execution_count": 158,
   "metadata": {
    "ExecuteTime": {
     "end_time": "2016-10-11T22:46:44.923838",
     "start_time": "2016-10-11T22:46:44.910716"
    },
    "collapsed": false
   },
   "outputs": [],
   "source": [
    "location_data.columns = ['number', 'Zip Code', 'City', 'County', 'State','County Number', 'repeat', 'Area (sqkm)']\n",
    "location_data['Area (sqkm)'] = location_data['Area (sqkm)'] / 1000000"
   ]
  },
  {
   "cell_type": "code",
   "execution_count": 159,
   "metadata": {
    "ExecuteTime": {
     "end_time": "2016-10-11T22:46:44.937894",
     "start_time": "2016-10-11T22:46:44.928359"
    },
    "collapsed": false
   },
   "outputs": [],
   "source": [
    "location_data.drop(['number', 'repeat'], axis=1, inplace=True)"
   ]
  },
  {
   "cell_type": "markdown",
   "metadata": {},
   "source": [
    "We will run a check on zip codes before joining the 2 tables"
   ]
  },
  {
   "cell_type": "code",
   "execution_count": 160,
   "metadata": {
    "ExecuteTime": {
     "end_time": "2016-10-11T22:46:45.222171",
     "start_time": "2016-10-11T22:46:44.942449"
    },
    "collapsed": false
   },
   "outputs": [
    {
     "name": "stdout",
     "output_type": "stream",
     "text": [
      "['52733', '52084', '712-2', '52303', '56201', '52087', '52036', '50300']\n"
     ]
    }
   ],
   "source": [
    "liquor_zips = df['Zip Code'].drop_duplicates().tolist()\n",
    "ref_zips = location_data['Zip Code'].astype(str).tolist()\n",
    "z = [x for x in liquor_zips if x not in ref_zips]\n",
    "print z"
   ]
  },
  {
   "cell_type": "code",
   "execution_count": 161,
   "metadata": {
    "ExecuteTime": {
     "end_time": "2016-10-11T22:46:53.312156",
     "start_time": "2016-10-11T22:46:45.225050"
    },
    "collapsed": false
   },
   "outputs": [
    {
     "name": "stdout",
     "output_type": "stream",
     "text": [
      "     Zip Code     City   County  County Number\n",
      "2932    52733  CLINTON  Clinton          23.00\n",
      "CLINTON\n",
      "     Zip Code     City   County State  County Number  Area (sqkm)\n",
      "901     52732  CLINTON  Clinton    IA             23       310.70\n",
      "\n",
      "      Zip Code       City County  County Number\n",
      "28125    52084  DAVENPORT  Scott          82.00\n",
      "DAVENPORT\n",
      "     Zip Code       City County State  County Number  Area (sqkm)\n",
      "934     52801  DAVENPORT  Scott    IA             82         1.36\n",
      "935     52802  DAVENPORT  Scott    IA             82        29.29\n",
      "936     52803  DAVENPORT  Scott    IA             82        14.07\n",
      "937     52804  DAVENPORT  Scott    IA             82        88.86\n",
      "938     52806  DAVENPORT  Scott    IA             82        79.45\n",
      "939     52807  DAVENPORT  Scott    IA             82        76.47\n",
      "\n",
      "       Zip Code    City    County  County Number\n",
      "28205     712-2  DUNLAP       NaN            nan\n",
      "563285    712-2  DUNLAP  Harrison          43.00\n",
      "DUNLAP\n",
      "     Zip Code    City    County State  County Number  Area (sqkm)\n",
      "570     51529  DUNLAP  Harrison    IA             43       333.95\n",
      "\n",
      "      Zip Code          City County  County Number\n",
      "28899    52303  CEDAR RAPIDS   Linn          57.00\n",
      "CEDAR RAPIDS\n",
      "     Zip Code          City County State  County Number  Area (sqkm)\n",
      "805     52401  CEDAR RAPIDS   Linn    IA             57         3.46\n",
      "806     52402  CEDAR RAPIDS   Linn    IA             57        36.42\n",
      "807     52403  CEDAR RAPIDS   Linn    IA             57        69.52\n",
      "808     52404  CEDAR RAPIDS   Linn    IA             57       142.93\n",
      "809     52405  CEDAR RAPIDS   Linn    IA             57        38.49\n",
      "810     52411  CEDAR RAPIDS   Linn    IA             57        44.64\n",
      "\n",
      "      Zip Code        City      County  County Number\n",
      "29202    56201  BURLINGTON  Des Moines          29.00\n",
      "BURLINGTON\n",
      "     Zip Code        City      County State  County Number  Area (sqkm)\n",
      "859     52601  BURLINGTON  Des Moines    IA             29       312.03\n",
      "\n",
      "      Zip Code        City    County  County Number\n",
      "32683    52087  MANCHESTER  Delaware          28.00\n",
      "MANCHESTER\n",
      "     Zip Code        City    County State  County Number  Area (sqkm)\n",
      "658     52057  MANCHESTER  Delaware    IA             28       362.35\n",
      "\n",
      "       Zip Code      City    County  County Number\n",
      "395721    52036  DELAWARE  Delaware          28.00\n",
      "DELAWARE\n",
      "Empty DataFrame\n",
      "Columns: [Zip Code, City, County, State, County Number, Area (sqkm)]\n",
      "Index: []\n",
      "\n",
      "        Zip Code        City County  County Number\n",
      "2233970    50300  DES MOINES   Polk          77.00\n",
      "DES MOINES\n",
      "     Zip Code        City County State  County Number  Area (sqkm)\n",
      "190     50309  DES MOINES   Polk    IA             77         7.78\n",
      "191     50310  DES MOINES   Polk    IA             77        21.12\n",
      "192     50311  DES MOINES   Polk    IA             77         6.51\n",
      "193     50312  DES MOINES   Polk    IA             77        15.05\n",
      "194     50313  DES MOINES   Polk    IA             77        47.64\n",
      "195     50314  DES MOINES   Polk    IA             77         6.63\n",
      "196     50315  DES MOINES   Polk    IA             77        26.56\n",
      "197     50316  DES MOINES   Polk    IA             77         9.30\n",
      "198     50317  DES MOINES   Polk    IA             77        60.04\n",
      "199     50319  DES MOINES   Polk    IA             77         0.21\n",
      "200     50320  DES MOINES   Polk    IA             77        49.55\n",
      "201     50321  DES MOINES   Polk    IA             77        30.97\n",
      "\n"
     ]
    }
   ],
   "source": [
    "for i in z:\n",
    "    print df[['Zip Code', 'City', 'County', 'County Number']][df['Zip Code'] == i].drop_duplicates()\n",
    "    city = df['City'][df['Zip Code'] == i].drop_duplicates().iloc[0].upper()\n",
    "    print city\n",
    "    try:\n",
    "        print location_data[location_data['City']==city].drop_duplicates()\n",
    "    except:\n",
    "        print i, 'not in Iowa'\n",
    "    print"
   ]
  },
  {
   "cell_type": "markdown",
   "metadata": {},
   "source": [
    "Based on the above, we get a vague idea of what the zips are supposed to be"
   ]
  },
  {
   "cell_type": "code",
   "execution_count": 162,
   "metadata": {
    "ExecuteTime": {
     "end_time": "2016-10-11T22:46:57.935591",
     "start_time": "2016-10-11T22:46:53.314446"
    },
    "collapsed": false
   },
   "outputs": [],
   "source": [
    "corrected_zips = ['52403','51529', '52057','52804','0','52732','52601','50309']\n",
    "for i in range(len(z)):\n",
    "    df.ix[df['Zip Code']==z[i], 'Zip Code']=corrected_zips[i]"
   ]
  },
  {
   "cell_type": "code",
   "execution_count": 163,
   "metadata": {
    "ExecuteTime": {
     "end_time": "2016-10-11T22:46:58.056092",
     "start_time": "2016-10-11T22:46:57.942673"
    },
    "collapsed": false
   },
   "outputs": [
    {
     "name": "stdout",
     "output_type": "stream",
     "text": [
      "['0']\n"
     ]
    }
   ],
   "source": [
    "# Run the test again\n",
    "liquor_zips = df['Zip Code'].drop_duplicates().tolist()\n",
    "ref_zips = location_data['Zip Code'].astype(str).tolist()\n",
    "z = [x for x in liquor_zips if x not in ref_zips]\n",
    "print z"
   ]
  },
  {
   "cell_type": "code",
   "execution_count": 164,
   "metadata": {
    "ExecuteTime": {
     "end_time": "2016-10-11T22:47:04.936122",
     "start_time": "2016-10-11T22:47:03.004780"
    },
    "collapsed": false
   },
   "outputs": [],
   "source": [
    "df['Zip Code'] = df['Zip Code'].astype(int)"
   ]
  },
  {
   "cell_type": "markdown",
   "metadata": {},
   "source": [
    "Now we merge our location data to our liquor sales"
   ]
  },
  {
   "cell_type": "code",
   "execution_count": 165,
   "metadata": {
    "ExecuteTime": {
     "end_time": "2016-10-11T22:47:08.384602",
     "start_time": "2016-10-11T22:47:04.938516"
    },
    "collapsed": false
   },
   "outputs": [],
   "source": [
    "df2 = df.copy()\n",
    "df2.drop(['County Number', 'City', 'County'], axis=1, inplace=True)\n",
    "df2 = df2.merge(location_data, how='left', on='Zip Code')\n",
    "df2.drop(['State'], axis=1, inplace=True)"
   ]
  },
  {
   "cell_type": "code",
   "execution_count": 166,
   "metadata": {
    "ExecuteTime": {
     "end_time": "2016-10-11T22:47:08.458902",
     "start_time": "2016-10-11T22:47:08.387757"
    },
    "collapsed": false
   },
   "outputs": [
    {
     "data": {
      "text/html": [
       "<div>\n",
       "<table border=\"1\" class=\"dataframe\">\n",
       "  <thead>\n",
       "    <tr style=\"text-align: right;\">\n",
       "      <th></th>\n",
       "      <th>Date</th>\n",
       "      <th>Store Number</th>\n",
       "      <th>Zip Code</th>\n",
       "      <th>Category</th>\n",
       "      <th>Category Name</th>\n",
       "      <th>Vendor Number</th>\n",
       "      <th>Item Number</th>\n",
       "      <th>Item Description</th>\n",
       "      <th>Bottle Volume (ml)</th>\n",
       "      <th>State Bottle Cost</th>\n",
       "      <th>State Bottle Retail</th>\n",
       "      <th>Bottles Sold</th>\n",
       "      <th>Sale (Dollars)</th>\n",
       "      <th>Volume Sold (Liters)</th>\n",
       "      <th>Volume Sold (Gallons)</th>\n",
       "      <th>City</th>\n",
       "      <th>County</th>\n",
       "      <th>County Number</th>\n",
       "      <th>Area (sqkm)</th>\n",
       "    </tr>\n",
       "  </thead>\n",
       "  <tbody>\n",
       "    <tr>\n",
       "      <th>0</th>\n",
       "      <td>2016-03-31</td>\n",
       "      <td>5029</td>\n",
       "      <td>52806</td>\n",
       "      <td>1,022,100.00</td>\n",
       "      <td>TEQUILA</td>\n",
       "      <td>370</td>\n",
       "      <td>87152</td>\n",
       "      <td>Avion Silver</td>\n",
       "      <td>375</td>\n",
       "      <td>$9.99</td>\n",
       "      <td>$14.99</td>\n",
       "      <td>12</td>\n",
       "      <td>$179.88</td>\n",
       "      <td>4.50</td>\n",
       "      <td>1.19</td>\n",
       "      <td>DAVENPORT</td>\n",
       "      <td>Scott</td>\n",
       "      <td>82.00</td>\n",
       "      <td>79.45</td>\n",
       "    </tr>\n",
       "    <tr>\n",
       "      <th>1</th>\n",
       "      <td>2016-03-31</td>\n",
       "      <td>5029</td>\n",
       "      <td>52806</td>\n",
       "      <td>1,022,100.00</td>\n",
       "      <td>TEQUILA</td>\n",
       "      <td>395</td>\n",
       "      <td>89197</td>\n",
       "      <td>Jose Cuervo Especial Reposado Tequila</td>\n",
       "      <td>1000</td>\n",
       "      <td>$12.50</td>\n",
       "      <td>$18.75</td>\n",
       "      <td>2</td>\n",
       "      <td>$37.50</td>\n",
       "      <td>2.00</td>\n",
       "      <td>0.53</td>\n",
       "      <td>DAVENPORT</td>\n",
       "      <td>Scott</td>\n",
       "      <td>82.00</td>\n",
       "      <td>79.45</td>\n",
       "    </tr>\n",
       "    <tr>\n",
       "      <th>2</th>\n",
       "      <td>2016-03-31</td>\n",
       "      <td>4959</td>\n",
       "      <td>50613</td>\n",
       "      <td>1,071,100.00</td>\n",
       "      <td>AMERICAN COCKTAILS</td>\n",
       "      <td>380</td>\n",
       "      <td>63959</td>\n",
       "      <td>Uv Blue Raspberry Lemonade Pet</td>\n",
       "      <td>1750</td>\n",
       "      <td>$5.97</td>\n",
       "      <td>$8.96</td>\n",
       "      <td>6</td>\n",
       "      <td>$53.76</td>\n",
       "      <td>10.50</td>\n",
       "      <td>2.77</td>\n",
       "      <td>CEDAR FALLS</td>\n",
       "      <td>Black Hawk</td>\n",
       "      <td>7.00</td>\n",
       "      <td>329.97</td>\n",
       "    </tr>\n",
       "    <tr>\n",
       "      <th>3</th>\n",
       "      <td>2016-03-31</td>\n",
       "      <td>2190</td>\n",
       "      <td>50314</td>\n",
       "      <td>1,031,200.00</td>\n",
       "      <td>VODKA FLAVORED</td>\n",
       "      <td>205</td>\n",
       "      <td>40597</td>\n",
       "      <td>New Amsterdam Red Berry</td>\n",
       "      <td>200</td>\n",
       "      <td>$2.24</td>\n",
       "      <td>$3.36</td>\n",
       "      <td>48</td>\n",
       "      <td>$161.28</td>\n",
       "      <td>9.60</td>\n",
       "      <td>2.54</td>\n",
       "      <td>DES MOINES</td>\n",
       "      <td>Polk</td>\n",
       "      <td>77.00</td>\n",
       "      <td>6.63</td>\n",
       "    </tr>\n",
       "    <tr>\n",
       "      <th>4</th>\n",
       "      <td>2016-03-31</td>\n",
       "      <td>5240</td>\n",
       "      <td>52358</td>\n",
       "      <td>1,081,200.00</td>\n",
       "      <td>CREAM LIQUEURS</td>\n",
       "      <td>305</td>\n",
       "      <td>73055</td>\n",
       "      <td>Rumchata</td>\n",
       "      <td>750</td>\n",
       "      <td>$12.50</td>\n",
       "      <td>$18.75</td>\n",
       "      <td>6</td>\n",
       "      <td>$112.50</td>\n",
       "      <td>4.50</td>\n",
       "      <td>1.19</td>\n",
       "      <td>WEST BRANCH</td>\n",
       "      <td>Cedar</td>\n",
       "      <td>16.00</td>\n",
       "      <td>200.94</td>\n",
       "    </tr>\n",
       "  </tbody>\n",
       "</table>\n",
       "</div>"
      ],
      "text/plain": [
       "        Date  Store Number  Zip Code     Category       Category Name  \\\n",
       "0 2016-03-31          5029     52806 1,022,100.00             TEQUILA   \n",
       "1 2016-03-31          5029     52806 1,022,100.00             TEQUILA   \n",
       "2 2016-03-31          4959     50613 1,071,100.00  AMERICAN COCKTAILS   \n",
       "3 2016-03-31          2190     50314 1,031,200.00      VODKA FLAVORED   \n",
       "4 2016-03-31          5240     52358 1,081,200.00      CREAM LIQUEURS   \n",
       "\n",
       "   Vendor Number  Item Number                       Item Description  \\\n",
       "0            370        87152                           Avion Silver   \n",
       "1            395        89197  Jose Cuervo Especial Reposado Tequila   \n",
       "2            380        63959         Uv Blue Raspberry Lemonade Pet   \n",
       "3            205        40597                New Amsterdam Red Berry   \n",
       "4            305        73055                               Rumchata   \n",
       "\n",
       "   Bottle Volume (ml) State Bottle Cost State Bottle Retail  Bottles Sold  \\\n",
       "0                 375             $9.99              $14.99            12   \n",
       "1                1000            $12.50              $18.75             2   \n",
       "2                1750             $5.97               $8.96             6   \n",
       "3                 200             $2.24               $3.36            48   \n",
       "4                 750            $12.50              $18.75             6   \n",
       "\n",
       "  Sale (Dollars)  Volume Sold (Liters)  Volume Sold (Gallons)         City  \\\n",
       "0        $179.88                  4.50                   1.19    DAVENPORT   \n",
       "1         $37.50                  2.00                   0.53    DAVENPORT   \n",
       "2         $53.76                 10.50                   2.77  CEDAR FALLS   \n",
       "3        $161.28                  9.60                   2.54   DES MOINES   \n",
       "4        $112.50                  4.50                   1.19  WEST BRANCH   \n",
       "\n",
       "       County  County Number  Area (sqkm)  \n",
       "0       Scott          82.00        79.45  \n",
       "1       Scott          82.00        79.45  \n",
       "2  Black Hawk           7.00       329.97  \n",
       "3        Polk          77.00         6.63  \n",
       "4       Cedar          16.00       200.94  "
      ]
     },
     "execution_count": 166,
     "metadata": {},
     "output_type": "execute_result"
    }
   ],
   "source": [
    "df2.head()"
   ]
  },
  {
   "cell_type": "raw",
   "metadata": {
    "ExecuteTime": {
     "end_time": "2016-10-11T09:23:40.875953",
     "start_time": "2016-10-11T09:23:40.864499"
    },
    "collapsed": false,
    "slideshow": {
     "slide_type": "fragment"
    }
   },
   "source": [
    "df2.dtypes"
   ]
  },
  {
   "cell_type": "code",
   "execution_count": 167,
   "metadata": {
    "ExecuteTime": {
     "end_time": "2016-10-11T22:47:08.475157",
     "start_time": "2016-10-11T22:47:08.462963"
    },
    "collapsed": false
   },
   "outputs": [],
   "source": [
    "# Write a function that cross references related columns and fills the data in where it's missing\n",
    "def fill_missing(related_cols, column, dataframe):\n",
    "    related_cols.remove(column)\n",
    "    reference = dataframe[related_cols][dataframe[column].isnull()].drop_duplicates()\n",
    "    for j in range(len(related_cols)):\n",
    "        col_1 = reference[related_cols[j]]\n",
    "        for i in col_1:\n",
    "            try:\n",
    "                x = dataframe[column][(dataframe[related_cols[j]]==i) & (dataframe[column].notnull())].drop_duplicates()\n",
    "                if len(x) < 2:\n",
    "                    #print 'Missing: {}, Reference: {}, Ref_value: {}, filler: {}'.\\\n",
    "                    #format(column, related_cols[j], i, x.iloc[0])\n",
    "                    value = x.iloc[0]\n",
    "                    dataframe.ix[(dataframe[related_cols[j]]==i) & (dataframe[column].isnull()), column] = value\n",
    "            except:\n",
    "                pass"
   ]
  },
  {
   "cell_type": "code",
   "execution_count": 168,
   "metadata": {
    "ExecuteTime": {
     "end_time": "2016-10-11T22:47:11.411853",
     "start_time": "2016-10-11T22:47:08.478644"
    },
    "collapsed": false,
    "scrolled": false
   },
   "outputs": [],
   "source": [
    "fill_missing(['Category', 'Category Name'], 'Category Name', df2)\n",
    "fill_missing(['Category', 'Category Name'], 'Category', df2)\n",
    "\n",
    "fill_missing(['Item Number', 'Item Description'], 'Item Description', df2)\n",
    "fill_missing(['Item Number', 'Item Description'], 'Item Number', df2)"
   ]
  },
  {
   "cell_type": "code",
   "execution_count": 169,
   "metadata": {
    "ExecuteTime": {
     "end_time": "2016-10-11T22:47:17.815087",
     "start_time": "2016-10-11T22:47:11.414817"
    },
    "collapsed": false
   },
   "outputs": [],
   "source": [
    "# Convert all dollar columns to floats\n",
    "df2['State Bottle Cost'] = df2['State Bottle Cost'].map(lambda x: x.strip('$')).astype(float)\n",
    "df2['State Bottle Retail'] = df2['State Bottle Retail'].map(lambda x: x.strip('$')).astype(float)\n",
    "df2['Sale (Dollars)'] = df2['Sale (Dollars)'].map(lambda x: x.strip('$')).astype(float)"
   ]
  },
  {
   "cell_type": "code",
   "execution_count": 170,
   "metadata": {
    "ExecuteTime": {
     "end_time": "2016-10-11T22:47:43.820247",
     "start_time": "2016-10-11T22:47:17.818364"
    },
    "collapsed": false
   },
   "outputs": [],
   "source": [
    "# Extract Month and Year\n",
    "df2['Month'] = df2['Date'].map(lambda x: x.month)\n",
    "df2['Year'] = df2['Date'].map(lambda x: x.year)"
   ]
  },
  {
   "cell_type": "code",
   "execution_count": 171,
   "metadata": {
    "ExecuteTime": {
     "end_time": "2016-10-11T22:47:50.216547",
     "start_time": "2016-10-11T22:47:43.823526"
    },
    "collapsed": false
   },
   "outputs": [],
   "source": [
    "df3 = df2.copy()\n",
    "\n",
    "# Aggregate sales and volume by zip code\n",
    "agg_sales = pd.pivot_table(df3, index=['Zip Code'], \\\n",
    "               values=['Bottles Sold', 'Volume Sold (Liters)', 'Sale (Dollars)'],\\\n",
    "                     aggfunc=sum).reset_index()\n",
    "df2 = df2.merge(agg_sales, how='left',on='Zip Code')\n",
    "\n",
    "# Get number of stores\n",
    "df3_gb = df2[['Zip Code','Store Number']].drop_duplicates()\n",
    "df3_gb = df3_gb.rename(columns={'Store Number': 'StoreCount'})\n",
    "df3_gb = df3_gb.groupby(['Zip Code']).count().reset_index()\n",
    "df2 = df2.merge(df3_gb, how='left', on='Zip Code')"
   ]
  },
  {
   "cell_type": "code",
   "execution_count": 172,
   "metadata": {
    "ExecuteTime": {
     "end_time": "2016-10-11T22:47:50.226511",
     "start_time": "2016-10-11T22:47:50.220015"
    },
    "collapsed": false
   },
   "outputs": [
    {
     "data": {
      "text/plain": [
       "array(['Date', 'Store Number', 'Zip Code', 'Category', 'Category Name',\n",
       "       'Vendor Number', 'Item Number', 'Item Description',\n",
       "       'Bottle Volume (ml)', 'State Bottle Cost', 'State Bottle Retail',\n",
       "       'Bottles Sold_x', 'Sale (Dollars)_x', 'Volume Sold (Liters)_x',\n",
       "       'Volume Sold (Gallons)', 'City', 'County', 'County Number',\n",
       "       'Area (sqkm)', 'Month', 'Year', 'Bottles Sold_y',\n",
       "       'Sale (Dollars)_y', 'Volume Sold (Liters)_y', 'StoreCount'], dtype=object)"
      ]
     },
     "execution_count": 172,
     "metadata": {},
     "output_type": "execute_result"
    }
   ],
   "source": [
    "df2.columns.values"
   ]
  },
  {
   "cell_type": "code",
   "execution_count": 173,
   "metadata": {
    "ExecuteTime": {
     "end_time": "2016-10-11T22:47:50.238822",
     "start_time": "2016-10-11T22:47:50.229293"
    },
    "collapsed": false
   },
   "outputs": [],
   "source": [
    "# Rename the columns\n",
    "df2.columns = ['Date', 'Store Number', 'Zip Code', 'Category', 'Category Name',\\\n",
    "       'Vendor Number', 'Item Number', 'Item Description',\\\n",
    "       'Bottle Volume (ml)', 'State Bottle Cost', 'State Bottle Retail',\\\n",
    "       'Bottles Sold', 'Sale (Dollars)', 'Volume Sold (Liters)',\\\n",
    "       'Volume Sold (Gallons)', 'City', 'County', 'County Number', 'Area (sqkm)','Month',\\\n",
    "       'Year', 'total bottles sold', 'total sales', 'total volume sold', 'Store Count']"
   ]
  },
  {
   "cell_type": "code",
   "execution_count": 174,
   "metadata": {
    "ExecuteTime": {
     "end_time": "2016-10-11T22:47:50.267001",
     "start_time": "2016-10-11T22:47:50.243100"
    },
    "collapsed": false
   },
   "outputs": [],
   "source": [
    "# Adding a column for dollar per litre\n",
    "df2['Dollar per litre'] = df2['total sales']/df2['total volume sold']"
   ]
  },
  {
   "cell_type": "code",
   "execution_count": 175,
   "metadata": {
    "ExecuteTime": {
     "end_time": "2016-10-11T22:47:50.330495",
     "start_time": "2016-10-11T22:47:50.270165"
    },
    "collapsed": false
   },
   "outputs": [],
   "source": [
    "# Adding a column for stores per sqkm\n",
    "df2['Stores per sqkm'] = df2['Store Count']/df2['Area (sqkm)']"
   ]
  },
  {
   "cell_type": "markdown",
   "metadata": {},
   "source": [
    "\n",
    "# Explore the data\n",
    "\n",
    "Perform some exploratory statistical analysis and make some plots, such as histograms of transaction totals, bottles sold, etc."
   ]
  },
  {
   "cell_type": "markdown",
   "metadata": {},
   "source": [
    "For the purposes of our market research, we will only be considering full years' data.  \n",
    "Any year which is not a full year will be dropped.  \n",
    "We would also like to aggregate sales by zip code and dollar per litre by zip code.  \n",
    "We also want to know how many stores there are per zip code."
   ]
  },
  {
   "cell_type": "code",
   "execution_count": 176,
   "metadata": {
    "ExecuteTime": {
     "end_time": "2016-10-11T22:48:30.355279",
     "start_time": "2016-10-11T22:48:29.767832"
    },
    "collapsed": false
   },
   "outputs": [
    {
     "data": {
      "text/plain": [
       "[2016]"
      ]
     },
     "execution_count": 176,
     "metadata": {},
     "output_type": "execute_result"
    }
   ],
   "source": [
    "# Find all the full years in the data set\n",
    "not_full_years = [i for i in df2['Year'].unique() if len(df2['Month'][df2['Year']==i].unique()) != 12]\n",
    "not_full_years"
   ]
  },
  {
   "cell_type": "code",
   "execution_count": 177,
   "metadata": {
    "ExecuteTime": {
     "end_time": "2016-10-11T22:48:32.919051",
     "start_time": "2016-10-11T22:48:30.403697"
    },
    "collapsed": false
   },
   "outputs": [],
   "source": [
    "# We're just interested in the following columns\n",
    "col_required = ['Zip Code',\\\n",
    "                'total bottles sold', 'total sales', 'total volume sold', 'Store Count',\\\n",
    "                'Dollar per litre', 'Area (sqkm)', 'Stores per sqkm', 'Year']\n",
    "full_df = df2\n",
    "sales_df = full_df.copy()"
   ]
  },
  {
   "cell_type": "code",
   "execution_count": 178,
   "metadata": {
    "ExecuteTime": {
     "end_time": "2016-10-11T22:48:35.140894",
     "start_time": "2016-10-11T22:48:32.922299"
    },
    "collapsed": false
   },
   "outputs": [],
   "source": [
    "for i in not_full_years:\n",
    "    sales_df = sales_df.drop(sales_df[sales_df['Year']==i].index)\n",
    "sales_df = sales_df[sales_df['Year']==2015]\n",
    "sales_df = sales_df[col_required]"
   ]
  },
  {
   "cell_type": "markdown",
   "metadata": {},
   "source": [
    "# Mine the data\n",
    "Now you are ready to compute the variables you will use for your regression from the data. For example, you may want to\n",
    "compute total sales per store from Jan to March of 2015, mean price per bottle, etc. Refer to the readme for more ideas appropriate to your scenario.\n",
    "\n",
    "Pandas is your friend for this task. Take a look at the operations [here](http://pandas.pydata.org/pandas-docs/stable/groupby.html) for ideas on how to make the best use of pandas and feel free to search for blog and Stack Overflow posts to help you group data by certain variables and compute sums, means, etc. You may find it useful to create a new data frame to house this summary data."
   ]
  },
  {
   "cell_type": "markdown",
   "metadata": {},
   "source": [
    "Our hypothesis is that the demographics of an area would affect the liquor sales there.  \n",
    "Ideally, we would have wanted to combine our liquor sales data with the demographics data of the corresponding year.  \n",
    "We were unable to do that and have combined it with the demographics data that we were able to find.  \n",
    "- This may compromise our model and we should seek to improve it if possible"
   ]
  },
  {
   "cell_type": "code",
   "execution_count": 179,
   "metadata": {
    "ExecuteTime": {
     "end_time": "2016-10-11T22:48:35.177359",
     "start_time": "2016-10-11T22:48:35.143286"
    },
    "collapsed": false
   },
   "outputs": [
    {
     "data": {
      "text/html": [
       "<div>\n",
       "<table border=\"1\" class=\"dataframe\">\n",
       "  <thead>\n",
       "    <tr style=\"text-align: right;\">\n",
       "      <th></th>\n",
       "      <th>Zip Code</th>\n",
       "      <th>total bottles sold</th>\n",
       "      <th>total sales</th>\n",
       "      <th>total volume sold</th>\n",
       "      <th>Store Count</th>\n",
       "      <th>Dollar per litre</th>\n",
       "      <th>Area (sqkm)</th>\n",
       "      <th>Stores per sqkm</th>\n",
       "      <th>Year</th>\n",
       "    </tr>\n",
       "  </thead>\n",
       "  <tbody>\n",
       "    <tr>\n",
       "      <th>526986</th>\n",
       "      <td>50317</td>\n",
       "      <td>437940</td>\n",
       "      <td>4,420,837.63</td>\n",
       "      <td>307,951.73</td>\n",
       "      <td>20</td>\n",
       "      <td>14.36</td>\n",
       "      <td>60.04</td>\n",
       "      <td>0.33</td>\n",
       "      <td>2015</td>\n",
       "    </tr>\n",
       "    <tr>\n",
       "      <th>526987</th>\n",
       "      <td>50023</td>\n",
       "      <td>154376</td>\n",
       "      <td>2,240,424.82</td>\n",
       "      <td>142,226.27</td>\n",
       "      <td>9</td>\n",
       "      <td>15.75</td>\n",
       "      <td>57.42</td>\n",
       "      <td>0.16</td>\n",
       "      <td>2015</td>\n",
       "    </tr>\n",
       "    <tr>\n",
       "      <th>526988</th>\n",
       "      <td>50317</td>\n",
       "      <td>437940</td>\n",
       "      <td>4,420,837.63</td>\n",
       "      <td>307,951.73</td>\n",
       "      <td>20</td>\n",
       "      <td>14.36</td>\n",
       "      <td>60.04</td>\n",
       "      <td>0.33</td>\n",
       "      <td>2015</td>\n",
       "    </tr>\n",
       "    <tr>\n",
       "      <th>526989</th>\n",
       "      <td>51555</td>\n",
       "      <td>26693</td>\n",
       "      <td>292,601.73</td>\n",
       "      <td>22,003.52</td>\n",
       "      <td>3</td>\n",
       "      <td>13.30</td>\n",
       "      <td>410.14</td>\n",
       "      <td>0.01</td>\n",
       "      <td>2015</td>\n",
       "    </tr>\n",
       "    <tr>\n",
       "      <th>526990</th>\n",
       "      <td>50009</td>\n",
       "      <td>222839</td>\n",
       "      <td>2,963,462.19</td>\n",
       "      <td>208,620.46</td>\n",
       "      <td>9</td>\n",
       "      <td>14.21</td>\n",
       "      <td>65.21</td>\n",
       "      <td>0.14</td>\n",
       "      <td>2015</td>\n",
       "    </tr>\n",
       "  </tbody>\n",
       "</table>\n",
       "</div>"
      ],
      "text/plain": [
       "        Zip Code  total bottles sold  total sales  total volume sold  \\\n",
       "526986     50317              437940 4,420,837.63         307,951.73   \n",
       "526987     50023              154376 2,240,424.82         142,226.27   \n",
       "526988     50317              437940 4,420,837.63         307,951.73   \n",
       "526989     51555               26693   292,601.73          22,003.52   \n",
       "526990     50009              222839 2,963,462.19         208,620.46   \n",
       "\n",
       "        Store Count  Dollar per litre  Area (sqkm)  Stores per sqkm  Year  \n",
       "526986           20             14.36        60.04             0.33  2015  \n",
       "526987            9             15.75        57.42             0.16  2015  \n",
       "526988           20             14.36        60.04             0.33  2015  \n",
       "526989            3             13.30       410.14             0.01  2015  \n",
       "526990            9             14.21        65.21             0.14  2015  "
      ]
     },
     "execution_count": 179,
     "metadata": {},
     "output_type": "execute_result"
    }
   ],
   "source": [
    "sales_df.head()"
   ]
  },
  {
   "cell_type": "code",
   "execution_count": 180,
   "metadata": {
    "ExecuteTime": {
     "end_time": "2016-10-11T22:48:45.233112",
     "start_time": "2016-10-11T22:48:45.205981"
    },
    "collapsed": false
   },
   "outputs": [],
   "source": [
    "# Read in our demographics data\n",
    "file_path_name = base_path + 'IowaZIPdemos.csv'\n",
    "demo_df = load_file(file_path_name)"
   ]
  },
  {
   "cell_type": "code",
   "execution_count": 181,
   "metadata": {
    "ExecuteTime": {
     "end_time": "2016-10-11T22:48:45.906106",
     "start_time": "2016-10-11T22:48:45.881173"
    },
    "collapsed": false
   },
   "outputs": [],
   "source": [
    "# Remove any rows with null values\n",
    "# Convert zips to integers for easy comparison\n",
    "demo_df.dropna(inplace=True)\n",
    "demo_df['Area'] = demo_df['Area'].astype(int)"
   ]
  },
  {
   "cell_type": "code",
   "execution_count": 182,
   "metadata": {
    "ExecuteTime": {
     "end_time": "2016-10-11T22:48:46.719624",
     "start_time": "2016-10-11T22:48:46.709437"
    },
    "collapsed": false
   },
   "outputs": [],
   "source": [
    "demo_cols = demo_df.columns.values.tolist()\n",
    "\n",
    "object_cols = [i for i in demo_cols if demo_df[i].dtype == 'O']"
   ]
  },
  {
   "cell_type": "code",
   "execution_count": 183,
   "metadata": {
    "ExecuteTime": {
     "end_time": "2016-10-11T22:48:48.664752",
     "start_time": "2016-10-11T22:48:48.451553"
    },
    "collapsed": false
   },
   "outputs": [],
   "source": [
    "# Define a function to remove symbols and convert numbers to floats\n",
    "def rem_symbols(x):\n",
    "    for i in [',', '%', '$', '-']:\n",
    "        x = x.replace(i, '')\n",
    "    try:\n",
    "        return float(x)\n",
    "    except:\n",
    "        print x\n",
    "    \n",
    "for i in object_cols:\n",
    "    demo_df[i] = demo_df[i].map(rem_symbols)"
   ]
  },
  {
   "cell_type": "code",
   "execution_count": 184,
   "metadata": {
    "ExecuteTime": {
     "end_time": "2016-10-11T22:48:53.588047",
     "start_time": "2016-10-11T22:48:52.390880"
    },
    "collapsed": false
   },
   "outputs": [],
   "source": [
    "model_df = sales_df.merge(demo_df, how='left', left_on='Zip Code', right_on='Area')"
   ]
  },
  {
   "cell_type": "markdown",
   "metadata": {},
   "source": [
    "# Refine the data\n",
    "Look for any statistical relationships, correlations, or other relevant properties of the dataset."
   ]
  },
  {
   "cell_type": "code",
   "execution_count": 185,
   "metadata": {
    "ExecuteTime": {
     "end_time": "2016-10-11T22:49:15.370349",
     "start_time": "2016-10-11T22:48:54.781272"
    },
    "collapsed": false
   },
   "outputs": [
    {
     "data": {
      "image/png": "[encoded data removed]",
      "text/plain": [
       "<matplotlib.figure.Figure at 0x117a29610>"
      ]
     },
     "metadata": {},
     "output_type": "display_data"
    }
   ],
   "source": [
    "fig, ax = plt.subplots(figsize=(4,10));\n",
    "sns.heatmap(model_df.corr()[['total sales']].iloc[8:]);"
   ]
  },
  {
   "cell_type": "code",
   "execution_count": 186,
   "metadata": {
    "ExecuteTime": {
     "end_time": "2016-10-11T22:49:17.894455",
     "start_time": "2016-10-11T22:49:15.376296"
    },
    "collapsed": false
   },
   "outputs": [
    {
     "data": {
      "image/png": "[encoded data removed]",
      "text/plain": [
       "<matplotlib.figure.Figure at 0x1171c3510>"
      ]
     },
     "metadata": {},
     "output_type": "display_data"
    }
   ],
   "source": [
    "model_df['total sales'].hist(bins=np.arange(100000,max(model_df['total sales']),100000)+0.5);\n",
    "plt.title('Total sales');\n",
    "plt.xlabel('Total sales');\n",
    "plt.ylabel('Frequency');\n",
    "plt.xticks(np.arange(100000,max(model_df['total sales']),100000),rotation=45);"
   ]
  },
  {
   "cell_type": "code",
   "execution_count": 187,
   "metadata": {
    "ExecuteTime": {
     "end_time": "2016-10-11T22:49:32.416635",
     "start_time": "2016-10-11T22:49:17.897289"
    },
    "collapsed": false
   },
   "outputs": [
    {
     "data": {
      "image/png": "[encoded data removed]",
      "text/plain": [
       "<matplotlib.figure.Figure at 0x117270f90>"
      ]
     },
     "metadata": {},
     "output_type": "display_data"
    }
   ],
   "source": [
    "fig, ax = plt.subplots(figsize=(4,10));\n",
    "sns.heatmap(model_df.corr()[['Dollar per litre']].iloc[8:]);"
   ]
  },
  {
   "cell_type": "code",
   "execution_count": 188,
   "metadata": {
    "ExecuteTime": {
     "end_time": "2016-10-11T22:49:33.887159",
     "start_time": "2016-10-11T22:49:32.422980"
    },
    "collapsed": false
   },
   "outputs": [
    {
     "data": {
      "image/png": "[encoded data removed]",
      "text/plain": [
       "<matplotlib.figure.Figure at 0x11a8af7d0>"
      ]
     },
     "metadata": {},
     "output_type": "display_data"
    }
   ],
   "source": [
    "model_df['Dollar per litre'].hist(bins=np.arange(min(model_df['Dollar per litre']).round(),\\\n",
    "                                                 max(model_df['Dollar per litre']).round(),1)+0.5);\n",
    "plt.title('Price per litre');\n",
    "plt.xlabel('Price per litre');\n",
    "plt.ylabel('Frequency');\n",
    "plt.xticks(np.arange(min(model_df['Dollar per litre']).round(),\\\n",
    "                                                 max(model_df['Dollar per litre']).round(),1),rotation=45);"
   ]
  },
  {
   "cell_type": "code",
   "execution_count": 189,
   "metadata": {
    "ExecuteTime": {
     "end_time": "2016-10-11T22:49:34.818576",
     "start_time": "2016-10-11T22:49:33.891692"
    },
    "collapsed": false
   },
   "outputs": [],
   "source": [
    "# Remove outliers in sales that are 3 std away from the median\n",
    "sales_median = model_df['total sales'].median()\n",
    "sales_std = model_df['total sales'].std()\n",
    "model_df = model_df[abs(model_df['total sales'] - sales_median) <= 3*sales_std]"
   ]
  },
  {
   "cell_type": "code",
   "execution_count": 190,
   "metadata": {
    "ExecuteTime": {
     "end_time": "2016-10-11T22:49:35.763416",
     "start_time": "2016-10-11T22:49:34.821500"
    },
    "collapsed": false
   },
   "outputs": [],
   "source": [
    "# Remove outliers in dollar per litre that are 3 std away from the median\n",
    "dollar_median = model_df['Dollar per litre'].median()\n",
    "dollar_std = model_df['Dollar per litre'].std()\n",
    "model_df = model_df[abs(model_df['Dollar per litre'] - dollar_median) <= 3*dollar_std]"
   ]
  },
  {
   "cell_type": "code",
   "execution_count": 191,
   "metadata": {
    "ExecuteTime": {
     "end_time": "2016-10-11T22:49:37.823981",
     "start_time": "2016-10-11T22:49:35.766496"
    },
    "collapsed": false
   },
   "outputs": [
    {
     "data": {
      "image/png": "[encoded data removed]",
      "text/plain": [
       "<matplotlib.figure.Figure at 0x117191410>"
      ]
     },
     "metadata": {},
     "output_type": "display_data"
    }
   ],
   "source": [
    "model_df['total sales'].hist(bins=np.arange(100000,max(model_df['total sales']),100000)+0.5);\n",
    "plt.title('Total sales');\n",
    "plt.xlabel('Total sales');\n",
    "plt.ylabel('Frequency');\n",
    "plt.xticks(np.arange(100000,max(model_df['total sales']),100000),rotation=45);"
   ]
  },
  {
   "cell_type": "code",
   "execution_count": 192,
   "metadata": {
    "ExecuteTime": {
     "end_time": "2016-10-11T22:49:38.780751",
     "start_time": "2016-10-11T22:49:37.827256"
    },
    "collapsed": false
   },
   "outputs": [
    {
     "data": {
      "image/png": "[encoded data removed]",
      "text/plain": [
       "<matplotlib.figure.Figure at 0x117302690>"
      ]
     },
     "metadata": {},
     "output_type": "display_data"
    }
   ],
   "source": [
    "model_df['Dollar per litre'].hist(bins=np.arange(min(model_df['Dollar per litre']).round(),\\\n",
    "                                                 max(model_df['Dollar per litre']).round(),1)+0.5);\n",
    "plt.title('Price per litre');\n",
    "plt.xlabel('Price per litre');\n",
    "plt.ylabel('Frequency');"
   ]
  },
  {
   "cell_type": "markdown",
   "metadata": {},
   "source": [
    "# Build your models\n",
    "\n",
    "Using scikit-learn or statsmodels, build the necessary models for your scenario. Evaluate model fit."
   ]
  },
  {
   "cell_type": "code",
   "execution_count": 193,
   "metadata": {
    "ExecuteTime": {
     "end_time": "2016-10-11T22:49:38.789664",
     "start_time": "2016-10-11T22:49:38.784012"
    },
    "collapsed": false
   },
   "outputs": [
    {
     "name": "stdout",
     "output_type": "stream",
     "text": [
      "['Zip Code', 'total bottles sold', 'total sales', 'total volume sold', 'Store Count', 'Dollar per litre', 'Area (sqkm)', 'Stores per sqkm', 'Year', 'Area', 'Total Pop', 'Median HH Inc', 'Per Capita Inc', 'White', 'Afr Amer', 'Native Amer', 'Asian Amer', 'Pac Islander', 'Other', 'Bi- Multi-Racial', 'Hispanic or Latino', 'Med Age', '<5 years', '5-17 yrs', '18-20 yrs', '21-24 yrs', '25-34 yrs', '35-44 yrs', '45-54 yrs', '55-59 yrs', '60-64 yrs', '65-74 yrs', '78-84 yrs', '85+ yrs', '% P16+ in labor force', 'Total # Homes Owned', 'Med. Home Value', 'Tot Housing units', 'Owner occupied housing units', 'Renter occupied housing units', 'households', 'Family households', 'Married-couple family households', 'Single mother households', 'Nonfamily households', 'Single Occupancy', 'Avg HH Size', 'Avg Family Size', 'Pop Below Poverty Level', '% P25+ HS Grad', '% P25-54 BA+']\n"
     ]
    }
   ],
   "source": [
    "features = model_df.columns.values.tolist()\n",
    "print features"
   ]
  },
  {
   "cell_type": "code",
   "execution_count": 194,
   "metadata": {
    "ExecuteTime": {
     "end_time": "2016-10-11T22:49:38.799732",
     "start_time": "2016-10-11T22:49:38.793378"
    },
    "collapsed": false
   },
   "outputs": [],
   "source": [
    "drop_features = ['Zip Code', 'total bottles sold', 'total sales',\\\n",
    "                 'total volume sold', 'Store Count', 'Dollar per litre', 'Area (sqkm)', 'Stores per sqkm', 'Area']\n",
    "for i in drop_features:\n",
    "    features.remove(i)\n"
   ]
  },
  {
   "cell_type": "code",
   "execution_count": 195,
   "metadata": {
    "ExecuteTime": {
     "end_time": "2016-10-11T22:49:44.057244",
     "start_time": "2016-10-11T22:49:38.803529"
    },
    "collapsed": false
   },
   "outputs": [],
   "source": [
    "model_df.dropna(inplace=True)\n",
    "X = model_df[features]"
   ]
  },
  {
   "cell_type": "code",
   "execution_count": 196,
   "metadata": {
    "ExecuteTime": {
     "end_time": "2016-10-11T22:51:36.441868",
     "start_time": "2016-10-11T22:49:44.060666"
    },
    "collapsed": false,
    "scrolled": true
   },
   "outputs": [
    {
     "name": "stdout",
     "output_type": "stream",
     "text": [
      "r-squared: 0.868193788051\n",
      "alpha applied: 10.0\n"
     ]
    },
    {
     "data": {
      "image/png": "[encoded data removed]",
      "text/plain": [
       "<matplotlib.figure.Figure at 0x114d31fd0>"
      ]
     },
     "metadata": {},
     "output_type": "display_data"
    }
   ],
   "source": [
    "y_sales = model_df['total sales']\n",
    "ridge = linear_model.RidgeCV(cv=5)\n",
    "model_sales = ridge.fit(X,y_sales)\n",
    "print 'r-squared: {}'.format(model_sales.score(X,y_sales))\n",
    "print 'alpha applied: {}'.format(model_sales.alpha_)\n",
    "\n",
    "feature_imp = pd.DataFrame([features, model_sales.coef_.tolist()], index=['feature', 'coef']).T\n",
    "feature_imp['coef'] = feature_imp['coef'].astype(float)\n",
    "feature_imp = feature_imp.sort_values(by='coef', ascending=False)\n",
    "\n",
    "predicted_sales = model_sales.predict(X)\n",
    "fig, ax = plt.subplots(figsize=(8,8));\n",
    "plt.scatter(predicted_sales, y_sales);\n",
    "plt.plot([min(y_sales), max(y_sales)], [min(y_sales), max(y_sales)], '-');\n",
    "plt.title('Predicted and actual sales');\n",
    "plt.xlabel('Predicted sales');\n",
    "plt.ylabel('Actual sales');"
   ]
  },
  {
   "cell_type": "code",
   "execution_count": 197,
   "metadata": {
    "ExecuteTime": {
     "end_time": "2016-10-11T22:53:24.881171",
     "start_time": "2016-10-11T22:51:36.446070"
    },
    "collapsed": false
   },
   "outputs": [
    {
     "name": "stdout",
     "output_type": "stream",
     "text": [
      "r-squared: 0.718162145379\n",
      "alpha applied: 10.0\n"
     ]
    },
    {
     "data": {
      "image/png": "[encoded data removed]",
      "text/plain": [
       "<matplotlib.figure.Figure at 0x11aa2b550>"
      ]
     },
     "metadata": {},
     "output_type": "display_data"
    }
   ],
   "source": [
    "y_dollar = model_df['Dollar per litre']\n",
    "ridge2 = linear_model.RidgeCV(cv=5)\n",
    "model_dollar = ridge2.fit(X,y_dollar)\n",
    "print 'r-squared: {}'.format(model_dollar.score(X,y_dollar))\n",
    "print 'alpha applied: {}'.format(model_dollar.alpha_)\n",
    "\n",
    "feature_imp_d = pd.DataFrame([features, model_dollar.coef_.tolist()], index=['feature', 'coef']).T\n",
    "feature_imp_d['coef'] = feature_imp_d['coef'].astype(float)\n",
    "feature_imp_d = feature_imp_d.sort_values(by='coef', ascending=False)\n",
    "\n",
    "predicted_dollar = model_dollar.predict(X)\n",
    "fig, ax = plt.subplots(figsize=(8,8));\n",
    "plt.scatter(predicted_dollar, y_dollar);\n",
    "plt.plot([min(y_dollar), max(y_dollar)], [min(y_dollar), max(y_dollar)], '-');\n",
    "plt.title('Predicted and actual dollar per litre');\n",
    "plt.xlabel('Predicted');\n",
    "plt.ylabel('Actual');"
   ]
  },
  {
   "cell_type": "code",
   "execution_count": 198,
   "metadata": {
    "ExecuteTime": {
     "end_time": "2016-10-11T22:53:24.922965",
     "start_time": "2016-10-11T22:53:24.884016"
    },
    "collapsed": false
   },
   "outputs": [],
   "source": [
    "predict_df = location_data.copy()\n",
    "predict_df['Year'] = 2016\n",
    "predict_df = predict_df.merge(demo_df, left_on='Zip Code', right_on='Area')"
   ]
  },
  {
   "cell_type": "code",
   "execution_count": 199,
   "metadata": {
    "ExecuteTime": {
     "end_time": "2016-10-11T22:53:25.030703",
     "start_time": "2016-10-11T22:53:24.925520"
    },
    "collapsed": false
   },
   "outputs": [
    {
     "data": {
      "text/html": [
       "<div>\n",
       "<table border=\"1\" class=\"dataframe\">\n",
       "  <thead>\n",
       "    <tr style=\"text-align: right;\">\n",
       "      <th></th>\n",
       "      <th>Zip Code</th>\n",
       "      <th>City</th>\n",
       "      <th>County</th>\n",
       "      <th>State</th>\n",
       "      <th>County Number</th>\n",
       "      <th>Area (sqkm)</th>\n",
       "      <th>Year</th>\n",
       "      <th>Area</th>\n",
       "      <th>Total Pop</th>\n",
       "      <th>Median HH Inc</th>\n",
       "      <th>...</th>\n",
       "      <th>Family households</th>\n",
       "      <th>Married-couple family households</th>\n",
       "      <th>Single mother households</th>\n",
       "      <th>Nonfamily households</th>\n",
       "      <th>Single Occupancy</th>\n",
       "      <th>Avg HH Size</th>\n",
       "      <th>Avg Family Size</th>\n",
       "      <th>Pop Below Poverty Level</th>\n",
       "      <th>% P25+ HS Grad</th>\n",
       "      <th>% P25-54 BA+</th>\n",
       "    </tr>\n",
       "  </thead>\n",
       "  <tbody>\n",
       "    <tr>\n",
       "      <th>0</th>\n",
       "      <td>50001</td>\n",
       "      <td>ACKWORTH</td>\n",
       "      <td>Warren</td>\n",
       "      <td>IA</td>\n",
       "      <td>91</td>\n",
       "      <td>62.80</td>\n",
       "      <td>2016</td>\n",
       "      <td>50001</td>\n",
       "      <td>615.00</td>\n",
       "      <td>43,611.00</td>\n",
       "      <td>...</td>\n",
       "      <td>174.00</td>\n",
       "      <td>158.00</td>\n",
       "      <td>12.00</td>\n",
       "      <td>42.00</td>\n",
       "      <td>34.00</td>\n",
       "      <td>2.85</td>\n",
       "      <td>3.21</td>\n",
       "      <td>711.00</td>\n",
       "      <td>88.80</td>\n",
       "      <td>9.70</td>\n",
       "    </tr>\n",
       "    <tr>\n",
       "      <th>1</th>\n",
       "      <td>50002</td>\n",
       "      <td>ADAIR</td>\n",
       "      <td>Guthrie</td>\n",
       "      <td>IA</td>\n",
       "      <td>39</td>\n",
       "      <td>279.20</td>\n",
       "      <td>2016</td>\n",
       "      <td>50002</td>\n",
       "      <td>1,339.00</td>\n",
       "      <td>32,500.00</td>\n",
       "      <td>...</td>\n",
       "      <td>370.00</td>\n",
       "      <td>333.00</td>\n",
       "      <td>30.00</td>\n",
       "      <td>205.00</td>\n",
       "      <td>185.00</td>\n",
       "      <td>2.25</td>\n",
       "      <td>2.86</td>\n",
       "      <td>1,232.00</td>\n",
       "      <td>87.60</td>\n",
       "      <td>11.20</td>\n",
       "    </tr>\n",
       "    <tr>\n",
       "      <th>2</th>\n",
       "      <td>50003</td>\n",
       "      <td>ADEL</td>\n",
       "      <td>Dallas</td>\n",
       "      <td>IA</td>\n",
       "      <td>25</td>\n",
       "      <td>298.09</td>\n",
       "      <td>2016</td>\n",
       "      <td>50003</td>\n",
       "      <td>5,835.00</td>\n",
       "      <td>47,649.00</td>\n",
       "      <td>...</td>\n",
       "      <td>1,615.00</td>\n",
       "      <td>1,390.00</td>\n",
       "      <td>162.00</td>\n",
       "      <td>619.00</td>\n",
       "      <td>529.00</td>\n",
       "      <td>2.58</td>\n",
       "      <td>3.08</td>\n",
       "      <td>5,816.00</td>\n",
       "      <td>91.00</td>\n",
       "      <td>24.00</td>\n",
       "    </tr>\n",
       "    <tr>\n",
       "      <th>3</th>\n",
       "      <td>50005</td>\n",
       "      <td>ALBION</td>\n",
       "      <td>Marshall</td>\n",
       "      <td>IA</td>\n",
       "      <td>64</td>\n",
       "      <td>69.62</td>\n",
       "      <td>2016</td>\n",
       "      <td>50005</td>\n",
       "      <td>851.00</td>\n",
       "      <td>41,786.00</td>\n",
       "      <td>...</td>\n",
       "      <td>251.00</td>\n",
       "      <td>208.00</td>\n",
       "      <td>28.00</td>\n",
       "      <td>69.00</td>\n",
       "      <td>56.00</td>\n",
       "      <td>2.66</td>\n",
       "      <td>2.98</td>\n",
       "      <td>917.00</td>\n",
       "      <td>80.80</td>\n",
       "      <td>12.70</td>\n",
       "    </tr>\n",
       "    <tr>\n",
       "      <th>4</th>\n",
       "      <td>50006</td>\n",
       "      <td>ALDEN</td>\n",
       "      <td>Hardin</td>\n",
       "      <td>IA</td>\n",
       "      <td>42</td>\n",
       "      <td>317.75</td>\n",
       "      <td>2016</td>\n",
       "      <td>50006</td>\n",
       "      <td>1,959.00</td>\n",
       "      <td>36,494.00</td>\n",
       "      <td>...</td>\n",
       "      <td>547.00</td>\n",
       "      <td>477.00</td>\n",
       "      <td>43.00</td>\n",
       "      <td>220.00</td>\n",
       "      <td>194.00</td>\n",
       "      <td>2.55</td>\n",
       "      <td>3.09</td>\n",
       "      <td>1,939.00</td>\n",
       "      <td>88.90</td>\n",
       "      <td>14.80</td>\n",
       "    </tr>\n",
       "  </tbody>\n",
       "</table>\n",
       "<p>5 rows × 49 columns</p>\n",
       "</div>"
      ],
      "text/plain": [
       "   Zip Code      City    County State  County Number  Area (sqkm)  Year  \\\n",
       "0     50001  ACKWORTH    Warren    IA             91        62.80  2016   \n",
       "1     50002     ADAIR   Guthrie    IA             39       279.20  2016   \n",
       "2     50003      ADEL    Dallas    IA             25       298.09  2016   \n",
       "3     50005    ALBION  Marshall    IA             64        69.62  2016   \n",
       "4     50006     ALDEN    Hardin    IA             42       317.75  2016   \n",
       "\n",
       "    Area  Total Pop  Median HH Inc      ...       Family households  \\\n",
       "0  50001     615.00      43,611.00      ...                  174.00   \n",
       "1  50002   1,339.00      32,500.00      ...                  370.00   \n",
       "2  50003   5,835.00      47,649.00      ...                1,615.00   \n",
       "3  50005     851.00      41,786.00      ...                  251.00   \n",
       "4  50006   1,959.00      36,494.00      ...                  547.00   \n",
       "\n",
       "   Married-couple family households  Single mother households  \\\n",
       "0                            158.00                     12.00   \n",
       "1                            333.00                     30.00   \n",
       "2                          1,390.00                    162.00   \n",
       "3                            208.00                     28.00   \n",
       "4                            477.00                     43.00   \n",
       "\n",
       "   Nonfamily households  Single Occupancy  Avg HH Size  Avg Family Size  \\\n",
       "0                 42.00             34.00         2.85             3.21   \n",
       "1                205.00            185.00         2.25             2.86   \n",
       "2                619.00            529.00         2.58             3.08   \n",
       "3                 69.00             56.00         2.66             2.98   \n",
       "4                220.00            194.00         2.55             3.09   \n",
       "\n",
       "   Pop Below Poverty Level  % P25+ HS Grad  % P25-54 BA+  \n",
       "0                   711.00           88.80          9.70  \n",
       "1                 1,232.00           87.60         11.20  \n",
       "2                 5,816.00           91.00         24.00  \n",
       "3                   917.00           80.80         12.70  \n",
       "4                 1,939.00           88.90         14.80  \n",
       "\n",
       "[5 rows x 49 columns]"
      ]
     },
     "execution_count": 199,
     "metadata": {},
     "output_type": "execute_result"
    }
   ],
   "source": [
    "predict_df.head()"
   ]
  },
  {
   "cell_type": "code",
   "execution_count": 200,
   "metadata": {
    "ExecuteTime": {
     "end_time": "2016-10-11T22:53:25.063297",
     "start_time": "2016-10-11T22:53:25.039490"
    },
    "collapsed": false
   },
   "outputs": [],
   "source": [
    "X_predict = predict_df[features]\n",
    "all_sales = model_sales.predict(X_predict)\n",
    "all_dollar_per_litre = model_dollar.predict(X_predict)"
   ]
  },
  {
   "cell_type": "code",
   "execution_count": 201,
   "metadata": {
    "ExecuteTime": {
     "end_time": "2016-10-11T22:53:25.076423",
     "start_time": "2016-10-11T22:53:25.067421"
    },
    "collapsed": false
   },
   "outputs": [],
   "source": [
    "all_sales = pd.DataFrame(all_sales, columns=['predicted total sales'])\n",
    "all_dollar_per_litre = pd.DataFrame(all_dollar_per_litre, columns=['predicted dollar/litre'])"
   ]
  },
  {
   "cell_type": "code",
   "execution_count": 202,
   "metadata": {
    "ExecuteTime": {
     "end_time": "2016-10-11T22:53:25.087722",
     "start_time": "2016-10-11T22:53:25.080576"
    },
    "collapsed": false
   },
   "outputs": [],
   "source": [
    "predict_df['predicted total sales'] = all_sales['predicted total sales']\n",
    "predict_df['predicted dollar/litre'] = all_dollar_per_litre['predicted dollar/litre']"
   ]
  },
  {
   "cell_type": "code",
   "execution_count": 203,
   "metadata": {
    "ExecuteTime": {
     "end_time": "2016-10-11T22:53:56.960078",
     "start_time": "2016-10-11T22:53:56.892551"
    },
    "collapsed": false
   },
   "outputs": [
    {
     "data": {
      "text/html": [
       "<div>\n",
       "<table border=\"1\" class=\"dataframe\">\n",
       "  <thead>\n",
       "    <tr style=\"text-align: right;\">\n",
       "      <th></th>\n",
       "      <th>Zip Code</th>\n",
       "      <th>City</th>\n",
       "      <th>County</th>\n",
       "      <th>State</th>\n",
       "      <th>County Number</th>\n",
       "      <th>Area (sqkm)</th>\n",
       "      <th>Year</th>\n",
       "      <th>Area</th>\n",
       "      <th>Total Pop</th>\n",
       "      <th>Median HH Inc</th>\n",
       "      <th>...</th>\n",
       "      <th>Single mother households</th>\n",
       "      <th>Nonfamily households</th>\n",
       "      <th>Single Occupancy</th>\n",
       "      <th>Avg HH Size</th>\n",
       "      <th>Avg Family Size</th>\n",
       "      <th>Pop Below Poverty Level</th>\n",
       "      <th>% P25+ HS Grad</th>\n",
       "      <th>% P25-54 BA+</th>\n",
       "      <th>predicted total sales</th>\n",
       "      <th>predicted dollar/litre</th>\n",
       "    </tr>\n",
       "  </thead>\n",
       "  <tbody>\n",
       "    <tr>\n",
       "      <th>0</th>\n",
       "      <td>50001</td>\n",
       "      <td>ACKWORTH</td>\n",
       "      <td>Warren</td>\n",
       "      <td>IA</td>\n",
       "      <td>91</td>\n",
       "      <td>62.80</td>\n",
       "      <td>2016</td>\n",
       "      <td>50001</td>\n",
       "      <td>615.00</td>\n",
       "      <td>43,611.00</td>\n",
       "      <td>...</td>\n",
       "      <td>12.00</td>\n",
       "      <td>42.00</td>\n",
       "      <td>34.00</td>\n",
       "      <td>2.85</td>\n",
       "      <td>3.21</td>\n",
       "      <td>711.00</td>\n",
       "      <td>88.80</td>\n",
       "      <td>9.70</td>\n",
       "      <td>313,301.38</td>\n",
       "      <td>12.28</td>\n",
       "    </tr>\n",
       "    <tr>\n",
       "      <th>1</th>\n",
       "      <td>50002</td>\n",
       "      <td>ADAIR</td>\n",
       "      <td>Guthrie</td>\n",
       "      <td>IA</td>\n",
       "      <td>39</td>\n",
       "      <td>279.20</td>\n",
       "      <td>2016</td>\n",
       "      <td>50002</td>\n",
       "      <td>1,339.00</td>\n",
       "      <td>32,500.00</td>\n",
       "      <td>...</td>\n",
       "      <td>30.00</td>\n",
       "      <td>205.00</td>\n",
       "      <td>185.00</td>\n",
       "      <td>2.25</td>\n",
       "      <td>2.86</td>\n",
       "      <td>1,232.00</td>\n",
       "      <td>87.60</td>\n",
       "      <td>11.20</td>\n",
       "      <td>-182,908.32</td>\n",
       "      <td>13.04</td>\n",
       "    </tr>\n",
       "    <tr>\n",
       "      <th>2</th>\n",
       "      <td>50003</td>\n",
       "      <td>ADEL</td>\n",
       "      <td>Dallas</td>\n",
       "      <td>IA</td>\n",
       "      <td>25</td>\n",
       "      <td>298.09</td>\n",
       "      <td>2016</td>\n",
       "      <td>50003</td>\n",
       "      <td>5,835.00</td>\n",
       "      <td>47,649.00</td>\n",
       "      <td>...</td>\n",
       "      <td>162.00</td>\n",
       "      <td>619.00</td>\n",
       "      <td>529.00</td>\n",
       "      <td>2.58</td>\n",
       "      <td>3.08</td>\n",
       "      <td>5,816.00</td>\n",
       "      <td>91.00</td>\n",
       "      <td>24.00</td>\n",
       "      <td>1,168,210.19</td>\n",
       "      <td>13.37</td>\n",
       "    </tr>\n",
       "    <tr>\n",
       "      <th>3</th>\n",
       "      <td>50005</td>\n",
       "      <td>ALBION</td>\n",
       "      <td>Marshall</td>\n",
       "      <td>IA</td>\n",
       "      <td>64</td>\n",
       "      <td>69.62</td>\n",
       "      <td>2016</td>\n",
       "      <td>50005</td>\n",
       "      <td>851.00</td>\n",
       "      <td>41,786.00</td>\n",
       "      <td>...</td>\n",
       "      <td>28.00</td>\n",
       "      <td>69.00</td>\n",
       "      <td>56.00</td>\n",
       "      <td>2.66</td>\n",
       "      <td>2.98</td>\n",
       "      <td>917.00</td>\n",
       "      <td>80.80</td>\n",
       "      <td>12.70</td>\n",
       "      <td>-545,807.73</td>\n",
       "      <td>12.01</td>\n",
       "    </tr>\n",
       "    <tr>\n",
       "      <th>4</th>\n",
       "      <td>50006</td>\n",
       "      <td>ALDEN</td>\n",
       "      <td>Hardin</td>\n",
       "      <td>IA</td>\n",
       "      <td>42</td>\n",
       "      <td>317.75</td>\n",
       "      <td>2016</td>\n",
       "      <td>50006</td>\n",
       "      <td>1,959.00</td>\n",
       "      <td>36,494.00</td>\n",
       "      <td>...</td>\n",
       "      <td>43.00</td>\n",
       "      <td>220.00</td>\n",
       "      <td>194.00</td>\n",
       "      <td>2.55</td>\n",
       "      <td>3.09</td>\n",
       "      <td>1,939.00</td>\n",
       "      <td>88.90</td>\n",
       "      <td>14.80</td>\n",
       "      <td>105,146.09</td>\n",
       "      <td>12.83</td>\n",
       "    </tr>\n",
       "  </tbody>\n",
       "</table>\n",
       "<p>5 rows × 51 columns</p>\n",
       "</div>"
      ],
      "text/plain": [
       "   Zip Code      City    County State  County Number  Area (sqkm)  Year  \\\n",
       "0     50001  ACKWORTH    Warren    IA             91        62.80  2016   \n",
       "1     50002     ADAIR   Guthrie    IA             39       279.20  2016   \n",
       "2     50003      ADEL    Dallas    IA             25       298.09  2016   \n",
       "3     50005    ALBION  Marshall    IA             64        69.62  2016   \n",
       "4     50006     ALDEN    Hardin    IA             42       317.75  2016   \n",
       "\n",
       "    Area  Total Pop  Median HH Inc           ...            \\\n",
       "0  50001     615.00      43,611.00           ...             \n",
       "1  50002   1,339.00      32,500.00           ...             \n",
       "2  50003   5,835.00      47,649.00           ...             \n",
       "3  50005     851.00      41,786.00           ...             \n",
       "4  50006   1,959.00      36,494.00           ...             \n",
       "\n",
       "   Single mother households  Nonfamily households  Single Occupancy  \\\n",
       "0                     12.00                 42.00             34.00   \n",
       "1                     30.00                205.00            185.00   \n",
       "2                    162.00                619.00            529.00   \n",
       "3                     28.00                 69.00             56.00   \n",
       "4                     43.00                220.00            194.00   \n",
       "\n",
       "   Avg HH Size  Avg Family Size  Pop Below Poverty Level  % P25+ HS Grad  \\\n",
       "0         2.85             3.21                   711.00           88.80   \n",
       "1         2.25             2.86                 1,232.00           87.60   \n",
       "2         2.58             3.08                 5,816.00           91.00   \n",
       "3         2.66             2.98                   917.00           80.80   \n",
       "4         2.55             3.09                 1,939.00           88.90   \n",
       "\n",
       "   % P25-54 BA+  predicted total sales  predicted dollar/litre  \n",
       "0          9.70             313,301.38                   12.28  \n",
       "1         11.20            -182,908.32                   13.04  \n",
       "2         24.00           1,168,210.19                   13.37  \n",
       "3         12.70            -545,807.73                   12.01  \n",
       "4         14.80             105,146.09                   12.83  \n",
       "\n",
       "[5 rows x 51 columns]"
      ]
     },
     "execution_count": 203,
     "metadata": {},
     "output_type": "execute_result"
    }
   ],
   "source": [
    "predict_df.head()"
   ]
  },
  {
   "cell_type": "code",
   "execution_count": 204,
   "metadata": {
    "ExecuteTime": {
     "end_time": "2016-10-11T22:54:00.311999",
     "start_time": "2016-10-11T22:54:00.306484"
    },
    "collapsed": false
   },
   "outputs": [],
   "source": [
    "present_columns = ['Zip Code', 'predicted total sales', 'predicted dollar/litre']"
   ]
  },
  {
   "cell_type": "code",
   "execution_count": 205,
   "metadata": {
    "ExecuteTime": {
     "end_time": "2016-10-11T22:54:01.129454",
     "start_time": "2016-10-11T22:54:01.120945"
    },
    "collapsed": false
   },
   "outputs": [],
   "source": [
    "present_df = predict_df[present_columns]"
   ]
  },
  {
   "cell_type": "code",
   "execution_count": 206,
   "metadata": {
    "ExecuteTime": {
     "end_time": "2016-10-11T22:54:02.920689",
     "start_time": "2016-10-11T22:54:01.472104"
    },
    "collapsed": false
   },
   "outputs": [],
   "source": [
    "present_df = present_df.merge(df2[['Zip Code', 'Store Count', 'Area (sqkm)', 'Stores per sqkm']],\\\n",
    "                              how='left', on='Zip Code').drop_duplicates()"
   ]
  },
  {
   "cell_type": "code",
   "execution_count": 207,
   "metadata": {
    "ExecuteTime": {
     "end_time": "2016-10-11T22:54:02.951509",
     "start_time": "2016-10-11T22:54:02.923902"
    },
    "collapsed": false
   },
   "outputs": [
    {
     "data": {
      "text/html": [
       "<div>\n",
       "<table border=\"1\" class=\"dataframe\">\n",
       "  <thead>\n",
       "    <tr style=\"text-align: right;\">\n",
       "      <th></th>\n",
       "      <th>Zip Code</th>\n",
       "      <th>predicted total sales</th>\n",
       "      <th>predicted dollar/litre</th>\n",
       "      <th>Store Count</th>\n",
       "      <th>Area (sqkm)</th>\n",
       "      <th>Stores per sqkm</th>\n",
       "    </tr>\n",
       "  </thead>\n",
       "  <tbody>\n",
       "    <tr>\n",
       "      <th>0</th>\n",
       "      <td>50001</td>\n",
       "      <td>313,301.38</td>\n",
       "      <td>12.28</td>\n",
       "      <td>nan</td>\n",
       "      <td>nan</td>\n",
       "      <td>nan</td>\n",
       "    </tr>\n",
       "    <tr>\n",
       "      <th>1</th>\n",
       "      <td>50002</td>\n",
       "      <td>-182,908.32</td>\n",
       "      <td>13.04</td>\n",
       "      <td>2.00</td>\n",
       "      <td>279.20</td>\n",
       "      <td>0.01</td>\n",
       "    </tr>\n",
       "    <tr>\n",
       "      <th>380</th>\n",
       "      <td>50003</td>\n",
       "      <td>1,168,210.19</td>\n",
       "      <td>13.37</td>\n",
       "      <td>3.00</td>\n",
       "      <td>298.09</td>\n",
       "      <td>0.01</td>\n",
       "    </tr>\n",
       "    <tr>\n",
       "      <th>3255</th>\n",
       "      <td>50005</td>\n",
       "      <td>-545,807.73</td>\n",
       "      <td>12.01</td>\n",
       "      <td>nan</td>\n",
       "      <td>nan</td>\n",
       "      <td>nan</td>\n",
       "    </tr>\n",
       "    <tr>\n",
       "      <th>3256</th>\n",
       "      <td>50006</td>\n",
       "      <td>105,146.09</td>\n",
       "      <td>12.83</td>\n",
       "      <td>2.00</td>\n",
       "      <td>317.75</td>\n",
       "      <td>0.01</td>\n",
       "    </tr>\n",
       "  </tbody>\n",
       "</table>\n",
       "</div>"
      ],
      "text/plain": [
       "      Zip Code  predicted total sales  predicted dollar/litre  Store Count  \\\n",
       "0        50001             313,301.38                   12.28          nan   \n",
       "1        50002            -182,908.32                   13.04         2.00   \n",
       "380      50003           1,168,210.19                   13.37         3.00   \n",
       "3255     50005            -545,807.73                   12.01          nan   \n",
       "3256     50006             105,146.09                   12.83         2.00   \n",
       "\n",
       "      Area (sqkm)  Stores per sqkm  \n",
       "0             nan              nan  \n",
       "1          279.20             0.01  \n",
       "380        298.09             0.01  \n",
       "3255          nan              nan  \n",
       "3256       317.75             0.01  "
      ]
     },
     "execution_count": 207,
     "metadata": {},
     "output_type": "execute_result"
    }
   ],
   "source": [
    "present_df.head()"
   ]
  },
  {
   "cell_type": "code",
   "execution_count": 208,
   "metadata": {
    "ExecuteTime": {
     "end_time": "2016-10-11T22:54:03.917457",
     "start_time": "2016-10-11T22:54:03.896418"
    },
    "collapsed": true
   },
   "outputs": [],
   "source": [
    "present_df.to_csv('predictions.csv')"
   ]
  },
  {
   "cell_type": "code",
   "execution_count": 209,
   "metadata": {
    "ExecuteTime": {
     "end_time": "2016-10-11T22:54:04.606452",
     "start_time": "2016-10-11T22:54:04.599718"
    },
    "collapsed": false
   },
   "outputs": [],
   "source": [
    "top_10 = present_df.sort_values(by='predicted total sales', ascending=False).head(10)"
   ]
  },
  {
   "cell_type": "code",
   "execution_count": 210,
   "metadata": {
    "ExecuteTime": {
     "end_time": "2016-10-11T22:54:05.411733",
     "start_time": "2016-10-11T22:54:05.380677"
    },
    "collapsed": false
   },
   "outputs": [
    {
     "data": {
      "text/html": [
       "<div>\n",
       "<table border=\"1\" class=\"dataframe\">\n",
       "  <thead>\n",
       "    <tr style=\"text-align: right;\">\n",
       "      <th></th>\n",
       "      <th>Zip Code</th>\n",
       "      <th>predicted total sales</th>\n",
       "      <th>predicted dollar/litre</th>\n",
       "      <th>Store Count</th>\n",
       "      <th>Area (sqkm)</th>\n",
       "      <th>Stores per sqkm</th>\n",
       "    </tr>\n",
       "  </thead>\n",
       "  <tbody>\n",
       "    <tr>\n",
       "      <th>1851612</th>\n",
       "      <td>52240</td>\n",
       "      <td>11,075,365.76</td>\n",
       "      <td>15.43</td>\n",
       "      <td>20.00</td>\n",
       "      <td>415.57</td>\n",
       "      <td>0.05</td>\n",
       "    </tr>\n",
       "    <tr>\n",
       "      <th>2119781</th>\n",
       "      <td>52402</td>\n",
       "      <td>9,368,369.94</td>\n",
       "      <td>13.96</td>\n",
       "      <td>30.00</td>\n",
       "      <td>36.42</td>\n",
       "      <td>0.82</td>\n",
       "    </tr>\n",
       "    <tr>\n",
       "      <th>25906</th>\n",
       "      <td>50010</td>\n",
       "      <td>8,473,547.47</td>\n",
       "      <td>14.23</td>\n",
       "      <td>21.00</td>\n",
       "      <td>155.29</td>\n",
       "      <td>0.14</td>\n",
       "    </tr>\n",
       "    <tr>\n",
       "      <th>461293</th>\n",
       "      <td>50266</td>\n",
       "      <td>7,543,544.63</td>\n",
       "      <td>17.24</td>\n",
       "      <td>16.00</td>\n",
       "      <td>43.06</td>\n",
       "      <td>0.37</td>\n",
       "    </tr>\n",
       "    <tr>\n",
       "      <th>1547503</th>\n",
       "      <td>51501</td>\n",
       "      <td>6,878,669.84</td>\n",
       "      <td>14.88</td>\n",
       "      <td>26.00</td>\n",
       "      <td>68.66</td>\n",
       "      <td>0.38</td>\n",
       "    </tr>\n",
       "    <tr>\n",
       "      <th>1687728</th>\n",
       "      <td>52001</td>\n",
       "      <td>6,563,233.97</td>\n",
       "      <td>15.02</td>\n",
       "      <td>18.00</td>\n",
       "      <td>75.06</td>\n",
       "      <td>0.24</td>\n",
       "    </tr>\n",
       "    <tr>\n",
       "      <th>2678004</th>\n",
       "      <td>52807</td>\n",
       "      <td>6,188,225.81</td>\n",
       "      <td>15.86</td>\n",
       "      <td>9.00</td>\n",
       "      <td>76.47</td>\n",
       "      <td>0.12</td>\n",
       "    </tr>\n",
       "    <tr>\n",
       "      <th>1033450</th>\n",
       "      <td>50613</td>\n",
       "      <td>6,043,356.91</td>\n",
       "      <td>14.39</td>\n",
       "      <td>16.00</td>\n",
       "      <td>329.97</td>\n",
       "      <td>0.05</td>\n",
       "    </tr>\n",
       "    <tr>\n",
       "      <th>526354</th>\n",
       "      <td>50311</td>\n",
       "      <td>5,946,329.49</td>\n",
       "      <td>15.31</td>\n",
       "      <td>7.00</td>\n",
       "      <td>6.51</td>\n",
       "      <td>1.07</td>\n",
       "    </tr>\n",
       "    <tr>\n",
       "      <th>625656</th>\n",
       "      <td>50315</td>\n",
       "      <td>5,740,926.48</td>\n",
       "      <td>14.60</td>\n",
       "      <td>11.00</td>\n",
       "      <td>26.56</td>\n",
       "      <td>0.41</td>\n",
       "    </tr>\n",
       "  </tbody>\n",
       "</table>\n",
       "</div>"
      ],
      "text/plain": [
       "         Zip Code  predicted total sales  predicted dollar/litre  Store Count  \\\n",
       "1851612     52240          11,075,365.76                   15.43        20.00   \n",
       "2119781     52402           9,368,369.94                   13.96        30.00   \n",
       "25906       50010           8,473,547.47                   14.23        21.00   \n",
       "461293      50266           7,543,544.63                   17.24        16.00   \n",
       "1547503     51501           6,878,669.84                   14.88        26.00   \n",
       "1687728     52001           6,563,233.97                   15.02        18.00   \n",
       "2678004     52807           6,188,225.81                   15.86         9.00   \n",
       "1033450     50613           6,043,356.91                   14.39        16.00   \n",
       "526354      50311           5,946,329.49                   15.31         7.00   \n",
       "625656      50315           5,740,926.48                   14.60        11.00   \n",
       "\n",
       "         Area (sqkm)  Stores per sqkm  \n",
       "1851612       415.57             0.05  \n",
       "2119781        36.42             0.82  \n",
       "25906         155.29             0.14  \n",
       "461293         43.06             0.37  \n",
       "1547503        68.66             0.38  \n",
       "1687728        75.06             0.24  \n",
       "2678004        76.47             0.12  \n",
       "1033450       329.97             0.05  \n",
       "526354          6.51             1.07  \n",
       "625656         26.56             0.41  "
      ]
     },
     "execution_count": 210,
     "metadata": {},
     "output_type": "execute_result"
    }
   ],
   "source": [
    "top_10"
   ]
  },
  {
   "cell_type": "markdown",
   "metadata": {},
   "source": [
    "## Record your findings\n",
    "\n",
    "Be sure to write out anything observations from your exploratory analysis."
   ]
  },
  {
   "cell_type": "markdown",
   "metadata": {},
   "source": [
    "## Plot your results\n",
    "\n",
    "Again make sure that you record any valuable information. For example, in the tax scenario, did you find the sales from the first three months of the year to be a good predictor of the total sales for the year? Plot the predictions versus the true values and discuss the successes and limitations of your models"
   ]
  },
  {
   "cell_type": "markdown",
   "metadata": {},
   "source": [
    "# Present the Results\n",
    "\n",
    "Present your conclusions and results. If you have more than one interesting model feel free to include more than one along with a discussion. Use your work in this notebook to prepare your write-up."
   ]
  }
 ],
 "metadata": {
  "celltoolbar": "Slideshow",
  "kernelspec": {
   "display_name": "Python [default]",
   "language": "python",
   "name": "python2"
  },
  "language_info": {
   "codemirror_mode": {
    "name": "ipython",
    "version": 2
   },
   "file_extension": ".py",
   "mimetype": "text/x-python",
   "name": "python",
   "nbconvert_exporter": "python",
   "pygments_lexer": "ipython2",
   "version": "2.7.12"
  }
 },
 "nbformat": 4,
 "nbformat_minor": 0
}
