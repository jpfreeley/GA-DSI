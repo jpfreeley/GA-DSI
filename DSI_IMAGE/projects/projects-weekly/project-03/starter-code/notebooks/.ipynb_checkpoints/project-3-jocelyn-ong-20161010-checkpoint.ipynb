{
 "cells": [
  {
   "cell_type": "markdown",
   "metadata": {
    "slideshow": {
     "slide_type": "slide"
    }
   },
   "source": [
    "# Getting started\n",
    "\n",
    "Once you've chosen your scenario, download the data from [the Iowa website](https://data.iowa.gov/Economy/Iowa-Liquor-Sales/m3tr-qhgy) in csv format. Start by loading the data with pandas. You may need to parse the date columns appropriately."
   ]
  },
  {
   "cell_type": "code",
   "execution_count": 1,
   "metadata": {
    "ExecuteTime": {
     "end_time": "2016-10-10T14:17:05.472876",
     "start_time": "2016-10-10T14:17:02.285526"
    },
    "collapsed": false,
    "slideshow": {
     "slide_type": "slide"
    }
   },
   "outputs": [],
   "source": [
    "# Import relevant libraries\n",
    "import pandas as pd\n",
    "import numpy as np\n",
    "import seaborn as sns\n",
    "import matplotlib.pyplot as plt\n",
    "%matplotlib inline\n",
    "from sklearn import linear_model"
   ]
  },
  {
   "cell_type": "code",
   "execution_count": 3,
   "metadata": {
    "ExecuteTime": {
     "end_time": "2016-10-10T14:18:31.279613",
     "start_time": "2016-10-10T14:18:30.136758"
    },
    "collapsed": false,
    "slideshow": {
     "slide_type": "-"
    }
   },
   "outputs": [],
   "source": [
    "## Load the data into a DataFrame\n",
    "df = pd.read_csv('../data/Iowa_Liquor_sales_sample_10pct.csv')\n",
    "df_zip_area = pd.read_csv('../data/attributes.csv')"
   ]
  },
  {
   "cell_type": "code",
   "execution_count": 5,
   "metadata": {
    "ExecuteTime": {
     "end_time": "2016-10-10T14:18:52.849229",
     "start_time": "2016-10-10T14:18:52.783267"
    },
    "collapsed": false
   },
   "outputs": [
    {
     "data": {
      "text/html": [
       "<div>\n",
       "<table border=\"1\" class=\"dataframe\">\n",
       "  <thead>\n",
       "    <tr style=\"text-align: right;\">\n",
       "      <th></th>\n",
       "      <th>STATEFP10</th>\n",
       "      <th>ZCTA5CE10</th>\n",
       "      <th>AREA-SQM</th>\n",
       "    </tr>\n",
       "  </thead>\n",
       "  <tbody>\n",
       "    <tr>\n",
       "      <th>0</th>\n",
       "      <td>19</td>\n",
       "      <td>50841</td>\n",
       "      <td>610836196</td>\n",
       "    </tr>\n",
       "    <tr>\n",
       "      <th>1</th>\n",
       "      <td>19</td>\n",
       "      <td>52162</td>\n",
       "      <td>258921418</td>\n",
       "    </tr>\n",
       "    <tr>\n",
       "      <th>2</th>\n",
       "      <td>19</td>\n",
       "      <td>52572</td>\n",
       "      <td>252233684</td>\n",
       "    </tr>\n",
       "    <tr>\n",
       "      <th>3</th>\n",
       "      <td>19</td>\n",
       "      <td>50014</td>\n",
       "      <td>144826088</td>\n",
       "    </tr>\n",
       "    <tr>\n",
       "      <th>4</th>\n",
       "      <td>19</td>\n",
       "      <td>50217</td>\n",
       "      <td>178606122</td>\n",
       "    </tr>\n",
       "    <tr>\n",
       "      <th>5</th>\n",
       "      <td>19</td>\n",
       "      <td>50676</td>\n",
       "      <td>148867149</td>\n",
       "    </tr>\n",
       "    <tr>\n",
       "      <th>6</th>\n",
       "      <td>19</td>\n",
       "      <td>50668</td>\n",
       "      <td>87689572</td>\n",
       "    </tr>\n",
       "    <tr>\n",
       "      <th>7</th>\n",
       "      <td>19</td>\n",
       "      <td>50650</td>\n",
       "      <td>106756415</td>\n",
       "    </tr>\n",
       "    <tr>\n",
       "      <th>8</th>\n",
       "      <td>19</td>\n",
       "      <td>50588</td>\n",
       "      <td>368993698</td>\n",
       "    </tr>\n",
       "    <tr>\n",
       "      <th>9</th>\n",
       "      <td>19</td>\n",
       "      <td>50561</td>\n",
       "      <td>119358374</td>\n",
       "    </tr>\n",
       "    <tr>\n",
       "      <th>10</th>\n",
       "      <td>19</td>\n",
       "      <td>50538</td>\n",
       "      <td>80889010</td>\n",
       "    </tr>\n",
       "    <tr>\n",
       "      <th>11</th>\n",
       "      <td>19</td>\n",
       "      <td>51459</td>\n",
       "      <td>1355933</td>\n",
       "    </tr>\n",
       "    <tr>\n",
       "      <th>12</th>\n",
       "      <td>19</td>\n",
       "      <td>50274</td>\n",
       "      <td>130159776</td>\n",
       "    </tr>\n",
       "    <tr>\n",
       "      <th>13</th>\n",
       "      <td>19</td>\n",
       "      <td>52776</td>\n",
       "      <td>219678908</td>\n",
       "    </tr>\n",
       "    <tr>\n",
       "      <th>14</th>\n",
       "      <td>19</td>\n",
       "      <td>52337</td>\n",
       "      <td>70714333</td>\n",
       "    </tr>\n",
       "    <tr>\n",
       "      <th>15</th>\n",
       "      <td>19</td>\n",
       "      <td>50479</td>\n",
       "      <td>150266394</td>\n",
       "    </tr>\n",
       "    <tr>\n",
       "      <th>16</th>\n",
       "      <td>19</td>\n",
       "      <td>50449</td>\n",
       "      <td>95013046</td>\n",
       "    </tr>\n",
       "    <tr>\n",
       "      <th>17</th>\n",
       "      <td>19</td>\n",
       "      <td>51058</td>\n",
       "      <td>214786027</td>\n",
       "    </tr>\n",
       "    <tr>\n",
       "      <th>18</th>\n",
       "      <td>19</td>\n",
       "      <td>50603</td>\n",
       "      <td>122972014</td>\n",
       "    </tr>\n",
       "    <tr>\n",
       "      <th>19</th>\n",
       "      <td>19</td>\n",
       "      <td>50616</td>\n",
       "      <td>448105088</td>\n",
       "    </tr>\n",
       "    <tr>\n",
       "      <th>20</th>\n",
       "      <td>19</td>\n",
       "      <td>52171</td>\n",
       "      <td>205897170</td>\n",
       "    </tr>\n",
       "    <tr>\n",
       "      <th>21</th>\n",
       "      <td>19</td>\n",
       "      <td>52171</td>\n",
       "      <td>205897170</td>\n",
       "    </tr>\n",
       "    <tr>\n",
       "      <th>22</th>\n",
       "      <td>19</td>\n",
       "      <td>50264</td>\n",
       "      <td>174299474</td>\n",
       "    </tr>\n",
       "    <tr>\n",
       "      <th>23</th>\n",
       "      <td>19</td>\n",
       "      <td>52049</td>\n",
       "      <td>188393273</td>\n",
       "    </tr>\n",
       "    <tr>\n",
       "      <th>24</th>\n",
       "      <td>19</td>\n",
       "      <td>52731</td>\n",
       "      <td>136590407</td>\n",
       "    </tr>\n",
       "    <tr>\n",
       "      <th>25</th>\n",
       "      <td>19</td>\n",
       "      <td>52750</td>\n",
       "      <td>78435746</td>\n",
       "    </tr>\n",
       "    <tr>\n",
       "      <th>26</th>\n",
       "      <td>19</td>\n",
       "      <td>52757</td>\n",
       "      <td>3069924</td>\n",
       "    </tr>\n",
       "    <tr>\n",
       "      <th>27</th>\n",
       "      <td>19</td>\n",
       "      <td>52207</td>\n",
       "      <td>102173612</td>\n",
       "    </tr>\n",
       "    <tr>\n",
       "      <th>28</th>\n",
       "      <td>19</td>\n",
       "      <td>50323</td>\n",
       "      <td>19984131</td>\n",
       "    </tr>\n",
       "    <tr>\n",
       "      <th>29</th>\n",
       "      <td>19</td>\n",
       "      <td>50146</td>\n",
       "      <td>75845999</td>\n",
       "    </tr>\n",
       "    <tr>\n",
       "      <th>...</th>\n",
       "      <td>...</td>\n",
       "      <td>...</td>\n",
       "      <td>...</td>\n",
       "    </tr>\n",
       "    <tr>\n",
       "      <th>911</th>\n",
       "      <td>19</td>\n",
       "      <td>51239</td>\n",
       "      <td>171513941</td>\n",
       "    </tr>\n",
       "    <tr>\n",
       "      <th>912</th>\n",
       "      <td>19</td>\n",
       "      <td>52577</td>\n",
       "      <td>415772496</td>\n",
       "    </tr>\n",
       "    <tr>\n",
       "      <th>913</th>\n",
       "      <td>19</td>\n",
       "      <td>52534</td>\n",
       "      <td>1012395</td>\n",
       "    </tr>\n",
       "    <tr>\n",
       "      <th>914</th>\n",
       "      <td>19</td>\n",
       "      <td>50138</td>\n",
       "      <td>461827288</td>\n",
       "    </tr>\n",
       "    <tr>\n",
       "      <th>915</th>\n",
       "      <td>19</td>\n",
       "      <td>51573</td>\n",
       "      <td>156152123</td>\n",
       "    </tr>\n",
       "    <tr>\n",
       "      <th>916</th>\n",
       "      <td>19</td>\n",
       "      <td>51350</td>\n",
       "      <td>112104258</td>\n",
       "    </tr>\n",
       "    <tr>\n",
       "      <th>917</th>\n",
       "      <td>19</td>\n",
       "      <td>51647</td>\n",
       "      <td>49689882</td>\n",
       "    </tr>\n",
       "    <tr>\n",
       "      <th>918</th>\n",
       "      <td>19</td>\n",
       "      <td>50562</td>\n",
       "      <td>165098566</td>\n",
       "    </tr>\n",
       "    <tr>\n",
       "      <th>919</th>\n",
       "      <td>19</td>\n",
       "      <td>51024</td>\n",
       "      <td>232728447</td>\n",
       "    </tr>\n",
       "    <tr>\n",
       "      <th>920</th>\n",
       "      <td>19</td>\n",
       "      <td>50021</td>\n",
       "      <td>66725924</td>\n",
       "    </tr>\n",
       "    <tr>\n",
       "      <th>921</th>\n",
       "      <td>19</td>\n",
       "      <td>50007</td>\n",
       "      <td>13782897</td>\n",
       "    </tr>\n",
       "    <tr>\n",
       "      <th>922</th>\n",
       "      <td>19</td>\n",
       "      <td>50171</td>\n",
       "      <td>281675684</td>\n",
       "    </tr>\n",
       "    <tr>\n",
       "      <th>923</th>\n",
       "      <td>19</td>\n",
       "      <td>50863</td>\n",
       "      <td>78178667</td>\n",
       "    </tr>\n",
       "    <tr>\n",
       "      <th>924</th>\n",
       "      <td>19</td>\n",
       "      <td>50535</td>\n",
       "      <td>158492375</td>\n",
       "    </tr>\n",
       "    <tr>\n",
       "      <th>925</th>\n",
       "      <td>19</td>\n",
       "      <td>51466</td>\n",
       "      <td>134548626</td>\n",
       "    </tr>\n",
       "    <tr>\n",
       "      <th>926</th>\n",
       "      <td>19</td>\n",
       "      <td>52768</td>\n",
       "      <td>89481384</td>\n",
       "    </tr>\n",
       "    <tr>\n",
       "      <th>927</th>\n",
       "      <td>19</td>\n",
       "      <td>52758</td>\n",
       "      <td>1745891</td>\n",
       "    </tr>\n",
       "    <tr>\n",
       "      <th>928</th>\n",
       "      <td>19</td>\n",
       "      <td>51447</td>\n",
       "      <td>90268943</td>\n",
       "    </tr>\n",
       "    <tr>\n",
       "      <th>929</th>\n",
       "      <td>19</td>\n",
       "      <td>51234</td>\n",
       "      <td>129274507</td>\n",
       "    </tr>\n",
       "    <tr>\n",
       "      <th>930</th>\n",
       "      <td>19</td>\n",
       "      <td>51250</td>\n",
       "      <td>186398963</td>\n",
       "    </tr>\n",
       "    <tr>\n",
       "      <th>931</th>\n",
       "      <td>19</td>\n",
       "      <td>51244</td>\n",
       "      <td>778428</td>\n",
       "    </tr>\n",
       "    <tr>\n",
       "      <th>932</th>\n",
       "      <td>19</td>\n",
       "      <td>50105</td>\n",
       "      <td>20560447</td>\n",
       "    </tr>\n",
       "    <tr>\n",
       "      <th>933</th>\n",
       "      <td>19</td>\n",
       "      <td>51646</td>\n",
       "      <td>162903928</td>\n",
       "    </tr>\n",
       "    <tr>\n",
       "      <th>934</th>\n",
       "      <td>19</td>\n",
       "      <td>52573</td>\n",
       "      <td>74630386</td>\n",
       "    </tr>\n",
       "    <tr>\n",
       "      <th>935</th>\n",
       "      <td>19</td>\n",
       "      <td>52548</td>\n",
       "      <td>622729</td>\n",
       "    </tr>\n",
       "    <tr>\n",
       "      <th>936</th>\n",
       "      <td>19</td>\n",
       "      <td>50165</td>\n",
       "      <td>6437634</td>\n",
       "    </tr>\n",
       "    <tr>\n",
       "      <th>937</th>\n",
       "      <td>19</td>\n",
       "      <td>50523</td>\n",
       "      <td>109190936</td>\n",
       "    </tr>\n",
       "    <tr>\n",
       "      <th>938</th>\n",
       "      <td>19</td>\n",
       "      <td>50521</td>\n",
       "      <td>3160848</td>\n",
       "    </tr>\n",
       "    <tr>\n",
       "      <th>939</th>\n",
       "      <td>19</td>\n",
       "      <td>51101</td>\n",
       "      <td>3138764</td>\n",
       "    </tr>\n",
       "    <tr>\n",
       "      <th>940</th>\n",
       "      <td>19</td>\n",
       "      <td>51111</td>\n",
       "      <td>17993387</td>\n",
       "    </tr>\n",
       "  </tbody>\n",
       "</table>\n",
       "<p>941 rows × 3 columns</p>\n",
       "</div>"
      ],
      "text/plain": [
       "     STATEFP10  ZCTA5CE10   AREA-SQM\n",
       "0           19      50841  610836196\n",
       "1           19      52162  258921418\n",
       "2           19      52572  252233684\n",
       "3           19      50014  144826088\n",
       "4           19      50217  178606122\n",
       "5           19      50676  148867149\n",
       "6           19      50668   87689572\n",
       "7           19      50650  106756415\n",
       "8           19      50588  368993698\n",
       "9           19      50561  119358374\n",
       "10          19      50538   80889010\n",
       "11          19      51459    1355933\n",
       "12          19      50274  130159776\n",
       "13          19      52776  219678908\n",
       "14          19      52337   70714333\n",
       "15          19      50479  150266394\n",
       "16          19      50449   95013046\n",
       "17          19      51058  214786027\n",
       "18          19      50603  122972014\n",
       "19          19      50616  448105088\n",
       "20          19      52171  205897170\n",
       "21          19      52171  205897170\n",
       "22          19      50264  174299474\n",
       "23          19      52049  188393273\n",
       "24          19      52731  136590407\n",
       "25          19      52750   78435746\n",
       "26          19      52757    3069924\n",
       "27          19      52207  102173612\n",
       "28          19      50323   19984131\n",
       "29          19      50146   75845999\n",
       "..         ...        ...        ...\n",
       "911         19      51239  171513941\n",
       "912         19      52577  415772496\n",
       "913         19      52534    1012395\n",
       "914         19      50138  461827288\n",
       "915         19      51573  156152123\n",
       "916         19      51350  112104258\n",
       "917         19      51647   49689882\n",
       "918         19      50562  165098566\n",
       "919         19      51024  232728447\n",
       "920         19      50021   66725924\n",
       "921         19      50007   13782897\n",
       "922         19      50171  281675684\n",
       "923         19      50863   78178667\n",
       "924         19      50535  158492375\n",
       "925         19      51466  134548626\n",
       "926         19      52768   89481384\n",
       "927         19      52758    1745891\n",
       "928         19      51447   90268943\n",
       "929         19      51234  129274507\n",
       "930         19      51250  186398963\n",
       "931         19      51244     778428\n",
       "932         19      50105   20560447\n",
       "933         19      51646  162903928\n",
       "934         19      52573   74630386\n",
       "935         19      52548     622729\n",
       "936         19      50165    6437634\n",
       "937         19      50523  109190936\n",
       "938         19      50521    3160848\n",
       "939         19      51101    3138764\n",
       "940         19      51111   17993387\n",
       "\n",
       "[941 rows x 3 columns]"
      ]
     },
     "execution_count": 5,
     "metadata": {},
     "output_type": "execute_result"
    }
   ],
   "source": []
  },
  {
   "cell_type": "code",
   "execution_count": 188,
   "metadata": {
    "ExecuteTime": {
     "end_time": "2016-10-10T10:21:48.143799",
     "start_time": "2016-10-10T10:21:46.260071"
    },
    "collapsed": false,
    "slideshow": {
     "slide_type": "-"
    }
   },
   "outputs": [],
   "source": [
    "## Transform the dates column\n",
    "df[\"Date\"] = pd.to_datetime(df[\"Date\"], format='%m/%d/%Y')"
   ]
  },
  {
   "cell_type": "raw",
   "metadata": {
    "ExecuteTime": {
     "end_time": "2016-10-07T17:39:24.030604",
     "start_time": "2016-10-07T17:39:23.972511"
    },
    "collapsed": false,
    "slideshow": {
     "slide_type": "skip"
    }
   },
   "source": [
    "df.head(3)"
   ]
  },
  {
   "cell_type": "markdown",
   "metadata": {},
   "source": [
    "Columns that we would be interested in:\n",
    "- Date\n",
    "- Store number\n",
    "- City\n",
    "- Zip code\n",
    "- County\n",
    "- Category\n",
    "- Category name\n",
    "- Vendor number\n",
    "- Item number\n",
    "- Item description\n",
    "- State bottle cost\n",
    "- State bottle retail\n",
    "- Bottles sold\n",
    "- Sales (dollars)\n",
    "- Volumes (liters)"
   ]
  },
  {
   "cell_type": "markdown",
   "metadata": {},
   "source": [
    "To ensure accuracy, we are importing a list of Iowa zip codes, cities, counties and county numbers.\n",
    "- There are some zip codes which cross cities, but we just picked up the first city."
   ]
  },
  {
   "cell_type": "code",
   "execution_count": 189,
   "metadata": {
    "ExecuteTime": {
     "end_time": "2016-10-10T10:21:48.359907",
     "start_time": "2016-10-10T10:21:48.147242"
    },
    "collapsed": false
   },
   "outputs": [],
   "source": [
    "location_data = pd.read_csv('/Users/stel/joce/data_science/project-3-datasets/ia_zip_city_county.csv', skiprows=1)"
   ]
  },
  {
   "cell_type": "code",
   "execution_count": 190,
   "metadata": {
    "ExecuteTime": {
     "end_time": "2016-10-10T10:21:48.398181",
     "start_time": "2016-10-10T10:21:48.362491"
    },
    "collapsed": false
   },
   "outputs": [
    {
     "data": {
      "text/html": [
       "<div>\n",
       "<table border=\"1\" class=\"dataframe\">\n",
       "  <thead>\n",
       "    <tr style=\"text-align: right;\">\n",
       "      <th></th>\n",
       "      <th>0</th>\n",
       "      <th>force_zip_str</th>\n",
       "      <th>CITY</th>\n",
       "      <th>COUNTY</th>\n",
       "      <th>IA</th>\n",
       "      <th>0.1</th>\n",
       "    </tr>\n",
       "  </thead>\n",
       "  <tbody>\n",
       "    <tr>\n",
       "      <th>0</th>\n",
       "      <td>1</td>\n",
       "      <td>50001</td>\n",
       "      <td>ACKWORTH</td>\n",
       "      <td>Warren</td>\n",
       "      <td>IA</td>\n",
       "      <td>91</td>\n",
       "    </tr>\n",
       "    <tr>\n",
       "      <th>1</th>\n",
       "      <td>2</td>\n",
       "      <td>50002</td>\n",
       "      <td>ADAIR</td>\n",
       "      <td>Guthrie</td>\n",
       "      <td>IA</td>\n",
       "      <td>39</td>\n",
       "    </tr>\n",
       "    <tr>\n",
       "      <th>2</th>\n",
       "      <td>3</td>\n",
       "      <td>50003</td>\n",
       "      <td>ADEL</td>\n",
       "      <td>Dallas</td>\n",
       "      <td>IA</td>\n",
       "      <td>25</td>\n",
       "    </tr>\n",
       "    <tr>\n",
       "      <th>3</th>\n",
       "      <td>4</td>\n",
       "      <td>50005</td>\n",
       "      <td>ALBION</td>\n",
       "      <td>Marshall</td>\n",
       "      <td>IA</td>\n",
       "      <td>64</td>\n",
       "    </tr>\n",
       "    <tr>\n",
       "      <th>4</th>\n",
       "      <td>5</td>\n",
       "      <td>50006</td>\n",
       "      <td>ALDEN</td>\n",
       "      <td>Hardin</td>\n",
       "      <td>IA</td>\n",
       "      <td>42</td>\n",
       "    </tr>\n",
       "  </tbody>\n",
       "</table>\n",
       "</div>"
      ],
      "text/plain": [
       "   0  force_zip_str      CITY    COUNTY  IA  0.1\n",
       "0  1          50001  ACKWORTH    Warren  IA   91\n",
       "1  2          50002     ADAIR   Guthrie  IA   39\n",
       "2  3          50003      ADEL    Dallas  IA   25\n",
       "3  4          50005    ALBION  Marshall  IA   64\n",
       "4  5          50006     ALDEN    Hardin  IA   42"
      ]
     },
     "execution_count": 190,
     "metadata": {},
     "output_type": "execute_result"
    }
   ],
   "source": [
    "location_data.head()"
   ]
  },
  {
   "cell_type": "code",
   "execution_count": 191,
   "metadata": {
    "ExecuteTime": {
     "end_time": "2016-10-10T10:21:49.229242",
     "start_time": "2016-10-10T10:21:49.224293"
    },
    "collapsed": false
   },
   "outputs": [],
   "source": [
    "location_data.columns = ['number', 'Zip Code', 'City', 'County', 'State','County Number']"
   ]
  },
  {
   "cell_type": "markdown",
   "metadata": {},
   "source": [
    "We will run a check on zip codes before joining the 2 tables"
   ]
  },
  {
   "cell_type": "code",
   "execution_count": 192,
   "metadata": {
    "ExecuteTime": {
     "end_time": "2016-10-10T10:21:51.230815",
     "start_time": "2016-10-10T10:21:51.187817"
    },
    "collapsed": false
   },
   "outputs": [
    {
     "name": "stdout",
     "output_type": "stream",
     "text": [
      "['52303', '712-2', '52087', '52084', '56201', '50300']\n"
     ]
    }
   ],
   "source": [
    "liquor_zips = df['Zip Code'].drop_duplicates().tolist()\n",
    "ref_zips = location_data['Zip Code'].astype(str).tolist()\n",
    "z = [x for x in liquor_zips if x not in ref_zips]\n",
    "print z"
   ]
  },
  {
   "cell_type": "code",
   "execution_count": 193,
   "metadata": {
    "ExecuteTime": {
     "end_time": "2016-10-10T10:21:54.157565",
     "start_time": "2016-10-10T10:21:53.812423"
    },
    "collapsed": false
   },
   "outputs": [
    {
     "name": "stdout",
     "output_type": "stream",
     "text": [
      "   Zip Code          City County  County Number\n",
      "78    52303  CEDAR RAPIDS   Linn           57.0\n",
      "Cedar Rapids\n",
      "Empty DataFrame\n",
      "Columns: [number, Zip Code, City, County, State, County Number]\n",
      "Index: []\n",
      "\n",
      "     Zip Code    City    County  County Number\n",
      "114     712-2  DUNLAP  Harrison           43.0\n",
      "8186    712-2  DUNLAP       NaN            NaN\n",
      "Dunlap\n",
      "Empty DataFrame\n",
      "Columns: [number, Zip Code, City, County, State, County Number]\n",
      "Index: []\n",
      "\n",
      "    Zip Code        City    County  County Number\n",
      "267    52087  MANCHESTER  Delaware           28.0\n",
      "Manchester\n",
      "Empty DataFrame\n",
      "Columns: [number, Zip Code, City, County, State, County Number]\n",
      "Index: []\n",
      "\n",
      "    Zip Code       City County  County Number\n",
      "464    52084  DAVENPORT  Scott           82.0\n",
      "Davenport\n",
      "Empty DataFrame\n",
      "Columns: [number, Zip Code, City, County, State, County Number]\n",
      "Index: []\n",
      "\n",
      "     Zip Code        City      County  County Number\n",
      "1871    56201  BURLINGTON  Des Moines           29.0\n",
      "Burlington\n",
      "Empty DataFrame\n",
      "Columns: [number, Zip Code, City, County, State, County Number]\n",
      "Index: []\n",
      "\n",
      "     Zip Code        City County  County Number\n",
      "4942    50300  DES MOINES   Polk           77.0\n",
      "Des Moines\n",
      "Empty DataFrame\n",
      "Columns: [number, Zip Code, City, County, State, County Number]\n",
      "Index: []\n",
      "\n"
     ]
    }
   ],
   "source": [
    "for i in z:\n",
    "    print df[['Zip Code', 'City', 'County', 'County Number']][df['Zip Code'] == i].drop_duplicates()\n",
    "    city = df['City'][df['Zip Code'] == i].drop_duplicates().iloc[0].title()\n",
    "    print city\n",
    "    try:\n",
    "        print location_data[location_data['City']==city].drop_duplicates()\n",
    "    except:\n",
    "        print i, 'not in Iowa'\n",
    "    print"
   ]
  },
  {
   "cell_type": "markdown",
   "metadata": {},
   "source": [
    "Based on the above, we get a vague idea of what the zips are supposed to be"
   ]
  },
  {
   "cell_type": "code",
   "execution_count": 194,
   "metadata": {
    "ExecuteTime": {
     "end_time": "2016-10-10T10:21:58.012166",
     "start_time": "2016-10-10T10:21:57.850837"
    },
    "collapsed": false
   },
   "outputs": [],
   "source": [
    "corrected_zips = ['52403','51529', '52057','52804','52601','50301']\n",
    "for i in range(len(z)):\n",
    "    df.ix[df['Zip Code']==z[i], 'Zip Code']=corrected_zips[i]"
   ]
  },
  {
   "cell_type": "code",
   "execution_count": 195,
   "metadata": {
    "ExecuteTime": {
     "end_time": "2016-10-10T10:21:58.301376",
     "start_time": "2016-10-10T10:21:58.276375"
    },
    "collapsed": false
   },
   "outputs": [
    {
     "name": "stdout",
     "output_type": "stream",
     "text": [
      "[]\n"
     ]
    }
   ],
   "source": [
    "# Run the test again\n",
    "liquor_zips = df['Zip Code'].drop_duplicates().tolist()\n",
    "ref_zips = location_data['Zip Code'].astype(str).tolist()\n",
    "z = [x for x in liquor_zips if x not in ref_zips]\n",
    "print z"
   ]
  },
  {
   "cell_type": "code",
   "execution_count": 196,
   "metadata": {
    "ExecuteTime": {
     "end_time": "2016-10-10T10:21:59.260718",
     "start_time": "2016-10-10T10:21:59.063242"
    },
    "collapsed": true
   },
   "outputs": [],
   "source": [
    "df['Zip Code'] = df['Zip Code'].astype(int)"
   ]
  },
  {
   "cell_type": "markdown",
   "metadata": {},
   "source": [
    "Now we merge our location data to our liquor sales"
   ]
  },
  {
   "cell_type": "code",
   "execution_count": 200,
   "metadata": {
    "ExecuteTime": {
     "end_time": "2016-10-10T10:22:28.811686",
     "start_time": "2016-10-10T10:22:28.610469"
    },
    "collapsed": true
   },
   "outputs": [],
   "source": [
    "df2 = df.copy()\n",
    "df2.drop(['County Number', 'City', 'County'], axis=1, inplace=True)"
   ]
  },
  {
   "cell_type": "code",
   "execution_count": 201,
   "metadata": {
    "ExecuteTime": {
     "end_time": "2016-10-10T10:22:29.844543",
     "start_time": "2016-10-10T10:22:29.565051"
    },
    "collapsed": false
   },
   "outputs": [],
   "source": [
    "df2 = df2.merge(location_data, how='left', on='Zip Code')\n",
    "df2.drop(['number','State'], axis=1, inplace=True)"
   ]
  },
  {
   "cell_type": "code",
   "execution_count": 202,
   "metadata": {
    "ExecuteTime": {
     "end_time": "2016-10-10T10:22:30.765302",
     "start_time": "2016-10-10T10:22:30.663786"
    },
    "collapsed": false
   },
   "outputs": [
    {
     "data": {
      "text/html": [
       "<div>\n",
       "<table border=\"1\" class=\"dataframe\">\n",
       "  <thead>\n",
       "    <tr style=\"text-align: right;\">\n",
       "      <th></th>\n",
       "      <th>Date</th>\n",
       "      <th>Store Number</th>\n",
       "      <th>Zip Code</th>\n",
       "      <th>Category</th>\n",
       "      <th>Category Name</th>\n",
       "      <th>Vendor Number</th>\n",
       "      <th>Item Number</th>\n",
       "      <th>Item Description</th>\n",
       "      <th>Bottle Volume (ml)</th>\n",
       "      <th>State Bottle Cost</th>\n",
       "      <th>State Bottle Retail</th>\n",
       "      <th>Bottles Sold</th>\n",
       "      <th>Sale (Dollars)</th>\n",
       "      <th>Volume Sold (Liters)</th>\n",
       "      <th>Volume Sold (Gallons)</th>\n",
       "      <th>City</th>\n",
       "      <th>County</th>\n",
       "      <th>County Number</th>\n",
       "    </tr>\n",
       "  </thead>\n",
       "  <tbody>\n",
       "    <tr>\n",
       "      <th>0</th>\n",
       "      <td>2015-11-04</td>\n",
       "      <td>3717</td>\n",
       "      <td>50674</td>\n",
       "      <td>1051100.0</td>\n",
       "      <td>APRICOT BRANDIES</td>\n",
       "      <td>55</td>\n",
       "      <td>54436</td>\n",
       "      <td>Mr. Boston Apricot Brandy</td>\n",
       "      <td>750</td>\n",
       "      <td>$4.50</td>\n",
       "      <td>$6.75</td>\n",
       "      <td>12</td>\n",
       "      <td>$81.00</td>\n",
       "      <td>9.0</td>\n",
       "      <td>2.38</td>\n",
       "      <td>SUMNER</td>\n",
       "      <td>Bremer</td>\n",
       "      <td>9</td>\n",
       "    </tr>\n",
       "    <tr>\n",
       "      <th>1</th>\n",
       "      <td>2016-03-02</td>\n",
       "      <td>2614</td>\n",
       "      <td>52807</td>\n",
       "      <td>1011100.0</td>\n",
       "      <td>BLENDED WHISKIES</td>\n",
       "      <td>395</td>\n",
       "      <td>27605</td>\n",
       "      <td>Tin Cup</td>\n",
       "      <td>750</td>\n",
       "      <td>$13.75</td>\n",
       "      <td>$20.63</td>\n",
       "      <td>2</td>\n",
       "      <td>$41.26</td>\n",
       "      <td>1.5</td>\n",
       "      <td>0.40</td>\n",
       "      <td>DAVENPORT</td>\n",
       "      <td>Scott</td>\n",
       "      <td>82</td>\n",
       "    </tr>\n",
       "    <tr>\n",
       "      <th>2</th>\n",
       "      <td>2016-02-11</td>\n",
       "      <td>2106</td>\n",
       "      <td>50613</td>\n",
       "      <td>1011200.0</td>\n",
       "      <td>STRAIGHT BOURBON WHISKIES</td>\n",
       "      <td>65</td>\n",
       "      <td>19067</td>\n",
       "      <td>Jim Beam</td>\n",
       "      <td>1000</td>\n",
       "      <td>$12.59</td>\n",
       "      <td>$18.89</td>\n",
       "      <td>24</td>\n",
       "      <td>$453.36</td>\n",
       "      <td>24.0</td>\n",
       "      <td>6.34</td>\n",
       "      <td>CEDAR FALLS</td>\n",
       "      <td>Black Hawk</td>\n",
       "      <td>7</td>\n",
       "    </tr>\n",
       "    <tr>\n",
       "      <th>3</th>\n",
       "      <td>2016-02-03</td>\n",
       "      <td>2501</td>\n",
       "      <td>50010</td>\n",
       "      <td>1071100.0</td>\n",
       "      <td>AMERICAN COCKTAILS</td>\n",
       "      <td>395</td>\n",
       "      <td>59154</td>\n",
       "      <td>1800 Ultimate Margarita</td>\n",
       "      <td>1750</td>\n",
       "      <td>$9.50</td>\n",
       "      <td>$14.25</td>\n",
       "      <td>6</td>\n",
       "      <td>$85.50</td>\n",
       "      <td>10.5</td>\n",
       "      <td>2.77</td>\n",
       "      <td>AMES</td>\n",
       "      <td>Story</td>\n",
       "      <td>85</td>\n",
       "    </tr>\n",
       "    <tr>\n",
       "      <th>4</th>\n",
       "      <td>2015-08-18</td>\n",
       "      <td>3654</td>\n",
       "      <td>50421</td>\n",
       "      <td>1031080.0</td>\n",
       "      <td>VODKA 80 PROOF</td>\n",
       "      <td>297</td>\n",
       "      <td>35918</td>\n",
       "      <td>Five O'clock Vodka</td>\n",
       "      <td>1750</td>\n",
       "      <td>$7.20</td>\n",
       "      <td>$10.80</td>\n",
       "      <td>12</td>\n",
       "      <td>$129.60</td>\n",
       "      <td>21.0</td>\n",
       "      <td>5.55</td>\n",
       "      <td>BELMOND</td>\n",
       "      <td>Wright</td>\n",
       "      <td>99</td>\n",
       "    </tr>\n",
       "  </tbody>\n",
       "</table>\n",
       "</div>"
      ],
      "text/plain": [
       "        Date  Store Number  Zip Code   Category              Category Name  \\\n",
       "0 2015-11-04          3717     50674  1051100.0           APRICOT BRANDIES   \n",
       "1 2016-03-02          2614     52807  1011100.0           BLENDED WHISKIES   \n",
       "2 2016-02-11          2106     50613  1011200.0  STRAIGHT BOURBON WHISKIES   \n",
       "3 2016-02-03          2501     50010  1071100.0         AMERICAN COCKTAILS   \n",
       "4 2015-08-18          3654     50421  1031080.0             VODKA 80 PROOF   \n",
       "\n",
       "   Vendor Number  Item Number           Item Description  Bottle Volume (ml)  \\\n",
       "0             55        54436  Mr. Boston Apricot Brandy                 750   \n",
       "1            395        27605                    Tin Cup                 750   \n",
       "2             65        19067                   Jim Beam                1000   \n",
       "3            395        59154    1800 Ultimate Margarita                1750   \n",
       "4            297        35918         Five O'clock Vodka                1750   \n",
       "\n",
       "  State Bottle Cost State Bottle Retail  Bottles Sold Sale (Dollars)  \\\n",
       "0             $4.50               $6.75            12         $81.00   \n",
       "1            $13.75              $20.63             2         $41.26   \n",
       "2            $12.59              $18.89            24        $453.36   \n",
       "3             $9.50              $14.25             6         $85.50   \n",
       "4             $7.20              $10.80            12        $129.60   \n",
       "\n",
       "   Volume Sold (Liters)  Volume Sold (Gallons)         City      County  \\\n",
       "0                   9.0                   2.38       SUMNER      Bremer   \n",
       "1                   1.5                   0.40    DAVENPORT       Scott   \n",
       "2                  24.0                   6.34  CEDAR FALLS  Black Hawk   \n",
       "3                  10.5                   2.77         AMES       Story   \n",
       "4                  21.0                   5.55      BELMOND      Wright   \n",
       "\n",
       "   County Number  \n",
       "0              9  \n",
       "1             82  \n",
       "2              7  \n",
       "3             85  \n",
       "4             99  "
      ]
     },
     "execution_count": 202,
     "metadata": {},
     "output_type": "execute_result"
    }
   ],
   "source": [
    "df2.head()"
   ]
  },
  {
   "cell_type": "code",
   "execution_count": 203,
   "metadata": {
    "ExecuteTime": {
     "end_time": "2016-10-10T10:22:35.805686",
     "start_time": "2016-10-10T10:22:35.794209"
    },
    "collapsed": false,
    "slideshow": {
     "slide_type": "fragment"
    }
   },
   "outputs": [
    {
     "data": {
      "text/plain": [
       "Date                     datetime64[ns]\n",
       "Store Number                      int64\n",
       "Zip Code                          int64\n",
       "Category                        float64\n",
       "Category Name                    object\n",
       "Vendor Number                     int64\n",
       "Item Number                       int64\n",
       "Item Description                 object\n",
       "Bottle Volume (ml)                int64\n",
       "State Bottle Cost                object\n",
       "State Bottle Retail              object\n",
       "Bottles Sold                      int64\n",
       "Sale (Dollars)                   object\n",
       "Volume Sold (Liters)            float64\n",
       "Volume Sold (Gallons)           float64\n",
       "City                             object\n",
       "County                           object\n",
       "County Number                     int64\n",
       "dtype: object"
      ]
     },
     "execution_count": 203,
     "metadata": {},
     "output_type": "execute_result"
    }
   ],
   "source": [
    "df2.dtypes"
   ]
  },
  {
   "cell_type": "code",
   "execution_count": 204,
   "metadata": {
    "ExecuteTime": {
     "end_time": "2016-10-10T10:22:36.359501",
     "start_time": "2016-10-10T10:22:36.321912"
    },
    "collapsed": false
   },
   "outputs": [],
   "source": [
    "# Write a function that cross references related columns and fills the data in where it's missing\n",
    "def fill_missing(related_cols, column, dataframe):\n",
    "    related_cols.remove(column)\n",
    "    reference = dataframe[related_cols][dataframe[column].isnull()].drop_duplicates()\n",
    "    for j in range(len(related_cols)):\n",
    "        col_1 = reference[related_cols[j]]\n",
    "        for i in col_1:\n",
    "            try:\n",
    "                x = dataframe[column][(dataframe[related_cols[j]]==i) & (dataframe[column].notnull())].drop_duplicates()\n",
    "                if len(x) < 2:\n",
    "                    #print 'Missing: {}, Reference: {}, Ref_value: {}, filler: {}'.\\\n",
    "                    #format(column, related_cols[j], i, x.iloc[0])\n",
    "                    value = x.iloc[0]\n",
    "                    dataframe.ix[(dataframe[related_cols[j]]==i) & (dataframe[column].isnull()), column] = value\n",
    "            except:\n",
    "                pass"
   ]
  },
  {
   "cell_type": "code",
   "execution_count": 205,
   "metadata": {
    "ExecuteTime": {
     "end_time": "2016-10-10T10:22:37.341143",
     "start_time": "2016-10-10T10:22:37.129043"
    },
    "collapsed": false,
    "scrolled": false
   },
   "outputs": [],
   "source": [
    "fill_missing(['Category', 'Category Name'], 'Category Name', df2)\n",
    "fill_missing(['Category', 'Category Name'], 'Category', df2)\n",
    "\n",
    "fill_missing(['Item Number', 'Item Description'], 'Item Description', df2)\n",
    "fill_missing(['Item Number', 'Item Description'], 'Item Number', df2)"
   ]
  },
  {
   "cell_type": "code",
   "execution_count": 206,
   "metadata": {
    "ExecuteTime": {
     "end_time": "2016-10-10T10:22:38.761189",
     "start_time": "2016-10-10T10:22:38.173932"
    },
    "collapsed": false
   },
   "outputs": [],
   "source": [
    "# Convert all dollar columns to floats\n",
    "df2['State Bottle Cost'] = df2['State Bottle Cost'].map(lambda x: x.strip('$')).astype(float)\n",
    "df2['State Bottle Retail'] = df2['State Bottle Retail'].map(lambda x: x.strip('$')).astype(float)\n",
    "df2['Sale (Dollars)'] = df2['Sale (Dollars)'].map(lambda x: x.strip('$')).astype(float)"
   ]
  },
  {
   "cell_type": "code",
   "execution_count": 207,
   "metadata": {
    "ExecuteTime": {
     "end_time": "2016-10-10T10:22:42.394046",
     "start_time": "2016-10-10T10:22:39.329571"
    },
    "collapsed": false
   },
   "outputs": [],
   "source": [
    "# Extract Month and Year\n",
    "df2['Month'] = df2['Date'].map(lambda x: x.month)\n",
    "df2['Year'] = df2['Date'].map(lambda x: x.year)"
   ]
  },
  {
   "cell_type": "markdown",
   "metadata": {},
   "source": [
    "\n",
    "# Explore the data\n",
    "\n",
    "Perform some exploratory statistical analysis and make some plots, such as histograms of transaction totals, bottles sold, etc."
   ]
  },
  {
   "cell_type": "code",
   "execution_count": 208,
   "metadata": {
    "ExecuteTime": {
     "end_time": "2016-10-10T10:22:43.138445",
     "start_time": "2016-10-10T10:22:42.396266"
    },
    "collapsed": false
   },
   "outputs": [
    {
     "data": {
      "image/png": "[encoded data removed]",
      "text/plain": [
       "<matplotlib.figure.Figure at 0x11bd96510>"
      ]
     },
     "metadata": {},
     "output_type": "display_data"
    }
   ],
   "source": [
    "sns.heatmap(df2.corr());"
   ]
  },
  {
   "cell_type": "markdown",
   "metadata": {},
   "source": [
    "Based on the above heat map, we can see that:\n",
    "- bottle volume, state bottle cost, and state bottle retail are slightly correlated\n",
    "- bottles sold, sales revenue, and volumn sold are highly correlated\n",
    "    - our target variable is sales revenue, however since it is a direct function of bottles sold and price, we cannot use bottles sold to predict sales revenue (since it's a direct function, if you had one, you would have the other and there would be no need for prediction)"
   ]
  },
  {
   "cell_type": "markdown",
   "metadata": {},
   "source": [
    "Our hypothesis is that the demographics of an area would affect the liquor sales there.  \n",
    "Ideally, we would have wanted to combine our liquor sales data with the demographics data of the corresponding year.  \n",
    "We were unable to do that and have combined it with the demographics data that we were able to find.  \n",
    "- This may compromise our model and we should seek to improve it if possible"
   ]
  },
  {
   "cell_type": "code",
   "execution_count": 209,
   "metadata": {
    "ExecuteTime": {
     "end_time": "2016-10-10T10:22:45.028259",
     "start_time": "2016-10-10T10:22:44.968944"
    },
    "collapsed": false
   },
   "outputs": [],
   "source": [
    "demo_df = pd.read_csv('/Users/stel/joce/data_science/project-3-datasets/IowaZIPdemos.csv')"
   ]
  },
  {
   "cell_type": "code",
   "execution_count": 210,
   "metadata": {
    "ExecuteTime": {
     "end_time": "2016-10-10T10:22:45.376208",
     "start_time": "2016-10-10T10:22:45.363053"
    },
    "collapsed": false
   },
   "outputs": [],
   "source": [
    "demo_df.dropna(inplace=True)\n",
    "demo_df['Area'] = demo_df['Area'].astype(int)"
   ]
  },
  {
   "cell_type": "raw",
   "metadata": {
    "ExecuteTime": {
     "end_time": "2016-10-10T08:01:05.687194",
     "start_time": "2016-10-10T08:01:05.571083"
    },
    "collapsed": false
   },
   "source": [
    "demo_df.info()"
   ]
  },
  {
   "cell_type": "code",
   "execution_count": 211,
   "metadata": {
    "ExecuteTime": {
     "end_time": "2016-10-10T10:22:46.218900",
     "start_time": "2016-10-10T10:22:46.208660"
    },
    "collapsed": false
   },
   "outputs": [],
   "source": [
    "demo_cols = demo_df.columns.values.tolist()\n",
    "object_cols = [i for i in demo_cols if demo_df[i].dtype == 'O']"
   ]
  },
  {
   "cell_type": "code",
   "execution_count": 212,
   "metadata": {
    "ExecuteTime": {
     "end_time": "2016-10-10T10:22:46.733043",
     "start_time": "2016-10-10T10:22:46.610974"
    },
    "collapsed": false
   },
   "outputs": [],
   "source": [
    "def rem_symbols(x):\n",
    "    for i in [',', '%', '$', '-']:\n",
    "        x = x.replace(i, '')\n",
    "    try:\n",
    "        return float(x)\n",
    "    except:\n",
    "        print x\n",
    "    \n",
    "for i in object_cols:\n",
    "    demo_df[i] = demo_df[i].map(rem_symbols)"
   ]
  },
  {
   "cell_type": "raw",
   "metadata": {
    "ExecuteTime": {
     "end_time": "2016-10-09T19:58:44.045011",
     "start_time": "2016-10-09T19:58:43.980202"
    },
    "collapsed": false
   },
   "source": [
    "demo_df.dtypes"
   ]
  },
  {
   "cell_type": "raw",
   "metadata": {
    "ExecuteTime": {
     "end_time": "2016-10-10T08:01:15.775265",
     "start_time": "2016-10-10T08:01:15.697582"
    },
    "collapsed": false
   },
   "source": [
    "demo_df.head()"
   ]
  },
  {
   "cell_type": "raw",
   "metadata": {
    "ExecuteTime": {
     "end_time": "2016-10-10T08:01:59.167741",
     "start_time": "2016-10-10T12:01:43.149Z"
    }
   },
   "source": [
    "# check if our zips in the liquor sales df can all be found in the demographics df\n",
    "not_in_demo = []\n",
    "for i in df2['Zip Code']:\n",
    "    if not (i in demo_df['Area'].tolist()) and not (i in not_in_demo):\n",
    "        not_in_demo.append(i)\n",
    "\n",
    "print not_in_demo"
   ]
  },
  {
   "cell_type": "raw",
   "metadata": {
    "ExecuteTime": {
     "end_time": "2016-10-09T23:15:23.537349",
     "start_time": "2016-10-09T23:15:23.527261"
    }
   },
   "source": [
    "print demo_df['Area'].tolist()"
   ]
  },
  {
   "cell_type": "raw",
   "metadata": {},
   "source": [
    "Notes:\n",
    "- 52303 is not a valid zip code\n",
    "- Cedar Rapids is divided into 14 zip codes, the main ones are 52401, 52402, 52411, 52403, 52404 and 52405\n",
    "- 50023 is a valid zip code in Ankeny, Polk, Iowa\n",
    "- 52087 is not a valid zip code\n",
    "- Manchester, Delaware has a zip code 52057\n",
    "- 50163 is a valid zip code in Melcher-Dallas, Marion, Iowa\n",
    "- 52084 is not a valid zip code\n",
    "- Davenport, Scott has a zip code 52081\n",
    "- 50327 is a valid zip code for Pleasant Hill, Polk, Iowa\n",
    "- 52733 is a valid zip code for Clinton, Clinton, Iowa\n",
    "- 56201 is a zip code for Minnesota\n",
    "- Burlington, Des Moines, Iowa has a zip code 52601\n",
    "- 50324 is a valid zip code for Windsor Heights, Polk, Iowa\n",
    "- 50300 is not a valid zip code\n",
    "- Des Moines, Polk has a zip code 50316"
   ]
  },
  {
   "cell_type": "raw",
   "metadata": {
    "ExecuteTime": {
     "end_time": "2016-10-09T20:14:50.297924",
     "start_time": "2016-10-09T20:14:50.116842"
    }
   },
   "source": [
    "for i in not_in_demo:\n",
    "    print i, df[['City', 'County', 'County Number']][df['Zip Code']==i].drop_duplicates()\n",
    "    print "
   ]
  },
  {
   "cell_type": "raw",
   "metadata": {
    "ExecuteTime": {
     "end_time": "2016-10-10T08:02:44.073125",
     "start_time": "2016-10-10T08:02:38.590681"
    },
    "collapsed": false
   },
   "source": [
    "fig = plt.subplots(figsize=(16,8))\n",
    "sns.heatmap(df3.corr(), linewidths=0.5, linecolor='#000000')"
   ]
  },
  {
   "cell_type": "code",
   "execution_count": 213,
   "metadata": {
    "ExecuteTime": {
     "end_time": "2016-10-10T10:22:50.519448",
     "start_time": "2016-10-10T10:22:50.374784"
    },
    "collapsed": false
   },
   "outputs": [],
   "source": [
    "df3 = df2.copy()[df2['Year']==2015]\n",
    "df4 = pd.pivot_table(df3, index=['Zip Code'], \\\n",
    "               values=['Bottles Sold', 'Volume Sold (Liters)', 'Sale (Dollars)'],\\\n",
    "                     aggfunc=[np.median, sum]).reset_index()"
   ]
  },
  {
   "cell_type": "code",
   "execution_count": 214,
   "metadata": {
    "ExecuteTime": {
     "end_time": "2016-10-10T10:22:54.065663",
     "start_time": "2016-10-10T10:22:54.056876"
    },
    "collapsed": false
   },
   "outputs": [
    {
     "data": {
      "text/plain": [
       "MultiIndex(levels=[[u'median', u'sum', u'Zip Code'], [u'Bottles Sold', u'Sale (Dollars)', u'Volume Sold (Liters)', u'']],\n",
       "           labels=[[2, 0, 0, 0, 1, 1, 1], [3, 0, 1, 2, 0, 1, 2]])"
      ]
     },
     "execution_count": 214,
     "metadata": {},
     "output_type": "execute_result"
    }
   ],
   "source": [
    "df4.columns"
   ]
  },
  {
   "cell_type": "code",
   "execution_count": 215,
   "metadata": {
    "ExecuteTime": {
     "end_time": "2016-10-10T10:22:55.927906",
     "start_time": "2016-10-10T10:22:55.792274"
    },
    "collapsed": false
   },
   "outputs": [],
   "source": [
    "df2 = df2.merge(df4, how='left',on='Zip Code')"
   ]
  },
  {
   "cell_type": "code",
   "execution_count": 219,
   "metadata": {
    "ExecuteTime": {
     "end_time": "2016-10-10T10:25:43.889274",
     "start_time": "2016-10-10T10:25:43.743237"
    },
    "collapsed": true
   },
   "outputs": [],
   "source": [
    "df3_gb = df2[['Zip Code','Store Number']].drop_duplicates()\n",
    "df3_gb = df3_gb.rename(columns={'Store Number': 'StoreCount'})\n",
    "df3_gb = df3_gb.groupby(['Zip Code']).count().reset_index()"
   ]
  },
  {
   "cell_type": "code",
   "execution_count": 221,
   "metadata": {
    "ExecuteTime": {
     "end_time": "2016-10-10T10:26:22.975908",
     "start_time": "2016-10-10T10:26:22.818624"
    },
    "collapsed": true
   },
   "outputs": [],
   "source": [
    "df2 = df2.merge(df3_gb, how='left', on='Zip Code')"
   ]
  },
  {
   "cell_type": "code",
   "execution_count": 222,
   "metadata": {
    "ExecuteTime": {
     "end_time": "2016-10-10T10:26:29.600240",
     "start_time": "2016-10-10T10:26:29.514833"
    },
    "collapsed": false
   },
   "outputs": [
    {
     "data": {
      "text/html": [
       "<div>\n",
       "<table border=\"1\" class=\"dataframe\">\n",
       "  <thead>\n",
       "    <tr style=\"text-align: right;\">\n",
       "      <th></th>\n",
       "      <th>Date</th>\n",
       "      <th>Store Number</th>\n",
       "      <th>Zip Code</th>\n",
       "      <th>Category</th>\n",
       "      <th>Category Name</th>\n",
       "      <th>Vendor Number</th>\n",
       "      <th>Item Number</th>\n",
       "      <th>Item Description</th>\n",
       "      <th>Bottle Volume (ml)</th>\n",
       "      <th>State Bottle Cost</th>\n",
       "      <th>...</th>\n",
       "      <th>County Number</th>\n",
       "      <th>Month</th>\n",
       "      <th>Year</th>\n",
       "      <th>median bottles sold</th>\n",
       "      <th>median sales</th>\n",
       "      <th>median volume sold</th>\n",
       "      <th>total bottles sold</th>\n",
       "      <th>total sales</th>\n",
       "      <th>total volume sold</th>\n",
       "      <th>StoreCount</th>\n",
       "    </tr>\n",
       "  </thead>\n",
       "  <tbody>\n",
       "    <tr>\n",
       "      <th>0</th>\n",
       "      <td>2015-11-04</td>\n",
       "      <td>3717</td>\n",
       "      <td>50674</td>\n",
       "      <td>1051100.0</td>\n",
       "      <td>APRICOT BRANDIES</td>\n",
       "      <td>55</td>\n",
       "      <td>54436</td>\n",
       "      <td>Mr. Boston Apricot Brandy</td>\n",
       "      <td>750</td>\n",
       "      <td>4.50</td>\n",
       "      <td>...</td>\n",
       "      <td>9</td>\n",
       "      <td>11</td>\n",
       "      <td>2015</td>\n",
       "      <td>2.0</td>\n",
       "      <td>27.00</td>\n",
       "      <td>1.75</td>\n",
       "      <td>632.0</td>\n",
       "      <td>9022.86</td>\n",
       "      <td>685.53</td>\n",
       "      <td>1</td>\n",
       "    </tr>\n",
       "    <tr>\n",
       "      <th>1</th>\n",
       "      <td>2016-03-02</td>\n",
       "      <td>2614</td>\n",
       "      <td>52807</td>\n",
       "      <td>1011100.0</td>\n",
       "      <td>BLENDED WHISKIES</td>\n",
       "      <td>395</td>\n",
       "      <td>27605</td>\n",
       "      <td>Tin Cup</td>\n",
       "      <td>750</td>\n",
       "      <td>13.75</td>\n",
       "      <td>...</td>\n",
       "      <td>82</td>\n",
       "      <td>3</td>\n",
       "      <td>2016</td>\n",
       "      <td>6.0</td>\n",
       "      <td>99.00</td>\n",
       "      <td>9.00</td>\n",
       "      <td>39971.0</td>\n",
       "      <td>596760.04</td>\n",
       "      <td>39658.85</td>\n",
       "      <td>9</td>\n",
       "    </tr>\n",
       "    <tr>\n",
       "      <th>2</th>\n",
       "      <td>2016-02-11</td>\n",
       "      <td>2106</td>\n",
       "      <td>50613</td>\n",
       "      <td>1011200.0</td>\n",
       "      <td>STRAIGHT BOURBON WHISKIES</td>\n",
       "      <td>65</td>\n",
       "      <td>19067</td>\n",
       "      <td>Jim Beam</td>\n",
       "      <td>1000</td>\n",
       "      <td>12.59</td>\n",
       "      <td>...</td>\n",
       "      <td>7</td>\n",
       "      <td>2</td>\n",
       "      <td>2016</td>\n",
       "      <td>5.0</td>\n",
       "      <td>64.80</td>\n",
       "      <td>4.50</td>\n",
       "      <td>38503.0</td>\n",
       "      <td>516664.79</td>\n",
       "      <td>36408.33</td>\n",
       "      <td>16</td>\n",
       "    </tr>\n",
       "    <tr>\n",
       "      <th>3</th>\n",
       "      <td>2016-02-03</td>\n",
       "      <td>2501</td>\n",
       "      <td>50010</td>\n",
       "      <td>1071100.0</td>\n",
       "      <td>AMERICAN COCKTAILS</td>\n",
       "      <td>395</td>\n",
       "      <td>59154</td>\n",
       "      <td>1800 Ultimate Margarita</td>\n",
       "      <td>1750</td>\n",
       "      <td>9.50</td>\n",
       "      <td>...</td>\n",
       "      <td>85</td>\n",
       "      <td>2</td>\n",
       "      <td>2016</td>\n",
       "      <td>6.0</td>\n",
       "      <td>70.86</td>\n",
       "      <td>4.50</td>\n",
       "      <td>53617.0</td>\n",
       "      <td>772044.25</td>\n",
       "      <td>52520.63</td>\n",
       "      <td>21</td>\n",
       "    </tr>\n",
       "    <tr>\n",
       "      <th>4</th>\n",
       "      <td>2015-08-18</td>\n",
       "      <td>3654</td>\n",
       "      <td>50421</td>\n",
       "      <td>1031080.0</td>\n",
       "      <td>VODKA 80 PROOF</td>\n",
       "      <td>297</td>\n",
       "      <td>35918</td>\n",
       "      <td>Five O'clock Vodka</td>\n",
       "      <td>1750</td>\n",
       "      <td>7.20</td>\n",
       "      <td>...</td>\n",
       "      <td>99</td>\n",
       "      <td>8</td>\n",
       "      <td>2015</td>\n",
       "      <td>6.0</td>\n",
       "      <td>82.26</td>\n",
       "      <td>9.00</td>\n",
       "      <td>2129.0</td>\n",
       "      <td>27212.63</td>\n",
       "      <td>2448.50</td>\n",
       "      <td>3</td>\n",
       "    </tr>\n",
       "  </tbody>\n",
       "</table>\n",
       "<p>5 rows × 27 columns</p>\n",
       "</div>"
      ],
      "text/plain": [
       "        Date  Store Number  Zip Code   Category              Category Name  \\\n",
       "0 2015-11-04          3717     50674  1051100.0           APRICOT BRANDIES   \n",
       "1 2016-03-02          2614     52807  1011100.0           BLENDED WHISKIES   \n",
       "2 2016-02-11          2106     50613  1011200.0  STRAIGHT BOURBON WHISKIES   \n",
       "3 2016-02-03          2501     50010  1071100.0         AMERICAN COCKTAILS   \n",
       "4 2015-08-18          3654     50421  1031080.0             VODKA 80 PROOF   \n",
       "\n",
       "   Vendor Number  Item Number           Item Description  Bottle Volume (ml)  \\\n",
       "0             55        54436  Mr. Boston Apricot Brandy                 750   \n",
       "1            395        27605                    Tin Cup                 750   \n",
       "2             65        19067                   Jim Beam                1000   \n",
       "3            395        59154    1800 Ultimate Margarita                1750   \n",
       "4            297        35918         Five O'clock Vodka                1750   \n",
       "\n",
       "   State Bottle Cost     ...      County Number  Month  Year  \\\n",
       "0               4.50     ...                  9     11  2015   \n",
       "1              13.75     ...                 82      3  2016   \n",
       "2              12.59     ...                  7      2  2016   \n",
       "3               9.50     ...                 85      2  2016   \n",
       "4               7.20     ...                 99      8  2015   \n",
       "\n",
       "   median bottles sold  median sales median volume sold total bottles sold  \\\n",
       "0                  2.0         27.00               1.75              632.0   \n",
       "1                  6.0         99.00               9.00            39971.0   \n",
       "2                  5.0         64.80               4.50            38503.0   \n",
       "3                  6.0         70.86               4.50            53617.0   \n",
       "4                  6.0         82.26               9.00             2129.0   \n",
       "\n",
       "   total sales  total volume sold  StoreCount  \n",
       "0      9022.86             685.53           1  \n",
       "1    596760.04           39658.85           9  \n",
       "2    516664.79           36408.33          16  \n",
       "3    772044.25           52520.63          21  \n",
       "4     27212.63            2448.50           3  \n",
       "\n",
       "[5 rows x 27 columns]"
      ]
     },
     "execution_count": 222,
     "metadata": {},
     "output_type": "execute_result"
    }
   ],
   "source": [
    "df2.head()"
   ]
  },
  {
   "cell_type": "raw",
   "metadata": {
    "ExecuteTime": {
     "end_time": "2016-10-07T17:39:56.336939",
     "start_time": "2016-10-07T17:39:56.301067"
    },
    "collapsed": false
   },
   "source": [
    "df4.to_csv('liqour_plus_demo.csv')"
   ]
  },
  {
   "cell_type": "code",
   "execution_count": 223,
   "metadata": {
    "ExecuteTime": {
     "end_time": "2016-10-10T10:26:41.439545",
     "start_time": "2016-10-10T10:26:41.432760"
    },
    "collapsed": false
   },
   "outputs": [],
   "source": [
    "df2.columns = ['Date', 'Store Number', 'Zip Code', 'Category', 'Category Name',\\\n",
    "       'Vendor Number', 'Item Number', 'Item Description',\\\n",
    "       'Bottle Volume (ml)', 'State Bottle Cost', 'State Bottle Retail',\\\n",
    "       'Bottles Sold', 'Sale (Dollars)', 'Volume Sold (Liters)',\\\n",
    "       'Volume Sold (Gallons)', 'City', 'County', 'County Number', 'Month',\\\n",
    "       'Year', 'median bottles sold', 'median sales',\\\n",
    "       'median volume sold', 'total bottles sold', 'total sales', 'total volume sold', 'Store Count']"
   ]
  },
  {
   "cell_type": "code",
   "execution_count": 224,
   "metadata": {
    "ExecuteTime": {
     "end_time": "2016-10-10T10:26:46.917280",
     "start_time": "2016-10-10T10:26:46.751458"
    },
    "collapsed": false
   },
   "outputs": [],
   "source": [
    "df5 = df2[['Store Number', 'Zip Code', 'City', 'County', 'County Number', 'Category',\\\n",
    "           'Vendor Number', 'Item Number', 'Bottle Volume (ml)',\\\n",
    "           'State Bottle Cost', 'State Bottle Retail', 'Sale (Dollars)' ,\\\n",
    "          'median bottles sold', 'median sales',\\\n",
    "       'median volume sold', 'total bottles sold', 'total sales', 'total volume sold', 'Store Count']]"
   ]
  },
  {
   "cell_type": "code",
   "execution_count": 225,
   "metadata": {
    "ExecuteTime": {
     "end_time": "2016-10-10T10:26:49.369334",
     "start_time": "2016-10-10T10:26:49.143397"
    },
    "collapsed": true
   },
   "outputs": [],
   "source": [
    "df5 = df5.merge(demo_df, how='left', left_on='Zip Code', right_on='Area')"
   ]
  },
  {
   "cell_type": "raw",
   "metadata": {
    "ExecuteTime": {
     "end_time": "2016-10-10T08:08:13.780488",
     "start_time": "2016-10-10T08:08:09.011961"
    },
    "collapsed": false
   },
   "source": [
    "fig = plt.subplots(figsize=(16,8))\n",
    "sns.heatmap(df5.corr())"
   ]
  },
  {
   "cell_type": "raw",
   "metadata": {
    "ExecuteTime": {
     "end_time": "2016-10-10T08:08:13.791674",
     "start_time": "2016-10-10T08:08:13.783718"
    },
    "collapsed": false
   },
   "source": [
    "df5.shape"
   ]
  },
  {
   "cell_type": "raw",
   "metadata": {
    "ExecuteTime": {
     "end_time": "2016-10-07T17:39:58.327784",
     "start_time": "2016-10-07T17:39:58.320750"
    },
    "collapsed": false
   },
   "source": [
    "df5['Above 21'] = pd.Series(df5[df5.columns.values[22:31]].sum(axis=1))"
   ]
  },
  {
   "cell_type": "raw",
   "metadata": {
    "ExecuteTime": {
     "end_time": "2016-10-10T08:08:24.967901",
     "start_time": "2016-10-10T08:08:24.891809"
    },
    "collapsed": false
   },
   "source": [
    "df5.head()"
   ]
  },
  {
   "cell_type": "raw",
   "metadata": {
    "collapsed": false
   },
   "source": [
    "# groupby store, then by year\n",
    "df3.groupby(['Store Number', 'Year'])[['Bottles Sold']].sum()"
   ]
  },
  {
   "cell_type": "raw",
   "metadata": {
    "collapsed": false,
    "scrolled": false
   },
   "source": [
    "df3.corr().loc['Sale (Dollars)',:]"
   ]
  },
  {
   "cell_type": "raw",
   "metadata": {
    "ExecuteTime": {
     "end_time": "2016-10-07T16:46:47.577651",
     "start_time": "2016-10-07T16:46:47.552072"
    }
   },
   "source": [
    "df5.info()"
   ]
  },
  {
   "cell_type": "code",
   "execution_count": 226,
   "metadata": {
    "ExecuteTime": {
     "end_time": "2016-10-10T10:26:52.248144",
     "start_time": "2016-10-10T10:26:51.822761"
    },
    "collapsed": false
   },
   "outputs": [],
   "source": [
    "df6 = df5.copy()"
   ]
  },
  {
   "cell_type": "raw",
   "metadata": {
    "ExecuteTime": {
     "end_time": "2016-10-07T16:55:49.870068",
     "start_time": "2016-10-07T16:55:49.859740"
    }
   },
   "source": [
    "df5 = df5.drop(df5[(df5['Store Number'] == 4829) | (df5['Store Number'] == 2633) | (df5['Store Number'] == 3385)].index)"
   ]
  },
  {
   "cell_type": "raw",
   "metadata": {
    "ExecuteTime": {
     "end_time": "2016-10-07T16:55:38.550818",
     "start_time": "2016-10-07T16:55:38.537251"
    }
   },
   "source": [
    "df5[(df5['Store Number'] == 4829) | (df5['Store Number'] == 2633) | (df5['Store Number'] == 3385)].index"
   ]
  },
  {
   "cell_type": "code",
   "execution_count": 227,
   "metadata": {
    "ExecuteTime": {
     "end_time": "2016-10-10T10:26:53.450512",
     "start_time": "2016-10-10T10:26:53.439050"
    },
    "collapsed": true
   },
   "outputs": [],
   "source": [
    "sales_median = df5['total sales'].median()\n",
    "sales_std = df5['total sales'].std()"
   ]
  },
  {
   "cell_type": "code",
   "execution_count": 228,
   "metadata": {
    "ExecuteTime": {
     "end_time": "2016-10-10T10:26:56.101403",
     "start_time": "2016-10-10T10:26:55.882143"
    },
    "collapsed": true
   },
   "outputs": [],
   "source": [
    "# Remove outliers in sales that are 3 std away from the median\n",
    "df5 = df5[abs(df5['total sales'] - sales_median) <= 3*sales_std]"
   ]
  },
  {
   "cell_type": "code",
   "execution_count": 229,
   "metadata": {
    "ExecuteTime": {
     "end_time": "2016-10-10T10:26:56.143130",
     "start_time": "2016-10-10T10:26:56.105776"
    },
    "collapsed": false
   },
   "outputs": [
    {
     "data": {
      "text/plain": [
       "count    263122.000000\n",
       "mean     270362.112885\n",
       "std      245802.812541\n",
       "min          90.000000\n",
       "25%       76787.320000\n",
       "50%      191106.040000\n",
       "75%      396654.500000\n",
       "max      981966.840000\n",
       "Name: total sales, dtype: float64"
      ]
     },
     "execution_count": 229,
     "metadata": {},
     "output_type": "execute_result"
    }
   ],
   "source": [
    "df5['total sales'].describe()"
   ]
  },
  {
   "cell_type": "code",
   "execution_count": 230,
   "metadata": {
    "ExecuteTime": {
     "end_time": "2016-10-10T10:26:56.691410",
     "start_time": "2016-10-10T10:26:56.655583"
    },
    "collapsed": false
   },
   "outputs": [
    {
     "data": {
      "text/plain": [
       "count    263122.000000\n",
       "mean         72.046231\n",
       "std          21.971069\n",
       "min          15.105000\n",
       "25%          61.200000\n",
       "50%          72.000000\n",
       "75%          86.400000\n",
       "max         616.980000\n",
       "Name: median sales, dtype: float64"
      ]
     },
     "execution_count": 230,
     "metadata": {},
     "output_type": "execute_result"
    }
   ],
   "source": [
    "df5['median sales'].describe()"
   ]
  },
  {
   "cell_type": "code",
   "execution_count": 241,
   "metadata": {
    "ExecuteTime": {
     "end_time": "2016-10-10T10:27:44.992338",
     "start_time": "2016-10-10T10:27:44.985950"
    },
    "collapsed": false
   },
   "outputs": [
    {
     "name": "stdout",
     "output_type": "stream",
     "text": [
      "['Store Number', 'Zip Code', 'City', 'County', 'County Number', 'Category', 'Vendor Number', 'Item Number', 'Bottle Volume (ml)', 'State Bottle Cost', 'State Bottle Retail', 'Sale (Dollars)', 'median bottles sold', 'median sales', 'median volume sold', 'total bottles sold', 'total sales', 'total volume sold', 'Store Count', 'Area', 'Total Pop', 'Median HH Inc', 'Per Capita Inc', 'White', 'Afr Amer', 'Native Amer', 'Asian Amer', 'Pac Islander', 'Other', 'Bi- Multi-Racial', 'Hispanic or Latino', 'Med Age', '<5 years', '5-17 yrs', '18-20 yrs', '21-24 yrs', '25-34 yrs', '35-44 yrs', '45-54 yrs', '55-59 yrs', '60-64 yrs', '65-74 yrs', '78-84 yrs', '85+ yrs', '% P16+ in labor force', 'Total # Homes Owned', 'Med. Home Value', 'Tot Housing units', 'Owner occupied housing units', 'Renter occupied housing units', 'households', 'Family households', 'Married-couple family households', 'Single mother households', 'Nonfamily households', 'Single Occupancy', 'Avg HH Size', 'Avg Family Size', 'Pop Below Poverty Level', '% P25+ HS Grad', '% P25-54 BA+']\n"
     ]
    }
   ],
   "source": [
    "features = df5.columns.values.tolist()\n",
    "print features"
   ]
  },
  {
   "cell_type": "code",
   "execution_count": 242,
   "metadata": {
    "ExecuteTime": {
     "end_time": "2016-10-10T10:27:45.263829",
     "start_time": "2016-10-10T10:27:45.255709"
    },
    "collapsed": false
   },
   "outputs": [],
   "source": [
    "drop_features = ['Store Number', 'Zip Code', 'City', 'County', 'County Number',\\\n",
    "                 'Category', 'Vendor Number', 'Item Number', 'Bottle Volume (ml)',\\\n",
    "                 'State Bottle Cost', 'State Bottle Retail', 'Sale (Dollars)',\\\n",
    "                 'median bottles sold', 'median sales', 'median volume sold', 'total bottles sold',\\\n",
    "                 'total sales', 'total volume sold', 'Area', 'Store Count']\n",
    "for i in drop_features:\n",
    "    features.remove(i)\n"
   ]
  },
  {
   "cell_type": "code",
   "execution_count": 243,
   "metadata": {
    "ExecuteTime": {
     "end_time": "2016-10-10T10:27:46.294334",
     "start_time": "2016-10-10T10:27:45.522641"
    },
    "collapsed": true
   },
   "outputs": [],
   "source": [
    "df6 = df5.copy().dropna()\n",
    "X = df6[features]"
   ]
  },
  {
   "cell_type": "code",
   "execution_count": 244,
   "metadata": {
    "ExecuteTime": {
     "end_time": "2016-10-10T10:27:54.762485",
     "start_time": "2016-10-10T10:27:46.297121"
    },
    "collapsed": false
   },
   "outputs": [
    {
     "name": "stdout",
     "output_type": "stream",
     "text": [
      "0.863178710177\n",
      "0.1\n"
     ]
    }
   ],
   "source": [
    "y = df6['total sales']\n",
    "ridge = linear_model.RidgeCV(cv=5)\n",
    "model = ridge.fit(X,y)\n",
    "print model.score(X,y)\n",
    "print model.alpha_"
   ]
  },
  {
   "cell_type": "code",
   "execution_count": 245,
   "metadata": {
    "ExecuteTime": {
     "end_time": "2016-10-10T10:27:54.856378",
     "start_time": "2016-10-10T10:27:54.767229"
    },
    "collapsed": false
   },
   "outputs": [
    {
     "data": {
      "text/html": [
       "<div>\n",
       "<table border=\"1\" class=\"dataframe\">\n",
       "  <thead>\n",
       "    <tr style=\"text-align: right;\">\n",
       "      <th></th>\n",
       "      <th>feature</th>\n",
       "      <th>coef</th>\n",
       "    </tr>\n",
       "  </thead>\n",
       "  <tbody>\n",
       "    <tr>\n",
       "      <th>39</th>\n",
       "      <td>% P25+ HS Grad</td>\n",
       "      <td>2930.273179</td>\n",
       "    </tr>\n",
       "    <tr>\n",
       "      <th>35</th>\n",
       "      <td>Single Occupancy</td>\n",
       "      <td>703.995206</td>\n",
       "    </tr>\n",
       "    <tr>\n",
       "      <th>21</th>\n",
       "      <td>65-74 yrs</td>\n",
       "      <td>516.821560</td>\n",
       "    </tr>\n",
       "    <tr>\n",
       "      <th>12</th>\n",
       "      <td>&lt;5 years</td>\n",
       "      <td>486.929733</td>\n",
       "    </tr>\n",
       "    <tr>\n",
       "      <th>9</th>\n",
       "      <td>Bi- Multi-Racial</td>\n",
       "      <td>353.003054</td>\n",
       "    </tr>\n",
       "    <tr>\n",
       "      <th>7</th>\n",
       "      <td>Pac Islander</td>\n",
       "      <td>349.893822</td>\n",
       "    </tr>\n",
       "    <tr>\n",
       "      <th>32</th>\n",
       "      <td>Married-couple family households</td>\n",
       "      <td>344.221515</td>\n",
       "    </tr>\n",
       "    <tr>\n",
       "      <th>15</th>\n",
       "      <td>21-24 yrs</td>\n",
       "      <td>334.289533</td>\n",
       "    </tr>\n",
       "    <tr>\n",
       "      <th>17</th>\n",
       "      <td>35-44 yrs</td>\n",
       "      <td>204.918265</td>\n",
       "    </tr>\n",
       "    <tr>\n",
       "      <th>30</th>\n",
       "      <td>households</td>\n",
       "      <td>160.309519</td>\n",
       "    </tr>\n",
       "    <tr>\n",
       "      <th>38</th>\n",
       "      <td>Pop Below Poverty Level</td>\n",
       "      <td>154.464462</td>\n",
       "    </tr>\n",
       "    <tr>\n",
       "      <th>33</th>\n",
       "      <td>Single mother households</td>\n",
       "      <td>129.545680</td>\n",
       "    </tr>\n",
       "    <tr>\n",
       "      <th>0</th>\n",
       "      <td>Total Pop</td>\n",
       "      <td>74.031188</td>\n",
       "    </tr>\n",
       "    <tr>\n",
       "      <th>26</th>\n",
       "      <td>Med. Home Value</td>\n",
       "      <td>2.266856</td>\n",
       "    </tr>\n",
       "    <tr>\n",
       "      <th>27</th>\n",
       "      <td>Tot Housing units</td>\n",
       "      <td>0.970509</td>\n",
       "    </tr>\n",
       "    <tr>\n",
       "      <th>1</th>\n",
       "      <td>Median HH Inc</td>\n",
       "      <td>-1.974390</td>\n",
       "    </tr>\n",
       "    <tr>\n",
       "      <th>2</th>\n",
       "      <td>Per Capita Inc</td>\n",
       "      <td>-7.501056</td>\n",
       "    </tr>\n",
       "    <tr>\n",
       "      <th>14</th>\n",
       "      <td>18-20 yrs</td>\n",
       "      <td>-27.546612</td>\n",
       "    </tr>\n",
       "    <tr>\n",
       "      <th>18</th>\n",
       "      <td>45-54 yrs</td>\n",
       "      <td>-38.847759</td>\n",
       "    </tr>\n",
       "    <tr>\n",
       "      <th>8</th>\n",
       "      <td>Other</td>\n",
       "      <td>-50.383946</td>\n",
       "    </tr>\n",
       "    <tr>\n",
       "      <th>25</th>\n",
       "      <td>Total # Homes Owned</td>\n",
       "      <td>-51.781722</td>\n",
       "    </tr>\n",
       "    <tr>\n",
       "      <th>13</th>\n",
       "      <td>5-17 yrs</td>\n",
       "      <td>-81.319252</td>\n",
       "    </tr>\n",
       "    <tr>\n",
       "      <th>10</th>\n",
       "      <td>Hispanic or Latino</td>\n",
       "      <td>-119.614218</td>\n",
       "    </tr>\n",
       "    <tr>\n",
       "      <th>6</th>\n",
       "      <td>Asian Amer</td>\n",
       "      <td>-187.424369</td>\n",
       "    </tr>\n",
       "    <tr>\n",
       "      <th>3</th>\n",
       "      <td>White</td>\n",
       "      <td>-207.772092</td>\n",
       "    </tr>\n",
       "    <tr>\n",
       "      <th>4</th>\n",
       "      <td>Afr Amer</td>\n",
       "      <td>-210.855617</td>\n",
       "    </tr>\n",
       "    <tr>\n",
       "      <th>31</th>\n",
       "      <td>Family households</td>\n",
       "      <td>-229.407474</td>\n",
       "    </tr>\n",
       "    <tr>\n",
       "      <th>16</th>\n",
       "      <td>25-34 yrs</td>\n",
       "      <td>-257.098259</td>\n",
       "    </tr>\n",
       "    <tr>\n",
       "      <th>19</th>\n",
       "      <td>55-59 yrs</td>\n",
       "      <td>-285.061429</td>\n",
       "    </tr>\n",
       "    <tr>\n",
       "      <th>28</th>\n",
       "      <td>Owner occupied housing units</td>\n",
       "      <td>-290.840113</td>\n",
       "    </tr>\n",
       "    <tr>\n",
       "      <th>29</th>\n",
       "      <td>Renter occupied housing units</td>\n",
       "      <td>-293.099009</td>\n",
       "    </tr>\n",
       "    <tr>\n",
       "      <th>22</th>\n",
       "      <td>78-84 yrs</td>\n",
       "      <td>-315.071972</td>\n",
       "    </tr>\n",
       "    <tr>\n",
       "      <th>20</th>\n",
       "      <td>60-64 yrs</td>\n",
       "      <td>-327.454526</td>\n",
       "    </tr>\n",
       "    <tr>\n",
       "      <th>34</th>\n",
       "      <td>Nonfamily households</td>\n",
       "      <td>-378.973671</td>\n",
       "    </tr>\n",
       "    <tr>\n",
       "      <th>23</th>\n",
       "      <td>85+ yrs</td>\n",
       "      <td>-422.277160</td>\n",
       "    </tr>\n",
       "    <tr>\n",
       "      <th>5</th>\n",
       "      <td>Native Amer</td>\n",
       "      <td>-468.241647</td>\n",
       "    </tr>\n",
       "    <tr>\n",
       "      <th>40</th>\n",
       "      <td>% P25-54 BA+</td>\n",
       "      <td>-655.882449</td>\n",
       "    </tr>\n",
       "    <tr>\n",
       "      <th>24</th>\n",
       "      <td>% P16+ in labor force</td>\n",
       "      <td>-2302.777040</td>\n",
       "    </tr>\n",
       "    <tr>\n",
       "      <th>11</th>\n",
       "      <td>Med Age</td>\n",
       "      <td>-2890.020433</td>\n",
       "    </tr>\n",
       "    <tr>\n",
       "      <th>37</th>\n",
       "      <td>Avg Family Size</td>\n",
       "      <td>-7766.850214</td>\n",
       "    </tr>\n",
       "    <tr>\n",
       "      <th>36</th>\n",
       "      <td>Avg HH Size</td>\n",
       "      <td>-150099.654218</td>\n",
       "    </tr>\n",
       "  </tbody>\n",
       "</table>\n",
       "</div>"
      ],
      "text/plain": [
       "                             feature           coef\n",
       "39                    % P25+ HS Grad    2930.273179\n",
       "35                  Single Occupancy     703.995206\n",
       "21                         65-74 yrs     516.821560\n",
       "12                          <5 years     486.929733\n",
       "9                   Bi- Multi-Racial     353.003054\n",
       "7                       Pac Islander     349.893822\n",
       "32  Married-couple family households     344.221515\n",
       "15                         21-24 yrs     334.289533\n",
       "17                         35-44 yrs     204.918265\n",
       "30                        households     160.309519\n",
       "38           Pop Below Poverty Level     154.464462\n",
       "33          Single mother households     129.545680\n",
       "0                          Total Pop      74.031188\n",
       "26                   Med. Home Value       2.266856\n",
       "27                 Tot Housing units       0.970509\n",
       "1                      Median HH Inc      -1.974390\n",
       "2                     Per Capita Inc      -7.501056\n",
       "14                         18-20 yrs     -27.546612\n",
       "18                         45-54 yrs     -38.847759\n",
       "8                              Other     -50.383946\n",
       "25               Total # Homes Owned     -51.781722\n",
       "13                          5-17 yrs     -81.319252\n",
       "10                Hispanic or Latino    -119.614218\n",
       "6                         Asian Amer    -187.424369\n",
       "3                              White    -207.772092\n",
       "4                           Afr Amer    -210.855617\n",
       "31                 Family households    -229.407474\n",
       "16                         25-34 yrs    -257.098259\n",
       "19                         55-59 yrs    -285.061429\n",
       "28      Owner occupied housing units    -290.840113\n",
       "29     Renter occupied housing units    -293.099009\n",
       "22                         78-84 yrs    -315.071972\n",
       "20                         60-64 yrs    -327.454526\n",
       "34              Nonfamily households    -378.973671\n",
       "23                           85+ yrs    -422.277160\n",
       "5                        Native Amer    -468.241647\n",
       "40                      % P25-54 BA+    -655.882449\n",
       "24             % P16+ in labor force   -2302.777040\n",
       "11                           Med Age   -2890.020433\n",
       "37                   Avg Family Size   -7766.850214\n",
       "36                       Avg HH Size -150099.654218"
      ]
     },
     "execution_count": 245,
     "metadata": {},
     "output_type": "execute_result"
    }
   ],
   "source": [
    "x = pd.DataFrame([features, model.coef_.tolist()], index=['feature', 'coef']).T\n",
    "x['coef'] = x['coef'].astype(float)\n",
    "x = x.sort_values(by='coef', ascending=False)\n",
    "x"
   ]
  },
  {
   "cell_type": "code",
   "execution_count": 246,
   "metadata": {
    "ExecuteTime": {
     "end_time": "2016-10-10T10:27:58.678826",
     "start_time": "2016-10-10T10:27:54.860029"
    },
    "collapsed": false
   },
   "outputs": [
    {
     "data": {
      "text/plain": [
       "<matplotlib.collections.PathCollection at 0x11d937b50>"
      ]
     },
     "execution_count": 246,
     "metadata": {},
     "output_type": "execute_result"
    },
    {
     "data": {
      "image/png": "[encoded data removed]",
      "text/plain": [
       "<matplotlib.figure.Figure at 0x118fc9290>"
      ]
     },
     "metadata": {},
     "output_type": "display_data"
    }
   ],
   "source": [
    "predicted = model.predict(X)\n",
    "\n",
    "plt.scatter(predicted, y)"
   ]
  },
  {
   "cell_type": "code",
   "execution_count": 247,
   "metadata": {
    "ExecuteTime": {
     "end_time": "2016-10-10T10:28:06.658835",
     "start_time": "2016-10-10T10:27:58.681382"
    },
    "collapsed": false
   },
   "outputs": [
    {
     "name": "stdout",
     "output_type": "stream",
     "text": [
      "0.381897506188\n",
      "0.1\n"
     ]
    }
   ],
   "source": [
    "y2 = df6['median sales']\n",
    "ridge = linear_model.RidgeCV(cv=5)\n",
    "model2 = ridge.fit(X,y2)\n",
    "print model2.score(X,y2)\n",
    "print model2.alpha_"
   ]
  },
  {
   "cell_type": "code",
   "execution_count": 248,
   "metadata": {
    "ExecuteTime": {
     "end_time": "2016-10-10T10:28:06.733612",
     "start_time": "2016-10-10T10:28:06.661893"
    },
    "collapsed": false
   },
   "outputs": [
    {
     "data": {
      "text/html": [
       "<div>\n",
       "<table border=\"1\" class=\"dataframe\">\n",
       "  <thead>\n",
       "    <tr style=\"text-align: right;\">\n",
       "      <th></th>\n",
       "      <th>feature</th>\n",
       "      <th>coef</th>\n",
       "    </tr>\n",
       "  </thead>\n",
       "  <tbody>\n",
       "    <tr>\n",
       "      <th>39</th>\n",
       "      <td>% P25+ HS Grad</td>\n",
       "      <td>2930.273179</td>\n",
       "    </tr>\n",
       "    <tr>\n",
       "      <th>35</th>\n",
       "      <td>Single Occupancy</td>\n",
       "      <td>703.995206</td>\n",
       "    </tr>\n",
       "    <tr>\n",
       "      <th>21</th>\n",
       "      <td>65-74 yrs</td>\n",
       "      <td>516.821560</td>\n",
       "    </tr>\n",
       "    <tr>\n",
       "      <th>12</th>\n",
       "      <td>&lt;5 years</td>\n",
       "      <td>486.929733</td>\n",
       "    </tr>\n",
       "    <tr>\n",
       "      <th>9</th>\n",
       "      <td>Bi- Multi-Racial</td>\n",
       "      <td>353.003054</td>\n",
       "    </tr>\n",
       "    <tr>\n",
       "      <th>7</th>\n",
       "      <td>Pac Islander</td>\n",
       "      <td>349.893822</td>\n",
       "    </tr>\n",
       "    <tr>\n",
       "      <th>32</th>\n",
       "      <td>Married-couple family households</td>\n",
       "      <td>344.221515</td>\n",
       "    </tr>\n",
       "    <tr>\n",
       "      <th>15</th>\n",
       "      <td>21-24 yrs</td>\n",
       "      <td>334.289533</td>\n",
       "    </tr>\n",
       "    <tr>\n",
       "      <th>17</th>\n",
       "      <td>35-44 yrs</td>\n",
       "      <td>204.918265</td>\n",
       "    </tr>\n",
       "    <tr>\n",
       "      <th>30</th>\n",
       "      <td>households</td>\n",
       "      <td>160.309519</td>\n",
       "    </tr>\n",
       "    <tr>\n",
       "      <th>38</th>\n",
       "      <td>Pop Below Poverty Level</td>\n",
       "      <td>154.464462</td>\n",
       "    </tr>\n",
       "    <tr>\n",
       "      <th>33</th>\n",
       "      <td>Single mother households</td>\n",
       "      <td>129.545680</td>\n",
       "    </tr>\n",
       "    <tr>\n",
       "      <th>0</th>\n",
       "      <td>Total Pop</td>\n",
       "      <td>74.031188</td>\n",
       "    </tr>\n",
       "    <tr>\n",
       "      <th>26</th>\n",
       "      <td>Med. Home Value</td>\n",
       "      <td>2.266856</td>\n",
       "    </tr>\n",
       "    <tr>\n",
       "      <th>27</th>\n",
       "      <td>Tot Housing units</td>\n",
       "      <td>0.970509</td>\n",
       "    </tr>\n",
       "    <tr>\n",
       "      <th>1</th>\n",
       "      <td>Median HH Inc</td>\n",
       "      <td>-1.974390</td>\n",
       "    </tr>\n",
       "    <tr>\n",
       "      <th>2</th>\n",
       "      <td>Per Capita Inc</td>\n",
       "      <td>-7.501056</td>\n",
       "    </tr>\n",
       "    <tr>\n",
       "      <th>14</th>\n",
       "      <td>18-20 yrs</td>\n",
       "      <td>-27.546612</td>\n",
       "    </tr>\n",
       "    <tr>\n",
       "      <th>18</th>\n",
       "      <td>45-54 yrs</td>\n",
       "      <td>-38.847759</td>\n",
       "    </tr>\n",
       "    <tr>\n",
       "      <th>8</th>\n",
       "      <td>Other</td>\n",
       "      <td>-50.383946</td>\n",
       "    </tr>\n",
       "    <tr>\n",
       "      <th>25</th>\n",
       "      <td>Total # Homes Owned</td>\n",
       "      <td>-51.781722</td>\n",
       "    </tr>\n",
       "    <tr>\n",
       "      <th>13</th>\n",
       "      <td>5-17 yrs</td>\n",
       "      <td>-81.319252</td>\n",
       "    </tr>\n",
       "    <tr>\n",
       "      <th>10</th>\n",
       "      <td>Hispanic or Latino</td>\n",
       "      <td>-119.614218</td>\n",
       "    </tr>\n",
       "    <tr>\n",
       "      <th>6</th>\n",
       "      <td>Asian Amer</td>\n",
       "      <td>-187.424369</td>\n",
       "    </tr>\n",
       "    <tr>\n",
       "      <th>3</th>\n",
       "      <td>White</td>\n",
       "      <td>-207.772092</td>\n",
       "    </tr>\n",
       "    <tr>\n",
       "      <th>4</th>\n",
       "      <td>Afr Amer</td>\n",
       "      <td>-210.855617</td>\n",
       "    </tr>\n",
       "    <tr>\n",
       "      <th>31</th>\n",
       "      <td>Family households</td>\n",
       "      <td>-229.407474</td>\n",
       "    </tr>\n",
       "    <tr>\n",
       "      <th>16</th>\n",
       "      <td>25-34 yrs</td>\n",
       "      <td>-257.098259</td>\n",
       "    </tr>\n",
       "    <tr>\n",
       "      <th>19</th>\n",
       "      <td>55-59 yrs</td>\n",
       "      <td>-285.061429</td>\n",
       "    </tr>\n",
       "    <tr>\n",
       "      <th>28</th>\n",
       "      <td>Owner occupied housing units</td>\n",
       "      <td>-290.840113</td>\n",
       "    </tr>\n",
       "    <tr>\n",
       "      <th>29</th>\n",
       "      <td>Renter occupied housing units</td>\n",
       "      <td>-293.099009</td>\n",
       "    </tr>\n",
       "    <tr>\n",
       "      <th>22</th>\n",
       "      <td>78-84 yrs</td>\n",
       "      <td>-315.071972</td>\n",
       "    </tr>\n",
       "    <tr>\n",
       "      <th>20</th>\n",
       "      <td>60-64 yrs</td>\n",
       "      <td>-327.454526</td>\n",
       "    </tr>\n",
       "    <tr>\n",
       "      <th>34</th>\n",
       "      <td>Nonfamily households</td>\n",
       "      <td>-378.973671</td>\n",
       "    </tr>\n",
       "    <tr>\n",
       "      <th>23</th>\n",
       "      <td>85+ yrs</td>\n",
       "      <td>-422.277160</td>\n",
       "    </tr>\n",
       "    <tr>\n",
       "      <th>5</th>\n",
       "      <td>Native Amer</td>\n",
       "      <td>-468.241647</td>\n",
       "    </tr>\n",
       "    <tr>\n",
       "      <th>40</th>\n",
       "      <td>% P25-54 BA+</td>\n",
       "      <td>-655.882449</td>\n",
       "    </tr>\n",
       "    <tr>\n",
       "      <th>24</th>\n",
       "      <td>% P16+ in labor force</td>\n",
       "      <td>-2302.777040</td>\n",
       "    </tr>\n",
       "    <tr>\n",
       "      <th>11</th>\n",
       "      <td>Med Age</td>\n",
       "      <td>-2890.020433</td>\n",
       "    </tr>\n",
       "    <tr>\n",
       "      <th>37</th>\n",
       "      <td>Avg Family Size</td>\n",
       "      <td>-7766.850214</td>\n",
       "    </tr>\n",
       "    <tr>\n",
       "      <th>36</th>\n",
       "      <td>Avg HH Size</td>\n",
       "      <td>-150099.654218</td>\n",
       "    </tr>\n",
       "  </tbody>\n",
       "</table>\n",
       "</div>"
      ],
      "text/plain": [
       "                             feature           coef\n",
       "39                    % P25+ HS Grad    2930.273179\n",
       "35                  Single Occupancy     703.995206\n",
       "21                         65-74 yrs     516.821560\n",
       "12                          <5 years     486.929733\n",
       "9                   Bi- Multi-Racial     353.003054\n",
       "7                       Pac Islander     349.893822\n",
       "32  Married-couple family households     344.221515\n",
       "15                         21-24 yrs     334.289533\n",
       "17                         35-44 yrs     204.918265\n",
       "30                        households     160.309519\n",
       "38           Pop Below Poverty Level     154.464462\n",
       "33          Single mother households     129.545680\n",
       "0                          Total Pop      74.031188\n",
       "26                   Med. Home Value       2.266856\n",
       "27                 Tot Housing units       0.970509\n",
       "1                      Median HH Inc      -1.974390\n",
       "2                     Per Capita Inc      -7.501056\n",
       "14                         18-20 yrs     -27.546612\n",
       "18                         45-54 yrs     -38.847759\n",
       "8                              Other     -50.383946\n",
       "25               Total # Homes Owned     -51.781722\n",
       "13                          5-17 yrs     -81.319252\n",
       "10                Hispanic or Latino    -119.614218\n",
       "6                         Asian Amer    -187.424369\n",
       "3                              White    -207.772092\n",
       "4                           Afr Amer    -210.855617\n",
       "31                 Family households    -229.407474\n",
       "16                         25-34 yrs    -257.098259\n",
       "19                         55-59 yrs    -285.061429\n",
       "28      Owner occupied housing units    -290.840113\n",
       "29     Renter occupied housing units    -293.099009\n",
       "22                         78-84 yrs    -315.071972\n",
       "20                         60-64 yrs    -327.454526\n",
       "34              Nonfamily households    -378.973671\n",
       "23                           85+ yrs    -422.277160\n",
       "5                        Native Amer    -468.241647\n",
       "40                      % P25-54 BA+    -655.882449\n",
       "24             % P16+ in labor force   -2302.777040\n",
       "11                           Med Age   -2890.020433\n",
       "37                   Avg Family Size   -7766.850214\n",
       "36                       Avg HH Size -150099.654218"
      ]
     },
     "execution_count": 248,
     "metadata": {},
     "output_type": "execute_result"
    }
   ],
   "source": [
    "x2 = pd.DataFrame([features, model.coef_.tolist()], index=['feature', 'coef']).T\n",
    "x2['coef'] = x2['coef'].astype(float)\n",
    "x2 = x2.sort_values(by='coef', ascending=False)\n",
    "x2"
   ]
  },
  {
   "cell_type": "code",
   "execution_count": 249,
   "metadata": {
    "ExecuteTime": {
     "end_time": "2016-10-10T10:28:09.494141",
     "start_time": "2016-10-10T10:28:06.736707"
    },
    "collapsed": false
   },
   "outputs": [
    {
     "data": {
      "text/plain": [
       "<matplotlib.collections.PathCollection at 0x11d61cf10>"
      ]
     },
     "execution_count": 249,
     "metadata": {},
     "output_type": "execute_result"
    },
    {
     "data": {
      "image/png": "[encoded data removed]",
      "text/plain": [
       "<matplotlib.figure.Figure at 0x118abd350>"
      ]
     },
     "metadata": {},
     "output_type": "display_data"
    }
   ],
   "source": [
    "predicted2 = model2.predict(X)\n",
    "\n",
    "plt.scatter(predicted2, y2)"
   ]
  },
  {
   "cell_type": "markdown",
   "metadata": {},
   "source": [
    "## Record your findings\n",
    "\n",
    "Be sure to write out anything observations from your exploratory analysis."
   ]
  },
  {
   "cell_type": "markdown",
   "metadata": {},
   "source": [
    "# Mine the data\n",
    "Now you are ready to compute the variables you will use for your regression from the data. For example, you may want to\n",
    "compute total sales per store from Jan to March of 2015, mean price per bottle, etc. Refer to the readme for more ideas appropriate to your scenario.\n",
    "\n",
    "Pandas is your friend for this task. Take a look at the operations [here](http://pandas.pydata.org/pandas-docs/stable/groupby.html) for ideas on how to make the best use of pandas and feel free to search for blog and Stack Overflow posts to help you group data by certain variables and compute sums, means, etc. You may find it useful to create a new data frame to house this summary data."
   ]
  },
  {
   "cell_type": "markdown",
   "metadata": {},
   "source": [
    "# Refine the data\n",
    "Look for any statistical relationships, correlations, or other relevant properties of the dataset."
   ]
  },
  {
   "cell_type": "code",
   "execution_count": null,
   "metadata": {
    "collapsed": false
   },
   "outputs": [],
   "source": []
  },
  {
   "cell_type": "markdown",
   "metadata": {},
   "source": [
    "# Build your models\n",
    "\n",
    "Using scikit-learn or statsmodels, build the necessary models for your scenario. Evaluate model fit."
   ]
  },
  {
   "cell_type": "code",
   "execution_count": null,
   "metadata": {
    "ExecuteTime": {
     "end_time": "2016-10-07T16:46:47.586938",
     "start_time": "2016-10-07T16:46:47.580555"
    },
    "collapsed": false
   },
   "outputs": [],
   "source": [
    "from sklearn import linear_model\n"
   ]
  },
  {
   "cell_type": "markdown",
   "metadata": {},
   "source": [
    "## Plot your results\n",
    "\n",
    "Again make sure that you record any valuable information. For example, in the tax scenario, did you find the sales from the first three months of the year to be a good predictor of the total sales for the year? Plot the predictions versus the true values and discuss the successes and limitations of your models"
   ]
  },
  {
   "cell_type": "code",
   "execution_count": null,
   "metadata": {
    "collapsed": false
   },
   "outputs": [],
   "source": []
  },
  {
   "cell_type": "markdown",
   "metadata": {},
   "source": [
    "# Present the Results\n",
    "\n",
    "Present your conclusions and results. If you have more than one interesting model feel free to include more than one along with a discussion. Use your work in this notebook to prepare your write-up."
   ]
  },
  {
   "cell_type": "code",
   "execution_count": null,
   "metadata": {
    "collapsed": false
   },
   "outputs": [],
   "source": []
  }
 ],
 "metadata": {
  "anaconda-cloud": {},
  "celltoolbar": "Slideshow",
  "kernelspec": {
   "display_name": "Python [default]",
   "language": "python",
   "name": "python2"
  },
  "language_info": {
   "codemirror_mode": {
    "name": "ipython",
    "version": 2
   },
   "file_extension": ".py",
   "mimetype": "text/x-python",
   "name": "python",
   "nbconvert_exporter": "python",
   "pygments_lexer": "ipython2",
   "version": "2.7.12"
  }
 },
 "nbformat": 4,
 "nbformat_minor": 0
}
