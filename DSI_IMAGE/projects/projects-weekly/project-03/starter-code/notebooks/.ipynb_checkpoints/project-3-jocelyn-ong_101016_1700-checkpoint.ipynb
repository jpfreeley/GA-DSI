{
 "cells": [
  {
   "cell_type": "markdown",
   "metadata": {
    "slideshow": {
     "slide_type": "slide"
    }
   },
   "source": [
    "# Getting started\n",
    "\n",
    "Once you've chosen your scenario, download the data from [the Iowa website](https://data.iowa.gov/Economy/Iowa-Liquor-Sales/m3tr-qhgy) in csv format. Start by loading the data with pandas. You may need to parse the date columns appropriately."
   ]
  },
  {
   "cell_type": "code",
   "execution_count": 2,
   "metadata": {
    "ExecuteTime": {
     "end_time": "2016-10-10T17:19:43.332752",
     "start_time": "2016-10-10T17:19:40.609761"
    },
    "collapsed": false,
    "slideshow": {
     "slide_type": "slide"
    }
   },
   "outputs": [],
   "source": [
    "# Import relevant libraries\n",
    "import pandas as pd\n",
    "import numpy as np\n",
    "import seaborn as sns\n",
    "import matplotlib.pyplot as plt\n",
    "%matplotlib inline\n",
    "from sklearn import linear_model"
   ]
  },
  {
   "cell_type": "code",
   "execution_count": 4,
   "metadata": {
    "ExecuteTime": {
     "end_time": "2016-10-10T17:19:46.231718",
     "start_time": "2016-10-10T17:19:44.716656"
    },
    "collapsed": false,
    "slideshow": {
     "slide_type": "-"
    }
   },
   "outputs": [],
   "source": [
    "## Load the data into a DataFrame\n",
    "df = pd.read_csv('../data/Iowa_Liquor_sales_sample_10pct.csv')"
   ]
  },
  {
   "cell_type": "code",
   "execution_count": 5,
   "metadata": {
    "ExecuteTime": {
     "end_time": "2016-10-10T17:19:48.207867",
     "start_time": "2016-10-10T17:19:46.241258"
    },
    "collapsed": false,
    "slideshow": {
     "slide_type": "-"
    }
   },
   "outputs": [],
   "source": [
    "## Transform the dates column\n",
    "df[\"Date\"] = pd.to_datetime(df[\"Date\"], format='%m/%d/%Y')"
   ]
  },
  {
   "cell_type": "markdown",
   "metadata": {},
   "source": [
    "To ensure accuracy, we are importing a list of Iowa zip codes, cities, counties and county numbers."
   ]
  },
  {
   "cell_type": "code",
   "execution_count": 6,
   "metadata": {
    "ExecuteTime": {
     "end_time": "2016-10-10T17:19:59.160616",
     "start_time": "2016-10-10T17:19:59.149469"
    },
    "collapsed": false
   },
   "outputs": [],
   "source": [
    "location_data = pd.read_csv('../data/ia_zip_city_county_sqm.csv')"
   ]
  },
  {
   "cell_type": "code",
   "execution_count": 7,
   "metadata": {
    "ExecuteTime": {
     "end_time": "2016-10-10T17:20:06.432448",
     "start_time": "2016-10-10T17:20:06.393424"
    },
    "collapsed": false
   },
   "outputs": [
    {
     "data": {
      "text/html": [
       "<div>\n",
       "<table border=\"1\" class=\"dataframe\">\n",
       "  <thead>\n",
       "    <tr style=\"text-align: right;\">\n",
       "      <th></th>\n",
       "      <th>Unnamed: 0</th>\n",
       "      <th>zip</th>\n",
       "      <th>primary_city</th>\n",
       "      <th>county</th>\n",
       "      <th>state</th>\n",
       "      <th>County#</th>\n",
       "      <th>ZCTA5CE10</th>\n",
       "      <th>area-sqm</th>\n",
       "    </tr>\n",
       "  </thead>\n",
       "  <tbody>\n",
       "    <tr>\n",
       "      <th>0</th>\n",
       "      <td>0</td>\n",
       "      <td>50001</td>\n",
       "      <td>ACKWORTH</td>\n",
       "      <td>Warren</td>\n",
       "      <td>IA</td>\n",
       "      <td>91</td>\n",
       "      <td>50001</td>\n",
       "      <td>62796656</td>\n",
       "    </tr>\n",
       "    <tr>\n",
       "      <th>1</th>\n",
       "      <td>1</td>\n",
       "      <td>50002</td>\n",
       "      <td>ADAIR</td>\n",
       "      <td>Guthrie</td>\n",
       "      <td>IA</td>\n",
       "      <td>39</td>\n",
       "      <td>50002</td>\n",
       "      <td>279202219</td>\n",
       "    </tr>\n",
       "    <tr>\n",
       "      <th>2</th>\n",
       "      <td>2</td>\n",
       "      <td>50003</td>\n",
       "      <td>ADEL</td>\n",
       "      <td>Dallas</td>\n",
       "      <td>IA</td>\n",
       "      <td>25</td>\n",
       "      <td>50003</td>\n",
       "      <td>298086291</td>\n",
       "    </tr>\n",
       "    <tr>\n",
       "      <th>3</th>\n",
       "      <td>3</td>\n",
       "      <td>50005</td>\n",
       "      <td>ALBION</td>\n",
       "      <td>Marshall</td>\n",
       "      <td>IA</td>\n",
       "      <td>64</td>\n",
       "      <td>50005</td>\n",
       "      <td>69623573</td>\n",
       "    </tr>\n",
       "    <tr>\n",
       "      <th>4</th>\n",
       "      <td>4</td>\n",
       "      <td>50006</td>\n",
       "      <td>ALDEN</td>\n",
       "      <td>Hardin</td>\n",
       "      <td>IA</td>\n",
       "      <td>42</td>\n",
       "      <td>50006</td>\n",
       "      <td>317745150</td>\n",
       "    </tr>\n",
       "  </tbody>\n",
       "</table>\n",
       "</div>"
      ],
      "text/plain": [
       "   Unnamed: 0    zip primary_city    county state  County#  ZCTA5CE10  \\\n",
       "0           0  50001     ACKWORTH    Warren    IA       91      50001   \n",
       "1           1  50002        ADAIR   Guthrie    IA       39      50002   \n",
       "2           2  50003         ADEL    Dallas    IA       25      50003   \n",
       "3           3  50005       ALBION  Marshall    IA       64      50005   \n",
       "4           4  50006        ALDEN    Hardin    IA       42      50006   \n",
       "\n",
       "    area-sqm  \n",
       "0   62796656  \n",
       "1  279202219  \n",
       "2  298086291  \n",
       "3   69623573  \n",
       "4  317745150  "
      ]
     },
     "execution_count": 7,
     "metadata": {},
     "output_type": "execute_result"
    }
   ],
   "source": [
    "location_data.head()"
   ]
  },
  {
   "cell_type": "code",
   "execution_count": 8,
   "metadata": {
    "ExecuteTime": {
     "end_time": "2016-10-10T17:20:09.483046",
     "start_time": "2016-10-10T17:20:09.477797"
    },
    "collapsed": false
   },
   "outputs": [],
   "source": [
    "location_data.columns = ['number', 'Zip Code', 'City', 'County', 'State','County Number', 'repeat', 'Area (sqm)']"
   ]
  },
  {
   "cell_type": "code",
   "execution_count": 9,
   "metadata": {
    "ExecuteTime": {
     "end_time": "2016-10-10T17:20:18.228317",
     "start_time": "2016-10-10T17:20:18.221794"
    },
    "collapsed": false
   },
   "outputs": [],
   "source": [
    "location_data.drop(['number', 'repeat'], axis=1, inplace=True)"
   ]
  },
  {
   "cell_type": "markdown",
   "metadata": {},
   "source": [
    "We will run a check on zip codes before joining the 2 tables"
   ]
  },
  {
   "cell_type": "code",
   "execution_count": 10,
   "metadata": {
    "ExecuteTime": {
     "end_time": "2016-10-10T17:20:28.910851",
     "start_time": "2016-10-10T17:20:28.851799"
    },
    "collapsed": false
   },
   "outputs": [
    {
     "name": "stdout",
     "output_type": "stream",
     "text": [
      "['52303', '712-2', '52087', '52084', '52036', '52733', '56201', '50300']\n"
     ]
    }
   ],
   "source": [
    "liquor_zips = df['Zip Code'].drop_duplicates().tolist()\n",
    "ref_zips = location_data['Zip Code'].astype(str).tolist()\n",
    "z = [x for x in liquor_zips if x not in ref_zips]\n",
    "print z"
   ]
  },
  {
   "cell_type": "code",
   "execution_count": null,
   "metadata": {
    "ExecuteTime": {
     "start_time": "2016-10-10T21:21:22.046Z"
    },
    "collapsed": false
   },
   "outputs": [],
   "source": [
    "for i in z:\n",
    "    print df[['Zip Code', 'City', 'County', 'County Number']][df['Zip Code'] == i].drop_duplicates()\n",
    "    city = df['City'][df['Zip Code'] == i].drop_duplicates().iloc[0].upper()\n",
    "    print city\n",
    "    try:\n",
    "        print location_data[location_data['City']==city].drop_duplicates()\n",
    "    except:\n",
    "        print i, 'not in Iowa'\n",
    "    print"
   ]
  },
  {
   "cell_type": "markdown",
   "metadata": {},
   "source": [
    "Based on the above, we get a vague idea of what the zips are supposed to be"
   ]
  },
  {
   "cell_type": "code",
   "execution_count": 10,
   "metadata": {
    "ExecuteTime": {
     "end_time": "2016-10-10T16:48:09.748150",
     "start_time": "2016-10-10T16:48:09.585914"
    },
    "collapsed": false
   },
   "outputs": [],
   "source": [
    "corrected_zips = ['52403','51529', '52057','52804','0','52732','52601','50309']\n",
    "for i in range(len(z)):\n",
    "    df.ix[df['Zip Code']==z[i], 'Zip Code']=corrected_zips[i]"
   ]
  },
  {
   "cell_type": "code",
   "execution_count": 11,
   "metadata": {
    "ExecuteTime": {
     "end_time": "2016-10-10T16:48:11.289128",
     "start_time": "2016-10-10T16:48:11.266097"
    },
    "collapsed": false
   },
   "outputs": [
    {
     "name": "stdout",
     "output_type": "stream",
     "text": [
      "['0']\n"
     ]
    }
   ],
   "source": [
    "# Run the test again\n",
    "liquor_zips = df['Zip Code'].drop_duplicates().tolist()\n",
    "ref_zips = location_data['Zip Code'].astype(str).tolist()\n",
    "z = [x for x in liquor_zips if x not in ref_zips]\n",
    "print z"
   ]
  },
  {
   "cell_type": "code",
   "execution_count": 12,
   "metadata": {
    "ExecuteTime": {
     "end_time": "2016-10-10T16:48:14.780417",
     "start_time": "2016-10-10T16:48:14.617583"
    },
    "collapsed": false
   },
   "outputs": [],
   "source": [
    "df['Zip Code'] = df['Zip Code'].astype(int)"
   ]
  },
  {
   "cell_type": "markdown",
   "metadata": {},
   "source": [
    "Now we merge our location data to our liquor sales"
   ]
  },
  {
   "cell_type": "code",
   "execution_count": 13,
   "metadata": {
    "ExecuteTime": {
     "end_time": "2016-10-10T16:48:23.815699",
     "start_time": "2016-10-10T16:48:23.490967"
    },
    "collapsed": false
   },
   "outputs": [],
   "source": [
    "df2 = df.copy()\n",
    "df2.drop(['County Number', 'City', 'County'], axis=1, inplace=True)\n",
    "df2 = df2.merge(location_data, how='left', on='Zip Code')\n",
    "df2.drop(['State'], axis=1, inplace=True)"
   ]
  },
  {
   "cell_type": "code",
   "execution_count": 14,
   "metadata": {
    "ExecuteTime": {
     "end_time": "2016-10-10T16:48:28.709977",
     "start_time": "2016-10-10T16:48:28.645000"
    },
    "collapsed": false
   },
   "outputs": [
    {
     "data": {
      "text/html": [
       "<div>\n",
       "<table border=\"1\" class=\"dataframe\">\n",
       "  <thead>\n",
       "    <tr style=\"text-align: right;\">\n",
       "      <th></th>\n",
       "      <th>Date</th>\n",
       "      <th>Store Number</th>\n",
       "      <th>Zip Code</th>\n",
       "      <th>Category</th>\n",
       "      <th>Category Name</th>\n",
       "      <th>Vendor Number</th>\n",
       "      <th>Item Number</th>\n",
       "      <th>Item Description</th>\n",
       "      <th>Bottle Volume (ml)</th>\n",
       "      <th>State Bottle Cost</th>\n",
       "      <th>State Bottle Retail</th>\n",
       "      <th>Bottles Sold</th>\n",
       "      <th>Sale (Dollars)</th>\n",
       "      <th>Volume Sold (Liters)</th>\n",
       "      <th>Volume Sold (Gallons)</th>\n",
       "      <th>City</th>\n",
       "      <th>County</th>\n",
       "      <th>County Number</th>\n",
       "      <th>Area (sqm)</th>\n",
       "    </tr>\n",
       "  </thead>\n",
       "  <tbody>\n",
       "    <tr>\n",
       "      <th>0</th>\n",
       "      <td>2015-11-04</td>\n",
       "      <td>3717</td>\n",
       "      <td>50674</td>\n",
       "      <td>1051100.0</td>\n",
       "      <td>APRICOT BRANDIES</td>\n",
       "      <td>55</td>\n",
       "      <td>54436</td>\n",
       "      <td>Mr. Boston Apricot Brandy</td>\n",
       "      <td>750</td>\n",
       "      <td>$4.50</td>\n",
       "      <td>$6.75</td>\n",
       "      <td>12</td>\n",
       "      <td>$81.00</td>\n",
       "      <td>9.0</td>\n",
       "      <td>2.38</td>\n",
       "      <td>SUMNER</td>\n",
       "      <td>Bremer</td>\n",
       "      <td>9.0</td>\n",
       "      <td>408690075.0</td>\n",
       "    </tr>\n",
       "    <tr>\n",
       "      <th>1</th>\n",
       "      <td>2016-03-02</td>\n",
       "      <td>2614</td>\n",
       "      <td>52807</td>\n",
       "      <td>1011100.0</td>\n",
       "      <td>BLENDED WHISKIES</td>\n",
       "      <td>395</td>\n",
       "      <td>27605</td>\n",
       "      <td>Tin Cup</td>\n",
       "      <td>750</td>\n",
       "      <td>$13.75</td>\n",
       "      <td>$20.63</td>\n",
       "      <td>2</td>\n",
       "      <td>$41.26</td>\n",
       "      <td>1.5</td>\n",
       "      <td>0.40</td>\n",
       "      <td>DAVENPORT</td>\n",
       "      <td>Scott</td>\n",
       "      <td>82.0</td>\n",
       "      <td>76469440.0</td>\n",
       "    </tr>\n",
       "    <tr>\n",
       "      <th>2</th>\n",
       "      <td>2016-02-11</td>\n",
       "      <td>2106</td>\n",
       "      <td>50613</td>\n",
       "      <td>1011200.0</td>\n",
       "      <td>STRAIGHT BOURBON WHISKIES</td>\n",
       "      <td>65</td>\n",
       "      <td>19067</td>\n",
       "      <td>Jim Beam</td>\n",
       "      <td>1000</td>\n",
       "      <td>$12.59</td>\n",
       "      <td>$18.89</td>\n",
       "      <td>24</td>\n",
       "      <td>$453.36</td>\n",
       "      <td>24.0</td>\n",
       "      <td>6.34</td>\n",
       "      <td>CEDAR FALLS</td>\n",
       "      <td>Black Hawk</td>\n",
       "      <td>7.0</td>\n",
       "      <td>329972902.0</td>\n",
       "    </tr>\n",
       "    <tr>\n",
       "      <th>3</th>\n",
       "      <td>2016-02-03</td>\n",
       "      <td>2501</td>\n",
       "      <td>50010</td>\n",
       "      <td>1071100.0</td>\n",
       "      <td>AMERICAN COCKTAILS</td>\n",
       "      <td>395</td>\n",
       "      <td>59154</td>\n",
       "      <td>1800 Ultimate Margarita</td>\n",
       "      <td>1750</td>\n",
       "      <td>$9.50</td>\n",
       "      <td>$14.25</td>\n",
       "      <td>6</td>\n",
       "      <td>$85.50</td>\n",
       "      <td>10.5</td>\n",
       "      <td>2.77</td>\n",
       "      <td>AMES</td>\n",
       "      <td>Story</td>\n",
       "      <td>85.0</td>\n",
       "      <td>155294118.0</td>\n",
       "    </tr>\n",
       "    <tr>\n",
       "      <th>4</th>\n",
       "      <td>2015-08-18</td>\n",
       "      <td>3654</td>\n",
       "      <td>50421</td>\n",
       "      <td>1031080.0</td>\n",
       "      <td>VODKA 80 PROOF</td>\n",
       "      <td>297</td>\n",
       "      <td>35918</td>\n",
       "      <td>Five O'clock Vodka</td>\n",
       "      <td>1750</td>\n",
       "      <td>$7.20</td>\n",
       "      <td>$10.80</td>\n",
       "      <td>12</td>\n",
       "      <td>$129.60</td>\n",
       "      <td>21.0</td>\n",
       "      <td>5.55</td>\n",
       "      <td>BELMOND</td>\n",
       "      <td>Wright</td>\n",
       "      <td>99.0</td>\n",
       "      <td>232911303.0</td>\n",
       "    </tr>\n",
       "  </tbody>\n",
       "</table>\n",
       "</div>"
      ],
      "text/plain": [
       "        Date  Store Number  Zip Code   Category              Category Name  \\\n",
       "0 2015-11-04          3717     50674  1051100.0           APRICOT BRANDIES   \n",
       "1 2016-03-02          2614     52807  1011100.0           BLENDED WHISKIES   \n",
       "2 2016-02-11          2106     50613  1011200.0  STRAIGHT BOURBON WHISKIES   \n",
       "3 2016-02-03          2501     50010  1071100.0         AMERICAN COCKTAILS   \n",
       "4 2015-08-18          3654     50421  1031080.0             VODKA 80 PROOF   \n",
       "\n",
       "   Vendor Number  Item Number           Item Description  Bottle Volume (ml)  \\\n",
       "0             55        54436  Mr. Boston Apricot Brandy                 750   \n",
       "1            395        27605                    Tin Cup                 750   \n",
       "2             65        19067                   Jim Beam                1000   \n",
       "3            395        59154    1800 Ultimate Margarita                1750   \n",
       "4            297        35918         Five O'clock Vodka                1750   \n",
       "\n",
       "  State Bottle Cost State Bottle Retail  Bottles Sold Sale (Dollars)  \\\n",
       "0             $4.50               $6.75            12         $81.00   \n",
       "1            $13.75              $20.63             2         $41.26   \n",
       "2            $12.59              $18.89            24        $453.36   \n",
       "3             $9.50              $14.25             6         $85.50   \n",
       "4             $7.20              $10.80            12        $129.60   \n",
       "\n",
       "   Volume Sold (Liters)  Volume Sold (Gallons)         City      County  \\\n",
       "0                   9.0                   2.38       SUMNER      Bremer   \n",
       "1                   1.5                   0.40    DAVENPORT       Scott   \n",
       "2                  24.0                   6.34  CEDAR FALLS  Black Hawk   \n",
       "3                  10.5                   2.77         AMES       Story   \n",
       "4                  21.0                   5.55      BELMOND      Wright   \n",
       "\n",
       "   County Number   Area (sqm)  \n",
       "0            9.0  408690075.0  \n",
       "1           82.0   76469440.0  \n",
       "2            7.0  329972902.0  \n",
       "3           85.0  155294118.0  \n",
       "4           99.0  232911303.0  "
      ]
     },
     "execution_count": 14,
     "metadata": {},
     "output_type": "execute_result"
    }
   ],
   "source": [
    "df2.head()"
   ]
  },
  {
   "cell_type": "code",
   "execution_count": 15,
   "metadata": {
    "ExecuteTime": {
     "end_time": "2016-10-10T16:48:28.954688",
     "start_time": "2016-10-10T16:48:28.943107"
    },
    "collapsed": false,
    "slideshow": {
     "slide_type": "fragment"
    }
   },
   "outputs": [
    {
     "data": {
      "text/plain": [
       "Date                     datetime64[ns]\n",
       "Store Number                      int64\n",
       "Zip Code                          int64\n",
       "Category                        float64\n",
       "Category Name                    object\n",
       "Vendor Number                     int64\n",
       "Item Number                       int64\n",
       "Item Description                 object\n",
       "Bottle Volume (ml)                int64\n",
       "State Bottle Cost                object\n",
       "State Bottle Retail              object\n",
       "Bottles Sold                      int64\n",
       "Sale (Dollars)                   object\n",
       "Volume Sold (Liters)            float64\n",
       "Volume Sold (Gallons)           float64\n",
       "City                             object\n",
       "County                           object\n",
       "County Number                   float64\n",
       "Area (sqm)                      float64\n",
       "dtype: object"
      ]
     },
     "execution_count": 15,
     "metadata": {},
     "output_type": "execute_result"
    }
   ],
   "source": [
    "df2.dtypes"
   ]
  },
  {
   "cell_type": "code",
   "execution_count": 16,
   "metadata": {
    "ExecuteTime": {
     "end_time": "2016-10-10T16:48:29.758422",
     "start_time": "2016-10-10T16:48:29.746717"
    },
    "collapsed": false
   },
   "outputs": [],
   "source": [
    "# Write a function that cross references related columns and fills the data in where it's missing\n",
    "def fill_missing(related_cols, column, dataframe):\n",
    "    related_cols.remove(column)\n",
    "    reference = dataframe[related_cols][dataframe[column].isnull()].drop_duplicates()\n",
    "    for j in range(len(related_cols)):\n",
    "        col_1 = reference[related_cols[j]]\n",
    "        for i in col_1:\n",
    "            try:\n",
    "                x = dataframe[column][(dataframe[related_cols[j]]==i) & (dataframe[column].notnull())].drop_duplicates()\n",
    "                if len(x) < 2:\n",
    "                    #print 'Missing: {}, Reference: {}, Ref_value: {}, filler: {}'.\\\n",
    "                    #format(column, related_cols[j], i, x.iloc[0])\n",
    "                    value = x.iloc[0]\n",
    "                    dataframe.ix[(dataframe[related_cols[j]]==i) & (dataframe[column].isnull()), column] = value\n",
    "            except:\n",
    "                pass"
   ]
  },
  {
   "cell_type": "code",
   "execution_count": 17,
   "metadata": {
    "ExecuteTime": {
     "end_time": "2016-10-10T16:48:31.129713",
     "start_time": "2016-10-10T16:48:30.929199"
    },
    "collapsed": false,
    "scrolled": false
   },
   "outputs": [],
   "source": [
    "fill_missing(['Category', 'Category Name'], 'Category Name', df2)\n",
    "fill_missing(['Category', 'Category Name'], 'Category', df2)\n",
    "\n",
    "fill_missing(['Item Number', 'Item Description'], 'Item Description', df2)\n",
    "fill_missing(['Item Number', 'Item Description'], 'Item Number', df2)"
   ]
  },
  {
   "cell_type": "code",
   "execution_count": 18,
   "metadata": {
    "ExecuteTime": {
     "end_time": "2016-10-10T16:48:32.001410",
     "start_time": "2016-10-10T16:48:31.386196"
    },
    "collapsed": false
   },
   "outputs": [],
   "source": [
    "# Convert all dollar columns to floats\n",
    "df2['State Bottle Cost'] = df2['State Bottle Cost'].map(lambda x: x.strip('$')).astype(float)\n",
    "df2['State Bottle Retail'] = df2['State Bottle Retail'].map(lambda x: x.strip('$')).astype(float)\n",
    "df2['Sale (Dollars)'] = df2['Sale (Dollars)'].map(lambda x: x.strip('$')).astype(float)"
   ]
  },
  {
   "cell_type": "code",
   "execution_count": 19,
   "metadata": {
    "ExecuteTime": {
     "end_time": "2016-10-10T16:48:34.653690",
     "start_time": "2016-10-10T16:48:32.104300"
    },
    "collapsed": false
   },
   "outputs": [],
   "source": [
    "# Extract Month and Year\n",
    "df2['Month'] = df2['Date'].map(lambda x: x.month)\n",
    "df2['Year'] = df2['Date'].map(lambda x: x.year)"
   ]
  },
  {
   "cell_type": "markdown",
   "metadata": {},
   "source": [
    "For the purposes of our market research, we will only be considering full years' data.  \n",
    "Any year which is not a full year will be dropped.  \n",
    "We would also like to aggregate sales by zip code and dollar per litre by zip code.  \n",
    "We also want to know how many stores there are per zip code."
   ]
  },
  {
   "cell_type": "code",
   "execution_count": 20,
   "metadata": {
    "ExecuteTime": {
     "end_time": "2016-10-10T16:48:36.812175",
     "start_time": "2016-10-10T16:48:36.265968"
    },
    "collapsed": false
   },
   "outputs": [
    {
     "name": "stderr",
     "output_type": "stream",
     "text": [
      "//anaconda/lib/python2.7/site-packages/pandas/tools/merge.py:467: PerformanceWarning: dropping on a non-lexsorted multi-index without a level parameter may impact performance.\n",
      "  self.right = self.right.drop(right_drop, axis=1)\n"
     ]
    }
   ],
   "source": [
    "df3 = df2.copy()[df2['Year']==2015]\n",
    "\n",
    "# Aggregate sales and volume by zip code\n",
    "agg_sales = pd.pivot_table(df3, index=['Zip Code'], \\\n",
    "               values=['Bottles Sold', 'Volume Sold (Liters)', 'Sale (Dollars)'],\\\n",
    "                     aggfunc=[np.median, sum]).reset_index()\n",
    "df2 = df2.merge(agg_sales, how='left',on='Zip Code')\n",
    "\n",
    "# Get number of stores\n",
    "df3_gb = df2[['Zip Code','Store Number']].drop_duplicates()\n",
    "df3_gb = df3_gb.rename(columns={'Store Number': 'StoreCount'})\n",
    "df3_gb = df3_gb.groupby(['Zip Code']).count().reset_index()\n",
    "df2 = df2.merge(df3_gb, how='left', on='Zip Code')"
   ]
  },
  {
   "cell_type": "code",
   "execution_count": 23,
   "metadata": {
    "ExecuteTime": {
     "end_time": "2016-10-10T16:49:01.832637",
     "start_time": "2016-10-10T16:49:01.824528"
    },
    "collapsed": false
   },
   "outputs": [
    {
     "data": {
      "text/plain": [
       "array(['Date', 'Store Number', 'Zip Code', 'Category', 'Category Name',\n",
       "       'Vendor Number', 'Item Number', 'Item Description',\n",
       "       'Bottle Volume (ml)', 'State Bottle Cost', 'State Bottle Retail',\n",
       "       'Bottles Sold', 'Sale (Dollars)', 'Volume Sold (Liters)',\n",
       "       'Volume Sold (Gallons)', 'City', 'County', 'County Number',\n",
       "       'Area (sqm)', 'Month', 'Year', ('median', 'Bottles Sold'),\n",
       "       ('median', 'Sale (Dollars)'), ('median', 'Volume Sold (Liters)'),\n",
       "       ('sum', 'Bottles Sold'), ('sum', 'Sale (Dollars)'),\n",
       "       ('sum', 'Volume Sold (Liters)'), 'StoreCount'], dtype=object)"
      ]
     },
     "execution_count": 23,
     "metadata": {},
     "output_type": "execute_result"
    }
   ],
   "source": [
    "df2.columns.values"
   ]
  },
  {
   "cell_type": "code",
   "execution_count": 24,
   "metadata": {
    "ExecuteTime": {
     "end_time": "2016-10-10T16:49:18.998748",
     "start_time": "2016-10-10T16:49:18.991762"
    },
    "collapsed": false
   },
   "outputs": [],
   "source": [
    "# Rename the columns\n",
    "df2.columns = ['Date', 'Store Number', 'Zip Code', 'Category', 'Category Name',\\\n",
    "       'Vendor Number', 'Item Number', 'Item Description',\\\n",
    "       'Bottle Volume (ml)', 'State Bottle Cost', 'State Bottle Retail',\\\n",
    "       'Bottles Sold', 'Sale (Dollars)', 'Volume Sold (Liters)',\\\n",
    "       'Volume Sold (Gallons)', 'City', 'County', 'County Number', 'Area (sqm)','Month',\\\n",
    "       'Year', 'median bottles sold', 'median sales',\\\n",
    "       'median volume sold', 'total bottles sold', 'total sales', 'total volume sold', 'Store Count']"
   ]
  },
  {
   "cell_type": "code",
   "execution_count": 25,
   "metadata": {
    "ExecuteTime": {
     "end_time": "2016-10-10T16:49:21.277370",
     "start_time": "2016-10-10T16:49:20.897599"
    },
    "collapsed": false
   },
   "outputs": [],
   "source": [
    "# Adding a column for dollar per litre\n",
    "df2['Dollar per litre'] = df2['total sales']/df2['total volume sold']"
   ]
  },
  {
   "cell_type": "code",
   "execution_count": 43,
   "metadata": {
    "ExecuteTime": {
     "end_time": "2016-10-10T16:51:19.640584",
     "start_time": "2016-10-10T16:51:19.630266"
    },
    "collapsed": false
   },
   "outputs": [],
   "source": [
    "# Adding a column for stores per sqm\n",
    "df2['Stores per sqm'] = df2['Store Count']/df2['Area (sqm)']"
   ]
  },
  {
   "cell_type": "markdown",
   "metadata": {},
   "source": [
    "\n",
    "# Explore the data\n",
    "\n",
    "Perform some exploratory statistical analysis and make some plots, such as histograms of transaction totals, bottles sold, etc."
   ]
  },
  {
   "cell_type": "code",
   "execution_count": 44,
   "metadata": {
    "ExecuteTime": {
     "end_time": "2016-10-10T16:51:35.077136",
     "start_time": "2016-10-10T16:51:34.933556"
    },
    "collapsed": false
   },
   "outputs": [],
   "source": [
    "# We're just interested in the following columns\n",
    "col_required = ['Zip Code', 'median bottles sold', 'median sales', 'median volume sold',\\\n",
    "                'total bottles sold', 'total sales', 'total volume sold', 'Store Count',\\\n",
    "                'Dollar per litre', 'Area (sqm)', 'Stores per sqm']\n",
    "full_df = df2\n",
    "sales_df = full_df.copy()\n",
    "sales_df = sales_df[sales_df['Year']==2015]\n",
    "sales_df = sales_df[col_required]"
   ]
  },
  {
   "cell_type": "markdown",
   "metadata": {},
   "source": [
    "# Mine the data\n",
    "Now you are ready to compute the variables you will use for your regression from the data. For example, you may want to\n",
    "compute total sales per store from Jan to March of 2015, mean price per bottle, etc. Refer to the readme for more ideas appropriate to your scenario.\n",
    "\n",
    "Pandas is your friend for this task. Take a look at the operations [here](http://pandas.pydata.org/pandas-docs/stable/groupby.html) for ideas on how to make the best use of pandas and feel free to search for blog and Stack Overflow posts to help you group data by certain variables and compute sums, means, etc. You may find it useful to create a new data frame to house this summary data."
   ]
  },
  {
   "cell_type": "markdown",
   "metadata": {},
   "source": [
    "Our hypothesis is that the demographics of an area would affect the liquor sales there.  \n",
    "Ideally, we would have wanted to combine our liquor sales data with the demographics data of the corresponding year.  \n",
    "We were unable to do that and have combined it with the demographics data that we were able to find.  \n",
    "- This may compromise our model and we should seek to improve it if possible"
   ]
  },
  {
   "cell_type": "code",
   "execution_count": 45,
   "metadata": {
    "ExecuteTime": {
     "end_time": "2016-10-10T16:51:41.080768",
     "start_time": "2016-10-10T16:51:41.014413"
    },
    "collapsed": false
   },
   "outputs": [],
   "source": [
    "# Read in our demographics data\n",
    "demo_df = pd.read_csv('/Users/stel/joce/data_science/project-3-datasets/IowaZIPdemos.csv')"
   ]
  },
  {
   "cell_type": "code",
   "execution_count": 46,
   "metadata": {
    "ExecuteTime": {
     "end_time": "2016-10-10T16:51:42.241053",
     "start_time": "2016-10-10T16:51:42.229370"
    },
    "collapsed": false
   },
   "outputs": [],
   "source": [
    "# Remove any rows with null values\n",
    "# Convert zips to integers for easy comparison\n",
    "demo_df.dropna(inplace=True)\n",
    "demo_df['Area'] = demo_df['Area'].astype(int)"
   ]
  },
  {
   "cell_type": "code",
   "execution_count": 47,
   "metadata": {
    "ExecuteTime": {
     "end_time": "2016-10-10T16:51:42.584262",
     "start_time": "2016-10-10T16:51:42.574212"
    },
    "collapsed": false
   },
   "outputs": [],
   "source": [
    "demo_cols = demo_df.columns.values.tolist()\n",
    "\n",
    "object_cols = [i for i in demo_cols if demo_df[i].dtype == 'O']"
   ]
  },
  {
   "cell_type": "code",
   "execution_count": 48,
   "metadata": {
    "ExecuteTime": {
     "end_time": "2016-10-10T16:51:43.176023",
     "start_time": "2016-10-10T16:51:43.054021"
    },
    "collapsed": false
   },
   "outputs": [],
   "source": [
    "# Define a function to remove symbols and convert numbers to floats\n",
    "def rem_symbols(x):\n",
    "    for i in [',', '%', '$', '-']:\n",
    "        x = x.replace(i, '')\n",
    "    try:\n",
    "        return float(x)\n",
    "    except:\n",
    "        print x\n",
    "    \n",
    "for i in object_cols:\n",
    "    demo_df[i] = demo_df[i].map(rem_symbols)"
   ]
  },
  {
   "cell_type": "code",
   "execution_count": 49,
   "metadata": {
    "ExecuteTime": {
     "end_time": "2016-10-10T16:51:43.718803",
     "start_time": "2016-10-10T16:51:43.579530"
    },
    "collapsed": false
   },
   "outputs": [],
   "source": [
    "model_df = sales_df.merge(demo_df, how='left', left_on='Zip Code', right_on='Area')"
   ]
  },
  {
   "cell_type": "markdown",
   "metadata": {},
   "source": [
    "# Refine the data\n",
    "Look for any statistical relationships, correlations, or other relevant properties of the dataset."
   ]
  },
  {
   "cell_type": "code",
   "execution_count": 51,
   "metadata": {
    "ExecuteTime": {
     "end_time": "2016-10-10T16:52:03.415924",
     "start_time": "2016-10-10T16:52:01.358757"
    },
    "collapsed": false
   },
   "outputs": [
    {
     "data": {
      "image/png": "[encoded data removed]",
      "text/plain": [
       "<matplotlib.figure.Figure at 0x119f5ead0>"
      ]
     },
     "metadata": {},
     "output_type": "display_data"
    }
   ],
   "source": [
    "fig, ax = plt.subplots(figsize=(4,10));\n",
    "sns.heatmap(model_df.corr()[['total sales']].iloc[12:]);"
   ]
  },
  {
   "cell_type": "code",
   "execution_count": 52,
   "metadata": {
    "ExecuteTime": {
     "end_time": "2016-10-10T16:52:04.638705",
     "start_time": "2016-10-10T16:52:04.325845"
    },
    "collapsed": false
   },
   "outputs": [
    {
     "data": {
      "image/png": "[encoded data removed]",
      "text/plain": [
       "<matplotlib.figure.Figure at 0x119f424d0>"
      ]
     },
     "metadata": {},
     "output_type": "display_data"
    }
   ],
   "source": [
    "model_df['total sales'].hist();"
   ]
  },
  {
   "cell_type": "code",
   "execution_count": 53,
   "metadata": {
    "ExecuteTime": {
     "end_time": "2016-10-10T16:52:11.475789",
     "start_time": "2016-10-10T16:52:09.414179"
    },
    "collapsed": false
   },
   "outputs": [
    {
     "data": {
      "image/png": "[encoded data removed]",
      "text/plain": [
       "<matplotlib.figure.Figure at 0x119efd610>"
      ]
     },
     "metadata": {},
     "output_type": "display_data"
    }
   ],
   "source": [
    "fig, ax = plt.subplots(figsize=(4,10));\n",
    "sns.heatmap(model_df.corr()[['Dollar per litre']].iloc[12:]);"
   ]
  },
  {
   "cell_type": "code",
   "execution_count": 54,
   "metadata": {
    "ExecuteTime": {
     "end_time": "2016-10-10T16:52:13.371481",
     "start_time": "2016-10-10T16:52:13.077112"
    },
    "collapsed": false
   },
   "outputs": [
    {
     "data": {
      "image/png": "[encoded data removed]",
      "text/plain": [
       "<matplotlib.figure.Figure at 0x1198b7690>"
      ]
     },
     "metadata": {},
     "output_type": "display_data"
    }
   ],
   "source": [
    "model_df['Dollar per litre'].hist();"
   ]
  },
  {
   "cell_type": "code",
   "execution_count": 55,
   "metadata": {
    "ExecuteTime": {
     "end_time": "2016-10-10T16:52:14.773324",
     "start_time": "2016-10-10T16:52:14.709376"
    },
    "collapsed": false
   },
   "outputs": [],
   "source": [
    "# Remove outliers in sales that are 3 std away from the median\n",
    "sales_median = model_df['total sales'].median()\n",
    "sales_std = model_df['total sales'].std()\n",
    "model_df = model_df[abs(model_df['total sales'] - sales_median) <= 3*sales_std]"
   ]
  },
  {
   "cell_type": "code",
   "execution_count": 56,
   "metadata": {
    "ExecuteTime": {
     "end_time": "2016-10-10T16:52:15.449630",
     "start_time": "2016-10-10T16:52:15.388009"
    },
    "collapsed": false
   },
   "outputs": [],
   "source": [
    "# Remove outliers in dollar per litre that are 3 std away from the median\n",
    "dollar_median = model_df['Dollar per litre'].median()\n",
    "dollar_std = model_df['Dollar per litre'].std()\n",
    "model_df = model_df[abs(model_df['Dollar per litre'] - dollar_median) <= 3*dollar_std]"
   ]
  },
  {
   "cell_type": "code",
   "execution_count": 57,
   "metadata": {
    "ExecuteTime": {
     "end_time": "2016-10-10T16:52:16.174002",
     "start_time": "2016-10-10T16:52:15.869114"
    },
    "collapsed": false
   },
   "outputs": [
    {
     "data": {
      "image/png": "[encoded data removed]",
      "text/plain": [
       "<matplotlib.figure.Figure at 0x11a2b62d0>"
      ]
     },
     "metadata": {},
     "output_type": "display_data"
    }
   ],
   "source": [
    "model_df['total sales'].hist();"
   ]
  },
  {
   "cell_type": "code",
   "execution_count": 58,
   "metadata": {
    "ExecuteTime": {
     "end_time": "2016-10-10T16:52:16.715304",
     "start_time": "2016-10-10T16:52:16.404833"
    },
    "collapsed": false
   },
   "outputs": [
    {
     "data": {
      "image/png": "[encoded data removed]",
      "text/plain": [
       "<matplotlib.figure.Figure at 0x1198b7f10>"
      ]
     },
     "metadata": {},
     "output_type": "display_data"
    }
   ],
   "source": [
    "model_df['Dollar per litre'].hist();"
   ]
  },
  {
   "cell_type": "markdown",
   "metadata": {},
   "source": [
    "# Build your models\n",
    "\n",
    "Using scikit-learn or statsmodels, build the necessary models for your scenario. Evaluate model fit."
   ]
  },
  {
   "cell_type": "code",
   "execution_count": 59,
   "metadata": {
    "ExecuteTime": {
     "end_time": "2016-10-10T16:52:20.609880",
     "start_time": "2016-10-10T16:52:20.604005"
    },
    "collapsed": false
   },
   "outputs": [
    {
     "name": "stdout",
     "output_type": "stream",
     "text": [
      "['Zip Code', 'median bottles sold', 'median sales', 'median volume sold', 'total bottles sold', 'total sales', 'total volume sold', 'Store Count', 'Dollar per litre', 'Area (sqm)', 'Stores per sqm', 'Area', 'Total Pop', 'Median HH Inc', 'Per Capita Inc', 'White', 'Afr Amer', 'Native Amer', 'Asian Amer', 'Pac Islander', 'Other', 'Bi- Multi-Racial', 'Hispanic or Latino', 'Med Age', '<5 years', '5-17 yrs', '18-20 yrs', '21-24 yrs', '25-34 yrs', '35-44 yrs', '45-54 yrs', '55-59 yrs', '60-64 yrs', '65-74 yrs', '78-84 yrs', '85+ yrs', '% P16+ in labor force', 'Total # Homes Owned', 'Med. Home Value', 'Tot Housing units', 'Owner occupied housing units', 'Renter occupied housing units', 'households', 'Family households', 'Married-couple family households', 'Single mother households', 'Nonfamily households', 'Single Occupancy', 'Avg HH Size', 'Avg Family Size', 'Pop Below Poverty Level', '% P25+ HS Grad', '% P25-54 BA+']\n"
     ]
    }
   ],
   "source": [
    "features = model_df.columns.values.tolist()\n",
    "print features"
   ]
  },
  {
   "cell_type": "code",
   "execution_count": 60,
   "metadata": {
    "ExecuteTime": {
     "end_time": "2016-10-10T16:52:36.746197",
     "start_time": "2016-10-10T16:52:36.740675"
    },
    "collapsed": false
   },
   "outputs": [],
   "source": [
    "drop_features = ['Zip Code', 'median bottles sold', 'median sales',\\\n",
    "                 'median volume sold', 'total bottles sold', 'total sales',\\\n",
    "                 'total volume sold', 'Store Count', 'Dollar per litre', 'Area (sqm)', 'Stores per sqm', 'Area']\n",
    "for i in drop_features:\n",
    "    features.remove(i)\n"
   ]
  },
  {
   "cell_type": "code",
   "execution_count": 61,
   "metadata": {
    "ExecuteTime": {
     "end_time": "2016-10-10T16:52:40.901350",
     "start_time": "2016-10-10T16:52:40.508370"
    },
    "collapsed": false
   },
   "outputs": [],
   "source": [
    "model_df.dropna(inplace=True)\n",
    "X = model_df[features]"
   ]
  },
  {
   "cell_type": "code",
   "execution_count": 62,
   "metadata": {
    "ExecuteTime": {
     "end_time": "2016-10-10T16:52:49.214964",
     "start_time": "2016-10-10T16:52:41.595770"
    },
    "collapsed": false
   },
   "outputs": [
    {
     "name": "stdout",
     "output_type": "stream",
     "text": [
      "r-squared: 0.864169728032\n",
      "alpha applied: 0.1\n"
     ]
    },
    {
     "data": {
      "image/png": "[encoded data removed]",
      "text/plain": [
       "<matplotlib.figure.Figure at 0x117711390>"
      ]
     },
     "metadata": {},
     "output_type": "display_data"
    }
   ],
   "source": [
    "y_sales = model_df['total sales']\n",
    "ridge = linear_model.RidgeCV(cv=5)\n",
    "model_sales = ridge.fit(X,y_sales)\n",
    "print 'r-squared: {}'.format(model_sales.score(X,y_sales))\n",
    "print 'alpha applied: {}'.format(model_sales.alpha_)\n",
    "\n",
    "feature_imp = pd.DataFrame([features, model_sales.coef_.tolist()], index=['feature', 'coef']).T\n",
    "feature_imp['coef'] = feature_imp['coef'].astype(float)\n",
    "feature_imp = feature_imp.sort_values(by='coef', ascending=False)\n",
    "\n",
    "predicted_sales = model_sales.predict(X)\n",
    "plt.scatter(predicted_sales, y_sales);\n",
    "plt.plot([min(y_sales), max(y_sales)], [min(y_sales), max(y_sales)], '-');\n",
    "plt.title('Predicted and actual sales');\n",
    "plt.xlabel('Predicted sales');\n",
    "plt.ylabel('Actual sales');"
   ]
  },
  {
   "cell_type": "code",
   "execution_count": 63,
   "metadata": {
    "ExecuteTime": {
     "end_time": "2016-10-10T16:53:02.411300",
     "start_time": "2016-10-10T16:52:55.349862"
    },
    "collapsed": false
   },
   "outputs": [
    {
     "name": "stdout",
     "output_type": "stream",
     "text": [
      "r-squared: 0.685476973761\n",
      "alpha applied: 0.1\n"
     ]
    },
    {
     "data": {
      "image/png": "[encoded data removed]",
      "text/plain": [
       "<matplotlib.figure.Figure at 0x1193f2290>"
      ]
     },
     "metadata": {},
     "output_type": "display_data"
    }
   ],
   "source": [
    "y_dollar = model_df['Dollar per litre']\n",
    "ridge2 = linear_model.RidgeCV(cv=5)\n",
    "model_dollar = ridge2.fit(X,y_dollar)\n",
    "print 'r-squared: {}'.format(model_dollar.score(X,y_dollar))\n",
    "print 'alpha applied: {}'.format(model_dollar.alpha_)\n",
    "\n",
    "feature_imp_d = pd.DataFrame([features, model_dollar.coef_.tolist()], index=['feature', 'coef']).T\n",
    "feature_imp_d['coef'] = feature_imp_d['coef'].astype(float)\n",
    "feature_imp_d = feature_imp_d.sort_values(by='coef', ascending=False)\n",
    "\n",
    "predicted_dollar = model_dollar.predict(X)\n",
    "plt.scatter(predicted_dollar, y_dollar);\n",
    "plt.plot([min(y_dollar), max(y_dollar)], [min(y_dollar), max(y_dollar)], '-');\n",
    "plt.title('Predicted and actual dollar per litre');\n",
    "plt.xlabel('Predicted');\n",
    "plt.ylabel('Actual');"
   ]
  },
  {
   "cell_type": "code",
   "execution_count": 65,
   "metadata": {
    "ExecuteTime": {
     "end_time": "2016-10-10T16:53:15.378417",
     "start_time": "2016-10-10T16:53:15.319245"
    },
    "collapsed": false
   },
   "outputs": [],
   "source": [
    "predict_df = location_data.copy()\n",
    "predict_df = predict_df.merge(demo_df, left_on='Zip Code', right_on='Area')"
   ]
  },
  {
   "cell_type": "code",
   "execution_count": 66,
   "metadata": {
    "ExecuteTime": {
     "end_time": "2016-10-10T16:53:17.097117",
     "start_time": "2016-10-10T16:53:17.028249"
    },
    "collapsed": false
   },
   "outputs": [
    {
     "data": {
      "text/html": [
       "<div>\n",
       "<table border=\"1\" class=\"dataframe\">\n",
       "  <thead>\n",
       "    <tr style=\"text-align: right;\">\n",
       "      <th></th>\n",
       "      <th>Zip Code</th>\n",
       "      <th>City</th>\n",
       "      <th>County</th>\n",
       "      <th>State</th>\n",
       "      <th>County Number</th>\n",
       "      <th>Area (sqm)</th>\n",
       "      <th>Area</th>\n",
       "      <th>Total Pop</th>\n",
       "      <th>Median HH Inc</th>\n",
       "      <th>Per Capita Inc</th>\n",
       "      <th>...</th>\n",
       "      <th>Family households</th>\n",
       "      <th>Married-couple family households</th>\n",
       "      <th>Single mother households</th>\n",
       "      <th>Nonfamily households</th>\n",
       "      <th>Single Occupancy</th>\n",
       "      <th>Avg HH Size</th>\n",
       "      <th>Avg Family Size</th>\n",
       "      <th>Pop Below Poverty Level</th>\n",
       "      <th>% P25+ HS Grad</th>\n",
       "      <th>% P25-54 BA+</th>\n",
       "    </tr>\n",
       "  </thead>\n",
       "  <tbody>\n",
       "    <tr>\n",
       "      <th>0</th>\n",
       "      <td>50001</td>\n",
       "      <td>ACKWORTH</td>\n",
       "      <td>Warren</td>\n",
       "      <td>IA</td>\n",
       "      <td>91</td>\n",
       "      <td>62796656</td>\n",
       "      <td>50001</td>\n",
       "      <td>615.0</td>\n",
       "      <td>43611.0</td>\n",
       "      <td>17803.0</td>\n",
       "      <td>...</td>\n",
       "      <td>174.0</td>\n",
       "      <td>158.0</td>\n",
       "      <td>12.0</td>\n",
       "      <td>42.0</td>\n",
       "      <td>34.0</td>\n",
       "      <td>2.85</td>\n",
       "      <td>3.21</td>\n",
       "      <td>711.0</td>\n",
       "      <td>88.8</td>\n",
       "      <td>9.7</td>\n",
       "    </tr>\n",
       "    <tr>\n",
       "      <th>1</th>\n",
       "      <td>50002</td>\n",
       "      <td>ADAIR</td>\n",
       "      <td>Guthrie</td>\n",
       "      <td>IA</td>\n",
       "      <td>39</td>\n",
       "      <td>279202219</td>\n",
       "      <td>50002</td>\n",
       "      <td>1339.0</td>\n",
       "      <td>32500.0</td>\n",
       "      <td>20580.0</td>\n",
       "      <td>...</td>\n",
       "      <td>370.0</td>\n",
       "      <td>333.0</td>\n",
       "      <td>30.0</td>\n",
       "      <td>205.0</td>\n",
       "      <td>185.0</td>\n",
       "      <td>2.25</td>\n",
       "      <td>2.86</td>\n",
       "      <td>1232.0</td>\n",
       "      <td>87.6</td>\n",
       "      <td>11.2</td>\n",
       "    </tr>\n",
       "    <tr>\n",
       "      <th>2</th>\n",
       "      <td>50003</td>\n",
       "      <td>ADEL</td>\n",
       "      <td>Dallas</td>\n",
       "      <td>IA</td>\n",
       "      <td>25</td>\n",
       "      <td>298086291</td>\n",
       "      <td>50003</td>\n",
       "      <td>5835.0</td>\n",
       "      <td>47649.0</td>\n",
       "      <td>22429.0</td>\n",
       "      <td>...</td>\n",
       "      <td>1615.0</td>\n",
       "      <td>1390.0</td>\n",
       "      <td>162.0</td>\n",
       "      <td>619.0</td>\n",
       "      <td>529.0</td>\n",
       "      <td>2.58</td>\n",
       "      <td>3.08</td>\n",
       "      <td>5816.0</td>\n",
       "      <td>91.0</td>\n",
       "      <td>24.0</td>\n",
       "    </tr>\n",
       "    <tr>\n",
       "      <th>3</th>\n",
       "      <td>50005</td>\n",
       "      <td>ALBION</td>\n",
       "      <td>Marshall</td>\n",
       "      <td>IA</td>\n",
       "      <td>64</td>\n",
       "      <td>69623573</td>\n",
       "      <td>50005</td>\n",
       "      <td>851.0</td>\n",
       "      <td>41786.0</td>\n",
       "      <td>15267.0</td>\n",
       "      <td>...</td>\n",
       "      <td>251.0</td>\n",
       "      <td>208.0</td>\n",
       "      <td>28.0</td>\n",
       "      <td>69.0</td>\n",
       "      <td>56.0</td>\n",
       "      <td>2.66</td>\n",
       "      <td>2.98</td>\n",
       "      <td>917.0</td>\n",
       "      <td>80.8</td>\n",
       "      <td>12.7</td>\n",
       "    </tr>\n",
       "    <tr>\n",
       "      <th>4</th>\n",
       "      <td>50006</td>\n",
       "      <td>ALDEN</td>\n",
       "      <td>Hardin</td>\n",
       "      <td>IA</td>\n",
       "      <td>42</td>\n",
       "      <td>317745150</td>\n",
       "      <td>50006</td>\n",
       "      <td>1959.0</td>\n",
       "      <td>36494.0</td>\n",
       "      <td>16957.0</td>\n",
       "      <td>...</td>\n",
       "      <td>547.0</td>\n",
       "      <td>477.0</td>\n",
       "      <td>43.0</td>\n",
       "      <td>220.0</td>\n",
       "      <td>194.0</td>\n",
       "      <td>2.55</td>\n",
       "      <td>3.09</td>\n",
       "      <td>1939.0</td>\n",
       "      <td>88.9</td>\n",
       "      <td>14.8</td>\n",
       "    </tr>\n",
       "  </tbody>\n",
       "</table>\n",
       "<p>5 rows × 48 columns</p>\n",
       "</div>"
      ],
      "text/plain": [
       "   Zip Code      City    County State  County Number  Area (sqm)   Area  \\\n",
       "0     50001  ACKWORTH    Warren    IA             91    62796656  50001   \n",
       "1     50002     ADAIR   Guthrie    IA             39   279202219  50002   \n",
       "2     50003      ADEL    Dallas    IA             25   298086291  50003   \n",
       "3     50005    ALBION  Marshall    IA             64    69623573  50005   \n",
       "4     50006     ALDEN    Hardin    IA             42   317745150  50006   \n",
       "\n",
       "   Total Pop  Median HH Inc  Per Capita Inc      ...       Family households  \\\n",
       "0      615.0        43611.0         17803.0      ...                   174.0   \n",
       "1     1339.0        32500.0         20580.0      ...                   370.0   \n",
       "2     5835.0        47649.0         22429.0      ...                  1615.0   \n",
       "3      851.0        41786.0         15267.0      ...                   251.0   \n",
       "4     1959.0        36494.0         16957.0      ...                   547.0   \n",
       "\n",
       "   Married-couple family households  Single mother households  \\\n",
       "0                             158.0                      12.0   \n",
       "1                             333.0                      30.0   \n",
       "2                            1390.0                     162.0   \n",
       "3                             208.0                      28.0   \n",
       "4                             477.0                      43.0   \n",
       "\n",
       "   Nonfamily households  Single Occupancy  Avg HH Size  Avg Family Size  \\\n",
       "0                  42.0              34.0         2.85             3.21   \n",
       "1                 205.0             185.0         2.25             2.86   \n",
       "2                 619.0             529.0         2.58             3.08   \n",
       "3                  69.0              56.0         2.66             2.98   \n",
       "4                 220.0             194.0         2.55             3.09   \n",
       "\n",
       "   Pop Below Poverty Level  % P25+ HS Grad  % P25-54 BA+  \n",
       "0                    711.0            88.8           9.7  \n",
       "1                   1232.0            87.6          11.2  \n",
       "2                   5816.0            91.0          24.0  \n",
       "3                    917.0            80.8          12.7  \n",
       "4                   1939.0            88.9          14.8  \n",
       "\n",
       "[5 rows x 48 columns]"
      ]
     },
     "execution_count": 66,
     "metadata": {},
     "output_type": "execute_result"
    }
   ],
   "source": [
    "predict_df.head()"
   ]
  },
  {
   "cell_type": "code",
   "execution_count": 67,
   "metadata": {
    "ExecuteTime": {
     "end_time": "2016-10-10T16:53:21.077745",
     "start_time": "2016-10-10T16:53:21.068014"
    },
    "collapsed": false
   },
   "outputs": [],
   "source": [
    "X_predict = predict_df[features]\n",
    "all_sales = model_sales.predict(X_predict)\n",
    "all_dollar_per_litre = model_dollar.predict(X_predict)"
   ]
  },
  {
   "cell_type": "code",
   "execution_count": 68,
   "metadata": {
    "ExecuteTime": {
     "end_time": "2016-10-10T16:53:23.529742",
     "start_time": "2016-10-10T16:53:23.523949"
    },
    "collapsed": false
   },
   "outputs": [],
   "source": [
    "all_sales = pd.DataFrame(all_sales, columns=['predicted total sales'])\n",
    "all_dollar_per_litre = pd.DataFrame(all_dollar_per_litre, columns=['predicted dollar/litre'])"
   ]
  },
  {
   "cell_type": "code",
   "execution_count": 69,
   "metadata": {
    "ExecuteTime": {
     "end_time": "2016-10-10T16:53:26.613730",
     "start_time": "2016-10-10T16:53:26.606239"
    },
    "collapsed": false
   },
   "outputs": [],
   "source": [
    "predict_df['predicted total sales'] = all_sales['predicted total sales']\n",
    "predict_df['predicted dollar/litre'] = all_dollar_per_litre['predicted dollar/litre']"
   ]
  },
  {
   "cell_type": "code",
   "execution_count": 70,
   "metadata": {
    "ExecuteTime": {
     "end_time": "2016-10-10T16:53:29.084592",
     "start_time": "2016-10-10T16:53:29.003849"
    },
    "collapsed": false
   },
   "outputs": [
    {
     "data": {
      "text/html": [
       "<div>\n",
       "<table border=\"1\" class=\"dataframe\">\n",
       "  <thead>\n",
       "    <tr style=\"text-align: right;\">\n",
       "      <th></th>\n",
       "      <th>Zip Code</th>\n",
       "      <th>City</th>\n",
       "      <th>County</th>\n",
       "      <th>State</th>\n",
       "      <th>County Number</th>\n",
       "      <th>Area (sqm)</th>\n",
       "      <th>Area</th>\n",
       "      <th>Total Pop</th>\n",
       "      <th>Median HH Inc</th>\n",
       "      <th>Per Capita Inc</th>\n",
       "      <th>...</th>\n",
       "      <th>Single mother households</th>\n",
       "      <th>Nonfamily households</th>\n",
       "      <th>Single Occupancy</th>\n",
       "      <th>Avg HH Size</th>\n",
       "      <th>Avg Family Size</th>\n",
       "      <th>Pop Below Poverty Level</th>\n",
       "      <th>% P25+ HS Grad</th>\n",
       "      <th>% P25-54 BA+</th>\n",
       "      <th>predicted total sales</th>\n",
       "      <th>predicted dollar/litre</th>\n",
       "    </tr>\n",
       "  </thead>\n",
       "  <tbody>\n",
       "    <tr>\n",
       "      <th>0</th>\n",
       "      <td>50001</td>\n",
       "      <td>ACKWORTH</td>\n",
       "      <td>Warren</td>\n",
       "      <td>IA</td>\n",
       "      <td>91</td>\n",
       "      <td>62796656</td>\n",
       "      <td>50001</td>\n",
       "      <td>615.0</td>\n",
       "      <td>43611.0</td>\n",
       "      <td>17803.0</td>\n",
       "      <td>...</td>\n",
       "      <td>12.0</td>\n",
       "      <td>42.0</td>\n",
       "      <td>34.0</td>\n",
       "      <td>2.85</td>\n",
       "      <td>3.21</td>\n",
       "      <td>711.0</td>\n",
       "      <td>88.8</td>\n",
       "      <td>9.7</td>\n",
       "      <td>31403.433183</td>\n",
       "      <td>12.069858</td>\n",
       "    </tr>\n",
       "    <tr>\n",
       "      <th>1</th>\n",
       "      <td>50002</td>\n",
       "      <td>ADAIR</td>\n",
       "      <td>Guthrie</td>\n",
       "      <td>IA</td>\n",
       "      <td>39</td>\n",
       "      <td>279202219</td>\n",
       "      <td>50002</td>\n",
       "      <td>1339.0</td>\n",
       "      <td>32500.0</td>\n",
       "      <td>20580.0</td>\n",
       "      <td>...</td>\n",
       "      <td>30.0</td>\n",
       "      <td>205.0</td>\n",
       "      <td>185.0</td>\n",
       "      <td>2.25</td>\n",
       "      <td>2.86</td>\n",
       "      <td>1232.0</td>\n",
       "      <td>87.6</td>\n",
       "      <td>11.2</td>\n",
       "      <td>-17928.066138</td>\n",
       "      <td>12.874650</td>\n",
       "    </tr>\n",
       "    <tr>\n",
       "      <th>2</th>\n",
       "      <td>50003</td>\n",
       "      <td>ADEL</td>\n",
       "      <td>Dallas</td>\n",
       "      <td>IA</td>\n",
       "      <td>25</td>\n",
       "      <td>298086291</td>\n",
       "      <td>50003</td>\n",
       "      <td>5835.0</td>\n",
       "      <td>47649.0</td>\n",
       "      <td>22429.0</td>\n",
       "      <td>...</td>\n",
       "      <td>162.0</td>\n",
       "      <td>619.0</td>\n",
       "      <td>529.0</td>\n",
       "      <td>2.58</td>\n",
       "      <td>3.08</td>\n",
       "      <td>5816.0</td>\n",
       "      <td>91.0</td>\n",
       "      <td>24.0</td>\n",
       "      <td>100097.353164</td>\n",
       "      <td>13.188819</td>\n",
       "    </tr>\n",
       "    <tr>\n",
       "      <th>3</th>\n",
       "      <td>50005</td>\n",
       "      <td>ALBION</td>\n",
       "      <td>Marshall</td>\n",
       "      <td>IA</td>\n",
       "      <td>64</td>\n",
       "      <td>69623573</td>\n",
       "      <td>50005</td>\n",
       "      <td>851.0</td>\n",
       "      <td>41786.0</td>\n",
       "      <td>15267.0</td>\n",
       "      <td>...</td>\n",
       "      <td>28.0</td>\n",
       "      <td>69.0</td>\n",
       "      <td>56.0</td>\n",
       "      <td>2.66</td>\n",
       "      <td>2.98</td>\n",
       "      <td>917.0</td>\n",
       "      <td>80.8</td>\n",
       "      <td>12.7</td>\n",
       "      <td>-42036.887284</td>\n",
       "      <td>12.181796</td>\n",
       "    </tr>\n",
       "    <tr>\n",
       "      <th>4</th>\n",
       "      <td>50006</td>\n",
       "      <td>ALDEN</td>\n",
       "      <td>Hardin</td>\n",
       "      <td>IA</td>\n",
       "      <td>42</td>\n",
       "      <td>317745150</td>\n",
       "      <td>50006</td>\n",
       "      <td>1959.0</td>\n",
       "      <td>36494.0</td>\n",
       "      <td>16957.0</td>\n",
       "      <td>...</td>\n",
       "      <td>43.0</td>\n",
       "      <td>220.0</td>\n",
       "      <td>194.0</td>\n",
       "      <td>2.55</td>\n",
       "      <td>3.09</td>\n",
       "      <td>1939.0</td>\n",
       "      <td>88.9</td>\n",
       "      <td>14.8</td>\n",
       "      <td>4836.162022</td>\n",
       "      <td>12.794107</td>\n",
       "    </tr>\n",
       "  </tbody>\n",
       "</table>\n",
       "<p>5 rows × 50 columns</p>\n",
       "</div>"
      ],
      "text/plain": [
       "   Zip Code      City    County State  County Number  Area (sqm)   Area  \\\n",
       "0     50001  ACKWORTH    Warren    IA             91    62796656  50001   \n",
       "1     50002     ADAIR   Guthrie    IA             39   279202219  50002   \n",
       "2     50003      ADEL    Dallas    IA             25   298086291  50003   \n",
       "3     50005    ALBION  Marshall    IA             64    69623573  50005   \n",
       "4     50006     ALDEN    Hardin    IA             42   317745150  50006   \n",
       "\n",
       "   Total Pop  Median HH Inc  Per Capita Inc           ...            \\\n",
       "0      615.0        43611.0         17803.0           ...             \n",
       "1     1339.0        32500.0         20580.0           ...             \n",
       "2     5835.0        47649.0         22429.0           ...             \n",
       "3      851.0        41786.0         15267.0           ...             \n",
       "4     1959.0        36494.0         16957.0           ...             \n",
       "\n",
       "   Single mother households  Nonfamily households  Single Occupancy  \\\n",
       "0                      12.0                  42.0              34.0   \n",
       "1                      30.0                 205.0             185.0   \n",
       "2                     162.0                 619.0             529.0   \n",
       "3                      28.0                  69.0              56.0   \n",
       "4                      43.0                 220.0             194.0   \n",
       "\n",
       "   Avg HH Size  Avg Family Size  Pop Below Poverty Level  % P25+ HS Grad  \\\n",
       "0         2.85             3.21                    711.0            88.8   \n",
       "1         2.25             2.86                   1232.0            87.6   \n",
       "2         2.58             3.08                   5816.0            91.0   \n",
       "3         2.66             2.98                    917.0            80.8   \n",
       "4         2.55             3.09                   1939.0            88.9   \n",
       "\n",
       "   % P25-54 BA+  predicted total sales  predicted dollar/litre  \n",
       "0           9.7           31403.433183               12.069858  \n",
       "1          11.2          -17928.066138               12.874650  \n",
       "2          24.0          100097.353164               13.188819  \n",
       "3          12.7          -42036.887284               12.181796  \n",
       "4          14.8            4836.162022               12.794107  \n",
       "\n",
       "[5 rows x 50 columns]"
      ]
     },
     "execution_count": 70,
     "metadata": {},
     "output_type": "execute_result"
    }
   ],
   "source": [
    "predict_df.head()"
   ]
  },
  {
   "cell_type": "code",
   "execution_count": 73,
   "metadata": {
    "ExecuteTime": {
     "end_time": "2016-10-10T16:54:36.022899",
     "start_time": "2016-10-10T16:54:36.018445"
    },
    "collapsed": false
   },
   "outputs": [],
   "source": [
    "present_columns = ['Zip Code', 'predicted total sales', 'predicted dollar/litre']"
   ]
  },
  {
   "cell_type": "code",
   "execution_count": 74,
   "metadata": {
    "ExecuteTime": {
     "end_time": "2016-10-10T16:54:36.555979",
     "start_time": "2016-10-10T16:54:36.548751"
    },
    "collapsed": false
   },
   "outputs": [],
   "source": [
    "present_df = predict_df[present_columns]"
   ]
  },
  {
   "cell_type": "code",
   "execution_count": 75,
   "metadata": {
    "ExecuteTime": {
     "end_time": "2016-10-10T16:54:55.575551",
     "start_time": "2016-10-10T16:54:55.393773"
    },
    "collapsed": false
   },
   "outputs": [],
   "source": [
    "present_df = present_df.merge(df2[['Zip Code', 'Store Count', 'Area (sqm)', 'Stores per sqm']],\\\n",
    "                              how='left', on='Zip Code').drop_duplicates()"
   ]
  },
  {
   "cell_type": "code",
   "execution_count": 76,
   "metadata": {
    "ExecuteTime": {
     "end_time": "2016-10-10T16:55:00.482455",
     "start_time": "2016-10-10T16:55:00.458667"
    },
    "collapsed": false
   },
   "outputs": [
    {
     "data": {
      "text/html": [
       "<div>\n",
       "<table border=\"1\" class=\"dataframe\">\n",
       "  <thead>\n",
       "    <tr style=\"text-align: right;\">\n",
       "      <th></th>\n",
       "      <th>Zip Code</th>\n",
       "      <th>predicted total sales</th>\n",
       "      <th>predicted dollar/litre</th>\n",
       "      <th>Store Count</th>\n",
       "      <th>Area (sqm)</th>\n",
       "      <th>Stores per sqm</th>\n",
       "    </tr>\n",
       "  </thead>\n",
       "  <tbody>\n",
       "    <tr>\n",
       "      <th>0</th>\n",
       "      <td>50001</td>\n",
       "      <td>31403.433183</td>\n",
       "      <td>12.069858</td>\n",
       "      <td>NaN</td>\n",
       "      <td>NaN</td>\n",
       "      <td>NaN</td>\n",
       "    </tr>\n",
       "    <tr>\n",
       "      <th>1</th>\n",
       "      <td>50002</td>\n",
       "      <td>-17928.066138</td>\n",
       "      <td>12.874650</td>\n",
       "      <td>2.0</td>\n",
       "      <td>279202219.0</td>\n",
       "      <td>7.163267e-09</td>\n",
       "    </tr>\n",
       "    <tr>\n",
       "      <th>44</th>\n",
       "      <td>50003</td>\n",
       "      <td>100097.353164</td>\n",
       "      <td>13.188819</td>\n",
       "      <td>3.0</td>\n",
       "      <td>298086291.0</td>\n",
       "      <td>1.006420e-08</td>\n",
       "    </tr>\n",
       "    <tr>\n",
       "      <th>362</th>\n",
       "      <td>50005</td>\n",
       "      <td>-42036.887284</td>\n",
       "      <td>12.181796</td>\n",
       "      <td>NaN</td>\n",
       "      <td>NaN</td>\n",
       "      <td>NaN</td>\n",
       "    </tr>\n",
       "    <tr>\n",
       "      <th>363</th>\n",
       "      <td>50006</td>\n",
       "      <td>4836.162022</td>\n",
       "      <td>12.794107</td>\n",
       "      <td>2.0</td>\n",
       "      <td>317745150.0</td>\n",
       "      <td>6.294353e-09</td>\n",
       "    </tr>\n",
       "  </tbody>\n",
       "</table>\n",
       "</div>"
      ],
      "text/plain": [
       "     Zip Code  predicted total sales  predicted dollar/litre  Store Count  \\\n",
       "0       50001           31403.433183               12.069858          NaN   \n",
       "1       50002          -17928.066138               12.874650          2.0   \n",
       "44      50003          100097.353164               13.188819          3.0   \n",
       "362     50005          -42036.887284               12.181796          NaN   \n",
       "363     50006            4836.162022               12.794107          2.0   \n",
       "\n",
       "      Area (sqm)  Stores per sqm  \n",
       "0            NaN             NaN  \n",
       "1    279202219.0    7.163267e-09  \n",
       "44   298086291.0    1.006420e-08  \n",
       "362          NaN             NaN  \n",
       "363  317745150.0    6.294353e-09  "
      ]
     },
     "execution_count": 76,
     "metadata": {},
     "output_type": "execute_result"
    }
   ],
   "source": [
    "present_df.head()"
   ]
  },
  {
   "cell_type": "code",
   "execution_count": 77,
   "metadata": {
    "ExecuteTime": {
     "end_time": "2016-10-10T16:55:08.792720",
     "start_time": "2016-10-10T16:55:08.785552"
    },
    "collapsed": false
   },
   "outputs": [],
   "source": [
    "top_10 = present_df.sort_values(by='predicted total sales', ascending=False).head(10)"
   ]
  },
  {
   "cell_type": "code",
   "execution_count": 78,
   "metadata": {
    "ExecuteTime": {
     "end_time": "2016-10-10T16:55:10.115634",
     "start_time": "2016-10-10T16:55:10.080841"
    },
    "collapsed": false
   },
   "outputs": [
    {
     "data": {
      "text/html": [
       "<div>\n",
       "<table border=\"1\" class=\"dataframe\">\n",
       "  <thead>\n",
       "    <tr style=\"text-align: right;\">\n",
       "      <th></th>\n",
       "      <th>Zip Code</th>\n",
       "      <th>predicted total sales</th>\n",
       "      <th>predicted dollar/litre</th>\n",
       "      <th>Store Count</th>\n",
       "      <th>Area (sqm)</th>\n",
       "      <th>Stores per sqm</th>\n",
       "    </tr>\n",
       "  </thead>\n",
       "  <tbody>\n",
       "    <tr>\n",
       "      <th>185116</th>\n",
       "      <td>52240</td>\n",
       "      <td>878576.482818</td>\n",
       "      <td>15.818783</td>\n",
       "      <td>20.0</td>\n",
       "      <td>415571318.0</td>\n",
       "      <td>4.812652e-08</td>\n",
       "    </tr>\n",
       "    <tr>\n",
       "      <th>211962</th>\n",
       "      <td>52402</td>\n",
       "      <td>813570.002696</td>\n",
       "      <td>13.818488</td>\n",
       "      <td>30.0</td>\n",
       "      <td>36420817.0</td>\n",
       "      <td>8.237048e-07</td>\n",
       "    </tr>\n",
       "    <tr>\n",
       "      <th>2600</th>\n",
       "      <td>50010</td>\n",
       "      <td>713467.642739</td>\n",
       "      <td>14.601469</td>\n",
       "      <td>21.0</td>\n",
       "      <td>155294118.0</td>\n",
       "      <td>1.352273e-07</td>\n",
       "    </tr>\n",
       "    <tr>\n",
       "      <th>45989</th>\n",
       "      <td>50266</td>\n",
       "      <td>599692.135554</td>\n",
       "      <td>17.268292</td>\n",
       "      <td>16.0</td>\n",
       "      <td>43060835.0</td>\n",
       "      <td>3.715673e-07</td>\n",
       "    </tr>\n",
       "    <tr>\n",
       "      <th>154613</th>\n",
       "      <td>51501</td>\n",
       "      <td>549954.844844</td>\n",
       "      <td>14.883510</td>\n",
       "      <td>26.0</td>\n",
       "      <td>68663347.0</td>\n",
       "      <td>3.786591e-07</td>\n",
       "    </tr>\n",
       "    <tr>\n",
       "      <th>168403</th>\n",
       "      <td>52001</td>\n",
       "      <td>530856.247105</td>\n",
       "      <td>14.631493</td>\n",
       "      <td>18.0</td>\n",
       "      <td>75057763.0</td>\n",
       "      <td>2.398153e-07</td>\n",
       "    </tr>\n",
       "    <tr>\n",
       "      <th>103139</th>\n",
       "      <td>50613</td>\n",
       "      <td>501084.128868</td>\n",
       "      <td>14.226150</td>\n",
       "      <td>16.0</td>\n",
       "      <td>329972902.0</td>\n",
       "      <td>4.848883e-08</td>\n",
       "    </tr>\n",
       "    <tr>\n",
       "      <th>52467</th>\n",
       "      <td>50311</td>\n",
       "      <td>494089.592044</td>\n",
       "      <td>15.048624</td>\n",
       "      <td>7.0</td>\n",
       "      <td>6511832.0</td>\n",
       "      <td>1.074966e-06</td>\n",
       "    </tr>\n",
       "    <tr>\n",
       "      <th>76254</th>\n",
       "      <td>50322</td>\n",
       "      <td>490394.697911</td>\n",
       "      <td>16.298098</td>\n",
       "      <td>19.0</td>\n",
       "      <td>27938267.0</td>\n",
       "      <td>6.800708e-07</td>\n",
       "    </tr>\n",
       "    <tr>\n",
       "      <th>268241</th>\n",
       "      <td>52807</td>\n",
       "      <td>488299.198552</td>\n",
       "      <td>15.599518</td>\n",
       "      <td>9.0</td>\n",
       "      <td>76469440.0</td>\n",
       "      <td>1.176941e-07</td>\n",
       "    </tr>\n",
       "  </tbody>\n",
       "</table>\n",
       "</div>"
      ],
      "text/plain": [
       "        Zip Code  predicted total sales  predicted dollar/litre  Store Count  \\\n",
       "185116     52240          878576.482818               15.818783         20.0   \n",
       "211962     52402          813570.002696               13.818488         30.0   \n",
       "2600       50010          713467.642739               14.601469         21.0   \n",
       "45989      50266          599692.135554               17.268292         16.0   \n",
       "154613     51501          549954.844844               14.883510         26.0   \n",
       "168403     52001          530856.247105               14.631493         18.0   \n",
       "103139     50613          501084.128868               14.226150         16.0   \n",
       "52467      50311          494089.592044               15.048624          7.0   \n",
       "76254      50322          490394.697911               16.298098         19.0   \n",
       "268241     52807          488299.198552               15.599518          9.0   \n",
       "\n",
       "         Area (sqm)  Stores per sqm  \n",
       "185116  415571318.0    4.812652e-08  \n",
       "211962   36420817.0    8.237048e-07  \n",
       "2600    155294118.0    1.352273e-07  \n",
       "45989    43060835.0    3.715673e-07  \n",
       "154613   68663347.0    3.786591e-07  \n",
       "168403   75057763.0    2.398153e-07  \n",
       "103139  329972902.0    4.848883e-08  \n",
       "52467     6511832.0    1.074966e-06  \n",
       "76254    27938267.0    6.800708e-07  \n",
       "268241   76469440.0    1.176941e-07  "
      ]
     },
     "execution_count": 78,
     "metadata": {},
     "output_type": "execute_result"
    }
   ],
   "source": [
    "top_10"
   ]
  },
  {
   "cell_type": "markdown",
   "metadata": {},
   "source": [
    "## Record your findings\n",
    "\n",
    "Be sure to write out anything observations from your exploratory analysis."
   ]
  },
  {
   "cell_type": "code",
   "execution_count": null,
   "metadata": {
    "collapsed": false
   },
   "outputs": [],
   "source": []
  },
  {
   "cell_type": "code",
   "execution_count": null,
   "metadata": {
    "collapsed": false
   },
   "outputs": [],
   "source": []
  },
  {
   "cell_type": "code",
   "execution_count": null,
   "metadata": {
    "ExecuteTime": {
     "end_time": "2016-10-10T16:47:45.675977",
     "start_time": "2016-10-10T20:47:43.207Z"
    },
    "collapsed": false
   },
   "outputs": [],
   "source": [
    "from sklearn import linear_model\n"
   ]
  },
  {
   "cell_type": "markdown",
   "metadata": {},
   "source": [
    "## Plot your results\n",
    "\n",
    "Again make sure that you record any valuable information. For example, in the tax scenario, did you find the sales from the first three months of the year to be a good predictor of the total sales for the year? Plot the predictions versus the true values and discuss the successes and limitations of your models"
   ]
  },
  {
   "cell_type": "code",
   "execution_count": null,
   "metadata": {
    "collapsed": false
   },
   "outputs": [],
   "source": []
  },
  {
   "cell_type": "markdown",
   "metadata": {},
   "source": [
    "# Present the Results\n",
    "\n",
    "Present your conclusions and results. If you have more than one interesting model feel free to include more than one along with a discussion. Use your work in this notebook to prepare your write-up."
   ]
  },
  {
   "cell_type": "code",
   "execution_count": null,
   "metadata": {
    "collapsed": false
   },
   "outputs": [],
   "source": []
  }
 ],
 "metadata": {
  "celltoolbar": "Slideshow",
  "kernelspec": {
   "display_name": "Python [default]",
   "language": "python",
   "name": "python2"
  },
  "language_info": {
   "codemirror_mode": {
    "name": "ipython",
    "version": 2
   },
   "file_extension": ".py",
   "mimetype": "text/x-python",
   "name": "python",
   "nbconvert_exporter": "python",
   "pygments_lexer": "ipython2",
   "version": "2.7.12"
  }
 },
 "nbformat": 4,
 "nbformat_minor": 0
}
