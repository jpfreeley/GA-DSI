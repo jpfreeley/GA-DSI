{
 "cells": [
  {
   "cell_type": "markdown",
   "metadata": {
    "slideshow": {
     "slide_type": "slide"
    }
   },
   "source": [
    "# Getting started\n",
    "\n",
    "Once you've chosen your scenario, download the data from [the Iowa website](https://data.iowa.gov/Economy/Iowa-Liquor-Sales/m3tr-qhgy) in csv format. Start by loading the data with pandas. You may need to parse the date columns appropriately."
   ]
  },
  {
   "cell_type": "code",
   "execution_count": 955,
   "metadata": {
    "ExecuteTime": {
     "end_time": "2016-10-09T19:50:05.851975",
     "start_time": "2016-10-09T19:50:05.840565"
    },
    "collapsed": false,
    "slideshow": {
     "slide_type": "slide"
    }
   },
   "outputs": [],
   "source": [
    "# Import relevant libraries\n",
    "import pandas as pd\n",
    "import numpy as np\n",
    "import seaborn as sns\n",
    "import matplotlib.pyplot as plt\n",
    "%matplotlib inline\n",
    "from sklearn import linear_model"
   ]
  },
  {
   "cell_type": "code",
   "execution_count": 956,
   "metadata": {
    "ExecuteTime": {
     "end_time": "2016-10-09T19:50:07.250375",
     "start_time": "2016-10-09T19:50:05.855261"
    },
    "collapsed": false,
    "slideshow": {
     "slide_type": "-"
    }
   },
   "outputs": [],
   "source": [
    "## Load the data into a DataFrame\n",
    "\n",
    "#UnComment your own base dir. \n",
    "\n",
    "#JPF BASE DIR\n",
    "base_dir = \"/Users/jfreeley/GA-DSI/DSI_IMAGE/projects/projects-weekly/project-03/starter-code/data/\"\n",
    "#JO BASE DIR\n",
    "#base_dir = \n",
    "#JB BASE DIR\n",
    "#base_dir = \n",
    "df = pd.read_csv(base_dir + 'Iowa_Liquor_sales_sample_10pct.csv')\n",
    "zcy = pd.read_csv(base_dir + 'ia_zip_city_county.csv')"
   ]
  },
  {
   "cell_type": "code",
   "execution_count": 957,
   "metadata": {
    "ExecuteTime": {
     "end_time": "2016-10-09T19:50:07.886317",
     "start_time": "2016-10-09T19:50:07.256013"
    },
    "collapsed": false
   },
   "outputs": [
    {
     "data": {
      "text/html": [
       "<div>\n",
       "<table border=\"1\" class=\"dataframe\">\n",
       "  <thead>\n",
       "    <tr style=\"text-align: right;\">\n",
       "      <th></th>\n",
       "      <th>Store Number</th>\n",
       "      <th>Zip Code</th>\n",
       "    </tr>\n",
       "  </thead>\n",
       "  <tbody>\n",
       "    <tr>\n",
       "      <th>78</th>\n",
       "      <td>5142</td>\n",
       "      <td>52303</td>\n",
       "    </tr>\n",
       "    <tr>\n",
       "      <th>114</th>\n",
       "      <td>4307</td>\n",
       "      <td>712-2</td>\n",
       "    </tr>\n",
       "    <tr>\n",
       "      <th>267</th>\n",
       "      <td>5054</td>\n",
       "      <td>52087</td>\n",
       "    </tr>\n",
       "    <tr>\n",
       "      <th>464</th>\n",
       "      <td>3805</td>\n",
       "      <td>52084</td>\n",
       "    </tr>\n",
       "    <tr>\n",
       "      <th>1871</th>\n",
       "      <td>4722</td>\n",
       "      <td>56201</td>\n",
       "    </tr>\n",
       "    <tr>\n",
       "      <th>4942</th>\n",
       "      <td>2954</td>\n",
       "      <td>50300</td>\n",
       "    </tr>\n",
       "    <tr>\n",
       "      <th>6664</th>\n",
       "      <td>2956</td>\n",
       "      <td>50300</td>\n",
       "    </tr>\n",
       "  </tbody>\n",
       "</table>\n",
       "</div>"
      ],
      "text/plain": [
       "      Store Number Zip Code\n",
       "78            5142    52303\n",
       "114           4307    712-2\n",
       "267           5054    52087\n",
       "464           3805    52084\n",
       "1871          4722    56201\n",
       "4942          2954    50300\n",
       "6664          2956    50300"
      ]
     },
     "execution_count": 957,
     "metadata": {},
     "output_type": "execute_result"
    }
   ],
   "source": [
    "#df3 = df2.merge(demo_df, left_on='Zip Code', right_on='Area')\n",
    "df1 = df.merge(zcy, left_on='Zip Code', right_on='zip', how='left')\n",
    "df1[df1['zip'].isnull()][['Store Number','Zip Code']].drop_duplicates()\n"
   ]
  },
  {
   "cell_type": "code",
   "execution_count": 958,
   "metadata": {
    "ExecuteTime": {
     "end_time": "2016-10-09T19:50:07.987706",
     "start_time": "2016-10-09T19:50:07.891118"
    },
    "collapsed": false
   },
   "outputs": [],
   "source": [
    "# Store Zip Fixes\n",
    "# store zip\n",
    "# 5142, 52403\n",
    "# 5054, 52057\n",
    "# 3805, 52804\n",
    "# 2954, 50312\n",
    "# 2956, 50321\n",
    "# 4722, 52601\n",
    "# 4307, 51529\n",
    "\n",
    "df.ix[df['Store Number']==5142, 'Zip Code'] = '52403'\n",
    "df.ix[df['Store Number']==5054, 'Zip Code'] = '52057'\n",
    "df.ix[df['Store Number']==3805, 'Zip Code'] = '52804'\n",
    "df.ix[df['Store Number']==2954, 'Zip Code'] = '50312'\n",
    "df.ix[df['Store Number']==2956, 'Zip Code'] = '50321'\n",
    "df.ix[df['Store Number']==4722, 'Zip Code'] = '52601'\n",
    "df.ix[df['Store Number']==4307, 'Zip Code'] = '51529'"
   ]
  },
  {
   "cell_type": "code",
   "execution_count": 959,
   "metadata": {
    "ExecuteTime": {
     "end_time": "2016-10-09T19:50:09.574138",
     "start_time": "2016-10-09T19:50:07.993841"
    },
    "collapsed": false,
    "slideshow": {
     "slide_type": "-"
    }
   },
   "outputs": [],
   "source": [
    "## Transform the dates column\n",
    "df[\"Date\"] = pd.to_datetime(df[\"Date\"], format='%m/%d/%Y')"
   ]
  },
  {
   "cell_type": "code",
   "execution_count": 960,
   "metadata": {
    "ExecuteTime": {
     "end_time": "2016-10-09T19:50:09.645080",
     "start_time": "2016-10-09T19:50:09.576853"
    },
    "collapsed": false,
    "slideshow": {
     "slide_type": "skip"
    }
   },
   "outputs": [
    {
     "data": {
      "text/html": [
       "<div>\n",
       "<table border=\"1\" class=\"dataframe\">\n",
       "  <thead>\n",
       "    <tr style=\"text-align: right;\">\n",
       "      <th></th>\n",
       "      <th>Date</th>\n",
       "      <th>Store Number</th>\n",
       "      <th>City</th>\n",
       "      <th>Zip Code</th>\n",
       "      <th>County Number</th>\n",
       "      <th>County</th>\n",
       "      <th>Category</th>\n",
       "      <th>Category Name</th>\n",
       "      <th>Vendor Number</th>\n",
       "      <th>Item Number</th>\n",
       "      <th>Item Description</th>\n",
       "      <th>Bottle Volume (ml)</th>\n",
       "      <th>State Bottle Cost</th>\n",
       "      <th>State Bottle Retail</th>\n",
       "      <th>Bottles Sold</th>\n",
       "      <th>Sale (Dollars)</th>\n",
       "      <th>Volume Sold (Liters)</th>\n",
       "      <th>Volume Sold (Gallons)</th>\n",
       "    </tr>\n",
       "  </thead>\n",
       "  <tbody>\n",
       "    <tr>\n",
       "      <th>0</th>\n",
       "      <td>2015-11-04</td>\n",
       "      <td>3717</td>\n",
       "      <td>SUMNER</td>\n",
       "      <td>50674</td>\n",
       "      <td>9.0</td>\n",
       "      <td>Bremer</td>\n",
       "      <td>1051100.0</td>\n",
       "      <td>APRICOT BRANDIES</td>\n",
       "      <td>55</td>\n",
       "      <td>54436</td>\n",
       "      <td>Mr. Boston Apricot Brandy</td>\n",
       "      <td>750</td>\n",
       "      <td>$4.50</td>\n",
       "      <td>$6.75</td>\n",
       "      <td>12</td>\n",
       "      <td>$81.00</td>\n",
       "      <td>9.0</td>\n",
       "      <td>2.38</td>\n",
       "    </tr>\n",
       "    <tr>\n",
       "      <th>1</th>\n",
       "      <td>2016-03-02</td>\n",
       "      <td>2614</td>\n",
       "      <td>DAVENPORT</td>\n",
       "      <td>52807</td>\n",
       "      <td>82.0</td>\n",
       "      <td>Scott</td>\n",
       "      <td>1011100.0</td>\n",
       "      <td>BLENDED WHISKIES</td>\n",
       "      <td>395</td>\n",
       "      <td>27605</td>\n",
       "      <td>Tin Cup</td>\n",
       "      <td>750</td>\n",
       "      <td>$13.75</td>\n",
       "      <td>$20.63</td>\n",
       "      <td>2</td>\n",
       "      <td>$41.26</td>\n",
       "      <td>1.5</td>\n",
       "      <td>0.40</td>\n",
       "    </tr>\n",
       "    <tr>\n",
       "      <th>2</th>\n",
       "      <td>2016-02-11</td>\n",
       "      <td>2106</td>\n",
       "      <td>CEDAR FALLS</td>\n",
       "      <td>50613</td>\n",
       "      <td>7.0</td>\n",
       "      <td>Black Hawk</td>\n",
       "      <td>1011200.0</td>\n",
       "      <td>STRAIGHT BOURBON WHISKIES</td>\n",
       "      <td>65</td>\n",
       "      <td>19067</td>\n",
       "      <td>Jim Beam</td>\n",
       "      <td>1000</td>\n",
       "      <td>$12.59</td>\n",
       "      <td>$18.89</td>\n",
       "      <td>24</td>\n",
       "      <td>$453.36</td>\n",
       "      <td>24.0</td>\n",
       "      <td>6.34</td>\n",
       "    </tr>\n",
       "  </tbody>\n",
       "</table>\n",
       "</div>"
      ],
      "text/plain": [
       "        Date  Store Number         City Zip Code  County Number      County  \\\n",
       "0 2015-11-04          3717       SUMNER    50674            9.0      Bremer   \n",
       "1 2016-03-02          2614    DAVENPORT    52807           82.0       Scott   \n",
       "2 2016-02-11          2106  CEDAR FALLS    50613            7.0  Black Hawk   \n",
       "\n",
       "    Category              Category Name  Vendor Number  Item Number  \\\n",
       "0  1051100.0           APRICOT BRANDIES             55        54436   \n",
       "1  1011100.0           BLENDED WHISKIES            395        27605   \n",
       "2  1011200.0  STRAIGHT BOURBON WHISKIES             65        19067   \n",
       "\n",
       "            Item Description  Bottle Volume (ml) State Bottle Cost  \\\n",
       "0  Mr. Boston Apricot Brandy                 750             $4.50   \n",
       "1                    Tin Cup                 750            $13.75   \n",
       "2                   Jim Beam                1000            $12.59   \n",
       "\n",
       "  State Bottle Retail  Bottles Sold Sale (Dollars)  Volume Sold (Liters)  \\\n",
       "0               $6.75            12         $81.00                   9.0   \n",
       "1              $20.63             2         $41.26                   1.5   \n",
       "2              $18.89            24        $453.36                  24.0   \n",
       "\n",
       "   Volume Sold (Gallons)  \n",
       "0                   2.38  \n",
       "1                   0.40  \n",
       "2                   6.34  "
      ]
     },
     "execution_count": 960,
     "metadata": {},
     "output_type": "execute_result"
    }
   ],
   "source": [
    "df.head(3)"
   ]
  },
  {
   "cell_type": "markdown",
   "metadata": {},
   "source": [
    "Columns that we would be interested in:\n",
    "- Date\n",
    "- Store number\n",
    "- City\n",
    "- Zip code\n",
    "- County\n",
    "- Category\n",
    "- Category name\n",
    "- Vendor number\n",
    "- Item number\n",
    "- Item description\n",
    "- State bottle cost\n",
    "- State bottle retail\n",
    "- Bottles sold\n",
    "- Sales (dollars)\n",
    "- Volumes (liters)"
   ]
  },
  {
   "cell_type": "code",
   "execution_count": 961,
   "metadata": {
    "ExecuteTime": {
     "end_time": "2016-10-09T19:50:10.797892",
     "start_time": "2016-10-09T19:50:09.648159"
    },
    "collapsed": false
   },
   "outputs": [],
   "source": [
    "#Clean Cities by Hand\n",
    "# Seems like there are duplicates in city where the upper and lower case doesnt match\n",
    "df['City'] = df['City'].map(lambda x: x.title())\n",
    "\n",
    "# Guttenberg has been misspelled in some entries\n",
    "df['City'] = df['City'].map(lambda x: 'Guttenberg' if x == 'Guttenburg' else x)\n",
    "\n",
    "# Let's use Arnolds Park without the apostrophe\n",
    "df['City'] = df['City'].map(lambda x: 'Arnolds Park' if x == \"Arnold'S Park\" else x)\n",
    "\n",
    "# Kellogg has been misspelled in some entries\n",
    "df['City'] = df['City'].map(lambda x: 'Kellogg' if x == 'Kellog' else x)\n",
    "\n",
    "# Let's use Mount instead of Mt\n",
    "df['City'] = df['City'].map(lambda x: 'Mount Pleasant' if x == \"Mt Pleasant\" else x)\n",
    "df['City'] = df['City'].map(lambda x: 'Mount Vernon' if x == \"Mt Vernon\" else x)\n",
    "\n",
    "# Ottumwa has been misspelled in some entries\n",
    "df['City'] = df['City'].map(lambda x: 'Ottumwa' if x == 'Ottuwma' else x)\n",
    "\n",
    "# Remove city from Rockwell city\n",
    "df['City'] = df['City'].map(lambda x: 'Rockwell' if x == 'Rockwell City' else x)\n"
   ]
  },
  {
   "cell_type": "code",
   "execution_count": 962,
   "metadata": {
    "ExecuteTime": {
     "end_time": "2016-10-09T19:50:11.131018",
     "start_time": "2016-10-09T19:50:10.800880"
    },
    "collapsed": false,
    "slideshow": {
     "slide_type": "slide"
    }
   },
   "outputs": [
    {
     "name": "stdout",
     "output_type": "stream",
     "text": [
      "Series([], dtype: int64)\n"
     ]
    }
   ],
   "source": [
    "# Zip code should be integers\n",
    "\n",
    "# Find the entries which are causing the type to be forced to object\n",
    "# We may have to do this a few times, so we'll define a function that takes a column name to do it\n",
    "def find_non_int(col):\n",
    "    non_int = []\n",
    "    for i in df[col]:\n",
    "        try:\n",
    "            int(i)\n",
    "        except:\n",
    "            if i not in non_int:\n",
    "                non_int.append(i)\n",
    "    non_int = pd.Series(non_int)\n",
    "    return non_int.value_counts(dropna=False)\n",
    "print find_non_int('Zip Code')"
   ]
  },
  {
   "cell_type": "code",
   "execution_count": 963,
   "metadata": {
    "ExecuteTime": {
     "end_time": "2016-10-09T19:50:11.221234",
     "start_time": "2016-10-09T19:50:11.135303"
    },
    "collapsed": false,
    "slideshow": {
     "slide_type": "fragment"
    }
   },
   "outputs": [
    {
     "data": {
      "text/plain": [
       "array([], dtype=object)"
      ]
     },
     "execution_count": 963,
     "metadata": {},
     "output_type": "execute_result"
    }
   ],
   "source": [
    "# Find the cities that have '712-2' as the zip code\n",
    "\n",
    "df['City'][df['Zip Code'] == '712-2'].unique()"
   ]
  },
  {
   "cell_type": "code",
   "execution_count": 964,
   "metadata": {
    "ExecuteTime": {
     "end_time": "2016-10-09T19:50:11.403909",
     "start_time": "2016-10-09T19:50:11.225929"
    },
    "collapsed": false,
    "slideshow": {
     "slide_type": "fragment"
    }
   },
   "outputs": [
    {
     "name": "stdout",
     "output_type": "stream",
     "text": [
      "['51529']\n",
      "['Harrison' nan]\n",
      "[ 43.  nan]\n"
     ]
    }
   ],
   "source": [
    "# Find the corresponding zip codes and counties for entries with 'Dunlap' as city\n",
    "print df['Zip Code'][df['City'] == 'Dunlap'].unique()\n",
    "print df['County'][df['City'] == 'Dunlap'].unique()\n",
    "print df['County Number'][df['City'] == 'Dunlap'].unique()"
   ]
  },
  {
   "cell_type": "markdown",
   "metadata": {
    "slideshow": {
     "slide_type": "slide"
    }
   },
   "source": [
    "Based on [Wikipedia](https://en.wikipedia.org/wiki/Dunlap,_Iowa),\n",
    "\n",
    "> Dunlap is a city in Harrison County, Iowa, United States, along the Boyer River.\n",
    "\n",
    "> County: Harrison\n",
    "\n",
    "> Zip code: 51529"
   ]
  },
  {
   "cell_type": "code",
   "execution_count": 965,
   "metadata": {
    "ExecuteTime": {
     "end_time": "2016-10-09T19:50:11.570491",
     "start_time": "2016-10-09T19:50:11.408072"
    },
    "collapsed": false,
    "slideshow": {
     "slide_type": "fragment"
    }
   },
   "outputs": [],
   "source": [
    "# For all entries with 'DUNLAP' as city\n",
    "# Set zip code as 51529\n",
    "df.ix[df['City']=='Dunlap', 'Zip Code'] = '51529'\n",
    "\n",
    "# Set county as Harrison\n",
    "df.ix[df['City']=='Dunlap', 'County'] = 'Harrison'\n",
    "\n",
    "# Set county number as 43.0\n",
    "df.ix[df['City']=='Dunlap', 'County Number'] = 43.0"
   ]
  },
  {
   "cell_type": "code",
   "execution_count": 966,
   "metadata": {
    "ExecuteTime": {
     "end_time": "2016-10-09T19:50:11.800827",
     "start_time": "2016-10-09T19:50:11.574126"
    },
    "collapsed": false,
    "slideshow": {
     "slide_type": "slide"
    }
   },
   "outputs": [],
   "source": [
    "# Now change zip code to integers\n",
    "df['Zip Code'] = df['Zip Code'].astype(int)"
   ]
  },
  {
   "cell_type": "code",
   "execution_count": 967,
   "metadata": {
    "ExecuteTime": {
     "end_time": "2016-10-09T19:50:11.819879",
     "start_time": "2016-10-09T19:50:11.804150"
    },
    "collapsed": false,
    "slideshow": {
     "slide_type": "fragment"
    }
   },
   "outputs": [
    {
     "data": {
      "text/plain": [
       "Date                     datetime64[ns]\n",
       "Store Number                      int64\n",
       "City                             object\n",
       "Zip Code                          int64\n",
       "County Number                   float64\n",
       "County                           object\n",
       "Category                        float64\n",
       "Category Name                    object\n",
       "Vendor Number                     int64\n",
       "Item Number                       int64\n",
       "Item Description                 object\n",
       "Bottle Volume (ml)                int64\n",
       "State Bottle Cost                object\n",
       "State Bottle Retail              object\n",
       "Bottles Sold                      int64\n",
       "Sale (Dollars)                   object\n",
       "Volume Sold (Liters)            float64\n",
       "Volume Sold (Gallons)           float64\n",
       "dtype: object"
      ]
     },
     "execution_count": 967,
     "metadata": {},
     "output_type": "execute_result"
    }
   ],
   "source": [
    "df.dtypes"
   ]
  },
  {
   "cell_type": "markdown",
   "metadata": {},
   "source": [
    "City, Zip code, County and County Number should be related"
   ]
  },
  {
   "cell_type": "code",
   "execution_count": 968,
   "metadata": {
    "ExecuteTime": {
     "end_time": "2016-10-09T19:50:11.846162",
     "start_time": "2016-10-09T19:50:11.825528"
    },
    "collapsed": false
   },
   "outputs": [],
   "source": [
    "# Write a function that cross references City, Zip Code, County and County Number\n",
    "# and fills the data in where it's missing\n",
    "def fill_missing(related_cols, column):\n",
    "    related_cols.remove(column)\n",
    "    reference = df[related_cols][df[column].isnull()].drop_duplicates()\n",
    "    for j in range(len(related_cols)):\n",
    "        col_1 = reference[related_cols[j]]\n",
    "        for i in col_1:\n",
    "            try:\n",
    "                value = df[column][(df[related_cols[j]]==i) & (df[column].notnull())].drop_duplicates().iloc[0]\n",
    "                df.iloc[(df[related_cols[j]]==i) & (df[column].isnull()), column] = value\n",
    "            except:\n",
    "                pass"
   ]
  },
  {
   "cell_type": "code",
   "execution_count": 969,
   "metadata": {
    "ExecuteTime": {
     "end_time": "2016-10-09T19:50:21.960924",
     "start_time": "2016-10-09T19:50:11.851308"
    },
    "collapsed": false
   },
   "outputs": [],
   "source": [
    "fill_missing(['Store Number', 'City', 'Zip Code', 'County', 'County Number'], 'County')"
   ]
  },
  {
   "cell_type": "code",
   "execution_count": 970,
   "metadata": {
    "ExecuteTime": {
     "end_time": "2016-10-09T19:50:22.406610",
     "start_time": "2016-10-09T19:50:21.964362"
    },
    "collapsed": false
   },
   "outputs": [],
   "source": [
    "fill_missing(['Category', 'Category Name'], 'Category Name')\n",
    "fill_missing(['Category', 'Category Name'], 'Category')"
   ]
  },
  {
   "cell_type": "code",
   "execution_count": 971,
   "metadata": {
    "ExecuteTime": {
     "end_time": "2016-10-09T19:50:22.461493",
     "start_time": "2016-10-09T19:50:22.410691"
    },
    "collapsed": false
   },
   "outputs": [],
   "source": [
    "fill_missing(['Item Number', 'Item Description'], 'Item Description')\n",
    "fill_missing(['Item Number', 'Item Description'], 'Item Number')"
   ]
  },
  {
   "cell_type": "code",
   "execution_count": 972,
   "metadata": {
    "ExecuteTime": {
     "end_time": "2016-10-09T19:50:22.789019",
     "start_time": "2016-10-09T19:50:22.466402"
    },
    "collapsed": false
   },
   "outputs": [
    {
     "name": "stdout",
     "output_type": "stream",
     "text": [
      "<class 'pandas.core.frame.DataFrame'>\n",
      "RangeIndex: 270955 entries, 0 to 270954\n",
      "Data columns (total 18 columns):\n",
      "Date                     270955 non-null datetime64[ns]\n",
      "Store Number             270955 non-null int64\n",
      "City                     270955 non-null object\n",
      "Zip Code                 270955 non-null int64\n",
      "County Number            269909 non-null float64\n",
      "County                   269909 non-null object\n",
      "Category                 270887 non-null float64\n",
      "Category Name            270323 non-null object\n",
      "Vendor Number            270955 non-null int64\n",
      "Item Number              270955 non-null int64\n",
      "Item Description         270955 non-null object\n",
      "Bottle Volume (ml)       270955 non-null int64\n",
      "State Bottle Cost        270955 non-null object\n",
      "State Bottle Retail      270955 non-null object\n",
      "Bottles Sold             270955 non-null int64\n",
      "Sale (Dollars)           270955 non-null object\n",
      "Volume Sold (Liters)     270955 non-null float64\n",
      "Volume Sold (Gallons)    270955 non-null float64\n",
      "dtypes: datetime64[ns](1), float64(4), int64(6), object(7)\n",
      "memory usage: 37.2+ MB\n"
     ]
    }
   ],
   "source": [
    "df.info()"
   ]
  },
  {
   "cell_type": "code",
   "execution_count": 973,
   "metadata": {
    "ExecuteTime": {
     "end_time": "2016-10-09T19:50:23.884557",
     "start_time": "2016-10-09T19:50:22.793158"
    },
    "collapsed": false
   },
   "outputs": [],
   "source": [
    "# Convert all dollar columns to floats\n",
    "df['State Bottle Cost'] = df['State Bottle Cost'].map(lambda x: x.strip('$')).astype(float)\n",
    "df['State Bottle Retail'] = df['State Bottle Retail'].map(lambda x: x.strip('$')).astype(float)\n",
    "df['Sale (Dollars)'] = df['Sale (Dollars)'].map(lambda x: x.strip('$')).astype(float)"
   ]
  },
  {
   "cell_type": "code",
   "execution_count": 974,
   "metadata": {
    "ExecuteTime": {
     "end_time": "2016-10-09T19:50:24.237573",
     "start_time": "2016-10-09T19:50:23.888369"
    },
    "collapsed": false
   },
   "outputs": [
    {
     "name": "stdout",
     "output_type": "stream",
     "text": [
      "<class 'pandas.core.frame.DataFrame'>\n",
      "RangeIndex: 270955 entries, 0 to 270954\n",
      "Data columns (total 18 columns):\n",
      "Date                     270955 non-null datetime64[ns]\n",
      "Store Number             270955 non-null int64\n",
      "City                     270955 non-null object\n",
      "Zip Code                 270955 non-null int64\n",
      "County Number            269909 non-null float64\n",
      "County                   269909 non-null object\n",
      "Category                 270887 non-null float64\n",
      "Category Name            270323 non-null object\n",
      "Vendor Number            270955 non-null int64\n",
      "Item Number              270955 non-null int64\n",
      "Item Description         270955 non-null object\n",
      "Bottle Volume (ml)       270955 non-null int64\n",
      "State Bottle Cost        270955 non-null float64\n",
      "State Bottle Retail      270955 non-null float64\n",
      "Bottles Sold             270955 non-null int64\n",
      "Sale (Dollars)           270955 non-null float64\n",
      "Volume Sold (Liters)     270955 non-null float64\n",
      "Volume Sold (Gallons)    270955 non-null float64\n",
      "dtypes: datetime64[ns](1), float64(7), int64(6), object(4)\n",
      "memory usage: 37.2+ MB\n"
     ]
    }
   ],
   "source": [
    "df.info()"
   ]
  },
  {
   "cell_type": "code",
   "execution_count": 975,
   "metadata": {
    "ExecuteTime": {
     "end_time": "2016-10-09T19:50:24.328239",
     "start_time": "2016-10-09T19:50:24.241927"
    },
    "collapsed": false
   },
   "outputs": [
    {
     "data": {
      "text/html": [
       "<div>\n",
       "<table border=\"1\" class=\"dataframe\">\n",
       "  <thead>\n",
       "    <tr style=\"text-align: right;\">\n",
       "      <th></th>\n",
       "      <th>Date</th>\n",
       "      <th>Store Number</th>\n",
       "      <th>City</th>\n",
       "      <th>Zip Code</th>\n",
       "      <th>County Number</th>\n",
       "      <th>County</th>\n",
       "      <th>Category</th>\n",
       "      <th>Category Name</th>\n",
       "      <th>Vendor Number</th>\n",
       "      <th>Item Number</th>\n",
       "      <th>Item Description</th>\n",
       "      <th>Bottle Volume (ml)</th>\n",
       "      <th>State Bottle Cost</th>\n",
       "      <th>State Bottle Retail</th>\n",
       "      <th>Bottles Sold</th>\n",
       "      <th>Sale (Dollars)</th>\n",
       "      <th>Volume Sold (Liters)</th>\n",
       "      <th>Volume Sold (Gallons)</th>\n",
       "    </tr>\n",
       "  </thead>\n",
       "  <tbody>\n",
       "    <tr>\n",
       "      <th>0</th>\n",
       "      <td>2015-11-04</td>\n",
       "      <td>3717</td>\n",
       "      <td>Sumner</td>\n",
       "      <td>50674</td>\n",
       "      <td>9.0</td>\n",
       "      <td>Bremer</td>\n",
       "      <td>1051100.0</td>\n",
       "      <td>APRICOT BRANDIES</td>\n",
       "      <td>55</td>\n",
       "      <td>54436</td>\n",
       "      <td>Mr. Boston Apricot Brandy</td>\n",
       "      <td>750</td>\n",
       "      <td>4.50</td>\n",
       "      <td>6.75</td>\n",
       "      <td>12</td>\n",
       "      <td>81.00</td>\n",
       "      <td>9.0</td>\n",
       "      <td>2.38</td>\n",
       "    </tr>\n",
       "    <tr>\n",
       "      <th>1</th>\n",
       "      <td>2016-03-02</td>\n",
       "      <td>2614</td>\n",
       "      <td>Davenport</td>\n",
       "      <td>52807</td>\n",
       "      <td>82.0</td>\n",
       "      <td>Scott</td>\n",
       "      <td>1011100.0</td>\n",
       "      <td>BLENDED WHISKIES</td>\n",
       "      <td>395</td>\n",
       "      <td>27605</td>\n",
       "      <td>Tin Cup</td>\n",
       "      <td>750</td>\n",
       "      <td>13.75</td>\n",
       "      <td>20.63</td>\n",
       "      <td>2</td>\n",
       "      <td>41.26</td>\n",
       "      <td>1.5</td>\n",
       "      <td>0.40</td>\n",
       "    </tr>\n",
       "    <tr>\n",
       "      <th>2</th>\n",
       "      <td>2016-02-11</td>\n",
       "      <td>2106</td>\n",
       "      <td>Cedar Falls</td>\n",
       "      <td>50613</td>\n",
       "      <td>7.0</td>\n",
       "      <td>Black Hawk</td>\n",
       "      <td>1011200.0</td>\n",
       "      <td>STRAIGHT BOURBON WHISKIES</td>\n",
       "      <td>65</td>\n",
       "      <td>19067</td>\n",
       "      <td>Jim Beam</td>\n",
       "      <td>1000</td>\n",
       "      <td>12.59</td>\n",
       "      <td>18.89</td>\n",
       "      <td>24</td>\n",
       "      <td>453.36</td>\n",
       "      <td>24.0</td>\n",
       "      <td>6.34</td>\n",
       "    </tr>\n",
       "    <tr>\n",
       "      <th>3</th>\n",
       "      <td>2016-02-03</td>\n",
       "      <td>2501</td>\n",
       "      <td>Ames</td>\n",
       "      <td>50010</td>\n",
       "      <td>85.0</td>\n",
       "      <td>Story</td>\n",
       "      <td>1071100.0</td>\n",
       "      <td>AMERICAN COCKTAILS</td>\n",
       "      <td>395</td>\n",
       "      <td>59154</td>\n",
       "      <td>1800 Ultimate Margarita</td>\n",
       "      <td>1750</td>\n",
       "      <td>9.50</td>\n",
       "      <td>14.25</td>\n",
       "      <td>6</td>\n",
       "      <td>85.50</td>\n",
       "      <td>10.5</td>\n",
       "      <td>2.77</td>\n",
       "    </tr>\n",
       "    <tr>\n",
       "      <th>4</th>\n",
       "      <td>2015-08-18</td>\n",
       "      <td>3654</td>\n",
       "      <td>Belmond</td>\n",
       "      <td>50421</td>\n",
       "      <td>99.0</td>\n",
       "      <td>Wright</td>\n",
       "      <td>1031080.0</td>\n",
       "      <td>VODKA 80 PROOF</td>\n",
       "      <td>297</td>\n",
       "      <td>35918</td>\n",
       "      <td>Five O'clock Vodka</td>\n",
       "      <td>1750</td>\n",
       "      <td>7.20</td>\n",
       "      <td>10.80</td>\n",
       "      <td>12</td>\n",
       "      <td>129.60</td>\n",
       "      <td>21.0</td>\n",
       "      <td>5.55</td>\n",
       "    </tr>\n",
       "  </tbody>\n",
       "</table>\n",
       "</div>"
      ],
      "text/plain": [
       "        Date  Store Number         City  Zip Code  County Number      County  \\\n",
       "0 2015-11-04          3717       Sumner     50674            9.0      Bremer   \n",
       "1 2016-03-02          2614    Davenport     52807           82.0       Scott   \n",
       "2 2016-02-11          2106  Cedar Falls     50613            7.0  Black Hawk   \n",
       "3 2016-02-03          2501         Ames     50010           85.0       Story   \n",
       "4 2015-08-18          3654      Belmond     50421           99.0      Wright   \n",
       "\n",
       "    Category              Category Name  Vendor Number  Item Number  \\\n",
       "0  1051100.0           APRICOT BRANDIES             55        54436   \n",
       "1  1011100.0           BLENDED WHISKIES            395        27605   \n",
       "2  1011200.0  STRAIGHT BOURBON WHISKIES             65        19067   \n",
       "3  1071100.0         AMERICAN COCKTAILS            395        59154   \n",
       "4  1031080.0             VODKA 80 PROOF            297        35918   \n",
       "\n",
       "            Item Description  Bottle Volume (ml)  State Bottle Cost  \\\n",
       "0  Mr. Boston Apricot Brandy                 750               4.50   \n",
       "1                    Tin Cup                 750              13.75   \n",
       "2                   Jim Beam                1000              12.59   \n",
       "3    1800 Ultimate Margarita                1750               9.50   \n",
       "4         Five O'clock Vodka                1750               7.20   \n",
       "\n",
       "   State Bottle Retail  Bottles Sold  Sale (Dollars)  Volume Sold (Liters)  \\\n",
       "0                 6.75            12           81.00                   9.0   \n",
       "1                20.63             2           41.26                   1.5   \n",
       "2                18.89            24          453.36                  24.0   \n",
       "3                14.25             6           85.50                  10.5   \n",
       "4                10.80            12          129.60                  21.0   \n",
       "\n",
       "   Volume Sold (Gallons)  \n",
       "0                   2.38  \n",
       "1                   0.40  \n",
       "2                   6.34  \n",
       "3                   2.77  \n",
       "4                   5.55  "
      ]
     },
     "execution_count": 975,
     "metadata": {},
     "output_type": "execute_result"
    }
   ],
   "source": [
    "df.head()"
   ]
  },
  {
   "cell_type": "markdown",
   "metadata": {},
   "source": [
    "\n",
    "# Explore the data\n",
    "\n",
    "Perform some exploratory statistical analysis and make some plots, such as histograms of transaction totals, bottles sold, etc."
   ]
  },
  {
   "cell_type": "code",
   "execution_count": 976,
   "metadata": {
    "ExecuteTime": {
     "end_time": "2016-10-09T19:50:24.342844",
     "start_time": "2016-10-09T19:50:24.334516"
    },
    "collapsed": false
   },
   "outputs": [],
   "source": [
    "cols = ['Date', 'Store Number', 'City', 'Zip Code', 'County', 'Category', 'Category Name', \\\n",
    "        'Vendor Number', 'Item Number', 'Item Description', 'Bottle Volume (ml)', 'State Bottle Cost', \\\n",
    "        'State Bottle Retail', 'Bottles Sold', 'Sale (Dollars)', 'Volume Sold (Liters)']"
   ]
  },
  {
   "cell_type": "code",
   "execution_count": 977,
   "metadata": {
    "ExecuteTime": {
     "end_time": "2016-10-09T19:50:24.439608",
     "start_time": "2016-10-09T19:50:24.345424"
    },
    "collapsed": false
   },
   "outputs": [],
   "source": [
    "df2 = df.copy()[cols]"
   ]
  },
  {
   "cell_type": "code",
   "execution_count": 978,
   "metadata": {
    "ExecuteTime": {
     "end_time": "2016-10-09T19:50:25.392408",
     "start_time": "2016-10-09T19:50:24.444766"
    },
    "collapsed": false
   },
   "outputs": [
    {
     "data": {
      "text/plain": [
       "<matplotlib.axes._subplots.AxesSubplot at 0x18fcfcc10>"
      ]
     },
     "execution_count": 978,
     "metadata": {},
     "output_type": "execute_result"
    },
    {
     "data": {
      "image/png": "[encoded data removed]",
      "text/plain": [
       "<matplotlib.figure.Figure at 0x18fcfc410>"
      ]
     },
     "metadata": {},
     "output_type": "display_data"
    }
   ],
   "source": [
    "sns.heatmap(df2.corr(), linewidths=0.5)"
   ]
  },
  {
   "cell_type": "code",
   "execution_count": 979,
   "metadata": {
    "ExecuteTime": {
     "end_time": "2016-10-09T19:50:26.337566",
     "start_time": "2016-10-09T19:50:25.396388"
    },
    "collapsed": false
   },
   "outputs": [],
   "source": [
    "df2.dropna(inplace=True)"
   ]
  },
  {
   "cell_type": "code",
   "execution_count": 980,
   "metadata": {
    "ExecuteTime": {
     "end_time": "2016-10-09T19:50:31.531949",
     "start_time": "2016-10-09T19:50:26.343657"
    },
    "collapsed": false
   },
   "outputs": [
    {
     "name": "stdout",
     "output_type": "stream",
     "text": [
      "r-squared: 0.842141679754\n"
     ]
    },
    {
     "data": {
      "image/png": "[encoded data removed]",
      "text/plain": [
       "<matplotlib.figure.Figure at 0x162d5d8d0>"
      ]
     },
     "metadata": {},
     "output_type": "display_data"
    }
   ],
   "source": [
    "X = df2[['Zip Code','Bottle Volume (ml)', 'Bottles Sold', 'Sale (Dollars)']]\n",
    "y = df2['Volume Sold (Liters)']\n",
    "lm = linear_model.LinearRegression()\n",
    "model = lm.fit(X,y)\n",
    "print 'r-squared: {}'.format(model.score(X,y))\n",
    "predicted = model.predict(X)\n",
    "plt.scatter(predicted, y)\n",
    "plt.plot([min(y), max(y)], [min(y), max(y)], '-')\n",
    "plt.show()"
   ]
  },
  {
   "cell_type": "code",
   "execution_count": 981,
   "metadata": {
    "ExecuteTime": {
     "end_time": "2016-10-09T19:50:31.570574",
     "start_time": "2016-10-09T19:50:31.535876"
    },
    "collapsed": false
   },
   "outputs": [],
   "source": [
    "demo_df = pd.read_csv(base_dir + 'IowaZIPdemos.csv')"
   ]
  },
  {
   "cell_type": "code",
   "execution_count": 982,
   "metadata": {
    "ExecuteTime": {
     "end_time": "2016-10-09T19:50:31.592002",
     "start_time": "2016-10-09T19:50:31.573336"
    },
    "collapsed": false
   },
   "outputs": [],
   "source": [
    "demo_df.dropna(inplace=True)\n",
    "demo_df['Area'] = demo_df['Area'].astype(int)"
   ]
  },
  {
   "cell_type": "code",
   "execution_count": 983,
   "metadata": {
    "ExecuteTime": {
     "end_time": "2016-10-09T19:50:31.628725",
     "start_time": "2016-10-09T19:50:31.600630"
    },
    "collapsed": false
   },
   "outputs": [
    {
     "name": "stdout",
     "output_type": "stream",
     "text": [
      "<class 'pandas.core.frame.DataFrame'>\n",
      "Int64Index: 946 entries, 0 to 945\n",
      "Data columns (total 42 columns):\n",
      "Area                                946 non-null int64\n",
      "Total Pop                           946 non-null object\n",
      "Median HH Inc                       946 non-null object\n",
      "Per Capita Inc                      946 non-null object\n",
      "White                               946 non-null object\n",
      "Afr Amer                            946 non-null object\n",
      "Native Amer                         946 non-null int64\n",
      "Asian Amer                          946 non-null object\n",
      "Pac Islander                        946 non-null int64\n",
      "Other                               946 non-null object\n",
      "Bi- Multi-Racial                    946 non-null int64\n",
      "Hispanic or Latino                  946 non-null object\n",
      "Med Age                             946 non-null float64\n",
      "<5 years                            946 non-null int64\n",
      "5-17 yrs                            946 non-null int64\n",
      "18-20 yrs                           946 non-null int64\n",
      "21-24 yrs                           946 non-null int64\n",
      "25-34 yrs                           946 non-null int64\n",
      "35-44 yrs                           946 non-null int64\n",
      "45-54 yrs                           946 non-null int64\n",
      "55-59 yrs                           946 non-null int64\n",
      "60-64 yrs                           946 non-null int64\n",
      "65-74 yrs                           946 non-null int64\n",
      "78-84 yrs                           946 non-null int64\n",
      "85+ yrs                             946 non-null int64\n",
      "% P16+ in labor force               946 non-null object\n",
      "Total # Homes Owned                 946 non-null object\n",
      "Med. Home Value                     946 non-null object\n",
      "Tot Housing units                   946 non-null object\n",
      "Owner occupied housing units        946 non-null object\n",
      "Renter occupied housing units       946 non-null object\n",
      "households                          946 non-null object\n",
      "Family households                   946 non-null object\n",
      "Married-couple family households    946 non-null object\n",
      "Single mother households            946 non-null object\n",
      "Nonfamily households                946 non-null object\n",
      "Single Occupancy                    946 non-null object\n",
      "Avg HH Size                         946 non-null float64\n",
      "Avg Family Size                     946 non-null float64\n",
      "Pop Below Poverty Level             946 non-null object\n",
      "% P25+ HS Grad                      946 non-null object\n",
      "% P25-54 BA+                        946 non-null object\n",
      "dtypes: float64(3), int64(16), object(23)\n",
      "memory usage: 317.8+ KB\n"
     ]
    }
   ],
   "source": [
    "demo_df.info()"
   ]
  },
  {
   "cell_type": "code",
   "execution_count": 984,
   "metadata": {
    "ExecuteTime": {
     "end_time": "2016-10-09T19:50:31.644210",
     "start_time": "2016-10-09T19:50:31.633675"
    },
    "collapsed": false
   },
   "outputs": [
    {
     "data": {
      "text/plain": [
       "dtype('O')"
      ]
     },
     "execution_count": 984,
     "metadata": {},
     "output_type": "execute_result"
    }
   ],
   "source": [
    "demo_df['Pop Below Poverty Level'].dtype"
   ]
  },
  {
   "cell_type": "code",
   "execution_count": 985,
   "metadata": {
    "ExecuteTime": {
     "end_time": "2016-10-09T19:50:31.662094",
     "start_time": "2016-10-09T19:50:31.649350"
    },
    "collapsed": false
   },
   "outputs": [],
   "source": [
    "demo_cols = demo_df.columns.values.tolist()\n",
    "object_cols = [i for i in demo_cols if demo_df[i].dtype == 'O']"
   ]
  },
  {
   "cell_type": "code",
   "execution_count": 986,
   "metadata": {
    "ExecuteTime": {
     "end_time": "2016-10-09T19:50:31.851226",
     "start_time": "2016-10-09T19:50:31.665923"
    },
    "collapsed": false
   },
   "outputs": [],
   "source": [
    "def rem_symbols(x):\n",
    "    for i in [',', '%', '$', '-']:\n",
    "        x = x.replace(i, '')\n",
    "    try:\n",
    "        return float(x)\n",
    "    except:\n",
    "        print x\n",
    "    \n",
    "for i in object_cols:\n",
    "    demo_df[i] = demo_df[i].map(rem_symbols)"
   ]
  },
  {
   "cell_type": "code",
   "execution_count": 987,
   "metadata": {
    "ExecuteTime": {
     "end_time": "2016-10-09T19:50:31.873130",
     "start_time": "2016-10-09T19:50:31.854570"
    },
    "collapsed": false
   },
   "outputs": [
    {
     "data": {
      "text/plain": [
       "Area                                  int64\n",
       "Total Pop                           float64\n",
       "Median HH Inc                       float64\n",
       "Per Capita Inc                      float64\n",
       "White                               float64\n",
       "Afr Amer                            float64\n",
       "Native Amer                           int64\n",
       "Asian Amer                          float64\n",
       "Pac Islander                          int64\n",
       "Other                               float64\n",
       "Bi- Multi-Racial                      int64\n",
       "Hispanic or Latino                  float64\n",
       "Med Age                             float64\n",
       "<5 years                              int64\n",
       "5-17 yrs                              int64\n",
       "18-20 yrs                             int64\n",
       "21-24 yrs                             int64\n",
       "25-34 yrs                             int64\n",
       "35-44 yrs                             int64\n",
       "45-54 yrs                             int64\n",
       "55-59 yrs                             int64\n",
       "60-64 yrs                             int64\n",
       "65-74 yrs                             int64\n",
       "78-84 yrs                             int64\n",
       "85+ yrs                               int64\n",
       "% P16+ in labor force               float64\n",
       "Total # Homes Owned                 float64\n",
       "Med. Home Value                     float64\n",
       "Tot Housing units                   float64\n",
       "Owner occupied housing units        float64\n",
       "Renter occupied housing units       float64\n",
       "households                          float64\n",
       "Family households                   float64\n",
       "Married-couple family households    float64\n",
       "Single mother households            float64\n",
       "Nonfamily households                float64\n",
       "Single Occupancy                    float64\n",
       "Avg HH Size                         float64\n",
       "Avg Family Size                     float64\n",
       "Pop Below Poverty Level             float64\n",
       "% P25+ HS Grad                      float64\n",
       "% P25-54 BA+                        float64\n",
       "dtype: object"
      ]
     },
     "execution_count": 987,
     "metadata": {},
     "output_type": "execute_result"
    }
   ],
   "source": [
    "demo_df.dtypes"
   ]
  },
  {
   "cell_type": "code",
   "execution_count": 988,
   "metadata": {
    "ExecuteTime": {
     "end_time": "2016-10-09T19:50:32.006674",
     "start_time": "2016-10-09T19:50:31.881807"
    },
    "collapsed": false
   },
   "outputs": [
    {
     "data": {
      "text/html": [
       "<div>\n",
       "<table border=\"1\" class=\"dataframe\">\n",
       "  <thead>\n",
       "    <tr style=\"text-align: right;\">\n",
       "      <th></th>\n",
       "      <th>Area</th>\n",
       "      <th>Total Pop</th>\n",
       "      <th>Median HH Inc</th>\n",
       "      <th>Per Capita Inc</th>\n",
       "      <th>White</th>\n",
       "      <th>Afr Amer</th>\n",
       "      <th>Native Amer</th>\n",
       "      <th>Asian Amer</th>\n",
       "      <th>Pac Islander</th>\n",
       "      <th>Other</th>\n",
       "      <th>...</th>\n",
       "      <th>Family households</th>\n",
       "      <th>Married-couple family households</th>\n",
       "      <th>Single mother households</th>\n",
       "      <th>Nonfamily households</th>\n",
       "      <th>Single Occupancy</th>\n",
       "      <th>Avg HH Size</th>\n",
       "      <th>Avg Family Size</th>\n",
       "      <th>Pop Below Poverty Level</th>\n",
       "      <th>% P25+ HS Grad</th>\n",
       "      <th>% P25-54 BA+</th>\n",
       "    </tr>\n",
       "  </thead>\n",
       "  <tbody>\n",
       "    <tr>\n",
       "      <th>0</th>\n",
       "      <td>50001</td>\n",
       "      <td>615.0</td>\n",
       "      <td>43611.0</td>\n",
       "      <td>17803.0</td>\n",
       "      <td>594.0</td>\n",
       "      <td>3.0</td>\n",
       "      <td>1</td>\n",
       "      <td>0.0</td>\n",
       "      <td>0</td>\n",
       "      <td>2.0</td>\n",
       "      <td>...</td>\n",
       "      <td>174.0</td>\n",
       "      <td>158.0</td>\n",
       "      <td>12.0</td>\n",
       "      <td>42.0</td>\n",
       "      <td>34.0</td>\n",
       "      <td>2.85</td>\n",
       "      <td>3.21</td>\n",
       "      <td>711.0</td>\n",
       "      <td>88.8</td>\n",
       "      <td>9.7</td>\n",
       "    </tr>\n",
       "    <tr>\n",
       "      <th>1</th>\n",
       "      <td>50002</td>\n",
       "      <td>1339.0</td>\n",
       "      <td>32500.0</td>\n",
       "      <td>20580.0</td>\n",
       "      <td>1323.0</td>\n",
       "      <td>0.0</td>\n",
       "      <td>1</td>\n",
       "      <td>5.0</td>\n",
       "      <td>0</td>\n",
       "      <td>2.0</td>\n",
       "      <td>...</td>\n",
       "      <td>370.0</td>\n",
       "      <td>333.0</td>\n",
       "      <td>30.0</td>\n",
       "      <td>205.0</td>\n",
       "      <td>185.0</td>\n",
       "      <td>2.25</td>\n",
       "      <td>2.86</td>\n",
       "      <td>1232.0</td>\n",
       "      <td>87.6</td>\n",
       "      <td>11.2</td>\n",
       "    </tr>\n",
       "    <tr>\n",
       "      <th>2</th>\n",
       "      <td>50003</td>\n",
       "      <td>5835.0</td>\n",
       "      <td>47649.0</td>\n",
       "      <td>22429.0</td>\n",
       "      <td>5733.0</td>\n",
       "      <td>8.0</td>\n",
       "      <td>6</td>\n",
       "      <td>22.0</td>\n",
       "      <td>0</td>\n",
       "      <td>23.0</td>\n",
       "      <td>...</td>\n",
       "      <td>1615.0</td>\n",
       "      <td>1390.0</td>\n",
       "      <td>162.0</td>\n",
       "      <td>619.0</td>\n",
       "      <td>529.0</td>\n",
       "      <td>2.58</td>\n",
       "      <td>3.08</td>\n",
       "      <td>5816.0</td>\n",
       "      <td>91.0</td>\n",
       "      <td>24.0</td>\n",
       "    </tr>\n",
       "    <tr>\n",
       "      <th>3</th>\n",
       "      <td>50005</td>\n",
       "      <td>851.0</td>\n",
       "      <td>41786.0</td>\n",
       "      <td>15267.0</td>\n",
       "      <td>840.0</td>\n",
       "      <td>0.0</td>\n",
       "      <td>5</td>\n",
       "      <td>4.0</td>\n",
       "      <td>0</td>\n",
       "      <td>0.0</td>\n",
       "      <td>...</td>\n",
       "      <td>251.0</td>\n",
       "      <td>208.0</td>\n",
       "      <td>28.0</td>\n",
       "      <td>69.0</td>\n",
       "      <td>56.0</td>\n",
       "      <td>2.66</td>\n",
       "      <td>2.98</td>\n",
       "      <td>917.0</td>\n",
       "      <td>80.8</td>\n",
       "      <td>12.7</td>\n",
       "    </tr>\n",
       "    <tr>\n",
       "      <th>4</th>\n",
       "      <td>50006</td>\n",
       "      <td>1959.0</td>\n",
       "      <td>36494.0</td>\n",
       "      <td>16957.0</td>\n",
       "      <td>1930.0</td>\n",
       "      <td>0.0</td>\n",
       "      <td>1</td>\n",
       "      <td>3.0</td>\n",
       "      <td>0</td>\n",
       "      <td>21.0</td>\n",
       "      <td>...</td>\n",
       "      <td>547.0</td>\n",
       "      <td>477.0</td>\n",
       "      <td>43.0</td>\n",
       "      <td>220.0</td>\n",
       "      <td>194.0</td>\n",
       "      <td>2.55</td>\n",
       "      <td>3.09</td>\n",
       "      <td>1939.0</td>\n",
       "      <td>88.9</td>\n",
       "      <td>14.8</td>\n",
       "    </tr>\n",
       "  </tbody>\n",
       "</table>\n",
       "<p>5 rows × 42 columns</p>\n",
       "</div>"
      ],
      "text/plain": [
       "    Area  Total Pop  Median HH Inc  Per Capita Inc   White  Afr Amer  \\\n",
       "0  50001      615.0        43611.0         17803.0   594.0       3.0   \n",
       "1  50002     1339.0        32500.0         20580.0  1323.0       0.0   \n",
       "2  50003     5835.0        47649.0         22429.0  5733.0       8.0   \n",
       "3  50005      851.0        41786.0         15267.0   840.0       0.0   \n",
       "4  50006     1959.0        36494.0         16957.0  1930.0       0.0   \n",
       "\n",
       "   Native Amer  Asian Amer  Pac Islander  Other      ...       \\\n",
       "0            1         0.0             0    2.0      ...        \n",
       "1            1         5.0             0    2.0      ...        \n",
       "2            6        22.0             0   23.0      ...        \n",
       "3            5         4.0             0    0.0      ...        \n",
       "4            1         3.0             0   21.0      ...        \n",
       "\n",
       "   Family households  Married-couple family households  \\\n",
       "0              174.0                             158.0   \n",
       "1              370.0                             333.0   \n",
       "2             1615.0                            1390.0   \n",
       "3              251.0                             208.0   \n",
       "4              547.0                             477.0   \n",
       "\n",
       "   Single mother households  Nonfamily households  Single Occupancy  \\\n",
       "0                      12.0                  42.0              34.0   \n",
       "1                      30.0                 205.0             185.0   \n",
       "2                     162.0                 619.0             529.0   \n",
       "3                      28.0                  69.0              56.0   \n",
       "4                      43.0                 220.0             194.0   \n",
       "\n",
       "   Avg HH Size  Avg Family Size  Pop Below Poverty Level  % P25+ HS Grad  \\\n",
       "0         2.85             3.21                    711.0            88.8   \n",
       "1         2.25             2.86                   1232.0            87.6   \n",
       "2         2.58             3.08                   5816.0            91.0   \n",
       "3         2.66             2.98                    917.0            80.8   \n",
       "4         2.55             3.09                   1939.0            88.9   \n",
       "\n",
       "   % P25-54 BA+  \n",
       "0           9.7  \n",
       "1          11.2  \n",
       "2          24.0  \n",
       "3          12.7  \n",
       "4          14.8  \n",
       "\n",
       "[5 rows x 42 columns]"
      ]
     },
     "execution_count": 988,
     "metadata": {},
     "output_type": "execute_result"
    }
   ],
   "source": [
    "demo_df.head()"
   ]
  },
  {
   "cell_type": "code",
   "execution_count": 989,
   "metadata": {
    "ExecuteTime": {
     "end_time": "2016-10-09T19:50:32.370794",
     "start_time": "2016-10-09T19:50:32.009090"
    },
    "collapsed": false
   },
   "outputs": [],
   "source": [
    "df3 = df2.merge(demo_df, left_on='Zip Code', right_on='Area')"
   ]
  },
  {
   "cell_type": "code",
   "execution_count": 990,
   "metadata": {
    "ExecuteTime": {
     "end_time": "2016-10-09T19:50:36.756692",
     "start_time": "2016-10-09T19:50:32.373364"
    },
    "collapsed": false
   },
   "outputs": [],
   "source": [
    "df3['Month'] = df3['Date'].map(lambda x: x.month)\n",
    "df3['Year'] = df3['Date'].map(lambda x: x.year)"
   ]
  },
  {
   "cell_type": "code",
   "execution_count": 991,
   "metadata": {
    "ExecuteTime": {
     "end_time": "2016-10-09T19:50:44.155837",
     "start_time": "2016-10-09T19:50:36.760178"
    },
    "collapsed": false
   },
   "outputs": [
    {
     "data": {
      "text/plain": [
       "<matplotlib.axes._subplots.AxesSubplot at 0x1646fad90>"
      ]
     },
     "execution_count": 991,
     "metadata": {},
     "output_type": "execute_result"
    },
    {
     "data": {
      "image/png": "[encoded data removed]",
      "text/plain": [
       "<matplotlib.figure.Figure at 0x166efc410>"
      ]
     },
     "metadata": {},
     "output_type": "display_data"
    }
   ],
   "source": [
    "fig = plt.subplots(figsize=(16,8))\n",
    "sns.heatmap(df3.corr(), linewidths=0.5, linecolor='#000000')"
   ]
  },
  {
   "cell_type": "code",
   "execution_count": 992,
   "metadata": {
    "ExecuteTime": {
     "end_time": "2016-10-09T19:50:44.318920",
     "start_time": "2016-10-09T19:50:44.158235"
    },
    "collapsed": false,
    "scrolled": true
   },
   "outputs": [
    {
     "data": {
      "text/html": [
       "<div>\n",
       "<table border=\"1\" class=\"dataframe\">\n",
       "  <thead>\n",
       "    <tr style=\"text-align: right;\">\n",
       "      <th></th>\n",
       "      <th>Zip Code</th>\n",
       "      <th>Year</th>\n",
       "      <th>Bottles Sold</th>\n",
       "      <th>Sale (Dollars)</th>\n",
       "      <th>Volume Sold (Liters)</th>\n",
       "    </tr>\n",
       "  </thead>\n",
       "  <tbody>\n",
       "    <tr>\n",
       "      <th>0</th>\n",
       "      <td>50002</td>\n",
       "      <td>2015</td>\n",
       "      <td>498</td>\n",
       "      <td>4958.04</td>\n",
       "      <td>335.85</td>\n",
       "    </tr>\n",
       "    <tr>\n",
       "      <th>1</th>\n",
       "      <td>50002</td>\n",
       "      <td>2016</td>\n",
       "      <td>90</td>\n",
       "      <td>893.16</td>\n",
       "      <td>55.50</td>\n",
       "    </tr>\n",
       "    <tr>\n",
       "      <th>2</th>\n",
       "      <td>50003</td>\n",
       "      <td>2015</td>\n",
       "      <td>2918</td>\n",
       "      <td>38095.16</td>\n",
       "      <td>2737.52</td>\n",
       "    </tr>\n",
       "    <tr>\n",
       "      <th>3</th>\n",
       "      <td>50003</td>\n",
       "      <td>2016</td>\n",
       "      <td>719</td>\n",
       "      <td>9620.94</td>\n",
       "      <td>784.48</td>\n",
       "    </tr>\n",
       "    <tr>\n",
       "      <th>4</th>\n",
       "      <td>50006</td>\n",
       "      <td>2015</td>\n",
       "      <td>640</td>\n",
       "      <td>10086.97</td>\n",
       "      <td>719.24</td>\n",
       "    </tr>\n",
       "    <tr>\n",
       "      <th>5</th>\n",
       "      <td>50006</td>\n",
       "      <td>2016</td>\n",
       "      <td>116</td>\n",
       "      <td>2193.27</td>\n",
       "      <td>141.00</td>\n",
       "    </tr>\n",
       "    <tr>\n",
       "      <th>6</th>\n",
       "      <td>50009</td>\n",
       "      <td>2015</td>\n",
       "      <td>17953</td>\n",
       "      <td>241028.59</td>\n",
       "      <td>16284.00</td>\n",
       "    </tr>\n",
       "    <tr>\n",
       "      <th>7</th>\n",
       "      <td>50009</td>\n",
       "      <td>2016</td>\n",
       "      <td>4712</td>\n",
       "      <td>53529.80</td>\n",
       "      <td>3998.54</td>\n",
       "    </tr>\n",
       "    <tr>\n",
       "      <th>8</th>\n",
       "      <td>50010</td>\n",
       "      <td>2015</td>\n",
       "      <td>53617</td>\n",
       "      <td>772044.25</td>\n",
       "      <td>52520.63</td>\n",
       "    </tr>\n",
       "    <tr>\n",
       "      <th>9</th>\n",
       "      <td>50010</td>\n",
       "      <td>2016</td>\n",
       "      <td>11121</td>\n",
       "      <td>159057.33</td>\n",
       "      <td>10792.80</td>\n",
       "    </tr>\n",
       "    <tr>\n",
       "      <th>10</th>\n",
       "      <td>50014</td>\n",
       "      <td>2015</td>\n",
       "      <td>3083</td>\n",
       "      <td>40206.10</td>\n",
       "      <td>2871.26</td>\n",
       "    </tr>\n",
       "    <tr>\n",
       "      <th>11</th>\n",
       "      <td>50014</td>\n",
       "      <td>2016</td>\n",
       "      <td>577</td>\n",
       "      <td>8572.83</td>\n",
       "      <td>601.75</td>\n",
       "    </tr>\n",
       "    <tr>\n",
       "      <th>12</th>\n",
       "      <td>50020</td>\n",
       "      <td>2015</td>\n",
       "      <td>704</td>\n",
       "      <td>8716.27</td>\n",
       "      <td>686.60</td>\n",
       "    </tr>\n",
       "    <tr>\n",
       "      <th>13</th>\n",
       "      <td>50020</td>\n",
       "      <td>2016</td>\n",
       "      <td>158</td>\n",
       "      <td>1623.83</td>\n",
       "      <td>148.25</td>\n",
       "    </tr>\n",
       "    <tr>\n",
       "      <th>14</th>\n",
       "      <td>50021</td>\n",
       "      <td>2015</td>\n",
       "      <td>26546</td>\n",
       "      <td>417794.83</td>\n",
       "      <td>28782.22</td>\n",
       "    </tr>\n",
       "    <tr>\n",
       "      <th>15</th>\n",
       "      <td>50021</td>\n",
       "      <td>2016</td>\n",
       "      <td>5752</td>\n",
       "      <td>86093.47</td>\n",
       "      <td>6363.87</td>\n",
       "    </tr>\n",
       "    <tr>\n",
       "      <th>16</th>\n",
       "      <td>50022</td>\n",
       "      <td>2015</td>\n",
       "      <td>6849</td>\n",
       "      <td>93176.80</td>\n",
       "      <td>7199.92</td>\n",
       "    </tr>\n",
       "    <tr>\n",
       "      <th>17</th>\n",
       "      <td>50022</td>\n",
       "      <td>2016</td>\n",
       "      <td>1838</td>\n",
       "      <td>26162.43</td>\n",
       "      <td>1988.45</td>\n",
       "    </tr>\n",
       "    <tr>\n",
       "      <th>18</th>\n",
       "      <td>50025</td>\n",
       "      <td>2015</td>\n",
       "      <td>1153</td>\n",
       "      <td>13559.58</td>\n",
       "      <td>1175.68</td>\n",
       "    </tr>\n",
       "    <tr>\n",
       "      <th>19</th>\n",
       "      <td>50025</td>\n",
       "      <td>2016</td>\n",
       "      <td>211</td>\n",
       "      <td>2887.94</td>\n",
       "      <td>246.62</td>\n",
       "    </tr>\n",
       "    <tr>\n",
       "      <th>20</th>\n",
       "      <td>50028</td>\n",
       "      <td>2015</td>\n",
       "      <td>171</td>\n",
       "      <td>2189.34</td>\n",
       "      <td>152.12</td>\n",
       "    </tr>\n",
       "    <tr>\n",
       "      <th>21</th>\n",
       "      <td>50028</td>\n",
       "      <td>2016</td>\n",
       "      <td>123</td>\n",
       "      <td>1114.89</td>\n",
       "      <td>104.25</td>\n",
       "    </tr>\n",
       "    <tr>\n",
       "      <th>22</th>\n",
       "      <td>50033</td>\n",
       "      <td>2015</td>\n",
       "      <td>458</td>\n",
       "      <td>4582.04</td>\n",
       "      <td>356.11</td>\n",
       "    </tr>\n",
       "    <tr>\n",
       "      <th>23</th>\n",
       "      <td>50033</td>\n",
       "      <td>2016</td>\n",
       "      <td>72</td>\n",
       "      <td>878.64</td>\n",
       "      <td>76.76</td>\n",
       "    </tr>\n",
       "    <tr>\n",
       "      <th>24</th>\n",
       "      <td>50035</td>\n",
       "      <td>2015</td>\n",
       "      <td>831</td>\n",
       "      <td>9664.23</td>\n",
       "      <td>677.19</td>\n",
       "    </tr>\n",
       "    <tr>\n",
       "      <th>25</th>\n",
       "      <td>50035</td>\n",
       "      <td>2016</td>\n",
       "      <td>210</td>\n",
       "      <td>1947.75</td>\n",
       "      <td>139.32</td>\n",
       "    </tr>\n",
       "    <tr>\n",
       "      <th>26</th>\n",
       "      <td>50036</td>\n",
       "      <td>2015</td>\n",
       "      <td>10573</td>\n",
       "      <td>141982.36</td>\n",
       "      <td>11145.17</td>\n",
       "    </tr>\n",
       "    <tr>\n",
       "      <th>27</th>\n",
       "      <td>50036</td>\n",
       "      <td>2016</td>\n",
       "      <td>2215</td>\n",
       "      <td>27412.70</td>\n",
       "      <td>2120.46</td>\n",
       "    </tr>\n",
       "    <tr>\n",
       "      <th>28</th>\n",
       "      <td>50044</td>\n",
       "      <td>2015</td>\n",
       "      <td>384</td>\n",
       "      <td>1826.94</td>\n",
       "      <td>207.00</td>\n",
       "    </tr>\n",
       "    <tr>\n",
       "      <th>29</th>\n",
       "      <td>50044</td>\n",
       "      <td>2016</td>\n",
       "      <td>6</td>\n",
       "      <td>69.06</td>\n",
       "      <td>10.50</td>\n",
       "    </tr>\n",
       "    <tr>\n",
       "      <th>...</th>\n",
       "      <td>...</td>\n",
       "      <td>...</td>\n",
       "      <td>...</td>\n",
       "      <td>...</td>\n",
       "      <td>...</td>\n",
       "    </tr>\n",
       "    <tr>\n",
       "      <th>763</th>\n",
       "      <td>52747</td>\n",
       "      <td>2016</td>\n",
       "      <td>166</td>\n",
       "      <td>1719.36</td>\n",
       "      <td>149.75</td>\n",
       "    </tr>\n",
       "    <tr>\n",
       "      <th>764</th>\n",
       "      <td>52748</td>\n",
       "      <td>2015</td>\n",
       "      <td>3958</td>\n",
       "      <td>46016.09</td>\n",
       "      <td>3471.05</td>\n",
       "    </tr>\n",
       "    <tr>\n",
       "      <th>765</th>\n",
       "      <td>52748</td>\n",
       "      <td>2016</td>\n",
       "      <td>715</td>\n",
       "      <td>8333.81</td>\n",
       "      <td>649.88</td>\n",
       "    </tr>\n",
       "    <tr>\n",
       "      <th>766</th>\n",
       "      <td>52751</td>\n",
       "      <td>2015</td>\n",
       "      <td>259</td>\n",
       "      <td>2814.35</td>\n",
       "      <td>244.33</td>\n",
       "    </tr>\n",
       "    <tr>\n",
       "      <th>767</th>\n",
       "      <td>52751</td>\n",
       "      <td>2016</td>\n",
       "      <td>148</td>\n",
       "      <td>1694.93</td>\n",
       "      <td>106.00</td>\n",
       "    </tr>\n",
       "    <tr>\n",
       "      <th>768</th>\n",
       "      <td>52753</td>\n",
       "      <td>2015</td>\n",
       "      <td>4256</td>\n",
       "      <td>62708.47</td>\n",
       "      <td>3118.51</td>\n",
       "    </tr>\n",
       "    <tr>\n",
       "      <th>769</th>\n",
       "      <td>52753</td>\n",
       "      <td>2016</td>\n",
       "      <td>486</td>\n",
       "      <td>6029.42</td>\n",
       "      <td>373.27</td>\n",
       "    </tr>\n",
       "    <tr>\n",
       "      <th>770</th>\n",
       "      <td>52761</td>\n",
       "      <td>2015</td>\n",
       "      <td>20368</td>\n",
       "      <td>266817.46</td>\n",
       "      <td>19137.64</td>\n",
       "    </tr>\n",
       "    <tr>\n",
       "      <th>771</th>\n",
       "      <td>52761</td>\n",
       "      <td>2016</td>\n",
       "      <td>4686</td>\n",
       "      <td>57657.39</td>\n",
       "      <td>4257.21</td>\n",
       "    </tr>\n",
       "    <tr>\n",
       "      <th>772</th>\n",
       "      <td>52768</td>\n",
       "      <td>2015</td>\n",
       "      <td>251</td>\n",
       "      <td>2199.21</td>\n",
       "      <td>221.29</td>\n",
       "    </tr>\n",
       "    <tr>\n",
       "      <th>773</th>\n",
       "      <td>52768</td>\n",
       "      <td>2016</td>\n",
       "      <td>40</td>\n",
       "      <td>270.65</td>\n",
       "      <td>29.75</td>\n",
       "    </tr>\n",
       "    <tr>\n",
       "      <th>774</th>\n",
       "      <td>52772</td>\n",
       "      <td>2015</td>\n",
       "      <td>2947</td>\n",
       "      <td>34386.92</td>\n",
       "      <td>2603.32</td>\n",
       "    </tr>\n",
       "    <tr>\n",
       "      <th>775</th>\n",
       "      <td>52772</td>\n",
       "      <td>2016</td>\n",
       "      <td>972</td>\n",
       "      <td>13791.54</td>\n",
       "      <td>1386.85</td>\n",
       "    </tr>\n",
       "    <tr>\n",
       "      <th>776</th>\n",
       "      <td>52776</td>\n",
       "      <td>2015</td>\n",
       "      <td>1206</td>\n",
       "      <td>16654.56</td>\n",
       "      <td>1067.41</td>\n",
       "    </tr>\n",
       "    <tr>\n",
       "      <th>777</th>\n",
       "      <td>52776</td>\n",
       "      <td>2016</td>\n",
       "      <td>359</td>\n",
       "      <td>4544.58</td>\n",
       "      <td>290.25</td>\n",
       "    </tr>\n",
       "    <tr>\n",
       "      <th>778</th>\n",
       "      <td>52777</td>\n",
       "      <td>2015</td>\n",
       "      <td>81</td>\n",
       "      <td>894.04</td>\n",
       "      <td>78.12</td>\n",
       "    </tr>\n",
       "    <tr>\n",
       "      <th>779</th>\n",
       "      <td>52777</td>\n",
       "      <td>2016</td>\n",
       "      <td>71</td>\n",
       "      <td>771.04</td>\n",
       "      <td>56.25</td>\n",
       "    </tr>\n",
       "    <tr>\n",
       "      <th>780</th>\n",
       "      <td>52778</td>\n",
       "      <td>2015</td>\n",
       "      <td>864</td>\n",
       "      <td>8824.96</td>\n",
       "      <td>775.43</td>\n",
       "    </tr>\n",
       "    <tr>\n",
       "      <th>781</th>\n",
       "      <td>52778</td>\n",
       "      <td>2016</td>\n",
       "      <td>256</td>\n",
       "      <td>2657.08</td>\n",
       "      <td>223.57</td>\n",
       "    </tr>\n",
       "    <tr>\n",
       "      <th>782</th>\n",
       "      <td>52801</td>\n",
       "      <td>2016</td>\n",
       "      <td>14</td>\n",
       "      <td>246.40</td>\n",
       "      <td>10.50</td>\n",
       "    </tr>\n",
       "    <tr>\n",
       "      <th>783</th>\n",
       "      <td>52802</td>\n",
       "      <td>2015</td>\n",
       "      <td>15072</td>\n",
       "      <td>100179.48</td>\n",
       "      <td>7436.58</td>\n",
       "    </tr>\n",
       "    <tr>\n",
       "      <th>784</th>\n",
       "      <td>52802</td>\n",
       "      <td>2016</td>\n",
       "      <td>3347</td>\n",
       "      <td>22040.19</td>\n",
       "      <td>1591.57</td>\n",
       "    </tr>\n",
       "    <tr>\n",
       "      <th>785</th>\n",
       "      <td>52803</td>\n",
       "      <td>2015</td>\n",
       "      <td>14349</td>\n",
       "      <td>102703.04</td>\n",
       "      <td>6306.45</td>\n",
       "    </tr>\n",
       "    <tr>\n",
       "      <th>786</th>\n",
       "      <td>52803</td>\n",
       "      <td>2016</td>\n",
       "      <td>4119</td>\n",
       "      <td>28304.40</td>\n",
       "      <td>1704.36</td>\n",
       "    </tr>\n",
       "    <tr>\n",
       "      <th>787</th>\n",
       "      <td>52804</td>\n",
       "      <td>2015</td>\n",
       "      <td>38484</td>\n",
       "      <td>413835.44</td>\n",
       "      <td>26587.18</td>\n",
       "    </tr>\n",
       "    <tr>\n",
       "      <th>788</th>\n",
       "      <td>52804</td>\n",
       "      <td>2016</td>\n",
       "      <td>8200</td>\n",
       "      <td>82127.25</td>\n",
       "      <td>5588.86</td>\n",
       "    </tr>\n",
       "    <tr>\n",
       "      <th>789</th>\n",
       "      <td>52806</td>\n",
       "      <td>2015</td>\n",
       "      <td>16106</td>\n",
       "      <td>181948.52</td>\n",
       "      <td>13983.10</td>\n",
       "    </tr>\n",
       "    <tr>\n",
       "      <th>790</th>\n",
       "      <td>52806</td>\n",
       "      <td>2016</td>\n",
       "      <td>3370</td>\n",
       "      <td>36269.08</td>\n",
       "      <td>2615.50</td>\n",
       "    </tr>\n",
       "    <tr>\n",
       "      <th>791</th>\n",
       "      <td>52807</td>\n",
       "      <td>2015</td>\n",
       "      <td>39965</td>\n",
       "      <td>596547.82</td>\n",
       "      <td>39654.35</td>\n",
       "    </tr>\n",
       "    <tr>\n",
       "      <th>792</th>\n",
       "      <td>52807</td>\n",
       "      <td>2016</td>\n",
       "      <td>10174</td>\n",
       "      <td>133501.22</td>\n",
       "      <td>10465.56</td>\n",
       "    </tr>\n",
       "  </tbody>\n",
       "</table>\n",
       "<p>793 rows × 5 columns</p>\n",
       "</div>"
      ],
      "text/plain": [
       "     Zip Code  Year  Bottles Sold  Sale (Dollars)  Volume Sold (Liters)\n",
       "0       50002  2015           498         4958.04                335.85\n",
       "1       50002  2016            90          893.16                 55.50\n",
       "2       50003  2015          2918        38095.16               2737.52\n",
       "3       50003  2016           719         9620.94                784.48\n",
       "4       50006  2015           640        10086.97                719.24\n",
       "5       50006  2016           116         2193.27                141.00\n",
       "6       50009  2015         17953       241028.59              16284.00\n",
       "7       50009  2016          4712        53529.80               3998.54\n",
       "8       50010  2015         53617       772044.25              52520.63\n",
       "9       50010  2016         11121       159057.33              10792.80\n",
       "10      50014  2015          3083        40206.10               2871.26\n",
       "11      50014  2016           577         8572.83                601.75\n",
       "12      50020  2015           704         8716.27                686.60\n",
       "13      50020  2016           158         1623.83                148.25\n",
       "14      50021  2015         26546       417794.83              28782.22\n",
       "15      50021  2016          5752        86093.47               6363.87\n",
       "16      50022  2015          6849        93176.80               7199.92\n",
       "17      50022  2016          1838        26162.43               1988.45\n",
       "18      50025  2015          1153        13559.58               1175.68\n",
       "19      50025  2016           211         2887.94                246.62\n",
       "20      50028  2015           171         2189.34                152.12\n",
       "21      50028  2016           123         1114.89                104.25\n",
       "22      50033  2015           458         4582.04                356.11\n",
       "23      50033  2016            72          878.64                 76.76\n",
       "24      50035  2015           831         9664.23                677.19\n",
       "25      50035  2016           210         1947.75                139.32\n",
       "26      50036  2015         10573       141982.36              11145.17\n",
       "27      50036  2016          2215        27412.70               2120.46\n",
       "28      50044  2015           384         1826.94                207.00\n",
       "29      50044  2016             6           69.06                 10.50\n",
       "..        ...   ...           ...             ...                   ...\n",
       "763     52747  2016           166         1719.36                149.75\n",
       "764     52748  2015          3958        46016.09               3471.05\n",
       "765     52748  2016           715         8333.81                649.88\n",
       "766     52751  2015           259         2814.35                244.33\n",
       "767     52751  2016           148         1694.93                106.00\n",
       "768     52753  2015          4256        62708.47               3118.51\n",
       "769     52753  2016           486         6029.42                373.27\n",
       "770     52761  2015         20368       266817.46              19137.64\n",
       "771     52761  2016          4686        57657.39               4257.21\n",
       "772     52768  2015           251         2199.21                221.29\n",
       "773     52768  2016            40          270.65                 29.75\n",
       "774     52772  2015          2947        34386.92               2603.32\n",
       "775     52772  2016           972        13791.54               1386.85\n",
       "776     52776  2015          1206        16654.56               1067.41\n",
       "777     52776  2016           359         4544.58                290.25\n",
       "778     52777  2015            81          894.04                 78.12\n",
       "779     52777  2016            71          771.04                 56.25\n",
       "780     52778  2015           864         8824.96                775.43\n",
       "781     52778  2016           256         2657.08                223.57\n",
       "782     52801  2016            14          246.40                 10.50\n",
       "783     52802  2015         15072       100179.48               7436.58\n",
       "784     52802  2016          3347        22040.19               1591.57\n",
       "785     52803  2015         14349       102703.04               6306.45\n",
       "786     52803  2016          4119        28304.40               1704.36\n",
       "787     52804  2015         38484       413835.44              26587.18\n",
       "788     52804  2016          8200        82127.25               5588.86\n",
       "789     52806  2015         16106       181948.52              13983.10\n",
       "790     52806  2016          3370        36269.08               2615.50\n",
       "791     52807  2015         39965       596547.82              39654.35\n",
       "792     52807  2016         10174       133501.22              10465.56\n",
       "\n",
       "[793 rows x 5 columns]"
      ]
     },
     "execution_count": 992,
     "metadata": {},
     "output_type": "execute_result"
    }
   ],
   "source": [
    "df4 = pd.pivot_table(df3, index=['Zip Code','Year'], \\\n",
    "      values=['Bottles Sold', 'Volume Sold (Liters)', 'Sale (Dollars)'], aggfunc=sum).reset_index()\n",
    "df4"
   ]
  },
  {
   "cell_type": "code",
   "execution_count": 993,
   "metadata": {
    "ExecuteTime": {
     "end_time": "2016-10-09T19:50:44.341474",
     "start_time": "2016-10-09T19:50:44.324219"
    },
    "collapsed": false
   },
   "outputs": [],
   "source": [
    "df4.to_csv('../data/liqour_plus_demo.csv')"
   ]
  },
  {
   "cell_type": "code",
   "execution_count": 994,
   "metadata": {
    "ExecuteTime": {
     "end_time": "2016-10-09T19:50:44.408868",
     "start_time": "2016-10-09T19:50:44.348028"
    },
    "collapsed": true
   },
   "outputs": [],
   "source": [
    "# groupby store, then by year\n",
    "df3_gb = df3[['Zip Code','Store Number']].drop_duplicates()\n",
    "df3_gb = df3_gb.rename(columns={'Store Number': 'StoreCount'})\n",
    "df3_gb = df3_gb.groupby(['Zip Code']).count().reset_index()\n",
    "df4 = df4.merge(df3_gb, left_on='Zip Code', right_on='Zip Code')"
   ]
  },
  {
   "cell_type": "code",
   "execution_count": 995,
   "metadata": {
    "ExecuteTime": {
     "end_time": "2016-10-09T19:50:44.446400",
     "start_time": "2016-10-09T19:50:44.413855"
    },
    "collapsed": false
   },
   "outputs": [],
   "source": [
    "df5 = df4.merge(demo_df, left_on='Zip Code', right_on='Area')"
   ]
  },
  {
   "cell_type": "code",
   "execution_count": 996,
   "metadata": {
    "ExecuteTime": {
     "end_time": "2016-10-09T19:50:47.675622",
     "start_time": "2016-10-09T19:50:44.450854"
    },
    "collapsed": false
   },
   "outputs": [
    {
     "data": {
      "text/plain": [
       "<matplotlib.axes._subplots.AxesSubplot at 0x171a700d0>"
      ]
     },
     "execution_count": 996,
     "metadata": {},
     "output_type": "execute_result"
    },
    {
     "data": {
      "image/png": "[encoded data removed]",
      "text/plain": [
       "<matplotlib.figure.Figure at 0x164074dd0>"
      ]
     },
     "metadata": {},
     "output_type": "display_data"
    }
   ],
   "source": [
    "fig = plt.subplots(figsize=(16,8))\n",
    "sns.heatmap(df5[df5['Year']==2015].corr())"
   ]
  },
  {
   "cell_type": "code",
   "execution_count": 997,
   "metadata": {
    "ExecuteTime": {
     "end_time": "2016-10-09T19:50:47.692341",
     "start_time": "2016-10-09T19:50:47.683974"
    },
    "collapsed": false
   },
   "outputs": [
    {
     "data": {
      "text/plain": [
       "(793, 48)"
      ]
     },
     "execution_count": 997,
     "metadata": {},
     "output_type": "execute_result"
    }
   ],
   "source": [
    "df5.shape"
   ]
  },
  {
   "cell_type": "code",
   "execution_count": 998,
   "metadata": {
    "ExecuteTime": {
     "end_time": "2016-10-09T19:50:47.701715",
     "start_time": "2016-10-09T19:50:47.697012"
    },
    "collapsed": false
   },
   "outputs": [],
   "source": [
    "#df5['Above 21'] = pd.Series(df5[df5.columns.values[22:31]].sum(axis=1))"
   ]
  },
  {
   "cell_type": "code",
   "execution_count": 999,
   "metadata": {
    "ExecuteTime": {
     "end_time": "2016-10-09T19:50:47.769507",
     "start_time": "2016-10-09T19:50:47.704970"
    },
    "collapsed": false
   },
   "outputs": [
    {
     "data": {
      "text/html": [
       "<div>\n",
       "<table border=\"1\" class=\"dataframe\">\n",
       "  <thead>\n",
       "    <tr style=\"text-align: right;\">\n",
       "      <th></th>\n",
       "      <th>Zip Code</th>\n",
       "      <th>Year</th>\n",
       "      <th>Bottles Sold</th>\n",
       "      <th>Sale (Dollars)</th>\n",
       "      <th>Volume Sold (Liters)</th>\n",
       "      <th>StoreCount</th>\n",
       "      <th>Area</th>\n",
       "      <th>Total Pop</th>\n",
       "      <th>Median HH Inc</th>\n",
       "      <th>Per Capita Inc</th>\n",
       "      <th>...</th>\n",
       "      <th>Family households</th>\n",
       "      <th>Married-couple family households</th>\n",
       "      <th>Single mother households</th>\n",
       "      <th>Nonfamily households</th>\n",
       "      <th>Single Occupancy</th>\n",
       "      <th>Avg HH Size</th>\n",
       "      <th>Avg Family Size</th>\n",
       "      <th>Pop Below Poverty Level</th>\n",
       "      <th>% P25+ HS Grad</th>\n",
       "      <th>% P25-54 BA+</th>\n",
       "    </tr>\n",
       "  </thead>\n",
       "  <tbody>\n",
       "    <tr>\n",
       "      <th>0</th>\n",
       "      <td>50002</td>\n",
       "      <td>2015</td>\n",
       "      <td>498</td>\n",
       "      <td>4958.04</td>\n",
       "      <td>335.85</td>\n",
       "      <td>2</td>\n",
       "      <td>50002</td>\n",
       "      <td>1339.0</td>\n",
       "      <td>32500.0</td>\n",
       "      <td>20580.0</td>\n",
       "      <td>...</td>\n",
       "      <td>370.0</td>\n",
       "      <td>333.0</td>\n",
       "      <td>30.0</td>\n",
       "      <td>205.0</td>\n",
       "      <td>185.0</td>\n",
       "      <td>2.25</td>\n",
       "      <td>2.86</td>\n",
       "      <td>1232.0</td>\n",
       "      <td>87.6</td>\n",
       "      <td>11.2</td>\n",
       "    </tr>\n",
       "    <tr>\n",
       "      <th>1</th>\n",
       "      <td>50002</td>\n",
       "      <td>2016</td>\n",
       "      <td>90</td>\n",
       "      <td>893.16</td>\n",
       "      <td>55.50</td>\n",
       "      <td>2</td>\n",
       "      <td>50002</td>\n",
       "      <td>1339.0</td>\n",
       "      <td>32500.0</td>\n",
       "      <td>20580.0</td>\n",
       "      <td>...</td>\n",
       "      <td>370.0</td>\n",
       "      <td>333.0</td>\n",
       "      <td>30.0</td>\n",
       "      <td>205.0</td>\n",
       "      <td>185.0</td>\n",
       "      <td>2.25</td>\n",
       "      <td>2.86</td>\n",
       "      <td>1232.0</td>\n",
       "      <td>87.6</td>\n",
       "      <td>11.2</td>\n",
       "    </tr>\n",
       "    <tr>\n",
       "      <th>2</th>\n",
       "      <td>50003</td>\n",
       "      <td>2015</td>\n",
       "      <td>2918</td>\n",
       "      <td>38095.16</td>\n",
       "      <td>2737.52</td>\n",
       "      <td>3</td>\n",
       "      <td>50003</td>\n",
       "      <td>5835.0</td>\n",
       "      <td>47649.0</td>\n",
       "      <td>22429.0</td>\n",
       "      <td>...</td>\n",
       "      <td>1615.0</td>\n",
       "      <td>1390.0</td>\n",
       "      <td>162.0</td>\n",
       "      <td>619.0</td>\n",
       "      <td>529.0</td>\n",
       "      <td>2.58</td>\n",
       "      <td>3.08</td>\n",
       "      <td>5816.0</td>\n",
       "      <td>91.0</td>\n",
       "      <td>24.0</td>\n",
       "    </tr>\n",
       "    <tr>\n",
       "      <th>3</th>\n",
       "      <td>50003</td>\n",
       "      <td>2016</td>\n",
       "      <td>719</td>\n",
       "      <td>9620.94</td>\n",
       "      <td>784.48</td>\n",
       "      <td>3</td>\n",
       "      <td>50003</td>\n",
       "      <td>5835.0</td>\n",
       "      <td>47649.0</td>\n",
       "      <td>22429.0</td>\n",
       "      <td>...</td>\n",
       "      <td>1615.0</td>\n",
       "      <td>1390.0</td>\n",
       "      <td>162.0</td>\n",
       "      <td>619.0</td>\n",
       "      <td>529.0</td>\n",
       "      <td>2.58</td>\n",
       "      <td>3.08</td>\n",
       "      <td>5816.0</td>\n",
       "      <td>91.0</td>\n",
       "      <td>24.0</td>\n",
       "    </tr>\n",
       "    <tr>\n",
       "      <th>4</th>\n",
       "      <td>50006</td>\n",
       "      <td>2015</td>\n",
       "      <td>640</td>\n",
       "      <td>10086.97</td>\n",
       "      <td>719.24</td>\n",
       "      <td>2</td>\n",
       "      <td>50006</td>\n",
       "      <td>1959.0</td>\n",
       "      <td>36494.0</td>\n",
       "      <td>16957.0</td>\n",
       "      <td>...</td>\n",
       "      <td>547.0</td>\n",
       "      <td>477.0</td>\n",
       "      <td>43.0</td>\n",
       "      <td>220.0</td>\n",
       "      <td>194.0</td>\n",
       "      <td>2.55</td>\n",
       "      <td>3.09</td>\n",
       "      <td>1939.0</td>\n",
       "      <td>88.9</td>\n",
       "      <td>14.8</td>\n",
       "    </tr>\n",
       "  </tbody>\n",
       "</table>\n",
       "<p>5 rows × 48 columns</p>\n",
       "</div>"
      ],
      "text/plain": [
       "   Zip Code  Year  Bottles Sold  Sale (Dollars)  Volume Sold (Liters)  \\\n",
       "0     50002  2015           498         4958.04                335.85   \n",
       "1     50002  2016            90          893.16                 55.50   \n",
       "2     50003  2015          2918        38095.16               2737.52   \n",
       "3     50003  2016           719         9620.94                784.48   \n",
       "4     50006  2015           640        10086.97                719.24   \n",
       "\n",
       "   StoreCount   Area  Total Pop  Median HH Inc  Per Capita Inc      ...       \\\n",
       "0           2  50002     1339.0        32500.0         20580.0      ...        \n",
       "1           2  50002     1339.0        32500.0         20580.0      ...        \n",
       "2           3  50003     5835.0        47649.0         22429.0      ...        \n",
       "3           3  50003     5835.0        47649.0         22429.0      ...        \n",
       "4           2  50006     1959.0        36494.0         16957.0      ...        \n",
       "\n",
       "   Family households  Married-couple family households  \\\n",
       "0              370.0                             333.0   \n",
       "1              370.0                             333.0   \n",
       "2             1615.0                            1390.0   \n",
       "3             1615.0                            1390.0   \n",
       "4              547.0                             477.0   \n",
       "\n",
       "   Single mother households  Nonfamily households  Single Occupancy  \\\n",
       "0                      30.0                 205.0             185.0   \n",
       "1                      30.0                 205.0             185.0   \n",
       "2                     162.0                 619.0             529.0   \n",
       "3                     162.0                 619.0             529.0   \n",
       "4                      43.0                 220.0             194.0   \n",
       "\n",
       "   Avg HH Size  Avg Family Size  Pop Below Poverty Level  % P25+ HS Grad  \\\n",
       "0         2.25             2.86                   1232.0            87.6   \n",
       "1         2.25             2.86                   1232.0            87.6   \n",
       "2         2.58             3.08                   5816.0            91.0   \n",
       "3         2.58             3.08                   5816.0            91.0   \n",
       "4         2.55             3.09                   1939.0            88.9   \n",
       "\n",
       "   % P25-54 BA+  \n",
       "0          11.2  \n",
       "1          11.2  \n",
       "2          24.0  \n",
       "3          24.0  \n",
       "4          14.8  \n",
       "\n",
       "[5 rows x 48 columns]"
      ]
     },
     "execution_count": 999,
     "metadata": {},
     "output_type": "execute_result"
    }
   ],
   "source": [
    "df5.head()"
   ]
  },
  {
   "cell_type": "code",
   "execution_count": null,
   "metadata": {
    "ExecuteTime": {
     "end_time": "2016-10-09T19:39:49.621419",
     "start_time": "2016-10-09T19:39:49.413539"
    },
    "collapsed": false,
    "scrolled": true
   },
   "outputs": [],
   "source": []
  },
  {
   "cell_type": "code",
   "execution_count": 1000,
   "metadata": {
    "ExecuteTime": {
     "end_time": "2016-10-09T19:50:49.838298",
     "start_time": "2016-10-09T19:50:47.772534"
    },
    "collapsed": false,
    "scrolled": true
   },
   "outputs": [
    {
     "data": {
      "text/plain": [
       "Store Number                       -0.017730\n",
       "Zip Code                           -0.004838\n",
       "Category                            0.006460\n",
       "Vendor Number                      -0.012434\n",
       "Item Number                         0.002222\n",
       "Bottle Volume (ml)                  0.082285\n",
       "State Bottle Cost                   0.136244\n",
       "State Bottle Retail                 0.136427\n",
       "Bottles Sold                        0.825888\n",
       "Sale (Dollars)                      1.000000\n",
       "Volume Sold (Liters)                0.846418\n",
       "Area                               -0.004838\n",
       "Total Pop                           0.025874\n",
       "Median HH Inc                      -0.005779\n",
       "Per Capita Inc                      0.004301\n",
       "White                               0.018736\n",
       "Afr Amer                            0.056791\n",
       "Native Amer                         0.021130\n",
       "Asian Amer                          0.047590\n",
       "Pac Islander                        0.015819\n",
       "Other                               0.039770\n",
       "Bi- Multi-Racial                    0.042488\n",
       "Hispanic or Latino                  0.038836\n",
       "Med Age                            -0.067354\n",
       "<5 years                            0.037246\n",
       "5-17 yrs                            0.027252\n",
       "18-20 yrs                           0.020524\n",
       "21-24 yrs                           0.028086\n",
       "25-34 yrs                           0.035955\n",
       "35-44 yrs                           0.025943\n",
       "45-54 yrs                           0.021372\n",
       "55-59 yrs                           0.018845\n",
       "60-64 yrs                           0.014635\n",
       "65-74 yrs                           0.009661\n",
       "78-84 yrs                           0.002537\n",
       "85+ yrs                            -0.005809\n",
       "% P16+ in labor force               0.027050\n",
       "Total # Homes Owned                 0.015097\n",
       "Med. Home Value                     0.024305\n",
       "Tot Housing units                   0.025696\n",
       "Owner occupied housing units        0.016481\n",
       "Renter occupied housing units       0.040589\n",
       "households                          0.025389\n",
       "Family households                   0.021848\n",
       "Married-couple family households    0.018527\n",
       "Single mother households            0.032411\n",
       "Nonfamily households                0.029656\n",
       "Single Occupancy                    0.027658\n",
       "Avg HH Size                         0.004764\n",
       "Avg Family Size                     0.049693\n",
       "Pop Below Poverty Level             0.026427\n",
       "% P25+ HS Grad                     -0.006420\n",
       "% P25-54 BA+                        0.028948\n",
       "Month                               0.014562\n",
       "Year                               -0.008620\n",
       "Name: Sale (Dollars), dtype: float64"
      ]
     },
     "execution_count": 1000,
     "metadata": {},
     "output_type": "execute_result"
    }
   ],
   "source": [
    "df3.corr().loc['Sale (Dollars)',:]"
   ]
  },
  {
   "cell_type": "code",
   "execution_count": 1001,
   "metadata": {
    "ExecuteTime": {
     "end_time": "2016-10-09T19:50:49.866073",
     "start_time": "2016-10-09T19:50:49.841727"
    },
    "collapsed": false,
    "scrolled": true
   },
   "outputs": [
    {
     "name": "stdout",
     "output_type": "stream",
     "text": [
      "<class 'pandas.core.frame.DataFrame'>\n",
      "Int64Index: 793 entries, 0 to 792\n",
      "Data columns (total 48 columns):\n",
      "Zip Code                            793 non-null int64\n",
      "Year                                793 non-null int64\n",
      "Bottles Sold                        793 non-null int64\n",
      "Sale (Dollars)                      793 non-null float64\n",
      "Volume Sold (Liters)                793 non-null float64\n",
      "StoreCount                          793 non-null int64\n",
      "Area                                793 non-null int64\n",
      "Total Pop                           793 non-null float64\n",
      "Median HH Inc                       793 non-null float64\n",
      "Per Capita Inc                      793 non-null float64\n",
      "White                               793 non-null float64\n",
      "Afr Amer                            793 non-null float64\n",
      "Native Amer                         793 non-null int64\n",
      "Asian Amer                          793 non-null float64\n",
      "Pac Islander                        793 non-null int64\n",
      "Other                               793 non-null float64\n",
      "Bi- Multi-Racial                    793 non-null int64\n",
      "Hispanic or Latino                  793 non-null float64\n",
      "Med Age                             793 non-null float64\n",
      "<5 years                            793 non-null int64\n",
      "5-17 yrs                            793 non-null int64\n",
      "18-20 yrs                           793 non-null int64\n",
      "21-24 yrs                           793 non-null int64\n",
      "25-34 yrs                           793 non-null int64\n",
      "35-44 yrs                           793 non-null int64\n",
      "45-54 yrs                           793 non-null int64\n",
      "55-59 yrs                           793 non-null int64\n",
      "60-64 yrs                           793 non-null int64\n",
      "65-74 yrs                           793 non-null int64\n",
      "78-84 yrs                           793 non-null int64\n",
      "85+ yrs                             793 non-null int64\n",
      "% P16+ in labor force               793 non-null float64\n",
      "Total # Homes Owned                 793 non-null float64\n",
      "Med. Home Value                     793 non-null float64\n",
      "Tot Housing units                   793 non-null float64\n",
      "Owner occupied housing units        793 non-null float64\n",
      "Renter occupied housing units       793 non-null float64\n",
      "households                          793 non-null float64\n",
      "Family households                   793 non-null float64\n",
      "Married-couple family households    793 non-null float64\n",
      "Single mother households            793 non-null float64\n",
      "Nonfamily households                793 non-null float64\n",
      "Single Occupancy                    793 non-null float64\n",
      "Avg HH Size                         793 non-null float64\n",
      "Avg Family Size                     793 non-null float64\n",
      "Pop Below Poverty Level             793 non-null float64\n",
      "% P25+ HS Grad                      793 non-null float64\n",
      "% P25-54 BA+                        793 non-null float64\n",
      "dtypes: float64(28), int64(20)\n",
      "memory usage: 303.6 KB\n"
     ]
    }
   ],
   "source": [
    "df5.info()"
   ]
  },
  {
   "cell_type": "code",
   "execution_count": 1002,
   "metadata": {
    "ExecuteTime": {
     "end_time": "2016-10-09T19:50:49.873100",
     "start_time": "2016-10-09T19:50:49.868621"
    },
    "collapsed": false
   },
   "outputs": [],
   "source": [
    "df6 = df5.copy()"
   ]
  },
  {
   "cell_type": "raw",
   "metadata": {
    "ExecuteTime": {
     "end_time": "2016-10-09T17:01:06.501147",
     "start_time": "2016-10-09T17:01:06.269515"
    },
    "collapsed": false
   },
   "source": [
    "df5 = df5.drop(df5[(df5['Store Number'] == 4829) | (df5['Store Number'] == 2633) | (df5['Store Number'] == 3385)].index)"
   ]
  },
  {
   "cell_type": "raw",
   "metadata": {
    "ExecuteTime": {
     "end_time": "2016-10-07T16:55:38.550818",
     "start_time": "2016-10-07T16:55:38.537251"
    }
   },
   "source": [
    "df5[(df5['Store Number'] == 4829) | (df5['Store Number'] == 2633) | (df5['Store Number'] == 3385)].index"
   ]
  },
  {
   "cell_type": "code",
   "execution_count": 1003,
   "metadata": {
    "ExecuteTime": {
     "end_time": "2016-10-09T19:50:49.882986",
     "start_time": "2016-10-09T19:50:49.876125"
    },
    "collapsed": false
   },
   "outputs": [],
   "source": [
    "sales_median = df5['Sale (Dollars)'].median()\n",
    "sales_std = df5['Sale (Dollars)'].std()"
   ]
  },
  {
   "cell_type": "code",
   "execution_count": 1004,
   "metadata": {
    "ExecuteTime": {
     "end_time": "2016-10-09T19:50:49.896785",
     "start_time": "2016-10-09T19:50:49.886500"
    },
    "collapsed": false
   },
   "outputs": [],
   "source": [
    "df5 = df5[abs(df5['Sale (Dollars)'] - sales_median) <= 3*sales_std]\n",
    "df5 = df5[df5['Year']==2015]"
   ]
  },
  {
   "cell_type": "code",
   "execution_count": 1005,
   "metadata": {
    "ExecuteTime": {
     "end_time": "2016-10-09T19:50:49.917734",
     "start_time": "2016-10-09T19:50:49.899933"
    },
    "collapsed": false
   },
   "outputs": [
    {
     "data": {
      "text/plain": [
       "count       375.000000\n",
       "mean      39316.867840\n",
       "std       61242.127473\n",
       "min          90.000000\n",
       "25%        3807.780000\n",
       "50%       10245.140000\n",
       "75%       46452.415000\n",
       "max      320296.590000\n",
       "Name: Sale (Dollars), dtype: float64"
      ]
     },
     "execution_count": 1005,
     "metadata": {},
     "output_type": "execute_result"
    }
   ],
   "source": [
    "df5['Sale (Dollars)'].describe()"
   ]
  },
  {
   "cell_type": "code",
   "execution_count": 1006,
   "metadata": {
    "ExecuteTime": {
     "end_time": "2016-10-09T19:50:49.927458",
     "start_time": "2016-10-09T19:50:49.920562"
    },
    "collapsed": false
   },
   "outputs": [
    {
     "name": "stdout",
     "output_type": "stream",
     "text": [
      "['Zip Code', 'Year', 'Bottles Sold', 'Sale (Dollars)', 'Volume Sold (Liters)', 'StoreCount', 'Area', 'Total Pop', 'Median HH Inc', 'Per Capita Inc', 'White', 'Afr Amer', 'Native Amer', 'Asian Amer', 'Pac Islander', 'Other', 'Bi- Multi-Racial', 'Hispanic or Latino', 'Med Age', '<5 years', '5-17 yrs', '18-20 yrs', '21-24 yrs', '25-34 yrs', '35-44 yrs', '45-54 yrs', '55-59 yrs', '60-64 yrs', '65-74 yrs', '78-84 yrs', '85+ yrs', '% P16+ in labor force', 'Total # Homes Owned', 'Med. Home Value', 'Tot Housing units', 'Owner occupied housing units', 'Renter occupied housing units', 'households', 'Family households', 'Married-couple family households', 'Single mother households', 'Nonfamily households', 'Single Occupancy', 'Avg HH Size', 'Avg Family Size', 'Pop Below Poverty Level', '% P25+ HS Grad', '% P25-54 BA+']\n"
     ]
    }
   ],
   "source": [
    "features = df5.columns.values.tolist()\n",
    "print features\n",
    "\n",
    "drop_features = ['Bottles Sold', 'Sale (Dollars)', 'Volume Sold (Liters)', 'Zip Code']\n",
    "for i in drop_features:\n",
    "    features.remove(i)"
   ]
  },
  {
   "cell_type": "code",
   "execution_count": 1007,
   "metadata": {
    "ExecuteTime": {
     "end_time": "2016-10-09T19:50:49.943601",
     "start_time": "2016-10-09T19:50:49.931645"
    },
    "collapsed": false
   },
   "outputs": [
    {
     "data": {
      "text/plain": [
       "['Year',\n",
       " 'StoreCount',\n",
       " 'Area',\n",
       " 'Total Pop',\n",
       " 'Median HH Inc',\n",
       " 'Per Capita Inc',\n",
       " 'White',\n",
       " 'Afr Amer',\n",
       " 'Native Amer',\n",
       " 'Asian Amer',\n",
       " 'Pac Islander',\n",
       " 'Other',\n",
       " 'Bi- Multi-Racial',\n",
       " 'Hispanic or Latino',\n",
       " 'Med Age',\n",
       " '<5 years',\n",
       " '5-17 yrs',\n",
       " '18-20 yrs',\n",
       " '21-24 yrs',\n",
       " '25-34 yrs',\n",
       " '35-44 yrs',\n",
       " '45-54 yrs',\n",
       " '55-59 yrs',\n",
       " '60-64 yrs',\n",
       " '65-74 yrs',\n",
       " '78-84 yrs',\n",
       " '85+ yrs',\n",
       " '% P16+ in labor force',\n",
       " 'Total # Homes Owned',\n",
       " 'Med. Home Value',\n",
       " 'Tot Housing units',\n",
       " 'Owner occupied housing units',\n",
       " 'Renter occupied housing units',\n",
       " 'households',\n",
       " 'Family households',\n",
       " 'Married-couple family households',\n",
       " 'Single mother households',\n",
       " 'Nonfamily households',\n",
       " 'Single Occupancy',\n",
       " 'Avg HH Size',\n",
       " 'Avg Family Size',\n",
       " 'Pop Below Poverty Level',\n",
       " '% P25+ HS Grad',\n",
       " '% P25-54 BA+']"
      ]
     },
     "execution_count": 1007,
     "metadata": {},
     "output_type": "execute_result"
    }
   ],
   "source": [
    "features"
   ]
  },
  {
   "cell_type": "code",
   "execution_count": 1008,
   "metadata": {
    "ExecuteTime": {
     "end_time": "2016-10-09T19:50:50.152555",
     "start_time": "2016-10-09T19:50:49.946891"
    },
    "collapsed": false
   },
   "outputs": [
    {
     "data": {
      "text/plain": [
       "0.86108188630141624"
      ]
     },
     "execution_count": 1008,
     "metadata": {},
     "output_type": "execute_result"
    }
   ],
   "source": [
    "X = df5[features]\n",
    "y = df5['Sale (Dollars)']\n",
    "ridge = linear_model.RidgeCV(cv=5)\n",
    "model = ridge.fit(X,y)\n",
    "model.score(X,y)"
   ]
  },
  {
   "cell_type": "code",
   "execution_count": 1009,
   "metadata": {
    "ExecuteTime": {
     "end_time": "2016-10-09T19:50:50.163761",
     "start_time": "2016-10-09T19:50:50.155938"
    },
    "collapsed": false
   },
   "outputs": [
    {
     "data": {
      "text/plain": [
       "10.0"
      ]
     },
     "execution_count": 1009,
     "metadata": {},
     "output_type": "execute_result"
    }
   ],
   "source": [
    "model.alpha_"
   ]
  },
  {
   "cell_type": "code",
   "execution_count": 1010,
   "metadata": {
    "ExecuteTime": {
     "end_time": "2016-10-09T19:50:50.172834",
     "start_time": "2016-10-09T19:50:50.167740"
    },
    "collapsed": false
   },
   "outputs": [],
   "source": [
    "from sklearn.metrics import r2_score"
   ]
  },
  {
   "cell_type": "code",
   "execution_count": 1011,
   "metadata": {
    "ExecuteTime": {
     "end_time": "2016-10-09T19:50:50.189545",
     "start_time": "2016-10-09T19:50:50.177560"
    },
    "collapsed": false
   },
   "outputs": [
    {
     "data": {
      "text/plain": [
       "0.86108188630141624"
      ]
     },
     "execution_count": 1011,
     "metadata": {},
     "output_type": "execute_result"
    }
   ],
   "source": [
    "r2_score(y, model.predict(X))"
   ]
  },
  {
   "cell_type": "code",
   "execution_count": 1012,
   "metadata": {
    "ExecuteTime": {
     "end_time": "2016-10-09T19:50:50.209673",
     "start_time": "2016-10-09T19:50:50.192449"
    },
    "collapsed": false
   },
   "outputs": [],
   "source": [
    "feature_imp = pd.DataFrame([features, model.coef_.tolist()], index=['feature', 'coef']).T"
   ]
  },
  {
   "cell_type": "raw",
   "metadata": {
    "ExecuteTime": {
     "end_time": "2016-10-07T17:11:38.747529",
     "start_time": "2016-10-07T17:11:38.697601"
    }
   },
   "source": [
    "df5.info()"
   ]
  },
  {
   "cell_type": "code",
   "execution_count": 1013,
   "metadata": {
    "ExecuteTime": {
     "end_time": "2016-10-09T19:50:50.220219",
     "start_time": "2016-10-09T19:50:50.213391"
    },
    "collapsed": false
   },
   "outputs": [],
   "source": [
    "x = feature_imp.sort_values(by='coef', ascending=False)"
   ]
  },
  {
   "cell_type": "code",
   "execution_count": 1014,
   "metadata": {
    "ExecuteTime": {
     "end_time": "2016-10-09T19:50:50.237520",
     "start_time": "2016-10-09T19:50:50.224976"
    },
    "collapsed": false
   },
   "outputs": [],
   "source": [
    "x['coef'] = x['coef'].astype(float)"
   ]
  },
  {
   "cell_type": "code",
   "execution_count": 1015,
   "metadata": {
    "ExecuteTime": {
     "end_time": "2016-10-09T19:50:50.254312",
     "start_time": "2016-10-09T19:50:50.240759"
    },
    "collapsed": false
   },
   "outputs": [
    {
     "name": "stdout",
     "output_type": "stream",
     "text": [
      "['Per Capita Inc', 'Year', 'Med. Home Value', 'Median HH Inc']\n"
     ]
    }
   ],
   "source": [
    "print x[((x['coef'] < 2) & (x['coef'] >-2))]['feature'].tolist()"
   ]
  },
  {
   "cell_type": "code",
   "execution_count": 1016,
   "metadata": {
    "ExecuteTime": {
     "end_time": "2016-10-09T19:50:50.320280",
     "start_time": "2016-10-09T19:50:50.257686"
    },
    "collapsed": false
   },
   "outputs": [
    {
     "data": {
      "text/html": [
       "<div>\n",
       "<table border=\"1\" class=\"dataframe\">\n",
       "  <thead>\n",
       "    <tr style=\"text-align: right;\">\n",
       "      <th></th>\n",
       "      <th>feature</th>\n",
       "      <th>coef</th>\n",
       "    </tr>\n",
       "  </thead>\n",
       "  <tbody>\n",
       "    <tr>\n",
       "      <th>1</th>\n",
       "      <td>StoreCount</td>\n",
       "      <td>8390.607619</td>\n",
       "    </tr>\n",
       "    <tr>\n",
       "      <th>40</th>\n",
       "      <td>Avg Family Size</td>\n",
       "      <td>2381.831610</td>\n",
       "    </tr>\n",
       "    <tr>\n",
       "      <th>43</th>\n",
       "      <td>% P25-54 BA+</td>\n",
       "      <td>956.273593</td>\n",
       "    </tr>\n",
       "    <tr>\n",
       "      <th>10</th>\n",
       "      <td>Pac Islander</td>\n",
       "      <td>854.283502</td>\n",
       "    </tr>\n",
       "    <tr>\n",
       "      <th>36</th>\n",
       "      <td>Single mother households</td>\n",
       "      <td>371.986034</td>\n",
       "    </tr>\n",
       "    <tr>\n",
       "      <th>35</th>\n",
       "      <td>Married-couple family households</td>\n",
       "      <td>260.228184</td>\n",
       "    </tr>\n",
       "    <tr>\n",
       "      <th>38</th>\n",
       "      <td>Single Occupancy</td>\n",
       "      <td>155.543092</td>\n",
       "    </tr>\n",
       "    <tr>\n",
       "      <th>3</th>\n",
       "      <td>Total Pop</td>\n",
       "      <td>127.470213</td>\n",
       "    </tr>\n",
       "    <tr>\n",
       "      <th>22</th>\n",
       "      <td>55-59 yrs</td>\n",
       "      <td>78.352928</td>\n",
       "    </tr>\n",
       "    <tr>\n",
       "      <th>16</th>\n",
       "      <td>5-17 yrs</td>\n",
       "      <td>66.355523</td>\n",
       "    </tr>\n",
       "    <tr>\n",
       "      <th>17</th>\n",
       "      <td>18-20 yrs</td>\n",
       "      <td>56.169727</td>\n",
       "    </tr>\n",
       "    <tr>\n",
       "      <th>30</th>\n",
       "      <td>Tot Housing units</td>\n",
       "      <td>52.347922</td>\n",
       "    </tr>\n",
       "    <tr>\n",
       "      <th>27</th>\n",
       "      <td>% P16+ in labor force</td>\n",
       "      <td>38.097824</td>\n",
       "    </tr>\n",
       "    <tr>\n",
       "      <th>24</th>\n",
       "      <td>65-74 yrs</td>\n",
       "      <td>18.508622</td>\n",
       "    </tr>\n",
       "    <tr>\n",
       "      <th>19</th>\n",
       "      <td>25-34 yrs</td>\n",
       "      <td>18.281532</td>\n",
       "    </tr>\n",
       "    <tr>\n",
       "      <th>23</th>\n",
       "      <td>60-64 yrs</td>\n",
       "      <td>9.525049</td>\n",
       "    </tr>\n",
       "    <tr>\n",
       "      <th>20</th>\n",
       "      <td>35-44 yrs</td>\n",
       "      <td>5.068288</td>\n",
       "    </tr>\n",
       "    <tr>\n",
       "      <th>28</th>\n",
       "      <td>Total # Homes Owned</td>\n",
       "      <td>3.968541</td>\n",
       "    </tr>\n",
       "    <tr>\n",
       "      <th>2</th>\n",
       "      <td>Area</td>\n",
       "      <td>3.076975</td>\n",
       "    </tr>\n",
       "    <tr>\n",
       "      <th>5</th>\n",
       "      <td>Per Capita Inc</td>\n",
       "      <td>1.502460</td>\n",
       "    </tr>\n",
       "    <tr>\n",
       "      <th>0</th>\n",
       "      <td>Year</td>\n",
       "      <td>0.000000</td>\n",
       "    </tr>\n",
       "    <tr>\n",
       "      <th>29</th>\n",
       "      <td>Med. Home Value</td>\n",
       "      <td>-0.042371</td>\n",
       "    </tr>\n",
       "    <tr>\n",
       "      <th>4</th>\n",
       "      <td>Median HH Inc</td>\n",
       "      <td>-0.783590</td>\n",
       "    </tr>\n",
       "    <tr>\n",
       "      <th>18</th>\n",
       "      <td>21-24 yrs</td>\n",
       "      <td>-3.009635</td>\n",
       "    </tr>\n",
       "    <tr>\n",
       "      <th>41</th>\n",
       "      <td>Pop Below Poverty Level</td>\n",
       "      <td>-7.526396</td>\n",
       "    </tr>\n",
       "    <tr>\n",
       "      <th>25</th>\n",
       "      <td>78-84 yrs</td>\n",
       "      <td>-17.972598</td>\n",
       "    </tr>\n",
       "    <tr>\n",
       "      <th>37</th>\n",
       "      <td>Nonfamily households</td>\n",
       "      <td>-18.029409</td>\n",
       "    </tr>\n",
       "    <tr>\n",
       "      <th>26</th>\n",
       "      <td>85+ yrs</td>\n",
       "      <td>-23.609773</td>\n",
       "    </tr>\n",
       "    <tr>\n",
       "      <th>13</th>\n",
       "      <td>Hispanic or Latino</td>\n",
       "      <td>-29.299570</td>\n",
       "    </tr>\n",
       "    <tr>\n",
       "      <th>32</th>\n",
       "      <td>Renter occupied housing units</td>\n",
       "      <td>-32.382057</td>\n",
       "    </tr>\n",
       "    <tr>\n",
       "      <th>21</th>\n",
       "      <td>45-54 yrs</td>\n",
       "      <td>-34.231878</td>\n",
       "    </tr>\n",
       "    <tr>\n",
       "      <th>8</th>\n",
       "      <td>Native Amer</td>\n",
       "      <td>-40.742302</td>\n",
       "    </tr>\n",
       "    <tr>\n",
       "      <th>15</th>\n",
       "      <td>&lt;5 years</td>\n",
       "      <td>-45.967587</td>\n",
       "    </tr>\n",
       "    <tr>\n",
       "      <th>31</th>\n",
       "      <td>Owner occupied housing units</td>\n",
       "      <td>-65.931522</td>\n",
       "    </tr>\n",
       "    <tr>\n",
       "      <th>34</th>\n",
       "      <td>Family households</td>\n",
       "      <td>-80.284140</td>\n",
       "    </tr>\n",
       "    <tr>\n",
       "      <th>33</th>\n",
       "      <td>households</td>\n",
       "      <td>-98.313603</td>\n",
       "    </tr>\n",
       "    <tr>\n",
       "      <th>11</th>\n",
       "      <td>Other</td>\n",
       "      <td>-115.720114</td>\n",
       "    </tr>\n",
       "    <tr>\n",
       "      <th>12</th>\n",
       "      <td>Bi- Multi-Racial</td>\n",
       "      <td>-116.563461</td>\n",
       "    </tr>\n",
       "    <tr>\n",
       "      <th>9</th>\n",
       "      <td>Asian Amer</td>\n",
       "      <td>-118.906377</td>\n",
       "    </tr>\n",
       "    <tr>\n",
       "      <th>6</th>\n",
       "      <td>White</td>\n",
       "      <td>-154.045003</td>\n",
       "    </tr>\n",
       "    <tr>\n",
       "      <th>7</th>\n",
       "      <td>Afr Amer</td>\n",
       "      <td>-180.835954</td>\n",
       "    </tr>\n",
       "    <tr>\n",
       "      <th>42</th>\n",
       "      <td>% P25+ HS Grad</td>\n",
       "      <td>-271.434702</td>\n",
       "    </tr>\n",
       "    <tr>\n",
       "      <th>14</th>\n",
       "      <td>Med Age</td>\n",
       "      <td>-1526.816155</td>\n",
       "    </tr>\n",
       "    <tr>\n",
       "      <th>39</th>\n",
       "      <td>Avg HH Size</td>\n",
       "      <td>-3099.655953</td>\n",
       "    </tr>\n",
       "  </tbody>\n",
       "</table>\n",
       "</div>"
      ],
      "text/plain": [
       "                             feature         coef\n",
       "1                         StoreCount  8390.607619\n",
       "40                   Avg Family Size  2381.831610\n",
       "43                      % P25-54 BA+   956.273593\n",
       "10                      Pac Islander   854.283502\n",
       "36          Single mother households   371.986034\n",
       "35  Married-couple family households   260.228184\n",
       "38                  Single Occupancy   155.543092\n",
       "3                          Total Pop   127.470213\n",
       "22                         55-59 yrs    78.352928\n",
       "16                          5-17 yrs    66.355523\n",
       "17                         18-20 yrs    56.169727\n",
       "30                 Tot Housing units    52.347922\n",
       "27             % P16+ in labor force    38.097824\n",
       "24                         65-74 yrs    18.508622\n",
       "19                         25-34 yrs    18.281532\n",
       "23                         60-64 yrs     9.525049\n",
       "20                         35-44 yrs     5.068288\n",
       "28               Total # Homes Owned     3.968541\n",
       "2                               Area     3.076975\n",
       "5                     Per Capita Inc     1.502460\n",
       "0                               Year     0.000000\n",
       "29                   Med. Home Value    -0.042371\n",
       "4                      Median HH Inc    -0.783590\n",
       "18                         21-24 yrs    -3.009635\n",
       "41           Pop Below Poverty Level    -7.526396\n",
       "25                         78-84 yrs   -17.972598\n",
       "37              Nonfamily households   -18.029409\n",
       "26                           85+ yrs   -23.609773\n",
       "13                Hispanic or Latino   -29.299570\n",
       "32     Renter occupied housing units   -32.382057\n",
       "21                         45-54 yrs   -34.231878\n",
       "8                        Native Amer   -40.742302\n",
       "15                          <5 years   -45.967587\n",
       "31      Owner occupied housing units   -65.931522\n",
       "34                 Family households   -80.284140\n",
       "33                        households   -98.313603\n",
       "11                             Other  -115.720114\n",
       "12                  Bi- Multi-Racial  -116.563461\n",
       "9                         Asian Amer  -118.906377\n",
       "6                              White  -154.045003\n",
       "7                           Afr Amer  -180.835954\n",
       "42                    % P25+ HS Grad  -271.434702\n",
       "14                           Med Age -1526.816155\n",
       "39                       Avg HH Size -3099.655953"
      ]
     },
     "execution_count": 1016,
     "metadata": {},
     "output_type": "execute_result"
    }
   ],
   "source": [
    "x"
   ]
  },
  {
   "cell_type": "code",
   "execution_count": 1017,
   "metadata": {
    "ExecuteTime": {
     "end_time": "2016-10-09T19:50:50.333610",
     "start_time": "2016-10-09T19:50:50.324378"
    },
    "collapsed": false
   },
   "outputs": [],
   "source": [
    "predicted = model.predict(X)"
   ]
  },
  {
   "cell_type": "code",
   "execution_count": 1018,
   "metadata": {
    "ExecuteTime": {
     "end_time": "2016-10-09T19:50:50.383159",
     "start_time": "2016-10-09T19:50:50.337203"
    },
    "collapsed": false
   },
   "outputs": [
    {
     "name": "stdout",
     "output_type": "stream",
     "text": [
      "<class 'pandas.core.frame.DataFrame'>\n",
      "RangeIndex: 375 entries, 0 to 374\n",
      "Data columns (total 1 columns):\n",
      "0    375 non-null float64\n",
      "dtypes: float64(1)\n",
      "memory usage: 3.0 KB\n"
     ]
    }
   ],
   "source": [
    "df_pred = pd.DataFrame(predicted)\n",
    "df_pred.reset_index(drop=True, inplace=True)\n",
    "df5.reset_index(drop=True, inplace=True)\n",
    "\n",
    "df_pred.info()\n",
    "final = pd.concat([df5,df_pred], axis = 1)\n",
    "final.to_csv('ia_zip_predictions.csv')"
   ]
  },
  {
   "cell_type": "code",
   "execution_count": 1019,
   "metadata": {
    "ExecuteTime": {
     "end_time": "2016-10-09T19:50:50.778219",
     "start_time": "2016-10-09T19:50:50.390294"
    },
    "collapsed": false
   },
   "outputs": [
    {
     "data": {
      "text/plain": [
       "<matplotlib.collections.PathCollection at 0x16cc7b510>"
      ]
     },
     "execution_count": 1019,
     "metadata": {},
     "output_type": "execute_result"
    },
    {
     "data": {
      "image/png": "[encoded data removed]",
      "text/plain": [
       "<matplotlib.figure.Figure at 0x169103210>"
      ]
     },
     "metadata": {},
     "output_type": "display_data"
    }
   ],
   "source": [
    "plt.scatter(predicted, y)"
   ]
  },
  {
   "cell_type": "code",
   "execution_count": 1020,
   "metadata": {
    "ExecuteTime": {
     "end_time": "2016-10-09T19:50:50.897150",
     "start_time": "2016-10-09T19:50:50.782933"
    },
    "collapsed": false,
    "scrolled": true
   },
   "outputs": [
    {
     "ename": "KeyError",
     "evalue": "\"['Year' 'StoreCount'] not in index\"",
     "output_type": "error",
     "traceback": [
      "\u001b[0;31m---------------------------------------------------------------------------\u001b[0m",
      "\u001b[0;31mKeyError\u001b[0m                                  Traceback (most recent call last)",
      "\u001b[0;32m<ipython-input-1020-f455a30b4b80>\u001b[0m in \u001b[0;36m<module>\u001b[0;34m()\u001b[0m\n\u001b[0;32m----> 1\u001b[0;31m \u001b[0mX_pred\u001b[0m \u001b[0;34m=\u001b[0m \u001b[0mdemo_df\u001b[0m\u001b[0;34m[\u001b[0m\u001b[0mfeatures\u001b[0m\u001b[0;34m]\u001b[0m\u001b[0;34m\u001b[0m\u001b[0m\n\u001b[0m\u001b[1;32m      2\u001b[0m \u001b[0;34m\u001b[0m\u001b[0m\n\u001b[1;32m      3\u001b[0m \u001b[0mpredicted\u001b[0m \u001b[0;34m=\u001b[0m \u001b[0mmodel\u001b[0m\u001b[0;34m.\u001b[0m\u001b[0mpredict\u001b[0m\u001b[0;34m(\u001b[0m\u001b[0mX_pred\u001b[0m\u001b[0;34m)\u001b[0m\u001b[0;34m\u001b[0m\u001b[0m\n\u001b[1;32m      4\u001b[0m \u001b[0;34m\u001b[0m\u001b[0m\n\u001b[1;32m      5\u001b[0m \u001b[0mdf_pred\u001b[0m \u001b[0;34m=\u001b[0m \u001b[0mpd\u001b[0m\u001b[0;34m.\u001b[0m\u001b[0mDataFrame\u001b[0m\u001b[0;34m(\u001b[0m\u001b[0mpredicted\u001b[0m\u001b[0;34m)\u001b[0m\u001b[0;34m\u001b[0m\u001b[0m\n",
      "\u001b[0;32m/Applications/anaconda/anaconda/lib/python2.7/site-packages/pandas/core/frame.pyc\u001b[0m in \u001b[0;36m__getitem__\u001b[0;34m(self, key)\u001b[0m\n\u001b[1;32m   2049\u001b[0m         \u001b[0;32mif\u001b[0m \u001b[0misinstance\u001b[0m\u001b[0;34m(\u001b[0m\u001b[0mkey\u001b[0m\u001b[0;34m,\u001b[0m \u001b[0;34m(\u001b[0m\u001b[0mSeries\u001b[0m\u001b[0;34m,\u001b[0m \u001b[0mnp\u001b[0m\u001b[0;34m.\u001b[0m\u001b[0mndarray\u001b[0m\u001b[0;34m,\u001b[0m \u001b[0mIndex\u001b[0m\u001b[0;34m,\u001b[0m \u001b[0mlist\u001b[0m\u001b[0;34m)\u001b[0m\u001b[0;34m)\u001b[0m\u001b[0;34m:\u001b[0m\u001b[0;34m\u001b[0m\u001b[0m\n\u001b[1;32m   2050\u001b[0m             \u001b[0;31m# either boolean or fancy integer index\u001b[0m\u001b[0;34m\u001b[0m\u001b[0;34m\u001b[0m\u001b[0m\n\u001b[0;32m-> 2051\u001b[0;31m             \u001b[0;32mreturn\u001b[0m \u001b[0mself\u001b[0m\u001b[0;34m.\u001b[0m\u001b[0m_getitem_array\u001b[0m\u001b[0;34m(\u001b[0m\u001b[0mkey\u001b[0m\u001b[0;34m)\u001b[0m\u001b[0;34m\u001b[0m\u001b[0m\n\u001b[0m\u001b[1;32m   2052\u001b[0m         \u001b[0;32melif\u001b[0m \u001b[0misinstance\u001b[0m\u001b[0;34m(\u001b[0m\u001b[0mkey\u001b[0m\u001b[0;34m,\u001b[0m \u001b[0mDataFrame\u001b[0m\u001b[0;34m)\u001b[0m\u001b[0;34m:\u001b[0m\u001b[0;34m\u001b[0m\u001b[0m\n\u001b[1;32m   2053\u001b[0m             \u001b[0;32mreturn\u001b[0m \u001b[0mself\u001b[0m\u001b[0;34m.\u001b[0m\u001b[0m_getitem_frame\u001b[0m\u001b[0;34m(\u001b[0m\u001b[0mkey\u001b[0m\u001b[0;34m)\u001b[0m\u001b[0;34m\u001b[0m\u001b[0m\n",
      "\u001b[0;32m/Applications/anaconda/anaconda/lib/python2.7/site-packages/pandas/core/frame.pyc\u001b[0m in \u001b[0;36m_getitem_array\u001b[0;34m(self, key)\u001b[0m\n\u001b[1;32m   2093\u001b[0m             \u001b[0;32mreturn\u001b[0m \u001b[0mself\u001b[0m\u001b[0;34m.\u001b[0m\u001b[0mtake\u001b[0m\u001b[0;34m(\u001b[0m\u001b[0mindexer\u001b[0m\u001b[0;34m,\u001b[0m \u001b[0maxis\u001b[0m\u001b[0;34m=\u001b[0m\u001b[0;36m0\u001b[0m\u001b[0;34m,\u001b[0m \u001b[0mconvert\u001b[0m\u001b[0;34m=\u001b[0m\u001b[0mFalse\u001b[0m\u001b[0;34m)\u001b[0m\u001b[0;34m\u001b[0m\u001b[0m\n\u001b[1;32m   2094\u001b[0m         \u001b[0;32melse\u001b[0m\u001b[0;34m:\u001b[0m\u001b[0;34m\u001b[0m\u001b[0m\n\u001b[0;32m-> 2095\u001b[0;31m             \u001b[0mindexer\u001b[0m \u001b[0;34m=\u001b[0m \u001b[0mself\u001b[0m\u001b[0;34m.\u001b[0m\u001b[0mix\u001b[0m\u001b[0;34m.\u001b[0m\u001b[0m_convert_to_indexer\u001b[0m\u001b[0;34m(\u001b[0m\u001b[0mkey\u001b[0m\u001b[0;34m,\u001b[0m \u001b[0maxis\u001b[0m\u001b[0;34m=\u001b[0m\u001b[0;36m1\u001b[0m\u001b[0;34m)\u001b[0m\u001b[0;34m\u001b[0m\u001b[0m\n\u001b[0m\u001b[1;32m   2096\u001b[0m             \u001b[0;32mreturn\u001b[0m \u001b[0mself\u001b[0m\u001b[0;34m.\u001b[0m\u001b[0mtake\u001b[0m\u001b[0;34m(\u001b[0m\u001b[0mindexer\u001b[0m\u001b[0;34m,\u001b[0m \u001b[0maxis\u001b[0m\u001b[0;34m=\u001b[0m\u001b[0;36m1\u001b[0m\u001b[0;34m,\u001b[0m \u001b[0mconvert\u001b[0m\u001b[0;34m=\u001b[0m\u001b[0mTrue\u001b[0m\u001b[0;34m)\u001b[0m\u001b[0;34m\u001b[0m\u001b[0m\n\u001b[1;32m   2097\u001b[0m \u001b[0;34m\u001b[0m\u001b[0m\n",
      "\u001b[0;32m/Applications/anaconda/anaconda/lib/python2.7/site-packages/pandas/core/indexing.pyc\u001b[0m in \u001b[0;36m_convert_to_indexer\u001b[0;34m(self, obj, axis, is_setter)\u001b[0m\n\u001b[1;32m   1227\u001b[0m                 \u001b[0mmask\u001b[0m \u001b[0;34m=\u001b[0m \u001b[0mcheck\u001b[0m \u001b[0;34m==\u001b[0m \u001b[0;34m-\u001b[0m\u001b[0;36m1\u001b[0m\u001b[0;34m\u001b[0m\u001b[0m\n\u001b[1;32m   1228\u001b[0m                 \u001b[0;32mif\u001b[0m \u001b[0mmask\u001b[0m\u001b[0;34m.\u001b[0m\u001b[0many\u001b[0m\u001b[0;34m(\u001b[0m\u001b[0;34m)\u001b[0m\u001b[0;34m:\u001b[0m\u001b[0;34m\u001b[0m\u001b[0m\n\u001b[0;32m-> 1229\u001b[0;31m                     \u001b[0;32mraise\u001b[0m \u001b[0mKeyError\u001b[0m\u001b[0;34m(\u001b[0m\u001b[0;34m'%s not in index'\u001b[0m \u001b[0;34m%\u001b[0m \u001b[0mobjarr\u001b[0m\u001b[0;34m[\u001b[0m\u001b[0mmask\u001b[0m\u001b[0;34m]\u001b[0m\u001b[0;34m)\u001b[0m\u001b[0;34m\u001b[0m\u001b[0m\n\u001b[0m\u001b[1;32m   1230\u001b[0m \u001b[0;34m\u001b[0m\u001b[0m\n\u001b[1;32m   1231\u001b[0m                 \u001b[0;32mreturn\u001b[0m \u001b[0m_values_from_object\u001b[0m\u001b[0;34m(\u001b[0m\u001b[0mindexer\u001b[0m\u001b[0;34m)\u001b[0m\u001b[0;34m\u001b[0m\u001b[0m\n",
      "\u001b[0;31mKeyError\u001b[0m: \"['Year' 'StoreCount'] not in index\""
     ]
    }
   ],
   "source": [
    "X_pred = demo_df[features]\n",
    "\n",
    "predicted = model.predict(X_pred)\n",
    "\n",
    "df_pred = pd.DataFrame(predicted)\n",
    "df_pred.reset_index(drop=True, inplace=True)\n",
    "df5.reset_index(drop=True, inplace=True)\n",
    "\n",
    "df_pred.info()\n",
    "final = pd.concat([demo_df,df_pred], axis = 1)\n",
    "#df1 = df.merge(zcy, left_on='Zip Code', right_on='zip', how='left')\n",
    "final = final.merge(df4,left_on=\"Area\", right_on=\"Zip Code\", how='left')\n",
    "final.to_csv('ia_zip_predictions_all_zips.csv')\n",
    "final"
   ]
  },
  {
   "cell_type": "markdown",
   "metadata": {},
   "source": [
    "## Record your findings\n",
    "\n",
    "Be sure to write out anything observations from your exploratory analysis."
   ]
  },
  {
   "cell_type": "markdown",
   "metadata": {},
   "source": [
    "# Mine the data\n",
    "Now you are ready to compute the variables you will use for your regression from the data. For example, you may want to\n",
    "compute total sales per store from Jan to March of 2015, mean price per bottle, etc. Refer to the readme for more ideas appropriate to your scenario.\n",
    "\n",
    "Pandas is your friend for this task. Take a look at the operations [here](http://pandas.pydata.org/pandas-docs/stable/groupby.html) for ideas on how to make the best use of pandas and feel free to search for blog and Stack Overflow posts to help you group data by certain variables and compute sums, means, etc. You may find it useful to create a new data frame to house this summary data."
   ]
  },
  {
   "cell_type": "markdown",
   "metadata": {},
   "source": [
    "# Refine the data\n",
    "Look for any statistical relationships, correlations, or other relevant properties of the dataset."
   ]
  },
  {
   "cell_type": "code",
   "execution_count": null,
   "metadata": {
    "collapsed": false
   },
   "outputs": [],
   "source": []
  },
  {
   "cell_type": "markdown",
   "metadata": {},
   "source": [
    "# Build your models\n",
    "\n",
    "Using scikit-learn or statsmodels, build the necessary models for your scenario. Evaluate model fit."
   ]
  },
  {
   "cell_type": "code",
   "execution_count": null,
   "metadata": {
    "ExecuteTime": {
     "end_time": "2016-10-09T19:50:50.898959",
     "start_time": "2016-10-09T23:50:06.733Z"
    },
    "collapsed": false
   },
   "outputs": [],
   "source": [
    "from sklearn import linear_model\n"
   ]
  },
  {
   "cell_type": "markdown",
   "metadata": {},
   "source": [
    "## Plot your results\n",
    "\n",
    "Again make sure that you record any valuable information. For example, in the tax scenario, did you find the sales from the first three months of the year to be a good predictor of the total sales for the year? Plot the predictions versus the true values and discuss the successes and limitations of your models"
   ]
  },
  {
   "cell_type": "code",
   "execution_count": null,
   "metadata": {
    "collapsed": false
   },
   "outputs": [],
   "source": []
  },
  {
   "cell_type": "markdown",
   "metadata": {},
   "source": [
    "# Present the Results\n",
    "\n",
    "Present your conclusions and results. If you have more than one interesting model feel free to include more than one along with a discussion. Use your work in this notebook to prepare your write-up."
   ]
  },
  {
   "cell_type": "code",
   "execution_count": null,
   "metadata": {
    "collapsed": false
   },
   "outputs": [],
   "source": []
  }
 ],
 "metadata": {
  "anaconda-cloud": {},
  "celltoolbar": "Slideshow",
  "kernelspec": {
   "display_name": "Python [default]",
   "language": "python",
   "name": "python2"
  },
  "language_info": {
   "codemirror_mode": {
    "name": "ipython",
    "version": 2
   },
   "file_extension": ".py",
   "mimetype": "text/x-python",
   "name": "python",
   "nbconvert_exporter": "python",
   "pygments_lexer": "ipython2",
   "version": "2.7.12"
  }
 },
 "nbformat": 4,
 "nbformat_minor": 0
}
