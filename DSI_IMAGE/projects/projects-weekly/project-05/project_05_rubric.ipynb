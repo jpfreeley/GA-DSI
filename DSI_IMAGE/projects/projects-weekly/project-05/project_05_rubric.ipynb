{
 "cells": [
  {
   "cell_type": "markdown",
   "metadata": {
    "ExecuteTime": {
     "end_time": "2016-10-20T11:00:41.999727",
     "start_time": "2016-10-20T11:00:41.978016"
    }
   },
   "source": [
    "# ![](https://ga-dash.s3.amazonaws.com/production/assets/logo-9f88ae6c9c3871690e33280fcf557f33.png) PROJECT 5 RUBRIC\n",
    "Data Science Immersive | Project 5\t \t\t\t\t\t\t\n",
    "\n",
    "Your project will be assessed using the following standards, [derived from the data science workflow](../../../../resources/syllabus/DSI-workflow-v1.pdf):\n",
    "\n",
    "- [ ] Identify Problem\n",
    "- [ ] Acquire Data\n",
    "- [ ] Parse Data\n",
    "- [ ] Mine Data\n",
    "- [ ] Refine Data\t\t\n",
    "- [ ] Model Data\n",
    "- [ ] Present Results\n",
    "\n",
    "Acceptable performance for these standards is based on how well you've performed the specific requirements listed below.\n",
    "\n",
    "---\n",
    "\n",
    "### Performance Evaluation\n",
    "\n",
    "| Requirements | Incomplete (0) | Does Not Meet Expectations (1) | Meets Expectations (2) | Exceeds Expectations (3) |\n",
    "|---|---|---|---|---|\n",
    "| Identify: Describe goals, risks & assumptions | | | | n/a |\n",
    "| Acquire: Pull remote data; load locally | | | | n/a |\n",
    "| Parse: Query & sort your data | | | | n/a |\n",
    "| Mine: EDA & Data Description  | | | | n/a |\n",
    "| Refine: Data Wrangling  | | | | n/a |\n",
    "| Model: Logistic Regression & Model Validation | | | | n/a |\n",
    "| Model: kNN & Model Validation | | | | n/a |\n",
    "| Model: Gridsearch optimal parameters for logistic regression and kNN | | | | n/a |\n",
    "| Present: Discuss findings, accuracy, assumptions, based on your audience | | | | |\n",
    "| Present: Create blog post summary | | | | |\n",
    "| *Bonus! Change classifier decision threshold for positive labels* | | | | |\n",
    "| *Bonus! Examine precision-recall instead of accuracy/ROC* | | | | |\n",
    "| *Very Bonus! Model with decision trees and bagging classifiers* | | | | |\n",
    "\n",
    "\n",
    "---\n",
    "\n",
    "## Score:\n",
    "Based on the requirements, you can earn a maximum of  **27**  points on this project.\n",
    "\n",
    "- Remember, your total score is helpful as a gauge of how well you met the project requirements, but use the individual standards and instructor feedback to help iterate and improve on your projects!\n",
    "\n",
    "\n"
   ]
  }
 ],
 "metadata": {
  "anaconda-cloud": {},
  "kernelspec": {
   "display_name": "Python [default]",
   "language": "python",
   "name": "python2"
  },
  "language_info": {
   "codemirror_mode": {
    "name": "ipython",
    "version": 2
   },
   "file_extension": ".py",
   "mimetype": "text/x-python",
   "name": "python",
   "nbconvert_exporter": "python",
   "pygments_lexer": "ipython2",
   "version": "2.7.12"
  }
 },
 "nbformat": 4,
 "nbformat_minor": 1
}
