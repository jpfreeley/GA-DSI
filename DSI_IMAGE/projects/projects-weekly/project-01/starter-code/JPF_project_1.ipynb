{
 "cells": [
  {
   "cell_type": "markdown",
   "metadata": {},
   "source": [
    "# Project 1\n",
    "\n",
    "## Step 1: Open the `sat_scores.csv` file. Investigate the data, and answer the questions below.\n"
   ]
  },
  {
   "cell_type": "markdown",
   "metadata": {},
   "source": [
    "##### 1. What does the data describe?"
   ]
  },
  {
   "cell_type": "markdown",
   "metadata": {},
   "source": [
    "The data describes the participation Rate as a whole number percentage, the average Verbal and the avaerage Math scores by state, and nationally, for the SAT"
   ]
  },
  {
   "cell_type": "markdown",
   "metadata": {},
   "source": [
    "##### 2. Does the data look complete? Are there any obvious issues with the observations?"
   ]
  },
  {
   "cell_type": "markdown",
   "metadata": {},
   "source": [
    "Yes, the data seems complete. I see no glaring issues. There is an entry for each \"State\" plus an additional entry named \"All\" for national averages and an entry for D.C. which isn't technically a State. For the purposes of this project, 'All' will be removed from the data as it is itself, a derived entry. "
   ]
  },
  {
   "cell_type": "markdown",
   "metadata": {},
   "source": [
    "##### 3. Create a data dictionary for the dataset."
   ]
  },
  {
   "cell_type": "markdown",
   "metadata": {
    "collapsed": true
   },
   "source": [
    "\"sat_scores.csv\"\n",
    "<br>1 header row of the following values: State, Rate, Verbal, Math\n",
    "<br>*State* -- string, State of the testing\n",
    "<br>*Rate* --  float, percentage of participation for that 'state'\n",
    "<br>*Verbal* --  float, Average value of Verbal Score within that State\n",
    "<br>*Math* --  float, Average value of Math score within that State\n",
    "<br>*NOTE1: there is also a 'summary' row denoted by \"All\" in the State column which represents the national averages*\n",
    "<br>*NOTE2: Washington, DC is treated as a \"State\"*\n",
    "\n"
   ]
  },
  {
   "cell_type": "markdown",
   "metadata": {},
   "source": [
    "## Step 2: Load the data."
   ]
  },
  {
   "cell_type": "markdown",
   "metadata": {},
   "source": [
    "##### 4. Load the data into a list of lists"
   ]
  },
  {
   "cell_type": "code",
   "execution_count": 3,
   "metadata": {
    "collapsed": false
   },
   "outputs": [],
   "source": [
    "import csv\n",
    "\n",
    "sat_score_list = []\n",
    "with open(\"/Users/jfreeley/GA-DSI/DSI_IMAGE/projects/projects-weekly/project-01/assets/sat_scores.csv\", \"r\") as fp:\n",
    "    list = csv.reader(fp)\n",
    "    sat_score_list = [row for row in list]\n",
    "    "
   ]
  },
  {
   "cell_type": "markdown",
   "metadata": {},
   "source": [
    "##### 5. Print the data"
   ]
  },
  {
   "cell_type": "code",
   "execution_count": 4,
   "metadata": {
    "collapsed": false
   },
   "outputs": [
    {
     "data": {
      "text/plain": [
       "[['State', 'Rate', 'Verbal', 'Math'],\n",
       " ['CT', '82', '509', '510'],\n",
       " ['NJ', '81', '499', '513'],\n",
       " ['MA', '79', '511', '515'],\n",
       " ['NY', '77', '495', '505'],\n",
       " ['NH', '72', '520', '516'],\n",
       " ['RI', '71', '501', '499'],\n",
       " ['PA', '71', '500', '499'],\n",
       " ['VT', '69', '511', '506'],\n",
       " ['ME', '69', '506', '500'],\n",
       " ['VA', '68', '510', '501'],\n",
       " ['DE', '67', '501', '499'],\n",
       " ['MD', '65', '508', '510'],\n",
       " ['NC', '65', '493', '499'],\n",
       " ['GA', '63', '491', '489'],\n",
       " ['IN', '60', '499', '501'],\n",
       " ['SC', '57', '486', '488'],\n",
       " ['DC', '56', '482', '474'],\n",
       " ['OR', '55', '526', '526'],\n",
       " ['FL', '54', '498', '499'],\n",
       " ['WA', '53', '527', '527'],\n",
       " ['TX', '53', '493', '499'],\n",
       " ['HI', '52', '485', '515'],\n",
       " ['AK', '51', '514', '510'],\n",
       " ['CA', '51', '498', '517'],\n",
       " ['AZ', '34', '523', '525'],\n",
       " ['NV', '33', '509', '515'],\n",
       " ['CO', '31', '539', '542'],\n",
       " ['OH', '26', '534', '439'],\n",
       " ['MT', '23', '539', '539'],\n",
       " ['WV', '18', '527', '512'],\n",
       " ['ID', '17', '543', '542'],\n",
       " ['TN', '13', '562', '553'],\n",
       " ['NM', '13', '551', '542'],\n",
       " ['IL', '12', '576', '589'],\n",
       " ['KY', '12', '550', '550'],\n",
       " ['WY', '11', '547', '545'],\n",
       " ['MI', '11', '561', '572'],\n",
       " ['MN', '9', '580', '589'],\n",
       " ['KS', '9', '577', '580'],\n",
       " ['AL', '9', '559', '554'],\n",
       " ['NE', '8', '562', '568'],\n",
       " ['OK', '8', '567', '561'],\n",
       " ['MO', '8', '577', '577'],\n",
       " ['LA', '7', '564', '562'],\n",
       " ['WI', '6', '584', '596'],\n",
       " ['AR', '6', '562', '550'],\n",
       " ['UT', '5', '575', '570'],\n",
       " ['IA', '5', '593', '603'],\n",
       " ['SD', '4', '577', '582'],\n",
       " ['ND', '4', '592', '599'],\n",
       " ['MS', '4', '566', '551'],\n",
       " ['All', '45', '506', '514']]"
      ]
     },
     "execution_count": 4,
     "metadata": {},
     "output_type": "execute_result"
    }
   ],
   "source": [
    "sat_score_list"
   ]
  },
  {
   "cell_type": "markdown",
   "metadata": {
    "collapsed": true
   },
   "source": [
    "##### 6. Extract a list of the labels from the data, and remove them from the data."
   ]
  },
  {
   "cell_type": "code",
   "execution_count": 5,
   "metadata": {
    "collapsed": false
   },
   "outputs": [
    {
     "data": {
      "text/plain": [
       "[['CT', '82', '509', '510'],\n",
       " ['NJ', '81', '499', '513'],\n",
       " ['MA', '79', '511', '515'],\n",
       " ['NY', '77', '495', '505'],\n",
       " ['NH', '72', '520', '516'],\n",
       " ['RI', '71', '501', '499'],\n",
       " ['PA', '71', '500', '499'],\n",
       " ['VT', '69', '511', '506'],\n",
       " ['ME', '69', '506', '500'],\n",
       " ['VA', '68', '510', '501'],\n",
       " ['DE', '67', '501', '499'],\n",
       " ['MD', '65', '508', '510'],\n",
       " ['NC', '65', '493', '499'],\n",
       " ['GA', '63', '491', '489'],\n",
       " ['IN', '60', '499', '501'],\n",
       " ['SC', '57', '486', '488'],\n",
       " ['DC', '56', '482', '474'],\n",
       " ['OR', '55', '526', '526'],\n",
       " ['FL', '54', '498', '499'],\n",
       " ['WA', '53', '527', '527'],\n",
       " ['TX', '53', '493', '499'],\n",
       " ['HI', '52', '485', '515'],\n",
       " ['AK', '51', '514', '510'],\n",
       " ['CA', '51', '498', '517'],\n",
       " ['AZ', '34', '523', '525'],\n",
       " ['NV', '33', '509', '515'],\n",
       " ['CO', '31', '539', '542'],\n",
       " ['OH', '26', '534', '439'],\n",
       " ['MT', '23', '539', '539'],\n",
       " ['WV', '18', '527', '512'],\n",
       " ['ID', '17', '543', '542'],\n",
       " ['TN', '13', '562', '553'],\n",
       " ['NM', '13', '551', '542'],\n",
       " ['IL', '12', '576', '589'],\n",
       " ['KY', '12', '550', '550'],\n",
       " ['WY', '11', '547', '545'],\n",
       " ['MI', '11', '561', '572'],\n",
       " ['MN', '9', '580', '589'],\n",
       " ['KS', '9', '577', '580'],\n",
       " ['AL', '9', '559', '554'],\n",
       " ['NE', '8', '562', '568'],\n",
       " ['OK', '8', '567', '561'],\n",
       " ['MO', '8', '577', '577'],\n",
       " ['LA', '7', '564', '562'],\n",
       " ['WI', '6', '584', '596'],\n",
       " ['AR', '6', '562', '550'],\n",
       " ['UT', '5', '575', '570'],\n",
       " ['IA', '5', '593', '603'],\n",
       " ['SD', '4', '577', '582'],\n",
       " ['ND', '4', '592', '599'],\n",
       " ['MS', '4', '566', '551']]"
      ]
     },
     "execution_count": 5,
     "metadata": {},
     "output_type": "execute_result"
    }
   ],
   "source": [
    "#Strip off the \"Header\" row with column labels\n",
    "labels = sat_score_list[0]\n",
    "del sat_score_list[0]\n",
    "labels\n",
    "\n",
    "\n",
    "#remove \"All\" from data\n",
    "sat_score_list = sat_score_list[:-1]\n",
    "sat_score_list\n"
   ]
  },
  {
   "cell_type": "markdown",
   "metadata": {},
   "source": [
    "##### 7. Create a list of State names extracted from the data. (Hint: use the list of labels to index on the State column)"
   ]
  },
  {
   "cell_type": "code",
   "execution_count": 6,
   "metadata": {
    "collapsed": false
   },
   "outputs": [
    {
     "data": {
      "text/plain": [
       "['CT',\n",
       " 'NJ',\n",
       " 'MA',\n",
       " 'NY',\n",
       " 'NH',\n",
       " 'RI',\n",
       " 'PA',\n",
       " 'VT',\n",
       " 'ME',\n",
       " 'VA',\n",
       " 'DE',\n",
       " 'MD',\n",
       " 'NC',\n",
       " 'GA',\n",
       " 'IN',\n",
       " 'SC',\n",
       " 'DC',\n",
       " 'OR',\n",
       " 'FL',\n",
       " 'WA',\n",
       " 'TX',\n",
       " 'HI',\n",
       " 'AK',\n",
       " 'CA',\n",
       " 'AZ',\n",
       " 'NV',\n",
       " 'CO',\n",
       " 'OH',\n",
       " 'MT',\n",
       " 'WV',\n",
       " 'ID',\n",
       " 'TN',\n",
       " 'NM',\n",
       " 'IL',\n",
       " 'KY',\n",
       " 'WY',\n",
       " 'MI',\n",
       " 'MN',\n",
       " 'KS',\n",
       " 'AL',\n",
       " 'NE',\n",
       " 'OK',\n",
       " 'MO',\n",
       " 'LA',\n",
       " 'WI',\n",
       " 'AR',\n",
       " 'UT',\n",
       " 'IA',\n",
       " 'SD',\n",
       " 'ND',\n",
       " 'MS']"
      ]
     },
     "execution_count": 6,
     "metadata": {},
     "output_type": "execute_result"
    }
   ],
   "source": [
    "search_for = \"State\"\n",
    "stIndex = labels.index(search_for)\n",
    "state_list = [x[stIndex] for x in sat_score_list]\n",
    "state_list"
   ]
  },
  {
   "cell_type": "markdown",
   "metadata": {},
   "source": [
    "##### 8. Print the types of each column"
   ]
  },
  {
   "cell_type": "code",
   "execution_count": 7,
   "metadata": {
    "collapsed": false
   },
   "outputs": [
    {
     "data": {
      "text/plain": [
       "[str, str, str, str]"
      ]
     },
     "execution_count": 7,
     "metadata": {},
     "output_type": "execute_result"
    }
   ],
   "source": [
    "type_list = [type(x) for x in sat_score_list[0]]\n",
    "type_list"
   ]
  },
  {
   "cell_type": "markdown",
   "metadata": {},
   "source": [
    "##### 9. Do any types need to be reassigned? If so, go ahead and do it."
   ]
  },
  {
   "cell_type": "code",
   "execution_count": 8,
   "metadata": {
    "collapsed": false
   },
   "outputs": [
    {
     "data": {
      "text/plain": [
       "[str, float, float, float]"
      ]
     },
     "execution_count": 8,
     "metadata": {},
     "output_type": "execute_result"
    }
   ],
   "source": [
    "# Because we will be using them for means and standard deviations, it is best to cast them to 'float' types. \n",
    "typed_sat_score_list = [[x,float(y),float(z),float(a)] for x,y,z,a in sat_score_list]\n",
    "\n",
    "type_list = [type(x) for x in typed_sat_score_list[0]]\n",
    "type_list"
   ]
  },
  {
   "cell_type": "markdown",
   "metadata": {},
   "source": [
    "##### 10. Create a dictionary for each column mapping the State to its respective value for that column. "
   ]
  },
  {
   "cell_type": "code",
   "execution_count": 9,
   "metadata": {
    "collapsed": false
   },
   "outputs": [
    {
     "name": "stdout",
     "output_type": "stream",
     "text": [
      "{'WA': '53', 'DE': '67', 'DC': '56', 'WI': '6', 'WV': '18', 'HI': '52', 'FL': '54', 'WY': '11', 'NH': '72', 'NJ': '81', 'NM': '13', 'TX': '53', 'LA': '7', 'NC': '65', 'ND': '4', 'NE': '8', 'TN': '13', 'NY': '77', 'PA': '71', 'RI': '71', 'NV': '33', 'VA': '68', 'CO': '31', 'AK': '51', 'AL': '9', 'AR': '6', 'VT': '69', 'IL': '12', 'GA': '63', 'IN': '60', 'IA': '5', 'OK': '8', 'AZ': '34', 'CA': '51', 'ID': '17', 'CT': '82', 'ME': '69', 'MD': '65', 'MA': '79', 'OH': '26', 'UT': '5', 'MO': '8', 'MN': '9', 'MI': '11', 'KS': '9', 'MT': '23', 'MS': '4', 'SC': '57', 'KY': '12', 'OR': '55', 'SD': '4'}\n",
      "\n",
      "{'WA': '527', 'DE': '501', 'DC': '482', 'WI': '584', 'WV': '527', 'HI': '485', 'FL': '498', 'WY': '547', 'NH': '520', 'NJ': '499', 'NM': '551', 'TX': '493', 'LA': '564', 'NC': '493', 'ND': '592', 'NE': '562', 'TN': '562', 'NY': '495', 'PA': '500', 'RI': '501', 'NV': '509', 'VA': '510', 'CO': '539', 'AK': '514', 'AL': '559', 'AR': '562', 'VT': '511', 'IL': '576', 'GA': '491', 'IN': '499', 'IA': '593', 'OK': '567', 'AZ': '523', 'CA': '498', 'ID': '543', 'CT': '509', 'ME': '506', 'MD': '508', 'MA': '511', 'OH': '534', 'UT': '575', 'MO': '577', 'MN': '580', 'MI': '561', 'KS': '577', 'MT': '539', 'MS': '566', 'SC': '486', 'KY': '550', 'OR': '526', 'SD': '577'}\n",
      "\n",
      "{'WA': '527', 'DE': '499', 'DC': '474', 'WI': '596', 'WV': '512', 'HI': '515', 'FL': '499', 'WY': '545', 'NH': '516', 'NJ': '513', 'NM': '542', 'TX': '499', 'LA': '562', 'NC': '499', 'ND': '599', 'NE': '568', 'TN': '553', 'NY': '505', 'PA': '499', 'RI': '499', 'NV': '515', 'VA': '501', 'CO': '542', 'AK': '510', 'AL': '554', 'AR': '550', 'VT': '506', 'IL': '589', 'GA': '489', 'IN': '501', 'IA': '603', 'OK': '561', 'AZ': '525', 'CA': '517', 'ID': '542', 'CT': '510', 'ME': '500', 'MD': '510', 'MA': '515', 'OH': '439', 'UT': '570', 'MO': '577', 'MN': '589', 'MI': '572', 'KS': '580', 'MT': '539', 'MS': '551', 'SC': '488', 'KY': '550', 'OR': '526', 'SD': '582'}\n"
     ]
    }
   ],
   "source": [
    "stRate_dict = {s:r for s,r,v,m in sat_score_list}\n",
    "stVerbal_dict = {s:v for s,r,v,m in sat_score_list}\n",
    "stMath_dict = {s:m for s,r,v,m in sat_score_list}\n",
    "print stRate_dict\n",
    "print \"\"\n",
    "print stVerbal_dict\n",
    "print \"\"\n",
    "print stMath_dict"
   ]
  },
  {
   "cell_type": "markdown",
   "metadata": {},
   "source": [
    "##### 11. Create a dictionary with the values for each of the numeric columns"
   ]
  },
  {
   "cell_type": "code",
   "execution_count": 10,
   "metadata": {
    "collapsed": false
   },
   "outputs": [
    {
     "data": {
      "text/plain": [
       "{'Math': [510.0,\n",
       "  513.0,\n",
       "  515.0,\n",
       "  505.0,\n",
       "  516.0,\n",
       "  499.0,\n",
       "  499.0,\n",
       "  506.0,\n",
       "  500.0,\n",
       "  501.0,\n",
       "  499.0,\n",
       "  510.0,\n",
       "  499.0,\n",
       "  489.0,\n",
       "  501.0,\n",
       "  488.0,\n",
       "  474.0,\n",
       "  526.0,\n",
       "  499.0,\n",
       "  527.0,\n",
       "  499.0,\n",
       "  515.0,\n",
       "  510.0,\n",
       "  517.0,\n",
       "  525.0,\n",
       "  515.0,\n",
       "  542.0,\n",
       "  439.0,\n",
       "  539.0,\n",
       "  512.0,\n",
       "  542.0,\n",
       "  553.0,\n",
       "  542.0,\n",
       "  589.0,\n",
       "  550.0,\n",
       "  545.0,\n",
       "  572.0,\n",
       "  589.0,\n",
       "  580.0,\n",
       "  554.0,\n",
       "  568.0,\n",
       "  561.0,\n",
       "  577.0,\n",
       "  562.0,\n",
       "  596.0,\n",
       "  550.0,\n",
       "  570.0,\n",
       "  603.0,\n",
       "  582.0,\n",
       "  599.0,\n",
       "  551.0],\n",
       " 'Rate': [82.0,\n",
       "  81.0,\n",
       "  79.0,\n",
       "  77.0,\n",
       "  72.0,\n",
       "  71.0,\n",
       "  71.0,\n",
       "  69.0,\n",
       "  69.0,\n",
       "  68.0,\n",
       "  67.0,\n",
       "  65.0,\n",
       "  65.0,\n",
       "  63.0,\n",
       "  60.0,\n",
       "  57.0,\n",
       "  56.0,\n",
       "  55.0,\n",
       "  54.0,\n",
       "  53.0,\n",
       "  53.0,\n",
       "  52.0,\n",
       "  51.0,\n",
       "  51.0,\n",
       "  34.0,\n",
       "  33.0,\n",
       "  31.0,\n",
       "  26.0,\n",
       "  23.0,\n",
       "  18.0,\n",
       "  17.0,\n",
       "  13.0,\n",
       "  13.0,\n",
       "  12.0,\n",
       "  12.0,\n",
       "  11.0,\n",
       "  11.0,\n",
       "  9.0,\n",
       "  9.0,\n",
       "  9.0,\n",
       "  8.0,\n",
       "  8.0,\n",
       "  8.0,\n",
       "  7.0,\n",
       "  6.0,\n",
       "  6.0,\n",
       "  5.0,\n",
       "  5.0,\n",
       "  4.0,\n",
       "  4.0,\n",
       "  4.0],\n",
       " 'Verbal': [509.0,\n",
       "  499.0,\n",
       "  511.0,\n",
       "  495.0,\n",
       "  520.0,\n",
       "  501.0,\n",
       "  500.0,\n",
       "  511.0,\n",
       "  506.0,\n",
       "  510.0,\n",
       "  501.0,\n",
       "  508.0,\n",
       "  493.0,\n",
       "  491.0,\n",
       "  499.0,\n",
       "  486.0,\n",
       "  482.0,\n",
       "  526.0,\n",
       "  498.0,\n",
       "  527.0,\n",
       "  493.0,\n",
       "  485.0,\n",
       "  514.0,\n",
       "  498.0,\n",
       "  523.0,\n",
       "  509.0,\n",
       "  539.0,\n",
       "  534.0,\n",
       "  539.0,\n",
       "  527.0,\n",
       "  543.0,\n",
       "  562.0,\n",
       "  551.0,\n",
       "  576.0,\n",
       "  550.0,\n",
       "  547.0,\n",
       "  561.0,\n",
       "  580.0,\n",
       "  577.0,\n",
       "  559.0,\n",
       "  562.0,\n",
       "  567.0,\n",
       "  577.0,\n",
       "  564.0,\n",
       "  584.0,\n",
       "  562.0,\n",
       "  575.0,\n",
       "  593.0,\n",
       "  577.0,\n",
       "  592.0,\n",
       "  566.0]}"
      ]
     },
     "execution_count": 10,
     "metadata": {},
     "output_type": "execute_result"
    }
   ],
   "source": [
    "search_for = labels[-3:] #grab last 3 columns Rate, Verbal Math\n",
    "scores_dict = {}\n",
    "for score_type in search_for: #iterate over the columns above\n",
    "    stIndex = labels.index(score_type) #get index of the column\n",
    "    score_list = [float(x[stIndex]) for x in sat_score_list] #CAST FLOAT & create a list of values from the specfic column\n",
    "    scores_dict.update({score_type:score_list}) \n",
    "scores_dict"
   ]
  },
  {
   "cell_type": "markdown",
   "metadata": {},
   "source": [
    "## Step 3: Describe the data"
   ]
  },
  {
   "cell_type": "markdown",
   "metadata": {},
   "source": [
    "##### 12. Print the min and max of each column"
   ]
  },
  {
   "cell_type": "code",
   "execution_count": 11,
   "metadata": {
    "collapsed": false
   },
   "outputs": [
    {
     "name": "stdout",
     "output_type": "stream",
     "text": [
      "Minimums\n",
      "Rate 4.0\n",
      "Math 439.0\n",
      "Verbal 482.0\n",
      "\n",
      "Maximums\n",
      "Rate 82.0\n",
      "Math 603.0\n",
      "Verbal 593.0\n"
     ]
    }
   ],
   "source": [
    "print \"Minimums\"\n",
    "for keys in scores_dict:\n",
    "    print keys, min(scores_dict[keys])\n",
    "print \"\"    \n",
    "print \"Maximums\"\n",
    "for keys in scores_dict:\n",
    "    print keys, max(scores_dict[keys])    "
   ]
  },
  {
   "cell_type": "markdown",
   "metadata": {},
   "source": [
    "##### 13. Write a function using only list comprehensions, no loops, to compute Standard Deviation. Print the Standard Deviation of each numeric column."
   ]
  },
  {
   "cell_type": "code",
   "execution_count": 12,
   "metadata": {
    "collapsed": false
   },
   "outputs": [
    {
     "name": "stdout",
     "output_type": "stream",
     "text": [
      "Standard Devition: THE L.C. WAY\n",
      "Rate: 27.279239\n",
      "Verbal: 33.031983\n",
      "Math: 35.929873\n",
      "\n",
      "Standard Devition: THE NUMPY WAY\n",
      "Rate: 27.279239\n",
      "Verbal: 33.031983\n",
      "Math: 35.929873\n"
     ]
    }
   ],
   "source": [
    "#scores_dict\n",
    "import numpy\n",
    "import math\n",
    "\n",
    "def std_dev(list):\n",
    "    standDev = (sum([(x-sum(x for x in list)/len(list))**2 for x in list])/len(list))**0.5\n",
    "    return standDev\n",
    "\n",
    "print \"Standard Devition: THE L.C. WAY\"  \n",
    "for label in labels[-3:]:\n",
    "    print \"%s: %f\" % (label, std_dev(scores_dict[label])) # WINNER!!!\n",
    "\n",
    "def NP_std_dev(list):\n",
    "    array = numpy.array(list)\n",
    "    return numpy.std(array)\n",
    "#print scores_dict\n",
    "\n",
    "print \"\\nStandard Devition: THE NUMPY WAY\"\n",
    "for label in labels[-3:]:\n",
    "    print \"%s: %f\" % (label, NP_std_dev(scores_dict[label])) # WINNER!!!\n",
    "\n"
   ]
  },
  {
   "cell_type": "markdown",
   "metadata": {},
   "source": [
    "## Step 4: Visualize the data"
   ]
  },
  {
   "cell_type": "markdown",
   "metadata": {},
   "source": [
    "##### 14. Using MatPlotLib and PyPlot, plot the distribution of the Rate using histograms."
   ]
  },
  {
   "cell_type": "code",
   "execution_count": 41,
   "metadata": {
    "collapsed": false,
    "scrolled": true
   },
   "outputs": [
    {
     "name": "stdout",
     "output_type": "stream",
     "text": [
      "[82.0, 81.0, 79.0, 77.0, 72.0, 71.0, 71.0, 69.0, 69.0, 68.0, 67.0, 65.0, 65.0, 63.0, 60.0, 57.0, 56.0, 55.0, 54.0, 53.0, 53.0, 52.0, 51.0, 51.0, 34.0, 33.0, 31.0, 26.0, 23.0, 18.0, 17.0, 13.0, 13.0, 12.0, 12.0, 11.0, 11.0, 9.0, 9.0, 9.0, 8.0, 8.0, 8.0, 7.0, 6.0, 6.0, 5.0, 5.0, 4.0, 4.0, 4.0]\n"
     ]
    },
    {
     "data": {
      "image/png": "[encoded data removed]",
      "text/plain": [
       "<matplotlib.figure.Figure at 0x11c29ffd0>"
      ]
     },
     "metadata": {},
     "output_type": "display_data"
    }
   ],
   "source": [
    "import numpy as np\n",
    "import scipy.stats as stats\n",
    "import csv\n",
    "import seaborn as sns\n",
    "import matplotlib.pyplot as plt\n",
    "%matplotlib inline\n",
    "\n",
    "def plt_distribution_plotter(column,data):\n",
    "    fig, ax = plt.subplots(figsize=(7,4))\n",
    "    n, bins, patches = plt.hist(data, 25, histtype='stepfilled')\n",
    "    ax.set_title('Distribution of '+ column, fontsize=18, y=1.01)\n",
    "    plt.setp(patches, 'facecolor', 'g', 'alpha', 0.2)\n",
    "\n",
    "def sns_distribution_plotter(column, data):\n",
    "    sns.set(rc={\"figure.figsize\": (4, 4)})\n",
    "    sns.set_style(\"white\")\n",
    "    dist = sns.distplot(data, hist_kws={'alpha':0.2},bins=7)\n",
    "    dist.set_title('Distribution of ' + column + '\\n', fontsize=16)\n",
    "print scores_dict['Rate']    \n",
    "\n",
    "plt_distribution_plotter(\"Rate\",scores_dict[\"Rate\"])\n",
    "\n",
    "#sns_distribution_plotter(\"Rate\",scores_dict[\"Rate\"])"
   ]
  },
  {
   "cell_type": "markdown",
   "metadata": {},
   "source": [
    "##### 15. Plot the Math distribution"
   ]
  },
  {
   "cell_type": "code",
   "execution_count": 14,
   "metadata": {
    "collapsed": false
   },
   "outputs": [
    {
     "data": {
      "image/png": "[encoded data removed]",
      "text/plain": [
       "<matplotlib.figure.Figure at 0x116e05e90>"
      ]
     },
     "metadata": {},
     "output_type": "display_data"
    },
    {
     "data": {
      "image/png": "[encoded data removed]",
      "text/plain": [
       "<matplotlib.figure.Figure at 0x116fd09d0>"
      ]
     },
     "metadata": {},
     "output_type": "display_data"
    }
   ],
   "source": [
    "import numpy as np\n",
    "import scipy.stats as stats\n",
    "import csv\n",
    "import seaborn as sns\n",
    "import matplotlib.pyplot as plt\n",
    "%matplotlib inline\n",
    "\n",
    "def plt_distribution_plotter(column,data):\n",
    "    fig, ax = plt.subplots(figsize=(15,7))\n",
    "    n, bins, patches = plt.hist(data, 7, normed=1, histtype='stepfilled')\n",
    "    ax.set_title('Distribution of '+ column, fontsize=18, y=1.01)\n",
    "    plt.setp(patches, 'facecolor', 'g', 'alpha', 0.2)\n",
    "\n",
    "def sns_distribution_plotter(column, data):\n",
    "    sns.set(rc={\"figure.figsize\": (10, 7)})\n",
    "    sns.set_style(\"white\")\n",
    "    dist = sns.distplot(data, hist_kws={'alpha':0.2},bins=7)\n",
    "    dist.set_title('Distribution of ' + column + '\\n', fontsize=16)\n",
    "    \n",
    "sns_distribution_plotter(\"Math\",scores_dict[\"Math\"])\n",
    "plt_distribution_plotter(\"Math\",scores_dict[\"Math\"])"
   ]
  },
  {
   "cell_type": "markdown",
   "metadata": {},
   "source": [
    "##### 16. Plot the Verbal distribution"
   ]
  },
  {
   "cell_type": "code",
   "execution_count": 15,
   "metadata": {
    "collapsed": false
   },
   "outputs": [
    {
     "data": {
      "image/png": "[encoded data removed]",
      "text/plain": [
       "<matplotlib.figure.Figure at 0x116fc2150>"
      ]
     },
     "metadata": {},
     "output_type": "display_data"
    },
    {
     "data": {
      "image/png": "[encoded data removed]",
      "text/plain": [
       "<matplotlib.figure.Figure at 0x11b2bb9d0>"
      ]
     },
     "metadata": {},
     "output_type": "display_data"
    }
   ],
   "source": [
    "import numpy as np\n",
    "import scipy.stats as stats\n",
    "import csv\n",
    "import seaborn as sns\n",
    "import matplotlib.pyplot as plt\n",
    "%matplotlib inline\n",
    "\n",
    "def plt_distribution_plotter(column,data):\n",
    "    fig, ax = plt.subplots(figsize=(15,7))\n",
    "    n, bins, patches = plt.hist(data, 7, normed=1, histtype='stepfilled')\n",
    "    ax.set_title('Distribution of '+ column, fontsize=18, y=1.01)\n",
    "    plt.setp(patches, 'facecolor', 'g', 'alpha', 0.2)\n",
    "\n",
    "def sns_distribution_plotter(column, data):\n",
    "    sns.set(rc={\"figure.figsize\": (10, 7)})\n",
    "    sns.set_style(\"white\")\n",
    "    dist = sns.distplot(data, hist_kws={'alpha':0.2},bins=7)\n",
    "    dist.set_title('Distribution of ' + column + '\\n', fontsize=16)\n",
    "    \n",
    "sns_distribution_plotter(\"Verbal\",scores_dict[\"Verbal\"])\n",
    "plt_distribution_plotter(\"Verbal\",scores_dict[\"Verbal\"])"
   ]
  },
  {
   "cell_type": "markdown",
   "metadata": {},
   "source": [
    "##### 17. What is the typical assumption for data distribution?"
   ]
  },
  {
   "cell_type": "markdown",
   "metadata": {
    "collapsed": false
   },
   "source": [
    "The typical assumption regarding the distribution of the data is that it is \"normal\" and follows the 68-95-99.7 rule with regards to STDEVs. That is, 68% ofthe data is within 1-StDev, 95% within 2 StDevs and 99.7% within 3 StDevs"
   ]
  },
  {
   "cell_type": "markdown",
   "metadata": {},
   "source": [
    "##### 18. Does that distribution hold true for our data?"
   ]
  },
  {
   "cell_type": "markdown",
   "metadata": {
    "collapsed": false
   },
   "source": [
    "The Verbal and the Rate data seem to be bi-modal, that is, they have 2 distinct \"humps\" which represent 2 distinct \"peaks\". The Math data seems to be more representative of a normal distribution however it is skewed slightly left. \n"
   ]
  },
  {
   "cell_type": "markdown",
   "metadata": {},
   "source": [
    "##### 19. Plot some scatterplots. **BONUS**: Use a PyPlot `figure` to present multiple plots at once."
   ]
  },
  {
   "cell_type": "code",
   "execution_count": 16,
   "metadata": {
    "collapsed": false
   },
   "outputs": [
    {
     "data": {
      "text/plain": [
       "<matplotlib.text.Text at 0x11a778050>"
      ]
     },
     "execution_count": 16,
     "metadata": {},
     "output_type": "execute_result"
    },
    {
     "data": {
      "image/png": "[encoded data removed]",
      "text/plain": [
       "<matplotlib.figure.Figure at 0x11a7cbb50>"
      ]
     },
     "metadata": {},
     "output_type": "display_data"
    }
   ],
   "source": [
    "f, axarr = plt.subplots(1, 3)\n",
    "axarr[0].scatter(scores_dict['Math'], scores_dict['Rate'], alpha=0.5)\n",
    "axarr[0].set_title('Rate vs. Math')\n",
    "axarr[1].scatter(scores_dict['Verbal'], scores_dict['Rate'], alpha=0.5)\n",
    "axarr[1].set_title('Rate vs. Verbal')\n",
    "axarr[2].scatter(scores_dict['Math'], scores_dict['Verbal'], alpha=0.5)\n",
    "axarr[2].set_title('Verbal vs. Math')"
   ]
  },
  {
   "cell_type": "code",
   "execution_count": 17,
   "metadata": {
    "collapsed": false
   },
   "outputs": [
    {
     "data": {
      "image/png": "[encoded data removed]",
      "text/plain": [
       "<matplotlib.figure.Figure at 0x103bd1810>"
      ]
     },
     "metadata": {},
     "output_type": "display_data"
    }
   ],
   "source": [
    "plt.scatter(scores_dict['Math'], scores_dict['Verbal'], alpha=0.5)\n",
    "plt.show()"
   ]
  },
  {
   "cell_type": "code",
   "execution_count": 18,
   "metadata": {
    "collapsed": false
   },
   "outputs": [
    {
     "data": {
      "image/png": "[encoded data removed]",
      "text/plain": [
       "<matplotlib.figure.Figure at 0x11a7958d0>"
      ]
     },
     "metadata": {},
     "output_type": "display_data"
    }
   ],
   "source": [
    "plt.scatter(scores_dict['Verbal'], scores_dict['Rate'], alpha=0.5)\n",
    "plt.show()"
   ]
  },
  {
   "cell_type": "code",
   "execution_count": 19,
   "metadata": {
    "collapsed": false
   },
   "outputs": [
    {
     "data": {
      "image/png": "[encoded data removed]",
      "text/plain": [
       "<matplotlib.figure.Figure at 0x11bb17610>"
      ]
     },
     "metadata": {},
     "output_type": "display_data"
    }
   ],
   "source": [
    "plt.scatter(scores_dict['Math'], scores_dict['Rate'], alpha=0.5)\n",
    "plt.show()"
   ]
  },
  {
   "cell_type": "markdown",
   "metadata": {},
   "source": [
    "##### 20. Are there any interesting relationships to note?"
   ]
  },
  {
   "cell_type": "markdown",
   "metadata": {
    "collapsed": false
   },
   "source": [
    "In the States which had lower participation rates, the students scored higher. This may be because only the most talented people actually sit for the test. As state participation rises, scores tend to be less varied. Not surprisingly, the relationship between the Math and Varbal scores seems to be highly correlated suggesting that if we know the value of 1 score, we can make a good estimation of the value of the 2nd score. "
   ]
  },
  {
   "cell_type": "markdown",
   "metadata": {},
   "source": [
    "##### 21. Create box plots for each variable. "
   ]
  },
  {
   "cell_type": "code",
   "execution_count": 20,
   "metadata": {
    "collapsed": false,
    "scrolled": true
   },
   "outputs": [
    {
     "data": {
      "text/plain": [
       "<matplotlib.text.Text at 0x11bcf5190>"
      ]
     },
     "execution_count": 20,
     "metadata": {},
     "output_type": "execute_result"
    },
    {
     "data": {
      "image/png": "[encoded data removed]",
      "text/plain": [
       "<matplotlib.figure.Figure at 0x11bccd890>"
      ]
     },
     "metadata": {},
     "output_type": "display_data"
    }
   ],
   "source": [
    "import seaborn as sns\n",
    "scores = scores_dict['Rate']\n",
    "sns.set_style(\"whitegrid\")\n",
    "\n",
    "#print scores\n",
    "fig, ax = plt.subplots(figsize=(3,5))\n",
    "ax = sns.boxplot(y=scores, showmeans=True)\n",
    "ax.set_title('Distribution of Rate', fontsize=18, y=1.01)\n",
    "ax.set_ylabel('Rate')\n"
   ]
  },
  {
   "cell_type": "code",
   "execution_count": 21,
   "metadata": {
    "collapsed": false,
    "scrolled": true
   },
   "outputs": [
    {
     "data": {
      "text/plain": [
       "<matplotlib.text.Text at 0x11bf2e7d0>"
      ]
     },
     "execution_count": 21,
     "metadata": {},
     "output_type": "execute_result"
    },
    {
     "data": {
      "image/png": "[encoded data removed]",
      "text/plain": [
       "<matplotlib.figure.Figure at 0x11bd30190>"
      ]
     },
     "metadata": {},
     "output_type": "display_data"
    }
   ],
   "source": [
    "import seaborn as sns\n",
    "scores = scores_dict['Verbal']\n",
    "sns.set_style(\"whitegrid\")\n",
    "#print scores\n",
    "fig, ax = plt.subplots(figsize=(3,5))\n",
    "ax = sns.boxplot(y=scores,showmeans=True)\n",
    "ax.set_title('Distribution of Verbal', fontsize=18, y=1.01)\n",
    "ax.set_ylabel('Verbal Score')\n"
   ]
  },
  {
   "cell_type": "code",
   "execution_count": 22,
   "metadata": {
    "collapsed": false
   },
   "outputs": [
    {
     "data": {
      "text/plain": [
       "<matplotlib.text.Text at 0x11c0e6a10>"
      ]
     },
     "execution_count": 22,
     "metadata": {},
     "output_type": "execute_result"
    },
    {
     "data": {
      "image/png": "[encoded data removed]",
      "text/plain": [
       "<matplotlib.figure.Figure at 0x11bff3510>"
      ]
     },
     "metadata": {},
     "output_type": "display_data"
    }
   ],
   "source": [
    "import seaborn as sns\n",
    "scores = scores_dict['Math']\n",
    "sns.set_style(\"whitegrid\")\n",
    "#print scores\n",
    "fig, ax = plt.subplots(figsize=(3,5))\n",
    "ax = sns.boxplot(y=scores, showmeans=True)\n",
    "ax.set_ylabel('Math Score')\n",
    "ax.set_title('Distribution of Math', fontsize=18, y=1.01)\n"
   ]
  },
  {
   "cell_type": "code",
   "execution_count": 23,
   "metadata": {
    "collapsed": false,
    "scrolled": true
   },
   "outputs": [
    {
     "ename": "ValueError",
     "evalue": "could not convert string to float: MS",
     "output_type": "error",
     "traceback": [
      "\u001b[0;31m---------------------------------------------------------------------------\u001b[0m",
      "\u001b[0;31mValueError\u001b[0m                                Traceback (most recent call last)",
      "\u001b[0;32m<ipython-input-23-28715a7e3f79>\u001b[0m in \u001b[0;36m<module>\u001b[0;34m()\u001b[0m\n\u001b[1;32m      7\u001b[0m \u001b[0max\u001b[0m\u001b[0;34m.\u001b[0m\u001b[0mset_xticklabels\u001b[0m\u001b[0;34m(\u001b[0m\u001b[0mlabels\u001b[0m\u001b[0;34m)\u001b[0m\u001b[0;34m\u001b[0m\u001b[0m\n\u001b[1;32m      8\u001b[0m \u001b[0max\u001b[0m \u001b[0;34m=\u001b[0m \u001b[0mplt\u001b[0m\u001b[0;34m.\u001b[0m\u001b[0mboxplot\u001b[0m\u001b[0;34m(\u001b[0m\u001b[0mdata\u001b[0m\u001b[0;34m,\u001b[0m \u001b[0mshowmeans\u001b[0m\u001b[0;34m=\u001b[0m\u001b[0mTrue\u001b[0m\u001b[0;34m)\u001b[0m\u001b[0;34m\u001b[0m\u001b[0m\n\u001b[0;32m----> 9\u001b[0;31m \u001b[0mplt\u001b[0m\u001b[0;34m.\u001b[0m\u001b[0mxticks\u001b[0m\u001b[0;34m(\u001b[0m\u001b[0mx\u001b[0m\u001b[0;34m,\u001b[0m \u001b[0mlabels\u001b[0m\u001b[0;34m)\u001b[0m\u001b[0;34m\u001b[0m\u001b[0m\n\u001b[0m\u001b[1;32m     10\u001b[0m \u001b[0mplt\u001b[0m\u001b[0;34m.\u001b[0m\u001b[0mshow\u001b[0m\u001b[0;34m(\u001b[0m\u001b[0;34m)\u001b[0m\u001b[0;34m\u001b[0m\u001b[0m\n\u001b[1;32m     11\u001b[0m \u001b[0;34m\u001b[0m\u001b[0m\n",
      "\u001b[0;32m/Applications/anaconda/anaconda/lib/python2.7/site-packages/matplotlib/pyplot.pyc\u001b[0m in \u001b[0;36mxticks\u001b[0;34m(*args, **kwargs)\u001b[0m\n\u001b[1;32m   1680\u001b[0m         \u001b[0mlabels\u001b[0m \u001b[0;34m=\u001b[0m \u001b[0max\u001b[0m\u001b[0;34m.\u001b[0m\u001b[0mget_xticklabels\u001b[0m\u001b[0;34m(\u001b[0m\u001b[0;34m)\u001b[0m\u001b[0;34m\u001b[0m\u001b[0m\n\u001b[1;32m   1681\u001b[0m     \u001b[0;32melif\u001b[0m \u001b[0mlen\u001b[0m\u001b[0;34m(\u001b[0m\u001b[0margs\u001b[0m\u001b[0;34m)\u001b[0m\u001b[0;34m==\u001b[0m\u001b[0;36m2\u001b[0m\u001b[0;34m:\u001b[0m\u001b[0;34m\u001b[0m\u001b[0m\n\u001b[0;32m-> 1682\u001b[0;31m         \u001b[0mlocs\u001b[0m \u001b[0;34m=\u001b[0m \u001b[0max\u001b[0m\u001b[0;34m.\u001b[0m\u001b[0mset_xticks\u001b[0m\u001b[0;34m(\u001b[0m\u001b[0margs\u001b[0m\u001b[0;34m[\u001b[0m\u001b[0;36m0\u001b[0m\u001b[0;34m]\u001b[0m\u001b[0;34m)\u001b[0m\u001b[0;34m\u001b[0m\u001b[0m\n\u001b[0m\u001b[1;32m   1683\u001b[0m         \u001b[0mlabels\u001b[0m \u001b[0;34m=\u001b[0m \u001b[0max\u001b[0m\u001b[0;34m.\u001b[0m\u001b[0mset_xticklabels\u001b[0m\u001b[0;34m(\u001b[0m\u001b[0margs\u001b[0m\u001b[0;34m[\u001b[0m\u001b[0;36m1\u001b[0m\u001b[0;34m]\u001b[0m\u001b[0;34m,\u001b[0m \u001b[0;34m**\u001b[0m\u001b[0mkwargs\u001b[0m\u001b[0;34m)\u001b[0m\u001b[0;34m\u001b[0m\u001b[0m\n\u001b[1;32m   1684\u001b[0m     \u001b[0;32melse\u001b[0m\u001b[0;34m:\u001b[0m \u001b[0;32mraise\u001b[0m \u001b[0mTypeError\u001b[0m\u001b[0;34m(\u001b[0m\u001b[0;34m'Illegal number of arguments to xticks'\u001b[0m\u001b[0;34m)\u001b[0m\u001b[0;34m\u001b[0m\u001b[0m\n",
      "\u001b[0;32m/Applications/anaconda/anaconda/lib/python2.7/site-packages/matplotlib/axes/_base.pyc\u001b[0m in \u001b[0;36mset_xticks\u001b[0;34m(self, ticks, minor)\u001b[0m\n\u001b[1;32m   2843\u001b[0m         \u001b[0mACCEPTS\u001b[0m\u001b[0;34m:\u001b[0m \u001b[0msequence\u001b[0m \u001b[0mof\u001b[0m \u001b[0mfloats\u001b[0m\u001b[0;34m\u001b[0m\u001b[0m\n\u001b[1;32m   2844\u001b[0m         \"\"\"\n\u001b[0;32m-> 2845\u001b[0;31m         \u001b[0mret\u001b[0m \u001b[0;34m=\u001b[0m \u001b[0mself\u001b[0m\u001b[0;34m.\u001b[0m\u001b[0mxaxis\u001b[0m\u001b[0;34m.\u001b[0m\u001b[0mset_ticks\u001b[0m\u001b[0;34m(\u001b[0m\u001b[0mticks\u001b[0m\u001b[0;34m,\u001b[0m \u001b[0mminor\u001b[0m\u001b[0;34m=\u001b[0m\u001b[0mminor\u001b[0m\u001b[0;34m)\u001b[0m\u001b[0;34m\u001b[0m\u001b[0m\n\u001b[0m\u001b[1;32m   2846\u001b[0m         \u001b[0mself\u001b[0m\u001b[0;34m.\u001b[0m\u001b[0mstale\u001b[0m \u001b[0;34m=\u001b[0m \u001b[0mTrue\u001b[0m\u001b[0;34m\u001b[0m\u001b[0m\n\u001b[1;32m   2847\u001b[0m         \u001b[0;32mreturn\u001b[0m \u001b[0mret\u001b[0m\u001b[0;34m\u001b[0m\u001b[0m\n",
      "\u001b[0;32m/Applications/anaconda/anaconda/lib/python2.7/site-packages/matplotlib/axis.pyc\u001b[0m in \u001b[0;36mset_ticks\u001b[0;34m(self, ticks, minor)\u001b[0m\n\u001b[1;32m   1598\u001b[0m             \u001b[0mxleft\u001b[0m\u001b[0;34m,\u001b[0m \u001b[0mxright\u001b[0m \u001b[0;34m=\u001b[0m \u001b[0mself\u001b[0m\u001b[0;34m.\u001b[0m\u001b[0mget_view_interval\u001b[0m\u001b[0;34m(\u001b[0m\u001b[0;34m)\u001b[0m\u001b[0;34m\u001b[0m\u001b[0m\n\u001b[1;32m   1599\u001b[0m             \u001b[0;32mif\u001b[0m \u001b[0mxright\u001b[0m \u001b[0;34m>\u001b[0m \u001b[0mxleft\u001b[0m\u001b[0;34m:\u001b[0m\u001b[0;34m\u001b[0m\u001b[0m\n\u001b[0;32m-> 1600\u001b[0;31m                 \u001b[0mself\u001b[0m\u001b[0;34m.\u001b[0m\u001b[0mset_view_interval\u001b[0m\u001b[0;34m(\u001b[0m\u001b[0mmin\u001b[0m\u001b[0;34m(\u001b[0m\u001b[0mticks\u001b[0m\u001b[0;34m)\u001b[0m\u001b[0;34m,\u001b[0m \u001b[0mmax\u001b[0m\u001b[0;34m(\u001b[0m\u001b[0mticks\u001b[0m\u001b[0;34m)\u001b[0m\u001b[0;34m)\u001b[0m\u001b[0;34m\u001b[0m\u001b[0m\n\u001b[0m\u001b[1;32m   1601\u001b[0m             \u001b[0;32melse\u001b[0m\u001b[0;34m:\u001b[0m\u001b[0;34m\u001b[0m\u001b[0m\n\u001b[1;32m   1602\u001b[0m                 \u001b[0mself\u001b[0m\u001b[0;34m.\u001b[0m\u001b[0mset_view_interval\u001b[0m\u001b[0;34m(\u001b[0m\u001b[0mmax\u001b[0m\u001b[0;34m(\u001b[0m\u001b[0mticks\u001b[0m\u001b[0;34m)\u001b[0m\u001b[0;34m,\u001b[0m \u001b[0mmin\u001b[0m\u001b[0;34m(\u001b[0m\u001b[0mticks\u001b[0m\u001b[0;34m)\u001b[0m\u001b[0;34m)\u001b[0m\u001b[0;34m\u001b[0m\u001b[0m\n",
      "\u001b[0;32m/Applications/anaconda/anaconda/lib/python2.7/site-packages/matplotlib/axis.pyc\u001b[0m in \u001b[0;36mset_view_interval\u001b[0;34m(self, vmin, vmax, ignore)\u001b[0m\n\u001b[1;32m   1930\u001b[0m             \u001b[0;32mif\u001b[0m \u001b[0mVmin\u001b[0m \u001b[0;34m<\u001b[0m \u001b[0mVmax\u001b[0m\u001b[0;34m:\u001b[0m\u001b[0;34m\u001b[0m\u001b[0m\n\u001b[1;32m   1931\u001b[0m                 self.axes.viewLim.intervalx = (min(vmin, vmax, Vmin),\n\u001b[0;32m-> 1932\u001b[0;31m                                                max(vmin, vmax, Vmax))\n\u001b[0m\u001b[1;32m   1933\u001b[0m             \u001b[0;32melse\u001b[0m\u001b[0;34m:\u001b[0m\u001b[0;34m\u001b[0m\u001b[0m\n\u001b[1;32m   1934\u001b[0m                 self.axes.viewLim.intervalx = (max(vmin, vmax, Vmin),\n",
      "\u001b[0;32m/Applications/anaconda/anaconda/lib/python2.7/site-packages/matplotlib/transforms.pyc\u001b[0m in \u001b[0;36m_set_intervalx\u001b[0;34m(self, interval)\u001b[0m\n\u001b[1;32m    986\u001b[0m \u001b[0;34m\u001b[0m\u001b[0m\n\u001b[1;32m    987\u001b[0m     \u001b[0;32mdef\u001b[0m \u001b[0m_set_intervalx\u001b[0m\u001b[0;34m(\u001b[0m\u001b[0mself\u001b[0m\u001b[0;34m,\u001b[0m \u001b[0minterval\u001b[0m\u001b[0;34m)\u001b[0m\u001b[0;34m:\u001b[0m\u001b[0;34m\u001b[0m\u001b[0m\n\u001b[0;32m--> 988\u001b[0;31m         \u001b[0mself\u001b[0m\u001b[0;34m.\u001b[0m\u001b[0m_points\u001b[0m\u001b[0;34m[\u001b[0m\u001b[0;34m:\u001b[0m\u001b[0;34m,\u001b[0m \u001b[0;36m0\u001b[0m\u001b[0;34m]\u001b[0m \u001b[0;34m=\u001b[0m \u001b[0minterval\u001b[0m\u001b[0;34m\u001b[0m\u001b[0m\n\u001b[0m\u001b[1;32m    989\u001b[0m         \u001b[0mself\u001b[0m\u001b[0;34m.\u001b[0m\u001b[0minvalidate\u001b[0m\u001b[0;34m(\u001b[0m\u001b[0;34m)\u001b[0m\u001b[0;34m\u001b[0m\u001b[0m\n\u001b[1;32m    990\u001b[0m     \u001b[0mintervalx\u001b[0m \u001b[0;34m=\u001b[0m \u001b[0mproperty\u001b[0m\u001b[0;34m(\u001b[0m\u001b[0mBboxBase\u001b[0m\u001b[0;34m.\u001b[0m\u001b[0m_get_intervalx\u001b[0m\u001b[0;34m,\u001b[0m \u001b[0m_set_intervalx\u001b[0m\u001b[0;34m)\u001b[0m\u001b[0;34m\u001b[0m\u001b[0m\n",
      "\u001b[0;31mValueError\u001b[0m: could not convert string to float: MS"
     ]
    },
    {
     "data": {
      "image/png": "[encoded data removed]",
      "text/plain": [
       "<matplotlib.figure.Figure at 0x11c0cabd0>"
      ]
     },
     "metadata": {},
     "output_type": "display_data"
    }
   ],
   "source": [
    "scoresM = scores_dict['Math']\n",
    "scoresV = scores_dict['Verbal']\n",
    "data = [scoresM, scoresV]\n",
    "\n",
    "fig, ax = plt.subplots(figsize=(3,5))\n",
    "labels = ['','Math','Verbal']\n",
    "ax.set_xticklabels(labels)\n",
    "ax = plt.boxplot(data, showmeans=True)\n",
    "plt.xticks(x, labels)\n",
    "plt.show()\n",
    "\n"
   ]
  },
  {
   "cell_type": "markdown",
   "metadata": {},
   "source": [
    "##### BONUS: Using Tableau, create a heat map for each variable using a map of the US. "
   ]
  },
  {
   "cell_type": "markdown",
   "metadata": {
    "collapsed": true
   },
   "source": [
    "![](./tableau_math.png \"Math Scores\")\n",
    "![](./tableau_verbal.png \"Verbal Scores\")\n",
    "![](./tableau_rate1.png \"Participation Rate\")\n"
   ]
  }
 ],
 "metadata": {
  "anaconda-cloud": {},
  "celltoolbar": "Raw Cell Format",
  "kernelspec": {
   "display_name": "Python [Root]",
   "language": "python",
   "name": "Python [Root]"
  },
  "language_info": {
   "codemirror_mode": {
    "name": "ipython",
    "version": 2
   },
   "file_extension": ".py",
   "mimetype": "text/x-python",
   "name": "python",
   "nbconvert_exporter": "python",
   "pygments_lexer": "ipython2",
   "version": "2.7.12"
  }
 },
 "nbformat": 4,
 "nbformat_minor": 0
}
