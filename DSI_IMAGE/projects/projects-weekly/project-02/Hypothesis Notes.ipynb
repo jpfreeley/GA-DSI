{
 "cells": [
  {
   "cell_type": "markdown",
   "metadata": {},
   "source": [
    "Needed for Reproduction\n",
    "=======================\n",
    "\n",
    "+ Detail on Control Group\n",
    "+ Observational Methods\n",
    "+ Sample Size/Composition\n",
    "+ Treatment of Outliers\n",
    "+ Definitions\n",
    "+ Hypothesis - how you arrived at it\n",
    "+ Assumptions\n",
    "+ OS and versions - software/computers\n",
    "+ Something new\n",
    "\n",
    "Hypothesis: \n",
    "------------\n",
    "\n",
    "+ A song less than 3:30 has a higher chance of breaking into Top 10 than a longer song.\n",
    "+ songs that entered the Top 100 during X season are more likely to stay in Top100 longer\n",
    "+ An artist that has been in Top100 once has greater chance of breaking into Top 10\n",
    "+ Group dynamics .. individual artist vs. same artist in group\n",
    "+ is meteoric rise based on Genre?\n",
    "\n",
    "Function: Melt\n",
    "\n",
    "Fundamental Problems with Billboard data ??\n",
    "\n",
    "+ http://kosu.org/post/commerce-vs-consumption-revolutionary-rethink-billboards-album-chart \n",
    "+ http://www.modestinsights.com/analyzing-the-billboard-hot-100/\n",
    "\n",
    "## Characteristics of a good tests\n",
    "- Specific: The question and key success metrics are clearly defined\n",
    "- Measurable: The question is one that can be measured with your data\n",
    "- Attainable: The question you are asking is possible to answer with the data you can collect\n",
    "- Reproducible: Another person (or you in 6 months!) can replicate your analysis\n",
    "- Time-bound: The question can be answered given real-world constraints of time and money"
   ]
  }
 ],
 "metadata": {
  "anaconda-cloud": {},
  "kernelspec": {
   "display_name": "Python [Root]",
   "language": "python",
   "name": "Python [Root]"
  },
  "language_info": {
   "codemirror_mode": {
    "name": "ipython",
    "version": 2
   },
   "file_extension": ".py",
   "mimetype": "text/x-python",
   "name": "python",
   "nbconvert_exporter": "python",
   "pygments_lexer": "ipython2",
   "version": "2.7.12"
  }
 },
 "nbformat": 4,
 "nbformat_minor": 0
}
