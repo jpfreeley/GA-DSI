{
 "cells": [
  {
   "cell_type": "markdown",
   "metadata": {},
   "source": [
    "# ![](https://ga-dash.s3.amazonaws.com/production/assets/logo-9f88ae6c9c3871690e33280fcf557f33.png) PROJECT 2 RUBRIC\n",
    "Data Science Immersive | Project 2\t \t\t\t\t\t\t\n",
    "\n",
    "Your project will be assessed using the following standards, [derived from the data science workflow](../../../../resources/syllabus/DSI-workflow-v1.pdf):\n",
    "\n",
    "- [ ] Identify problem\n",
    "- [ ] Acquire Data\n",
    "- [ ] Parse Data\n",
    "- [ ] Mine Data\n",
    "- [ ] Refine Data\n",
    "- [ ] Present Results\n",
    "\n",
    "Acceptable performance for these standards is based on how well you've performed the specific requirements listed below.\n",
    "\n",
    "---\n",
    "\n",
    "### Performance Evaluation\n",
    "\n",
    "| Requirements | Incomplete (0) | Does Not Meet Expectations (1) | Meets Expectations (2) | Exceeds Expectations (3) |\n",
    "|---|---|---|---|---|\n",
    "| Identify: Problem Statement / Hypothesis | | | | n/a |\n",
    "| Identify: Risks & Assumptions | | | | n/a  |\n",
    "| Acquire: Import Data Using Pandas | | | | n/a |\n",
    "| Parse: Perform EDA Using Pandas | | | | n/a |\n",
    "| Mine: Plot Data & Generate Visuals | | | | n/a |\n",
    "| Mine: Determine Correlations | | | | n/a |\n",
    "| Refine: Evaluate Findings | | | | n/a |\n",
    "| Present: Describe Results in Blog Post | | | | |\n",
    "| *Bonus! Present: Write a short White Paper* | | | | |\n",
    "\n",
    "\n",
    "- Notes:\n",
    "\n",
    "---\n",
    "\n",
    "## Score:\n",
    "Based on the requirements, you can earn a maximum of  **20**  points on this project. Your score is: **#**\n",
    "\n",
    "- Remember, your total score is helpful as a gauge of how well you met the project requirements, but use the individual standards and instructor feedback to help iterate and improve on your projects!\n",
    "\n",
    "---\n",
    "\n",
    "## PROGRESS REPORT\n",
    "**Student Check-in:**\n",
    "\n",
    "|WHAT’S GOING WELL?|STRUGGLES|DEVELOPMENT PLAN|\n",
    "|---|---|---|\n",
    "| | | |\n"
   ]
  }
 ],
 "metadata": {
  "kernelspec": {
   "display_name": "Python [Root]",
   "language": "python",
   "name": "Python [Root]"
  },
  "language_info": {
   "codemirror_mode": {
    "name": "ipython",
    "version": 2
   },
   "file_extension": ".py",
   "mimetype": "text/x-python",
   "name": "python",
   "nbconvert_exporter": "python",
   "pygments_lexer": "ipython2",
   "version": "2.7.12"
  }
 },
 "nbformat": 4,
 "nbformat_minor": 0
}
