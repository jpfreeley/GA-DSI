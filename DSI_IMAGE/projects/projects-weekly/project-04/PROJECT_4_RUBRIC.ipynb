{
 "cells": [
  {
   "cell_type": "markdown",
   "metadata": {},
   "source": [
    "# ![](https://ga-dash.s3.amazonaws.com/production/assets/logo-9f88ae6c9c3871690e33280fcf557f33.png) PROJECT 4 RUBRIC\n",
    "Data Science Immersive | Project 4\t \t\t\t\t\t\t\n",
    "\n",
    "Your project will be assessed using the following standards:\n",
    "\n",
    "- [ ] Identify Problem\n",
    "- [ ] Acquire Data\n",
    "- [ ] Parse Data\n",
    "- [ ] Mine Data\n",
    "- [ ] Refine Data\t\t\n",
    "- [ ] Model Data\n",
    "- [ ] Present Results\n",
    "\n",
    "Acceptable performance for these standards is based on how well you've performed the specific requirements listed below.\n",
    "\n",
    "---\n",
    "\n",
    "### Performance Evaluation\n",
    "\n",
    "| Requirements | Incomplete (0) | Does Not Meet Expectations (1) | Meets Expectations (2) | Exceeds Expectations (3) |\n",
    "|---|---|---|---|---|\n",
    "| Identify: Problem Statement / Aim | | | | n/a |\n",
    "| Acquire: Import Data Using Requests + BeautifulSoup | | | | n/a |\n",
    "| Parse: Clean & Organize Data | | | | n/a |\n",
    "| Model: Perform Logistic Regression | | | | n/a |\n",
    "| Evaluate: Logistic Regression | | | | *Bonus*: Countvectorizer, Regularization Parameters  |\n",
    "| Present: Write a report for your audience addressing findings & recommendations | | | | n\\a |\n",
    "| *Bonus! Present: Create blog post summary* | | | | n\\a |\n",
    "\n",
    "---\n",
    "\n",
    "## Score:\n",
    "Based on the requirements, you can earn a maximum of  **15**  points on this project. Your score is: **#**\n",
    "\n",
    "- Remember, your total score is helpful as a gauge of how well you met the project requirements, but use the individual standards and instructor feedback to help iterate and improve on your projects!\n",
    "\n",
    "---\n",
    "\n",
    "## PROGRESS REPORT\n",
    "**Student Check-in:**\n",
    "\n",
    "|WHAT’S GOING WELL?|STRUGGLES|DEVELOPMENT PLAN|\n",
    "|---|---|---|\n",
    "| | | |\n"
   ]
  }
 ],
 "metadata": {
  "anaconda-cloud": {},
  "kernelspec": {
   "display_name": "Python [default]",
   "language": "python",
   "name": "python2"
  },
  "language_info": {
   "codemirror_mode": {
    "name": "ipython",
    "version": 2
   },
   "file_extension": ".py",
   "mimetype": "text/x-python",
   "name": "python",
   "nbconvert_exporter": "python",
   "pygments_lexer": "ipython2",
   "version": "2.7.12"
  }
 },
 "nbformat": 4,
 "nbformat_minor": 1
}
