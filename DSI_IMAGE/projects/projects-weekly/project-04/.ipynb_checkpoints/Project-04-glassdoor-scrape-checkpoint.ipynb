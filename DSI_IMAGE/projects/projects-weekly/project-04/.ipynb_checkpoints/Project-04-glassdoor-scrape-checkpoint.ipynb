{
 "cells": [
  {
   "cell_type": "code",
   "execution_count": 13,
   "metadata": {
    "ExecuteTime": {
     "end_time": "2016-10-13T22:21:31.363761",
     "start_time": "2016-10-13T22:21:31.351942"
    },
    "collapsed": false
   },
   "outputs": [
    {
     "name": "stdout",
     "output_type": "stream",
     "text": [
      "['data%20scientist']\n"
     ]
    }
   ],
   "source": [
    "from selenium import webdriver\n",
    "import urllib\n",
    "\n",
    "#https://www.glassdoor.com/Job/jobs.htm?sc.keyword=data%20scientist\n",
    "\n",
    "\n",
    "kw_list = ['data scientist', 'big data', 'senior data scientist', 'data scientist intern', \\\n",
    "           'data mining scientist', 'quantitative analyst', 'data analyst', 'machine learning',\\\n",
    "           'statistics', 'data mining', 'statistician']\n",
    "kw_list = ['data scientist']\n",
    "keyword = [urllib.quote(i) for i in kw_list]\n",
    "print keyword"
   ]
  },
  {
   "cell_type": "code",
   "execution_count": 14,
   "metadata": {
    "ExecuteTime": {
     "end_time": "2016-10-13T22:21:32.799975",
     "start_time": "2016-10-13T22:21:32.793438"
    },
    "collapsed": true
   },
   "outputs": [],
   "source": [
    "from selenium.webdriver.common.desired_capabilities import DesiredCapabilities\n",
    "\n",
    "dcap = dict(DesiredCapabilities.PHANTOMJS)\n",
    "dcap[\"phantomjs.page.settings.userAgent\"] = (\n",
    "    \"Mozilla/5.0 (Macintosh; Intel Mac OS X 10_12_0) AppleWebKit/537.36 (KHTML, like Gecko) Chrome/53.0.2785.143 Safari/537.36\"\n",
    ")"
   ]
  },
  {
   "cell_type": "code",
   "execution_count": 15,
   "metadata": {
    "ExecuteTime": {
     "end_time": "2016-10-13T22:21:37.211278",
     "start_time": "2016-10-13T22:21:33.778445"
    },
    "collapsed": false,
    "scrolled": true
   },
   "outputs": [],
   "source": [
    "driver = webdriver.PhantomJS(executable_path='/Applications/anaconda/anaconda/bin/phantomJS', desired_capabilities=dcap)\n",
    "driver.set_window_size(1024, 768) \n",
    "driver.get('https://www.glassdoor.com/Job/jobs.htm?sc.keyword='+keyword.pop())\n",
    "page_html = driver.page_source"
   ]
  },
  {
   "cell_type": "code",
   "execution_count": 16,
   "metadata": {
    "ExecuteTime": {
     "end_time": "2016-10-13T22:21:52.494621",
     "start_time": "2016-10-13T22:21:52.487050"
    },
    "collapsed": false
   },
   "outputs": [
    {
     "data": {
      "text/plain": [
       "u'<!DOCTYPE html><html><head>\\n<meta name=\"ROBOTS\" content=\"NOINDEX, NOFOLLOW\">\\n<meta http-equiv=\"cache-control\" content=\"max-age=0\">\\n<meta http-equiv=\"cache-control\" content=\"no-cache\">\\n<meta http-equiv=\"expires\" content=\"0\">\\n<meta http-equiv=\"expires\" content=\"Tue, 01 Jan 1980 1:00:00 GMT\">\\n<meta http-equiv=\"pragma\" content=\"no-cache\">\\n<meta http-equiv=\"refresh\" content=\"10; url=/distil_r_captcha.html?Ref=/Job/jobs.htm?sc.keyword=data%20scientist&amp;distil_RID=E04389D8-91B4-11E6-9C76-C1ADE682F93E&amp;distil_TID=20161014022112\">\\n<script type=\"text/javascript\">\\n\\t(function(window){\\n\\t\\ttry {\\n\\t\\t\\tif (typeof sessionStorage !== \\'undefined\\'){\\n\\t\\t\\t\\tsessionStorage.setItem(\\'distil_referrer\\', document.referrer);\\n\\t\\t\\t}\\n\\t\\t} catch (e){}\\n\\t})(window);\\n</script>\\n<script type=\"text/javascript\" src=\"/glass.qqqqyrw.js\" defer=\"\"></script><style type=\"text/css\">#d__fFH{position:absolute;top:-5000px;left:-5000px}#d__fF{font-family:serif;font-size:200px;visibility:hidden}#ubvfduwvedutecexvwsbb{display:none!important}</style></head>\\n<body>\\n<div id=\"distil_ident_block\">&nbsp;</div>\\n\\n\\n<div id=\"d__fFH\" style=\"position: absolute; top: -5000px; left: -5000px;\">object id=\"d_dlg\" classid=\"clsid:3050f819-98b5-11cf-bb82-00aa00bdce0b\" width=\"0px\" height=\"0px\"&gt;<span id=\"d__fF\" style=\"font-family: ZWAdobeF, serif; font-size: 72px; visibility: hidden;\">mmmmmmmmlli</span></div></body></html>'"
      ]
     },
     "execution_count": 16,
     "metadata": {},
     "output_type": "execute_result"
    }
   ],
   "source": [
    "page_html"
   ]
  },
  {
   "cell_type": "code",
   "execution_count": null,
   "metadata": {
    "collapsed": true
   },
   "outputs": [],
   "source": []
  },
  {
   "cell_type": "code",
   "execution_count": null,
   "metadata": {
    "collapsed": true
   },
   "outputs": [],
   "source": [
    "from bs4 import BeautifulSoup\n",
    "soup = BeautifulSoup(page_html, \"lxml\")\n",
    "\n",
    "html_dict = {}\n",
    "for link in soup.findAll(class_='r'): \n",
    "    print link,\"\\n\"\n",
    "    for href in link.findAll('a'): \n",
    "        print \"HREF\", href\n",
    "        text = link.text\n",
    "        a_link = href['href']\n",
    "        html_dict.update({text:a_link})\n",
    "dict_df = pd.DataFrame(html_dict.items(), columns=['txt', 'link'])\n",
    "dict_df"
   ]
  }
 ],
 "metadata": {
  "kernelspec": {
   "display_name": "Python [default]",
   "language": "python",
   "name": "python2"
  },
  "language_info": {
   "codemirror_mode": {
    "name": "ipython",
    "version": 2
   },
   "file_extension": ".py",
   "mimetype": "text/x-python",
   "name": "python",
   "nbconvert_exporter": "python",
   "pygments_lexer": "ipython2",
   "version": "2.7.12"
  }
 },
 "nbformat": 4,
 "nbformat_minor": 1
}
