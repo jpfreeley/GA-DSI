{
 "cells": [
  {
   "cell_type": "code",
   "execution_count": 30,
   "metadata": {
    "ExecuteTime": {
     "end_time": "2016-10-14T08:18:35.541745",
     "start_time": "2016-10-14T08:17:52.295856"
    },
    "collapsed": true
   },
   "outputs": [],
   "source": [
    "import time\n",
    "from selenium import webdriver\n",
    "\n",
    "driver = webdriver.Chrome('/Users/jfreeley/Downloads/chromedriver')  # Optional argument, if not specified will search path.\n",
    "driver.get('http://www.google.com/xhtml');\n",
    "time.sleep(5) # Let the user actually see something!\n",
    "search_box = driver.find_element_by_name('q')\n",
    "search_box.send_keys('ChromeDriver')\n",
    "search_box.submit()\n",
    "time.sleep(5) # Let the user actually see something!\n",
    "driver.quit()"
   ]
  },
  {
   "cell_type": "code",
   "execution_count": 27,
   "metadata": {
    "ExecuteTime": {
     "end_time": "2016-10-14T08:12:46.634089",
     "start_time": "2016-10-14T08:12:46.620185"
    },
    "collapsed": false
   },
   "outputs": [
    {
     "name": "stdout",
     "output_type": "stream",
     "text": [
      "['data%20scientist']\n"
     ]
    }
   ],
   "source": [
    "from selenium import webdriver\n",
    "import urllib\n",
    "\n",
    "#https://www.glassdoor.com/Job/jobs.htm?sc.keyword=data%20scientist\n",
    "\n",
    "\n",
    "kw_list = ['data scientist', 'big data', 'senior data scientist', 'data scientist intern', \\\n",
    "           'data mining scientist', 'quantitative analyst', 'data analyst', 'machine learning',\\\n",
    "           'statistics', 'data mining', 'statistician']\n",
    "kw_list = ['data scientist']\n",
    "keyword = [urllib.quote(i) for i in kw_list]\n",
    "print keyword"
   ]
  },
  {
   "cell_type": "code",
   "execution_count": 28,
   "metadata": {
    "ExecuteTime": {
     "end_time": "2016-10-14T08:12:47.503199",
     "start_time": "2016-10-14T08:12:47.496276"
    },
    "collapsed": true
   },
   "outputs": [],
   "source": [
    "from selenium.webdriver.common.desired_capabilities import DesiredCapabilities\n",
    "\n",
    "dcap = dict(DesiredCapabilities.PHANTOMJS)\n",
    "dcap[\"phantomjs.page.settings.userAgent\"] = (\n",
    "    \"Mozilla/5.0 (Macintosh; Intel Mac OS X 10_12_0) AppleWebKit/537.36 (KHTML, like Gecko) Chrome/53.0.2785.143 Safari/537.36\"\n",
    ")"
   ]
  },
  {
   "cell_type": "code",
   "execution_count": 29,
   "metadata": {
    "ExecuteTime": {
     "end_time": "2016-10-14T08:13:14.304310",
     "start_time": "2016-10-14T08:12:48.828230"
    },
    "collapsed": false,
    "scrolled": true
   },
   "outputs": [
    {
     "ename": "KeyboardInterrupt",
     "evalue": "",
     "output_type": "error",
     "traceback": [
      "\u001b[0;31m---------------------------------------------------------------------------\u001b[0m",
      "\u001b[0;31mKeyboardInterrupt\u001b[0m                         Traceback (most recent call last)",
      "\u001b[0;32m<ipython-input-29-7e8c2d761bf0>\u001b[0m in \u001b[0;36m<module>\u001b[0;34m()\u001b[0m\n\u001b[0;32m----> 1\u001b[0;31m \u001b[0mdriver\u001b[0m \u001b[0;34m=\u001b[0m \u001b[0mwebdriver\u001b[0m\u001b[0;34m.\u001b[0m\u001b[0mPhantomJS\u001b[0m\u001b[0;34m(\u001b[0m\u001b[0mexecutable_path\u001b[0m\u001b[0;34m=\u001b[0m\u001b[0;34m'/Users/jfreeley/Downloads/chromedriver'\u001b[0m\u001b[0;34m,\u001b[0m \u001b[0mdesired_capabilities\u001b[0m\u001b[0;34m=\u001b[0m\u001b[0mdcap\u001b[0m\u001b[0;34m)\u001b[0m\u001b[0;34m\u001b[0m\u001b[0m\n\u001b[0m\u001b[1;32m      2\u001b[0m \u001b[0mdriver\u001b[0m\u001b[0;34m.\u001b[0m\u001b[0mset_window_size\u001b[0m\u001b[0;34m(\u001b[0m\u001b[0;36m1024\u001b[0m\u001b[0;34m,\u001b[0m \u001b[0;36m768\u001b[0m\u001b[0;34m)\u001b[0m\u001b[0;34m\u001b[0m\u001b[0m\n\u001b[1;32m      3\u001b[0m \u001b[0mdriver\u001b[0m\u001b[0;34m.\u001b[0m\u001b[0mget\u001b[0m\u001b[0;34m(\u001b[0m\u001b[0;34m'https://www.glassdoor.com/Job/jobs.htm?sc.keyword='\u001b[0m\u001b[0;34m+\u001b[0m\u001b[0mkeyword\u001b[0m\u001b[0;34m.\u001b[0m\u001b[0mpop\u001b[0m\u001b[0;34m(\u001b[0m\u001b[0;34m)\u001b[0m\u001b[0;34m)\u001b[0m\u001b[0;34m\u001b[0m\u001b[0m\n\u001b[1;32m      4\u001b[0m \u001b[0mpage_html\u001b[0m \u001b[0;34m=\u001b[0m \u001b[0mdriver\u001b[0m\u001b[0;34m.\u001b[0m\u001b[0mpage_source\u001b[0m\u001b[0;34m\u001b[0m\u001b[0m\n",
      "\u001b[0;32m/Applications/anaconda/anaconda/lib/python2.7/site-packages/selenium/webdriver/phantomjs/webdriver.pyc\u001b[0m in \u001b[0;36m__init__\u001b[0;34m(self, executable_path, port, desired_capabilities, service_args, service_log_path)\u001b[0m\n\u001b[1;32m     50\u001b[0m             \u001b[0mservice_args\u001b[0m\u001b[0;34m=\u001b[0m\u001b[0mservice_args\u001b[0m\u001b[0;34m,\u001b[0m\u001b[0;34m\u001b[0m\u001b[0m\n\u001b[1;32m     51\u001b[0m             log_path=service_log_path)\n\u001b[0;32m---> 52\u001b[0;31m         \u001b[0mself\u001b[0m\u001b[0;34m.\u001b[0m\u001b[0mservice\u001b[0m\u001b[0;34m.\u001b[0m\u001b[0mstart\u001b[0m\u001b[0;34m(\u001b[0m\u001b[0;34m)\u001b[0m\u001b[0;34m\u001b[0m\u001b[0m\n\u001b[0m\u001b[1;32m     53\u001b[0m \u001b[0;34m\u001b[0m\u001b[0m\n\u001b[1;32m     54\u001b[0m         \u001b[0;32mtry\u001b[0m\u001b[0;34m:\u001b[0m\u001b[0;34m\u001b[0m\u001b[0m\n",
      "\u001b[0;32m/Applications/anaconda/anaconda/lib/python2.7/site-packages/selenium/webdriver/common/service.pyc\u001b[0m in \u001b[0;36mstart\u001b[0;34m(self)\u001b[0m\n\u001b[1;32m     88\u001b[0m                 \u001b[0;32mbreak\u001b[0m\u001b[0;34m\u001b[0m\u001b[0m\n\u001b[1;32m     89\u001b[0m             \u001b[0mcount\u001b[0m \u001b[0;34m+=\u001b[0m \u001b[0;36m1\u001b[0m\u001b[0;34m\u001b[0m\u001b[0m\n\u001b[0;32m---> 90\u001b[0;31m             \u001b[0mtime\u001b[0m\u001b[0;34m.\u001b[0m\u001b[0msleep\u001b[0m\u001b[0;34m(\u001b[0m\u001b[0;36m1\u001b[0m\u001b[0;34m)\u001b[0m\u001b[0;34m\u001b[0m\u001b[0m\n\u001b[0m\u001b[1;32m     91\u001b[0m             \u001b[0;32mif\u001b[0m \u001b[0mcount\u001b[0m \u001b[0;34m==\u001b[0m \u001b[0;36m30\u001b[0m\u001b[0;34m:\u001b[0m\u001b[0;34m\u001b[0m\u001b[0m\n\u001b[1;32m     92\u001b[0m                 \u001b[0;32mraise\u001b[0m \u001b[0mWebDriverException\u001b[0m\u001b[0;34m(\u001b[0m\u001b[0;34m\"Can not connect to the Service %s\"\u001b[0m \u001b[0;34m%\u001b[0m \u001b[0mself\u001b[0m\u001b[0;34m.\u001b[0m\u001b[0mpath\u001b[0m\u001b[0;34m)\u001b[0m\u001b[0;34m\u001b[0m\u001b[0m\n",
      "\u001b[0;31mKeyboardInterrupt\u001b[0m: "
     ]
    }
   ],
   "source": [
    "driver = webdriver.PhantomJS(executable_path='/Users/jfreeley/Downloads/chromedriver', desired_capabilities=dcap)\n",
    "driver.set_window_size(1024, 768) \n",
    "driver.get('https://www.glassdoor.com/Job/jobs.htm?sc.keyword='+keyword.pop())\n",
    "page_html = driver.page_source"
   ]
  },
  {
   "cell_type": "code",
   "execution_count": 25,
   "metadata": {
    "ExecuteTime": {
     "end_time": "2016-10-14T08:04:57.975065",
     "start_time": "2016-10-14T08:04:57.964985"
    },
    "collapsed": false
   },
   "outputs": [
    {
     "data": {
      "text/plain": [
       "u'<!DOCTYPE html><html><head>\\n<meta name=\"ROBOTS\" content=\"NOINDEX, NOFOLLOW\">\\n<meta http-equiv=\"cache-control\" content=\"max-age=0\">\\n<meta http-equiv=\"cache-control\" content=\"no-cache\">\\n<meta http-equiv=\"expires\" content=\"0\">\\n<meta http-equiv=\"expires\" content=\"Tue, 01 Jan 1980 1:00:00 GMT\">\\n<meta http-equiv=\"pragma\" content=\"no-cache\">\\n<meta http-equiv=\"refresh\" content=\"10; url=/distil_r_captcha.html?Ref=/Job/jobs.htm?sc.keyword=data%20scientist&amp;distil_RID=1FA0BB46-91B5-11E6-A3A8-BF0C10CBEB73&amp;distil_TID=20161014022258\">\\n<script type=\"text/javascript\">\\n\\t(function(window){\\n\\t\\ttry {\\n\\t\\t\\tif (typeof sessionStorage !== \\'undefined\\'){\\n\\t\\t\\t\\tsessionStorage.setItem(\\'distil_referrer\\', document.referrer);\\n\\t\\t\\t}\\n\\t\\t} catch (e){}\\n\\t})(window);\\n</script>\\n<script type=\"text/javascript\" src=\"/glass.qqqqyrw.js\" defer=\"\"></script><style type=\"text/css\">#d__fFH{position:absolute;top:-5000px;left:-5000px}#d__fF{font-family:serif;font-size:200px;visibility:hidden}#ubvfduwvedutecexvwsbb{display:none!important}</style></head>\\n<body>\\n<div id=\"distil_ident_block\">&nbsp;</div>\\n\\n\\n<div id=\"d__fFH\" style=\"position: absolute; top: -5000px; left: -5000px;\">object id=\"d_dlg\" classid=\"clsid:3050f819-98b5-11cf-bb82-00aa00bdce0b\" width=\"0px\" height=\"0px\"&gt;<span id=\"d__fF\" style=\"font-family: ZWAdobeF, serif; font-size: 72px; visibility: hidden;\">mmmmmmmmlli</span></div></body></html>'"
      ]
     },
     "execution_count": 25,
     "metadata": {},
     "output_type": "execute_result"
    }
   ],
   "source": [
    "page_html\n"
   ]
  },
  {
   "cell_type": "code",
   "execution_count": null,
   "metadata": {
    "collapsed": true
   },
   "outputs": [],
   "source": []
  },
  {
   "cell_type": "code",
   "execution_count": 26,
   "metadata": {
    "ExecuteTime": {
     "end_time": "2016-10-14T08:05:39.294857",
     "start_time": "2016-10-14T08:05:39.010040"
    },
    "collapsed": false
   },
   "outputs": [
    {
     "name": "stdout",
     "output_type": "stream",
     "text": [
      "<!DOCTYPE html>\n",
      "<html>\n",
      " <head>\n",
      "  <meta content=\"NOINDEX, NOFOLLOW\" name=\"ROBOTS\"/>\n",
      "  <meta content=\"max-age=0\" http-equiv=\"cache-control\"/>\n",
      "  <meta content=\"no-cache\" http-equiv=\"cache-control\"/>\n",
      "  <meta content=\"0\" http-equiv=\"expires\"/>\n",
      "  <meta content=\"Tue, 01 Jan 1980 1:00:00 GMT\" http-equiv=\"expires\"/>\n",
      "  <meta content=\"no-cache\" http-equiv=\"pragma\"/>\n",
      "  <meta content=\"10; url=/distil_r_captcha.html?Ref=/Job/jobs.htm?sc.keyword=data%20scientist&amp;distil_RID=1FA0BB46-91B5-11E6-A3A8-BF0C10CBEB73&amp;distil_TID=20161014022258\" http-equiv=\"refresh\"/>\n",
      "  <script type=\"text/javascript\">\n",
      "   (function(window){\n",
      "\t\ttry {\n",
      "\t\t\tif (typeof sessionStorage !== 'undefined'){\n",
      "\t\t\t\tsessionStorage.setItem('distil_referrer', document.referrer);\n",
      "\t\t\t}\n",
      "\t\t} catch (e){}\n",
      "\t})(window);\n",
      "  </script>\n",
      "  <script defer=\"\" src=\"/glass.qqqqyrw.js\" type=\"text/javascript\">\n",
      "  </script>\n",
      "  <style type=\"text/css\">\n",
      "   #d__fFH{position:absolute;top:-5000px;left:-5000px}#d__fF{font-family:serif;font-size:200px;visibility:hidden}#ubvfduwvedutecexvwsbb{display:none!important}\n",
      "  </style>\n",
      " </head>\n",
      " <body>\n",
      "  <div id=\"distil_ident_block\">\n",
      "  </div>\n",
      "  <div id=\"d__fFH\" style=\"position: absolute; top: -5000px; left: -5000px;\">\n",
      "   object id=\"d_dlg\" classid=\"clsid:3050f819-98b5-11cf-bb82-00aa00bdce0b\" width=\"0px\" height=\"0px\"&gt;\n",
      "   <span id=\"d__fF\" style=\"font-family: ZWAdobeF, serif; font-size: 72px; visibility: hidden;\">\n",
      "    mmmmmmmmlli\n",
      "   </span>\n",
      "  </div>\n",
      " </body>\n",
      "</html>\n"
     ]
    },
    {
     "ename": "NameError",
     "evalue": "name 'pd' is not defined",
     "output_type": "error",
     "traceback": [
      "\u001b[0;31m---------------------------------------------------------------------------\u001b[0m",
      "\u001b[0;31mNameError\u001b[0m                                 Traceback (most recent call last)",
      "\u001b[0;32m<ipython-input-26-260f3ec8d8f9>\u001b[0m in \u001b[0;36m<module>\u001b[0;34m()\u001b[0m\n\u001b[1;32m     10\u001b[0m         \u001b[0ma_link\u001b[0m \u001b[0;34m=\u001b[0m \u001b[0mhref\u001b[0m\u001b[0;34m[\u001b[0m\u001b[0;34m'href'\u001b[0m\u001b[0;34m]\u001b[0m\u001b[0;34m\u001b[0m\u001b[0m\n\u001b[1;32m     11\u001b[0m         \u001b[0mhtml_dict\u001b[0m\u001b[0;34m.\u001b[0m\u001b[0mupdate\u001b[0m\u001b[0;34m(\u001b[0m\u001b[0;34m{\u001b[0m\u001b[0mtext\u001b[0m\u001b[0;34m:\u001b[0m\u001b[0ma_link\u001b[0m\u001b[0;34m}\u001b[0m\u001b[0;34m)\u001b[0m\u001b[0;34m\u001b[0m\u001b[0m\n\u001b[0;32m---> 12\u001b[0;31m \u001b[0mdict_df\u001b[0m \u001b[0;34m=\u001b[0m \u001b[0mpd\u001b[0m\u001b[0;34m.\u001b[0m\u001b[0mDataFrame\u001b[0m\u001b[0;34m(\u001b[0m\u001b[0mhtml_dict\u001b[0m\u001b[0;34m.\u001b[0m\u001b[0mitems\u001b[0m\u001b[0;34m(\u001b[0m\u001b[0;34m)\u001b[0m\u001b[0;34m,\u001b[0m \u001b[0mcolumns\u001b[0m\u001b[0;34m=\u001b[0m\u001b[0;34m[\u001b[0m\u001b[0;34m'txt'\u001b[0m\u001b[0;34m,\u001b[0m \u001b[0;34m'link'\u001b[0m\u001b[0;34m]\u001b[0m\u001b[0;34m)\u001b[0m\u001b[0;34m\u001b[0m\u001b[0m\n\u001b[0m\u001b[1;32m     13\u001b[0m \u001b[0mdict_df\u001b[0m\u001b[0;34m\u001b[0m\u001b[0m\n",
      "\u001b[0;31mNameError\u001b[0m: name 'pd' is not defined"
     ]
    }
   ],
   "source": [
    "from bs4 import BeautifulSoup\n",
    "soup = BeautifulSoup(page_html, \"lxml\")\n",
    "print(soup.prettify())\n",
    "html_dict = {}\n",
    "for link in soup.findAll(class_='r'): \n",
    "    print link,\"\\n\"\n",
    "    for href in link.findAll('a'): \n",
    "        print \"HREF\", href\n",
    "        text = link.text\n",
    "        a_link = href['href']\n",
    "        html_dict.update({text:a_link})\n",
    "dict_df = pd.DataFrame(html_dict.items(), columns=['txt', 'link'])\n",
    "dict_df"
   ]
  },
  {
   "cell_type": "code",
   "execution_count": null,
   "metadata": {
    "collapsed": true
   },
   "outputs": [],
   "source": []
  }
 ],
 "metadata": {
  "kernelspec": {
   "display_name": "Python [default]",
   "language": "python",
   "name": "python2"
  },
  "language_info": {
   "codemirror_mode": {
    "name": "ipython",
    "version": 2
   },
   "file_extension": ".py",
   "mimetype": "text/x-python",
   "name": "python",
   "nbconvert_exporter": "python",
   "pygments_lexer": "ipython2",
   "version": "2.7.12"
  }
 },
 "nbformat": 4,
 "nbformat_minor": 1
}
