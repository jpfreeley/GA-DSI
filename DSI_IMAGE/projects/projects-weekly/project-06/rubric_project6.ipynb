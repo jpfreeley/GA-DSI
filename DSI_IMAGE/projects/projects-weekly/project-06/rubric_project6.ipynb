{
 "cells": [
  {
   "cell_type": "markdown",
   "metadata": {},
   "source": [
    "# ![](https://ga-dash.s3.amazonaws.com/production/assets/logo-9f88ae6c9c3871690e33280fcf557f33.png) PROJECT 6 RUBRIC\n",
    "Data Science Immersive | Project 6 \t\t\t\t\t\t\n",
    "\n",
    "Your project will be assessed using the following standards, [derived from the data science workflow](../../../../resources/syllabus/DSI-workflow-v1.pdf):\n",
    "\n",
    "- [ ] Identify Problem\n",
    "- [ ] Acquire Data\n",
    "- [ ] Parse Data\n",
    "- [ ] Mine Data\n",
    "- [ ] Refine Data\t\t\n",
    "- [ ] Model Data\n",
    "- [ ] Present Results\n",
    "\n",
    "Acceptable performance for these standards is based on how well you've performed the specific requirements listed below.\n",
    "\n",
    "---\n",
    "\n",
    "### Performance Evaluation\n",
    "\n",
    "| Requirements | Incomplete (0) | Does Not Meet Expectations (1) | Meets Expectations (2) | Exceeds Expectations (3) |\n",
    "|---|---|---|---|---|\n",
    "| Identify: Problem Statement & Goals | | | | n/a |\n",
    "| Acquire: Query IMDB, write results, scrape IMDB | | | | *Bonus: Scrape with BeautifulSoup* |\n",
    "| Mine: Rename & describe data | | | | n/a |\n",
    "| Refine: Visualize data | | | | *Bonus: Use multiple data viz tools* |\n",
    "| Model: Define training set | | | | n/a |\n",
    "| Model: Fit and evaluate model | | | | *Bonus: How is model at risk of overfitting?* |\n",
    "| Present: Describe findings in blog post: summary, model, recommendations | | | | |\n",
    "\n",
    "\n",
    "---\n",
    "\n",
    "## Score:\n",
    "Based on the requirements (including bonus), you can earn a maximum of  **15**  points on this project. Your score is: **#**\n",
    "\n",
    "- Remember, your total score is helpful as a gauge of how well you met the project requirements, but use the individual standards and instructor feedback to help iterate and improve on your projects!\n",
    "\n",
    "---\n"
   ]
  }
 ],
 "metadata": {
  "anaconda-cloud": {},
  "kernelspec": {
   "display_name": "Python [default]",
   "language": "python",
   "name": "python2"
  },
  "language_info": {
   "codemirror_mode": {
    "name": "ipython",
    "version": 2
   },
   "file_extension": ".py",
   "mimetype": "text/x-python",
   "name": "python",
   "nbconvert_exporter": "python",
   "pygments_lexer": "ipython2",
   "version": "2.7.12"
  }
 },
 "nbformat": 4,
 "nbformat_minor": 1
}
