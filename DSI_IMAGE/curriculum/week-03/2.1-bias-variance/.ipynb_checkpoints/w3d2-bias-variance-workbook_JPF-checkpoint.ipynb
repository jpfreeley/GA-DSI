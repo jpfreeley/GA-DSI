{
 "cells": [
  {
   "cell_type": "markdown",
   "metadata": {
    "slideshow": {
     "slide_type": "slide"
    }
   },
   "source": [
    "# ![](https://ga-dash.s3.amazonaws.com/production/assets/logo-9f88ae6c9c3871690e33280fcf557f33.png) Bias-variance tradeoff\n",
    "Week 3 | Lesson 2.1\n",
    "\n"
   ]
  },
  {
   "cell_type": "markdown",
   "metadata": {
    "slideshow": {
     "slide_type": "slide"
    }
   },
   "source": [
    "### LEARNING OBJECTIVES\n",
    "*After this lesson, you will be able to:*\n",
    "- Define bias and variance at an intuitive level\n",
    "- Explain a model's error in terms of bias and variance\n"
   ]
  },
  {
   "cell_type": "markdown",
   "metadata": {
    "slideshow": {
     "slide_type": "slide"
    }
   },
   "source": [
    "### LESSON GUIDE\n",
    "| TIMING  | TYPE  | TOPIC  |\n",
    "|:-:|---|---|\n",
    "| 5 min  | [Introduction](#introduction)   |  The bias-variance tradeoff |\n",
    "| 20 min  | [Demo ](#demo)  | SSE and bias, variance, and irreducible error  |\n",
    "| 10 min  | [Stop + jot ](#demo)  | Conceptual and visual demonstration  |\n",
    "| 45 min  | [Guided Practice](#demo)  | Visualizing bias and variance  |\n",
    "\n",
    "---\n"
   ]
  },
  {
   "cell_type": "markdown",
   "metadata": {
    "slideshow": {
     "slide_type": "slide"
    }
   },
   "source": [
    "## Quantifying error\n",
    "\n",
    "We want to minimize the predictive error of our models. (I.e. we need an objective function.) How do we quantify the error in our model?\n",
    "\n",
    "One metric: Sum of Squared Errors (SSE)\n",
    "\n",
    "$$ SSE = \\sum_{i=1}^{n}(y_i - f(x_i))^2 = \\sum_{i=1}^{n}(y_i - \\hat y)^2 $$\n",
    "\n",
    "$x_i$ -- a given x value\n",
    "\n",
    "$y_i$ -- actual y value\n",
    "\n",
    "$f(x_i)$-- the model's predicted y value\n",
    "\n",
    "$\\hat y $ -- predicted y value"
   ]
  },
  {
   "cell_type": "markdown",
   "metadata": {
    "slideshow": {
     "slide_type": "slide"
    }
   },
   "source": [
    "### SSE can be decomposed<sup>1</sup> into error due to Bias and Variance\n",
    "\n",
    "\n",
    "$$SSE \\sim E(y_i - \\hat{f}(x_i))^2 = Var(\\hat{f}(x_i))\\ + [Bias(\\hat{f}(x_i))]^2 + Var(\\epsilon)$$\n",
    "\n",
    "Bias?\n",
    "*Your model makes assumptions about the shape of the data and consistently gets it wrong as it is run on new sample data.*\n",
    "\n",
    "Variance?\n",
    "*Imagine building your model many times, on different slices of data. Variance is related to how much your predictions for a given $x_i$ differ each time you make a prediction*\n",
    "\n",
    "<sup>1</sup>See the derivation of this result [here](https://theclevermachine.wordpress.com/tag/bias-variance-decomposition/)"
   ]
  },
  {
   "cell_type": "markdown",
   "metadata": {
    "slideshow": {
     "slide_type": "slide"
    }
   },
   "source": [
    "### Graphical Representation\n",
    "Imagine each dart throw is a new prediction *for a single data point $x_i$*.\n",
    "![](./assets/images/bullseyes.png)\n",
    "\n",
    "(Image from http://scott.fortmann-roe.com/docs/BiasVariance.html)"
   ]
  },
  {
   "cell_type": "markdown",
   "metadata": {
    "slideshow": {
     "slide_type": "slide"
    }
   },
   "source": [
    "**A high-bias model**\n",
    "![](./assets/images/linear-fit-quadratic.png)"
   ]
  },
  {
   "cell_type": "markdown",
   "metadata": {
    "slideshow": {
     "slide_type": "slide"
    }
   },
   "source": [
    "**If we increase the complexity, the bias decreases**\n",
    "![](./assets/images/quadratic-fit-quadratic.png)"
   ]
  },
  {
   "cell_type": "markdown",
   "metadata": {
    "slideshow": {
     "slide_type": "slide"
    }
   },
   "source": [
    "All datasets contain error. Here's a subset of that same data with one error point as an outlier\n",
    "\n",
    "We can fit a high-degree polynomial to these points to fit the training set perfectly.\n",
    "![](./assets/images/variance_1.png)"
   ]
  },
  {
   "cell_type": "markdown",
   "metadata": {
    "slideshow": {
     "slide_type": "slide"
    }
   },
   "source": [
    "However, when we repeat that model fit on new data, our prediction makes errors. This is error due to variance. \n",
    "![](./assets/images/variance_2.png)"
   ]
  },
  {
   "cell_type": "markdown",
   "metadata": {
    "slideshow": {
     "slide_type": "slide"
    }
   },
   "source": [
    "## The tradeoff:\n",
    "\n",
    "![](https://camo.githubusercontent.com/be96d619bff8883343cf541ed1405a8f7f5991cc/68747470733a2f2f75706c6f61642e77696b696d656469612e6f72672f6d6174682f632f622f632f63626336353331306430396136656661363330643863316633336364666138382e706e67)\n",
    "![](https://camo.githubusercontent.com/34d8f46b4220c71b359f55db15ed9124474b397d/687474703a2f2f73636f74742e666f72746d616e6e2d726f652e636f6d2f646f63732f646f63732f4269617356617269616e63652f6269617376617269616e63652e706e67)"
   ]
  },
  {
   "cell_type": "markdown",
   "metadata": {
    "slideshow": {
     "slide_type": "slide"
    }
   },
   "source": [
    "## Conceptual definition\n",
    "Take 5 minutes to read the definition of error from \"bias\" and from \"variance\" at this link:\n",
    "http://scott.fortmann-roe.com/docs/BiasVariance.html\n",
    "\n",
    "Jot down a definition for each in your own words, and draw at least two illustrative models: a high-variance model, and a high-bias model."
   ]
  },
  {
   "cell_type": "markdown",
   "metadata": {
    "slideshow": {
     "slide_type": "slide"
    }
   },
   "source": [
    "### Here's sample code for getting variance and bias from an sklearn model\n",
    "\n",
    "```python\n",
    "from sklearn import linear_model\n",
    "regr = linear_model.LinearRegression()\n",
    "regr.fit(X, Y)\n",
    "\n",
    "yhat = regr.predict(X)\n",
    "sse = np.mean((np.mean(yhat) - Y) ** 2)\n",
    "var = np.var(yhat)\n",
    "bias = sse - var - 0.01\n",
    "```\n",
    "\n",
    "Note that the way this is written implies fitting the model just once; strictly speaking, we conceptualize the bias and variance as calculated by fitting the same model many times on new data. In practice this is hard to compute."
   ]
  },
  {
   "cell_type": "markdown",
   "metadata": {
    "slideshow": {
     "slide_type": "slide"
    }
   },
   "source": [
    "## Guided practice\n",
    "\n",
    "\n",
    "We've seen that as the complexity in our models change so too do the bias and variance. Let's investigate from another angle using linear regression. Rather than change the model, we'll change the underlying data to be drawn from a higher dimensional model.\n",
    "\n",
    "We'll investigate fitting functions of the form $f(x) = a + b * x^n$ to some cubic data with noise.\n",
    "\n",
    "\n",
    "Your tasks are:\n",
    "* Fill in the code to fit a linear regression to the data\n",
    "* Investiage the bias and variance as the data source changes in complexity"
   ]
  },
  {
   "cell_type": "markdown",
   "metadata": {
    "slideshow": {
     "slide_type": "slide"
    }
   },
   "source": [
    "## Some helper functions\n",
    "The following functions will generate data and polynomial values."
   ]
  },
  {
   "cell_type": "code",
   "execution_count": 2,
   "metadata": {
    "ExecuteTime": {
     "end_time": "2016-10-04T11:16:39.559365",
     "start_time": "2016-10-04T11:16:36.393773"
    },
    "collapsed": true,
    "slideshow": {
     "slide_type": "slide"
    }
   },
   "outputs": [],
   "source": [
    "%matplotlib inline\n",
    "import random\n",
    "\n",
    "from matplotlib import pyplot as plt\n",
    "import numpy as np\n",
    "import pandas as pd\n",
    "from scipy import stats\n",
    "from sklearn import datasets, linear_model\n",
    "\n",
    "def polynomials(X, degree=1):\n",
    "    array = [X]\n",
    "    y = X\n",
    "    for i in range(2, int(degree + 1)):\n",
    "        y = y * X\n",
    "        array.append(y)\n",
    "    return np.array(array).transpose()\n",
    "\n",
    "def monomials(X, degree=1):\n",
    "    y = np.array(X)\n",
    "    y = np.power(X, degree)\n",
    "    return np.array([y]).transpose()\n",
    "\n",
    "def generate_data(func, a, b, n=100):\n",
    "    data = []\n",
    "    for _ in range(n):\n",
    "        x = random.random() * (b - a)\n",
    "        y = func(x)\n",
    "        data.append((x, y))\n",
    "    return list(sorted(data))"
   ]
  },
  {
   "cell_type": "code",
   "execution_count": 22,
   "metadata": {
    "collapsed": false,
    "slideshow": {
     "slide_type": "slide"
    }
   },
   "outputs": [
    {
     "data": {
      "text/plain": [
       "array([[  0,   0,   0],\n",
       "       [  1,   1,   1],\n",
       "       [  2,   4,   8],\n",
       "       [  3,   9,  27],\n",
       "       [  4,  16,  64],\n",
       "       [  5,  25, 125],\n",
       "       [  6,  36, 216],\n",
       "       [  7,  49, 343],\n",
       "       [  8,  64, 512],\n",
       "       [  9,  81, 729]])"
      ]
     },
     "execution_count": 22,
     "metadata": {},
     "output_type": "execute_result"
    }
   ],
   "source": [
    "X = np.array(range(10))\n",
    "polynomials(X, 3)"
   ]
  },
  {
   "cell_type": "code",
   "execution_count": 3,
   "metadata": {
    "ExecuteTime": {
     "end_time": "2016-10-04T11:16:41.123284",
     "start_time": "2016-10-04T11:16:41.104507"
    },
    "collapsed": false,
    "slideshow": {
     "slide_type": "fragment"
    }
   },
   "outputs": [],
   "source": [
    "mu, sigma = 0, 0.1 # mean and standard deviation for the random error component\n",
    "# norm = np.random.normal(mu, sigma)\n",
    "\n",
    "# Generate some data for the formula below\n",
    "f = lambda x: 4 + 5 * x - 3 * x*x + 0.1 * x * x * x + np.random.normal(mu, sigma)\n",
    "data = generate_data(f, 0, 2, n=20)"
   ]
  },
  {
   "cell_type": "markdown",
   "metadata": {
    "slideshow": {
     "slide_type": "slide"
    }
   },
   "source": [
    "## Fitting Polynomial Functions\n",
    "\n",
    "Here we fit try to fit our sample data with an increasing exponent:\n",
    "\n",
    "$$f(x) = 1 + b x^n$$\n",
    "\n",
    "None of these models are quite right because the data is generate from the function\n",
    "\n",
    "$$ \\hat{f}(x) = 4 + 5 x - 3 x^2 + 0.1 x^3 + \\epsilon$$\n",
    "\n",
    "So each model is not quite right because one or more terms is missing. This will allow us to take a closer look at the bias-variance tradeoff.\n",
    "\n",
    "Let's start with $n = 1, 2, 3, 4, ..., 9$."
   ]
  },
  {
   "cell_type": "code",
   "execution_count": 11,
   "metadata": {
    "ExecuteTime": {
     "end_time": "2016-10-04T11:34:39.116099",
     "start_time": "2016-10-04T11:34:35.087484"
    },
    "collapsed": false,
    "slideshow": {
     "slide_type": "slide"
    }
   },
   "outputs": [
    {
     "name": "stdout",
     "output_type": "stream",
     "text": [
      "Coefficients: -0.1701\n",
      "Variance score: 0.02\n",
      "Residual sum of squares: 0.61\n",
      "Bias: 0.589722701963\n",
      "Variance: 0.00945648176932\n"
     ]
    },
    {
     "data": {
      "image/png": "[encoded data removed]",
      "text/plain": [
       "<matplotlib.figure.Figure at 0x118140b50>"
      ]
     },
     "metadata": {},
     "output_type": "display_data"
    },
    {
     "name": "stdout",
     "output_type": "stream",
     "text": [
      "Coefficients: -0.2781\n",
      "Variance score: 0.14\n",
      "Residual sum of squares: 0.61\n",
      "Bias: 0.512210005894\n",
      "Variance: 0.0869691778384\n"
     ]
    },
    {
     "data": {
      "image/png": "[encoded data removed]",
      "text/plain": [
       "<matplotlib.figure.Figure at 0x1174e1dd0>"
      ]
     },
     "metadata": {},
     "output_type": "display_data"
    },
    {
     "name": "stdout",
     "output_type": "stream",
     "text": [
      "Coefficients: -0.2173\n",
      "Variance score: 0.27\n",
      "Residual sum of squares: 0.61\n",
      "Bias: 0.433074749022\n",
      "Variance: 0.166104434711\n"
     ]
    },
    {
     "data": {
      "image/png": "[encoded data removed]",
      "text/plain": [
       "<matplotlib.figure.Figure at 0x117feddd0>"
      ]
     },
     "metadata": {},
     "output_type": "display_data"
    },
    {
     "name": "stdout",
     "output_type": "stream",
     "text": [
      "Coefficients: -0.1420\n",
      "Variance score: 0.36\n",
      "Residual sum of squares: 0.61\n",
      "Bias: 0.377165492963\n",
      "Variance: 0.222013690769\n"
     ]
    },
    {
     "data": {
      "image/png": "[encoded data removed]",
      "text/plain": [
       "<matplotlib.figure.Figure at 0x117fedf90>"
      ]
     },
     "metadata": {},
     "output_type": "display_data"
    },
    {
     "name": "stdout",
     "output_type": "stream",
     "text": [
      "Coefficients: -0.0858\n",
      "Variance score: 0.42\n",
      "Residual sum of squares: 0.61\n",
      "Bias: 0.342398317544\n",
      "Variance: 0.256780866188\n"
     ]
    },
    {
     "data": {
      "image/png": "[encoded data removed]",
      "text/plain": [
       "<matplotlib.figure.Figure at 0x117acb550>"
      ]
     },
     "metadata": {},
     "output_type": "display_data"
    },
    {
     "name": "stdout",
     "output_type": "stream",
     "text": [
      "Coefficients: -0.0497\n",
      "Variance score: 0.45\n",
      "Residual sum of squares: 0.61\n",
      "Bias: 0.322903637256\n",
      "Variance: 0.276275546477\n"
     ]
    },
    {
     "data": {
      "image/png": "[encoded data removed]",
      "text/plain": [
       "<matplotlib.figure.Figure at 0x117eb4e90>"
      ]
     },
     "metadata": {},
     "output_type": "display_data"
    },
    {
     "name": "stdout",
     "output_type": "stream",
     "text": [
      "Coefficients: -0.0280\n",
      "Variance score: 0.47\n",
      "Residual sum of squares: 0.61\n",
      "Bias: 0.313885465212\n",
      "Variance: 0.28529371852\n"
     ]
    },
    {
     "data": {
      "image/png": "[encoded data removed]",
      "text/plain": [
       "<matplotlib.figure.Figure at 0x117c3fd50>"
      ]
     },
     "metadata": {},
     "output_type": "display_data"
    },
    {
     "name": "stdout",
     "output_type": "stream",
     "text": [
      "Coefficients: -0.0155\n",
      "Variance score: 0.47\n",
      "Residual sum of squares: 0.61\n",
      "Bias: 0.311916291934\n",
      "Variance: 0.287262891799\n"
     ]
    },
    {
     "data": {
      "image/png": "[encoded data removed]",
      "text/plain": [
       "<matplotlib.figure.Figure at 0x117de2410>"
      ]
     },
     "metadata": {},
     "output_type": "display_data"
    },
    {
     "name": "stdout",
     "output_type": "stream",
     "text": [
      "Coefficients: -0.0085\n",
      "Variance score: 0.47\n",
      "Residual sum of squares: 0.61\n",
      "Bias: 0.314563331899\n",
      "Variance: 0.284615851834\n"
     ]
    },
    {
     "data": {
      "image/png": "[encoded data removed]",
      "text/plain": [
       "<matplotlib.figure.Figure at 0x116d8f690>"
      ]
     },
     "metadata": {},
     "output_type": "display_data"
    }
   ],
   "source": [
    "# Workbook code\n",
    "\n",
    "domain = np.array([x[0] for x in data]) # The x values we're \"observing\"\n",
    "Y = np.array([x[1] for x in data]) # The values we are trying to predict\n",
    "\n",
    "\n",
    "for i in range(1, 10):\n",
    "    X = monomials(domain, i) \n",
    "    # Create linear regression object and fit it to X and Y\n",
    "    #regr = ???\n",
    "    \n",
    "    #yhat = ???\n",
    "    #sse = ???\n",
    "    #var = ???\n",
    "    #bias = ???\n",
    "\n",
    "    from sklearn import linear_model\n",
    "    regr = linear_model.LinearRegression()\n",
    "    regr.fit(X, Y)\n",
    "    \n",
    "    yhat = regr.predict(X)\n",
    "    sse = np.mean((np.mean(yhat) - Y) ** 2)\n",
    "    var = np.var(yhat)\n",
    "    bias = sse - var - 0.01\n",
    "    \n",
    "    # The coefficients\n",
    "    print('Coefficients: %.4f' % regr.coef_)\n",
    "    # Explained variance score: 1 is perfect prediction\n",
    "    print('Variance score: %.2f' % regr.score(X, Y))\n",
    "\n",
    "    # The mean square error\n",
    "    print(\"Residual sum of squares: %.2f\" % sse)\n",
    "\n",
    "    print(\"Bias: {bias}\".format(bias=bias))\n",
    "    print(\"Variance: {var}\".format(var=var))\n",
    "        \n",
    "    # Plot outputs\n",
    "    plt.scatter(domain, Y,  color='black')\n",
    "    plt.plot(domain, regr.predict(X), color='blue', linewidth=3)\n",
    "\n",
    "    plt.title(\"n = \" + str(i))\n",
    "\n",
    "    plt.show()"
   ]
  },
  {
   "cell_type": "markdown",
   "metadata": {
    "slideshow": {
     "slide_type": "slide"
    }
   },
   "source": [
    "It's important to **note that the true measures of bias and variance are averaged over many fits of a model to many samples from the same data source, and we're only looking at one instance here** as illustration.\n",
    "\n",
    "The bias is at first decreasing as the exponent increases, but at $n=6$ we see the bias start to increase while the squared errors are basically unchanged. Let's make a plot of the bias as the exponent increases."
   ]
  },
  {
   "cell_type": "code",
   "execution_count": 12,
   "metadata": {
    "ExecuteTime": {
     "end_time": "2016-10-04T11:34:40.627627",
     "start_time": "2016-10-04T11:34:40.246903"
    },
    "collapsed": false,
    "slideshow": {
     "slide_type": "slide"
    }
   },
   "outputs": [
    {
     "data": {
      "image/png": "[encoded data removed]",
      "text/plain": [
       "<matplotlib.figure.Figure at 0x11759d110>"
      ]
     },
     "metadata": {},
     "output_type": "display_data"
    }
   ],
   "source": [
    "# Workbook code\n",
    "\n",
    "bs = [] #list of biases\n",
    "vars_ = [] #list of variances\n",
    "exps = np.arange(0, 10, 0.1)\n",
    "\n",
    "for i in exps:\n",
    "    X = monomials(domain, i)\n",
    "    # Create linear regression object\n",
    "    #regr = \n",
    "    \n",
    "    # Calculate statistics\n",
    "    #yhat = \n",
    "    #sse = \n",
    "    #var = \n",
    "    #bias = \n",
    "    \n",
    "    regr = regr.fit(X, Y)\n",
    "\n",
    "    yhat = regr.predict(X)\n",
    "    sse = np.mean((np.mean(yhat) - Y) ** 2)\n",
    "    var = np.var(yhat)\n",
    "    bias = sse - var - 0.01\n",
    "\n",
    "    \n",
    "    bs.append(bias)\n",
    "    vars_.append(var)\n",
    "\n",
    "#Plot the variance and bias\n",
    "plt.plot(exps, bs, label=\"Bias\")\n",
    "plt.plot(exps, vars_, label=\"Variance\")\n",
    "ax = plt.gca()\n",
    "\n",
    "handles, labels = ax.get_legend_handles_labels()\n",
    "ax.legend(handles, labels)\n",
    "\n",
    "plt.show()"
   ]
  },
  {
   "cell_type": "markdown",
   "metadata": {
    "slideshow": {
     "slide_type": "slide"
    }
   },
   "source": [
    "Just as in the conceptual diagram from the lesson, there's a spot where the bias is minimized around $n=5$."
   ]
  },
  {
   "cell_type": "markdown",
   "metadata": {
    "slideshow": {
     "slide_type": "slide"
    }
   },
   "source": [
    "# Independent practice\n",
    "\n",
    "Now let's look at some situations where adding more polynomial terms decreases both bias and variance."
   ]
  },
  {
   "cell_type": "markdown",
   "metadata": {
    "slideshow": {
     "slide_type": "slide"
    }
   },
   "source": [
    "# Variance\n",
    "\n",
    "Now let's try to fit the full polynomial as the degree increases, which will help us visualize variance error.\n",
    "\n",
    "**Check**: In the next code section, what is different from the code above?"
   ]
  },
  {
   "cell_type": "code",
   "execution_count": 15,
   "metadata": {
    "ExecuteTime": {
     "end_time": "2016-10-04T11:37:12.327006",
     "start_time": "2016-10-04T11:37:09.365718"
    },
    "collapsed": false,
    "slideshow": {
     "slide_type": "slide"
    }
   },
   "outputs": [
    {
     "name": "stdout",
     "output_type": "stream",
     "text": [
      "Coefficients: -0.1701 \n",
      "Variance score: 0.02\n",
      "Residual sum of squares: 0.61\n",
      "Bias: 0.589722701963\n",
      "Variance: 0.00945648176932\n"
     ]
    },
    {
     "data": {
      "image/png": "[encoded data removed]",
      "text/plain": [
       "<matplotlib.figure.Figure at 0x117f23ad0>"
      ]
     },
     "metadata": {},
     "output_type": "display_data"
    },
    {
     "name": "stdout",
     "output_type": "stream",
     "text": [
      "Coefficients: 4.8024 -2.7766 \n",
      "Variance score: 0.99\n",
      "Residual sum of squares: 0.61\n",
      "Bias: -0.00223065550171\n",
      "Variance: 0.601409839234\n"
     ]
    },
    {
     "data": {
      "image/png": "[encoded data removed]",
      "text/plain": [
       "<matplotlib.figure.Figure at 0x11751fb90>"
      ]
     },
     "metadata": {},
     "output_type": "display_data"
    },
    {
     "name": "stdout",
     "output_type": "stream",
     "text": [
      "Coefficients: 5.3368 -3.4983 0.2550 \n",
      "Variance score: 0.99\n",
      "Residual sum of squares: 0.61\n",
      "Bias: -0.00329093719316\n",
      "Variance: 0.602470120926\n"
     ]
    },
    {
     "data": {
      "image/png": "[encoded data removed]",
      "text/plain": [
       "<matplotlib.figure.Figure at 0x117eb12d0>"
      ]
     },
     "metadata": {},
     "output_type": "display_data"
    },
    {
     "name": "stdout",
     "output_type": "stream",
     "text": [
      "Coefficients: 5.4441 -3.7676 0.4820 -0.0609 \n",
      "Variance score: 0.99\n",
      "Residual sum of squares: 0.61\n",
      "Bias: -0.00330962000249\n",
      "Variance: 0.602488803735\n"
     ]
    },
    {
     "data": {
      "image/png": "[encoded data removed]",
      "text/plain": [
       "<matplotlib.figure.Figure at 0x117af2450>"
      ]
     },
     "metadata": {},
     "output_type": "display_data"
    },
    {
     "name": "stdout",
     "output_type": "stream",
     "text": [
      "Coefficients: 3.1055 6.0687 -13.9443 8.5928 -1.8232 \n",
      "Variance score: 0.99\n",
      "Residual sum of squares: 0.61\n",
      "Bias: -0.00660863947632\n",
      "Variance: 0.605787823209\n"
     ]
    },
    {
     "data": {
      "image/png": "[encoded data removed]",
      "text/plain": [
       "<matplotlib.figure.Figure at 0x118330f90>"
      ]
     },
     "metadata": {},
     "output_type": "display_data"
    },
    {
     "name": "stdout",
     "output_type": "stream",
     "text": [
      "Coefficients: 3.7925 1.9823 -4.9782 -0.3905 2.3562 -0.7327 \n",
      "Variance score: 0.99\n",
      "Residual sum of squares: 0.61\n",
      "Bias: -0.00666619944391\n",
      "Variance: 0.605845383176\n"
     ]
    },
    {
     "data": {
      "image/png": "[encoded data removed]",
      "text/plain": [
       "<matplotlib.figure.Figure at 0x11749fdd0>"
      ]
     },
     "metadata": {},
     "output_type": "display_data"
    },
    {
     "name": "stdout",
     "output_type": "stream",
     "text": [
      "Coefficients: 5.5070 -10.7736 32.9542 -56.0285 45.1303 -17.2428 2.5217 \n",
      "Variance score: 0.99\n",
      "Residual sum of squares: 0.61\n",
      "Bias: -0.00678467731974\n",
      "Variance: 0.605963861052\n"
     ]
    },
    {
     "data": {
      "image/png": "[encoded data removed]",
      "text/plain": [
       "<matplotlib.figure.Figure at 0x118290e50>"
      ]
     },
     "metadata": {},
     "output_type": "display_data"
    },
    {
     "name": "stdout",
     "output_type": "stream",
     "text": [
      "Coefficients: 4.3499 -0.1055 -8.5890 27.2035 -47.7186 41.0061 -16.6883 2.5893 \n",
      "Variance score: 0.99\n",
      "Residual sum of squares: 0.61\n",
      "Bias: -0.00680406680042\n",
      "Variance: 0.605983250533\n"
     ]
    },
    {
     "data": {
      "image/png": "[encoded data removed]",
      "text/plain": [
       "<matplotlib.figure.Figure at 0x117ac0a90>"
      ]
     },
     "metadata": {},
     "output_type": "display_data"
    },
    {
     "name": "stdout",
     "output_type": "stream",
     "text": [
      "Coefficients: 10.2860 -66.0626 312.6559 -804.1048 1199.9917 -1080.6541 578.4283 -169.1118 20.7561 \n",
      "Variance score: 1.00\n",
      "Residual sum of squares: 0.61\n",
      "Bias: -0.00718678274083\n",
      "Variance: 0.606365966473\n"
     ]
    },
    {
     "data": {
      "image/png": "[encoded data removed]",
      "text/plain": [
       "<matplotlib.figure.Figure at 0x1174f7dd0>"
      ]
     },
     "metadata": {},
     "output_type": "display_data"
    }
   ],
   "source": [
    "domain = np.array([x[0] for x in data])\n",
    "Y = np.array([x[1] for x in data])\n",
    "\n",
    "for i in range(1, 10):\n",
    "    X = polynomials(domain, i)\n",
    "    # Create linear regression object\n",
    "    #regr = \n",
    "\n",
    "    #yhat = \n",
    "    #sse = \n",
    "    #var = \n",
    "    #bias = \n",
    "    \n",
    "    regr = regr.fit(X, Y)\n",
    "\n",
    "    yhat = regr.predict(X)\n",
    "    sse = np.mean((np.mean(yhat) - Y) ** 2)\n",
    "    var = np.var(yhat)\n",
    "    bias = sse - var - 0.01\n",
    "    \n",
    "    # The coefficients\n",
    "    print 'Coefficients:',\n",
    "    for b in ['%.4f' % b for b in regr.coef_]: print b,\n",
    "    # Explained variance score: 1 is perfect prediction\n",
    "    print('\\nVariance score: %.2f' % regr.score(X, Y))\n",
    "\n",
    "    # The mean square error\n",
    "    print(\"Residual sum of squares: %.2f\" % sse)\n",
    "\n",
    "    print(\"Bias: {bias}\".format(bias=bias))\n",
    "    print(\"Variance: {var}\".format(var=var))\n",
    "        \n",
    "    # Plot outputs\n",
    "    plt.scatter(domain, Y,  color='black')\n",
    "    plt.plot(domain, regr.predict(X), color='blue', linewidth=3)\n",
    "\n",
    "    plt.title(\"n = \" + str(i))\n",
    "\n",
    "    plt.show()"
   ]
  },
  {
   "cell_type": "code",
   "execution_count": 27,
   "metadata": {
    "ExecuteTime": {
     "end_time": "2016-10-04T11:42:14.687900",
     "start_time": "2016-10-04T11:42:14.004409"
    },
    "collapsed": false,
    "slideshow": {
     "slide_type": "slide"
    }
   },
   "outputs": [
    {
     "name": "stdout",
     "output_type": "stream",
     "text": [
      "[ 5.37228323  5.3674142   5.33656579  5.3359421   5.32737899  5.30050867\n",
      "  5.24716736  5.24311053  5.20587598  5.20088771  5.18583516  5.17517398\n",
      "  5.16740194  5.16239472  5.13833041  5.10459025  5.10435543  5.10189976\n",
      "  5.09297139  5.05847409]\n",
      "[ 5.37228323  5.3674142   5.33656579  5.3359421   5.32737899  5.30050867\n",
      "  5.24716736  5.24311053  5.20587598  5.20088771  5.18583516  5.17517398\n",
      "  5.16740194  5.16239472  5.13833041  5.10459025  5.10435543  5.10189976\n",
      "  5.09297139  5.05847409]\n",
      "[ 5.37228323  5.3674142   5.33656579  5.3359421   5.32737899  5.30050867\n",
      "  5.24716736  5.24311053  5.20587598  5.20088771  5.18583516  5.17517398\n",
      "  5.16740194  5.16239472  5.13833041  5.10459025  5.10435543  5.10189976\n",
      "  5.09297139  5.05847409]\n",
      "[ 5.37228323  5.3674142   5.33656579  5.3359421   5.32737899  5.30050867\n",
      "  5.24716736  5.24311053  5.20587598  5.20088771  5.18583516  5.17517398\n",
      "  5.16740194  5.16239472  5.13833041  5.10459025  5.10435543  5.10189976\n",
      "  5.09297139  5.05847409]\n",
      "[ 5.37228323  5.3674142   5.33656579  5.3359421   5.32737899  5.30050867\n",
      "  5.24716736  5.24311053  5.20587598  5.20088771  5.18583516  5.17517398\n",
      "  5.16740194  5.16239472  5.13833041  5.10459025  5.10435543  5.10189976\n",
      "  5.09297139  5.05847409]\n",
      "[ 5.37228323  5.3674142   5.33656579  5.3359421   5.32737899  5.30050867\n",
      "  5.24716736  5.24311053  5.20587598  5.20088771  5.18583516  5.17517398\n",
      "  5.16740194  5.16239472  5.13833041  5.10459025  5.10435543  5.10189976\n",
      "  5.09297139  5.05847409]\n",
      "[ 5.37228323  5.3674142   5.33656579  5.3359421   5.32737899  5.30050867\n",
      "  5.24716736  5.24311053  5.20587598  5.20088771  5.18583516  5.17517398\n",
      "  5.16740194  5.16239472  5.13833041  5.10459025  5.10435543  5.10189976\n",
      "  5.09297139  5.05847409]\n",
      "[ 5.37228323  5.3674142   5.33656579  5.3359421   5.32737899  5.30050867\n",
      "  5.24716736  5.24311053  5.20587598  5.20088771  5.18583516  5.17517398\n",
      "  5.16740194  5.16239472  5.13833041  5.10459025  5.10435543  5.10189976\n",
      "  5.09297139  5.05847409]\n",
      "[ 5.37228323  5.3674142   5.33656579  5.3359421   5.32737899  5.30050867\n",
      "  5.24716736  5.24311053  5.20587598  5.20088771  5.18583516  5.17517398\n",
      "  5.16740194  5.16239472  5.13833041  5.10459025  5.10435543  5.10189976\n",
      "  5.09297139  5.05847409]\n",
      "[ 5.37228323  5.3674142   5.33656579  5.3359421   5.32737899  5.30050867\n",
      "  5.24716736  5.24311053  5.20587598  5.20088771  5.18583516  5.17517398\n",
      "  5.16740194  5.16239472  5.13833041  5.10459025  5.10435543  5.10189976\n",
      "  5.09297139  5.05847409]\n",
      "[ 5.37228323  5.3674142   5.33656579  5.3359421   5.32737899  5.30050867\n",
      "  5.24716736  5.24311053  5.20587598  5.20088771  5.18583516  5.17517398\n",
      "  5.16740194  5.16239472  5.13833041  5.10459025  5.10435543  5.10189976\n",
      "  5.09297139  5.05847409]\n",
      "[ 5.37228323  5.3674142   5.33656579  5.3359421   5.32737899  5.30050867\n",
      "  5.24716736  5.24311053  5.20587598  5.20088771  5.18583516  5.17517398\n",
      "  5.16740194  5.16239472  5.13833041  5.10459025  5.10435543  5.10189976\n",
      "  5.09297139  5.05847409]\n",
      "[ 5.37228323  5.3674142   5.33656579  5.3359421   5.32737899  5.30050867\n",
      "  5.24716736  5.24311053  5.20587598  5.20088771  5.18583516  5.17517398\n",
      "  5.16740194  5.16239472  5.13833041  5.10459025  5.10435543  5.10189976\n",
      "  5.09297139  5.05847409]\n",
      "[ 5.37228323  5.3674142   5.33656579  5.3359421   5.32737899  5.30050867\n",
      "  5.24716736  5.24311053  5.20587598  5.20088771  5.18583516  5.17517398\n",
      "  5.16740194  5.16239472  5.13833041  5.10459025  5.10435543  5.10189976\n",
      "  5.09297139  5.05847409]\n",
      "[ 5.37228323  5.3674142   5.33656579  5.3359421   5.32737899  5.30050867\n",
      "  5.24716736  5.24311053  5.20587598  5.20088771  5.18583516  5.17517398\n",
      "  5.16740194  5.16239472  5.13833041  5.10459025  5.10435543  5.10189976\n",
      "  5.09297139  5.05847409]\n",
      "[ 5.37228323  5.3674142   5.33656579  5.3359421   5.32737899  5.30050867\n",
      "  5.24716736  5.24311053  5.20587598  5.20088771  5.18583516  5.17517398\n",
      "  5.16740194  5.16239472  5.13833041  5.10459025  5.10435543  5.10189976\n",
      "  5.09297139  5.05847409]\n",
      "[ 5.37228323  5.3674142   5.33656579  5.3359421   5.32737899  5.30050867\n",
      "  5.24716736  5.24311053  5.20587598  5.20088771  5.18583516  5.17517398\n",
      "  5.16740194  5.16239472  5.13833041  5.10459025  5.10435543  5.10189976\n",
      "  5.09297139  5.05847409]\n",
      "[ 5.37228323  5.3674142   5.33656579  5.3359421   5.32737899  5.30050867\n",
      "  5.24716736  5.24311053  5.20587598  5.20088771  5.18583516  5.17517398\n",
      "  5.16740194  5.16239472  5.13833041  5.10459025  5.10435543  5.10189976\n",
      "  5.09297139  5.05847409]\n",
      "[ 5.37228323  5.3674142   5.33656579  5.3359421   5.32737899  5.30050867\n",
      "  5.24716736  5.24311053  5.20587598  5.20088771  5.18583516  5.17517398\n",
      "  5.16740194  5.16239472  5.13833041  5.10459025  5.10435543  5.10189976\n",
      "  5.09297139  5.05847409]\n",
      "[ 5.37228323  5.3674142   5.33656579  5.3359421   5.32737899  5.30050867\n",
      "  5.24716736  5.24311053  5.20587598  5.20088771  5.18583516  5.17517398\n",
      "  5.16740194  5.16239472  5.13833041  5.10459025  5.10435543  5.10189976\n",
      "  5.09297139  5.05847409]\n",
      "[ 4.16692686  4.29885824  5.02903283  5.04191236  5.21120078  5.65108139\n",
      "  6.11387545  6.12673598  6.09728948  6.07314063  5.97133174  5.87292707\n",
      "  5.78744693  5.72623724  5.36495925  4.67132953  4.66573668  4.60661608\n",
      "  4.38191402  3.37000915]\n",
      "[ 4.16692686  4.29885824  5.02903283  5.04191236  5.21120078  5.65108139\n",
      "  6.11387545  6.12673598  6.09728948  6.07314063  5.97133174  5.87292707\n",
      "  5.78744693  5.72623724  5.36495925  4.67132953  4.66573668  4.60661608\n",
      "  4.38191402  3.37000915]\n",
      "[ 4.16692686  4.29885824  5.02903283  5.04191236  5.21120078  5.65108139\n",
      "  6.11387545  6.12673598  6.09728948  6.07314063  5.97133174  5.87292707\n",
      "  5.78744693  5.72623724  5.36495925  4.67132953  4.66573668  4.60661608\n",
      "  4.38191402  3.37000915]\n",
      "[ 4.16692686  4.29885824  5.02903283  5.04191236  5.21120078  5.65108139\n",
      "  6.11387545  6.12673598  6.09728948  6.07314063  5.97133174  5.87292707\n",
      "  5.78744693  5.72623724  5.36495925  4.67132953  4.66573668  4.60661608\n",
      "  4.38191402  3.37000915]\n",
      "[ 4.16692686  4.29885824  5.02903283  5.04191236  5.21120078  5.65108139\n",
      "  6.11387545  6.12673598  6.09728948  6.07314063  5.97133174  5.87292707\n",
      "  5.78744693  5.72623724  5.36495925  4.67132953  4.66573668  4.60661608\n",
      "  4.38191402  3.37000915]\n",
      "[ 4.16692686  4.29885824  5.02903283  5.04191236  5.21120078  5.65108139\n",
      "  6.11387545  6.12673598  6.09728948  6.07314063  5.97133174  5.87292707\n",
      "  5.78744693  5.72623724  5.36495925  4.67132953  4.66573668  4.60661608\n",
      "  4.38191402  3.37000915]\n",
      "[ 4.16692686  4.29885824  5.02903283  5.04191236  5.21120078  5.65108139\n",
      "  6.11387545  6.12673598  6.09728948  6.07314063  5.97133174  5.87292707\n",
      "  5.78744693  5.72623724  5.36495925  4.67132953  4.66573668  4.60661608\n",
      "  4.38191402  3.37000915]\n",
      "[ 4.16692686  4.29885824  5.02903283  5.04191236  5.21120078  5.65108139\n",
      "  6.11387545  6.12673598  6.09728948  6.07314063  5.97133174  5.87292707\n",
      "  5.78744693  5.72623724  5.36495925  4.67132953  4.66573668  4.60661608\n",
      "  4.38191402  3.37000915]\n",
      "[ 4.16692686  4.29885824  5.02903283  5.04191236  5.21120078  5.65108139\n",
      "  6.11387545  6.12673598  6.09728948  6.07314063  5.97133174  5.87292707\n",
      "  5.78744693  5.72623724  5.36495925  4.67132953  4.66573668  4.60661608\n",
      "  4.38191402  3.37000915]\n",
      "[ 4.16692686  4.29885824  5.02903283  5.04191236  5.21120078  5.65108139\n",
      "  6.11387545  6.12673598  6.09728948  6.07314063  5.97133174  5.87292707\n",
      "  5.78744693  5.72623724  5.36495925  4.67132953  4.66573668  4.60661608\n",
      "  4.38191402  3.37000915]\n",
      "[ 4.11083314  4.25665621  5.05028012  5.06404181  5.24399953  5.70167796\n",
      "  6.14900469  6.15894049  6.09864139  6.0703149   5.95673093  5.85117775\n",
      "  5.76135736  5.69781815  5.33178239  4.65577361  4.65042676  4.59399319\n",
      "  4.3808851   3.44422621]\n",
      "[ 4.11083314  4.25665621  5.05028012  5.06404181  5.24399953  5.70167796\n",
      "  6.14900469  6.15894049  6.09864139  6.0703149   5.95673093  5.85117775\n",
      "  5.76135736  5.69781815  5.33178239  4.65577361  4.65042676  4.59399319\n",
      "  4.3808851   3.44422621]\n",
      "[ 4.11083314  4.25665621  5.05028012  5.06404181  5.24399953  5.70167796\n",
      "  6.14900469  6.15894049  6.09864139  6.0703149   5.95673093  5.85117775\n",
      "  5.76135736  5.69781815  5.33178239  4.65577361  4.65042676  4.59399319\n",
      "  4.3808851   3.44422621]\n",
      "[ 4.11083314  4.25665621  5.05028012  5.06404181  5.24399953  5.70167796\n",
      "  6.14900469  6.15894049  6.09864139  6.0703149   5.95673093  5.85117775\n",
      "  5.76135736  5.69781815  5.33178239  4.65577361  4.65042676  4.59399319\n",
      "  4.3808851   3.44422621]\n",
      "[ 4.11083314  4.25665621  5.05028012  5.06404181  5.24399953  5.70167796\n",
      "  6.14900469  6.15894049  6.09864139  6.0703149   5.95673093  5.85117775\n",
      "  5.76135736  5.69781815  5.33178239  4.65577361  4.65042676  4.59399319\n",
      "  4.3808851   3.44422621]\n",
      "[ 4.11083314  4.25665621  5.05028012  5.06404181  5.24399953  5.70167796\n",
      "  6.14900469  6.15894049  6.09864139  6.0703149   5.95673093  5.85117775\n",
      "  5.76135736  5.69781815  5.33178239  4.65577361  4.65042676  4.59399319\n",
      "  4.3808851   3.44422621]\n",
      "[ 4.11083314  4.25665621  5.05028012  5.06404181  5.24399953  5.70167796\n",
      "  6.14900469  6.15894049  6.09864139  6.0703149   5.95673093  5.85117775\n",
      "  5.76135736  5.69781815  5.33178239  4.65577361  4.65042676  4.59399319\n",
      "  4.3808851   3.44422621]\n",
      "[ 4.11083314  4.25665621  5.05028012  5.06404181  5.24399953  5.70167796\n",
      "  6.14900469  6.15894049  6.09864139  6.0703149   5.95673093  5.85117775\n",
      "  5.76135736  5.69781815  5.33178239  4.65577361  4.65042676  4.59399319\n",
      "  4.3808851   3.44422621]\n",
      "[ 4.11083314  4.25665621  5.05028012  5.06404181  5.24399953  5.70167796\n",
      "  6.14900469  6.15894049  6.09864139  6.0703149   5.95673093  5.85117775\n",
      "  5.76135736  5.69781815  5.33178239  4.65577361  4.65042676  4.59399319\n",
      "  4.3808851   3.44422621]\n",
      "[ 4.11083314  4.25665621  5.05028012  5.06404181  5.24399953  5.70167796\n",
      "  6.14900469  6.15894049  6.09864139  6.0703149   5.95673093  5.85117775\n",
      "  5.76135736  5.69781815  5.33178239  4.65577361  4.65042676  4.59399319\n",
      "  4.3808851   3.44422621]\n",
      "[ 4.10470143  4.2530842   5.05509501  5.06891493  5.24934008  5.70554226\n",
      "  6.14615641  6.15573133  6.09445878  6.06634222  5.95383749  5.84939194\n",
      "  5.76050972  5.6976139   5.33467361  4.66037749  4.65501971  4.59844572\n",
      "  4.38438328  3.4349422 ]\n",
      "[ 4.10470143  4.2530842   5.05509501  5.06891493  5.24934008  5.70554226\n",
      "  6.14615641  6.15573133  6.09445878  6.06634222  5.95383749  5.84939194\n",
      "  5.76050972  5.6976139   5.33467361  4.66037749  4.65501971  4.59844572\n",
      "  4.38438328  3.4349422 ]\n",
      "[ 4.10470143  4.2530842   5.05509501  5.06891493  5.24934008  5.70554226\n",
      "  6.14615641  6.15573133  6.09445878  6.06634222  5.95383749  5.84939194\n",
      "  5.76050972  5.6976139   5.33467361  4.66037749  4.65501971  4.59844572\n",
      "  4.38438328  3.4349422 ]\n",
      "[ 4.10470143  4.2530842   5.05509501  5.06891493  5.24934008  5.70554226\n",
      "  6.14615641  6.15573133  6.09445878  6.06634222  5.95383749  5.84939194\n",
      "  5.76050972  5.6976139   5.33467361  4.66037749  4.65501971  4.59844572\n",
      "  4.38438328  3.4349422 ]\n",
      "[ 4.10470143  4.2530842   5.05509501  5.06891493  5.24934008  5.70554226\n",
      "  6.14615641  6.15573133  6.09445878  6.06634222  5.95383749  5.84939194\n",
      "  5.76050972  5.6976139   5.33467361  4.66037749  4.65501971  4.59844572\n",
      "  4.38438328  3.4349422 ]\n",
      "[ 4.10470143  4.2530842   5.05509501  5.06891493  5.24934008  5.70554226\n",
      "  6.14615641  6.15573133  6.09445878  6.06634222  5.95383749  5.84939194\n",
      "  5.76050972  5.6976139   5.33467361  4.66037749  4.65501971  4.59844572\n",
      "  4.38438328  3.4349422 ]\n",
      "[ 4.10470143  4.2530842   5.05509501  5.06891493  5.24934008  5.70554226\n",
      "  6.14615641  6.15573133  6.09445878  6.06634222  5.95383749  5.84939194\n",
      "  5.76050972  5.6976139   5.33467361  4.66037749  4.65501971  4.59844572\n",
      "  4.38438328  3.4349422 ]\n",
      "[ 4.10470143  4.2530842   5.05509501  5.06891493  5.24934008  5.70554226\n",
      "  6.14615641  6.15573133  6.09445878  6.06634222  5.95383749  5.84939194\n",
      "  5.76050972  5.6976139   5.33467361  4.66037749  4.65501971  4.59844572\n",
      "  4.38438328  3.4349422 ]\n",
      "[ 4.10470143  4.2530842   5.05509501  5.06891493  5.24934008  5.70554226\n",
      "  6.14615641  6.15573133  6.09445878  6.06634222  5.95383749  5.84939194\n",
      "  5.76050972  5.6976139   5.33467361  4.66037749  4.65501971  4.59844572\n",
      "  4.38438328  3.4349422 ]\n",
      "[ 4.10470143  4.2530842   5.05509501  5.06891493  5.24934008  5.70554226\n",
      "  6.14615641  6.15573133  6.09445878  6.06634222  5.95383749  5.84939194\n",
      "  5.76050972  5.6976139   5.33467361  4.66037749  4.65501971  4.59844572\n",
      "  4.38438328  3.4349422 ]\n",
      "[ 4.16418964  4.26362887  4.9882624   5.00319052  5.20424752  5.75055653\n",
      "  6.246288    6.24995884  6.10008956  6.05912041  5.91319386  5.79280659\n",
      "  5.69764969  5.63337572  5.29389759  4.70515742  4.70034537  4.64921367\n",
      "  4.44940918  3.36398032]\n",
      "[ 4.16418964  4.26362887  4.9882624   5.00319052  5.20424752  5.75055653\n",
      "  6.246288    6.24995884  6.10008956  6.05912041  5.91319386  5.79280659\n",
      "  5.69764969  5.63337572  5.29389759  4.70515742  4.70034537  4.64921367\n",
      "  4.44940918  3.36398032]\n",
      "[ 4.16418964  4.26362887  4.9882624   5.00319052  5.20424752  5.75055653\n",
      "  6.246288    6.24995884  6.10008956  6.05912041  5.91319386  5.79280659\n",
      "  5.69764969  5.63337572  5.29389759  4.70515742  4.70034537  4.64921367\n",
      "  4.44940918  3.36398032]\n",
      "[ 4.16418964  4.26362887  4.9882624   5.00319052  5.20424752  5.75055653\n",
      "  6.246288    6.24995884  6.10008956  6.05912041  5.91319386  5.79280659\n",
      "  5.69764969  5.63337572  5.29389759  4.70515742  4.70034537  4.64921367\n",
      "  4.44940918  3.36398032]\n",
      "[ 4.16418964  4.26362887  4.9882624   5.00319052  5.20424752  5.75055653\n",
      "  6.246288    6.24995884  6.10008956  6.05912041  5.91319386  5.79280659\n",
      "  5.69764969  5.63337572  5.29389759  4.70515742  4.70034537  4.64921367\n",
      "  4.44940918  3.36398032]\n",
      "[ 4.16418964  4.26362887  4.9882624   5.00319052  5.20424752  5.75055653\n",
      "  6.246288    6.24995884  6.10008956  6.05912041  5.91319386  5.79280659\n",
      "  5.69764969  5.63337572  5.29389759  4.70515742  4.70034537  4.64921367\n",
      "  4.44940918  3.36398032]\n",
      "[ 4.16418964  4.26362887  4.9882624   5.00319052  5.20424752  5.75055653\n",
      "  6.246288    6.24995884  6.10008956  6.05912041  5.91319386  5.79280659\n",
      "  5.69764969  5.63337572  5.29389759  4.70515742  4.70034537  4.64921367\n",
      "  4.44940918  3.36398032]\n",
      "[ 4.16418964  4.26362887  4.9882624   5.00319052  5.20424752  5.75055653\n",
      "  6.246288    6.24995884  6.10008956  6.05912041  5.91319386  5.79280659\n",
      "  5.69764969  5.63337572  5.29389759  4.70515742  4.70034537  4.64921367\n",
      "  4.44940918  3.36398032]\n",
      "[ 4.16418964  4.26362887  4.9882624   5.00319052  5.20424752  5.75055653\n",
      "  6.246288    6.24995884  6.10008956  6.05912041  5.91319386  5.79280659\n",
      "  5.69764969  5.63337572  5.29389759  4.70515742  4.70034537  4.64921367\n",
      "  4.44940918  3.36398032]\n",
      "[ 4.16418964  4.26362887  4.9882624   5.00319052  5.20424752  5.75055653\n",
      "  6.246288    6.24995884  6.10008956  6.05912041  5.91319386  5.79280659\n",
      "  5.69764969  5.63337572  5.29389759  4.70515742  4.70034537  4.64921367\n",
      "  4.44940918  3.36398032]\n",
      "[ 4.15632002  4.26824537  4.99637996  5.0107494   5.20378779  5.73207777\n",
      "  6.24492492  6.25083255  6.11009597  6.06833198  5.91745666  5.79200115\n",
      "  5.69290787  5.62620113  5.27986547  4.70569904  4.70107759  4.65196824\n",
      "  4.45953463  3.3601042 ]\n",
      "[ 4.15632002  4.26824537  4.99637996  5.0107494   5.20378779  5.73207777\n",
      "  6.24492492  6.25083255  6.11009597  6.06833198  5.91745666  5.79200115\n",
      "  5.69290787  5.62620113  5.27986547  4.70569904  4.70107759  4.65196824\n",
      "  4.45953463  3.3601042 ]\n",
      "[ 4.15632002  4.26824537  4.99637996  5.0107494   5.20378779  5.73207777\n",
      "  6.24492492  6.25083255  6.11009597  6.06833198  5.91745666  5.79200115\n",
      "  5.69290787  5.62620113  5.27986547  4.70569904  4.70107759  4.65196824\n",
      "  4.45953463  3.3601042 ]\n",
      "[ 4.15632002  4.26824537  4.99637996  5.0107494   5.20378779  5.73207777\n",
      "  6.24492492  6.25083255  6.11009597  6.06833198  5.91745666  5.79200115\n",
      "  5.69290787  5.62620113  5.27986547  4.70569904  4.70107759  4.65196824\n",
      "  4.45953463  3.3601042 ]\n",
      "[ 4.15632002  4.26824537  4.99637996  5.0107494   5.20378779  5.73207777\n",
      "  6.24492492  6.25083255  6.11009597  6.06833198  5.91745666  5.79200115\n",
      "  5.69290787  5.62620113  5.27986547  4.70569904  4.70107759  4.65196824\n",
      "  4.45953463  3.3601042 ]\n",
      "[ 4.15632002  4.26824537  4.99637996  5.0107494   5.20378779  5.73207777\n",
      "  6.24492492  6.25083255  6.11009597  6.06833198  5.91745666  5.79200115\n",
      "  5.69290787  5.62620113  5.27986547  4.70569904  4.70107759  4.65196824\n",
      "  4.45953463  3.3601042 ]\n",
      "[ 4.15632002  4.26824537  4.99637996  5.0107494   5.20378779  5.73207777\n",
      "  6.24492492  6.25083255  6.11009597  6.06833198  5.91745666  5.79200115\n",
      "  5.69290787  5.62620113  5.27986547  4.70569904  4.70107759  4.65196824\n",
      "  4.45953463  3.3601042 ]\n",
      "[ 4.15632002  4.26824537  4.99637996  5.0107494   5.20378779  5.73207777\n",
      "  6.24492492  6.25083255  6.11009597  6.06833198  5.91745666  5.79200115\n",
      "  5.69290787  5.62620113  5.27986547  4.70569904  4.70107759  4.65196824\n",
      "  4.45953463  3.3601042 ]\n",
      "[ 4.15632002  4.26824537  4.99637996  5.0107494   5.20378779  5.73207777\n",
      "  6.24492492  6.25083255  6.11009597  6.06833198  5.91745666  5.79200115\n",
      "  5.69290787  5.62620113  5.27986547  4.70569904  4.70107759  4.65196824\n",
      "  4.45953463  3.3601042 ]\n",
      "[ 4.15632002  4.26824537  4.99637996  5.0107494   5.20378779  5.73207777\n",
      "  6.24492492  6.25083255  6.11009597  6.06833198  5.91745666  5.79200115\n",
      "  5.69290787  5.62620113  5.27986547  4.70569904  4.70107759  4.65196824\n",
      "  4.45953463  3.3601042 ]\n",
      "[ 4.14291646  4.28244258  5.00352372  5.01678448  5.19616626  5.71328912\n",
      "  6.25947345  6.26510223  6.10559872  6.06140911  5.90738213  5.78447713\n",
      "  5.68973659  5.62674185  5.30043187  4.7109906   4.70595502  4.65229001\n",
      "  4.44072286  3.3631275 ]\n",
      "[ 4.14291646  4.28244258  5.00352372  5.01678448  5.19616626  5.71328912\n",
      "  6.25947345  6.26510223  6.10559872  6.06140911  5.90738213  5.78447713\n",
      "  5.68973659  5.62674185  5.30043187  4.7109906   4.70595502  4.65229001\n",
      "  4.44072286  3.3631275 ]\n",
      "[ 4.14291646  4.28244258  5.00352372  5.01678448  5.19616626  5.71328912\n",
      "  6.25947345  6.26510223  6.10559872  6.06140911  5.90738213  5.78447713\n",
      "  5.68973659  5.62674185  5.30043187  4.7109906   4.70595502  4.65229001\n",
      "  4.44072286  3.3631275 ]\n",
      "[ 4.14291646  4.28244258  5.00352372  5.01678448  5.19616626  5.71328912\n",
      "  6.25947345  6.26510223  6.10559872  6.06140911  5.90738213  5.78447713\n",
      "  5.68973659  5.62674185  5.30043187  4.7109906   4.70595502  4.65229001\n",
      "  4.44072286  3.3631275 ]\n",
      "[ 4.14291646  4.28244258  5.00352372  5.01678448  5.19616626  5.71328912\n",
      "  6.25947345  6.26510223  6.10559872  6.06140911  5.90738213  5.78447713\n",
      "  5.68973659  5.62674185  5.30043187  4.7109906   4.70595502  4.65229001\n",
      "  4.44072286  3.3631275 ]\n",
      "[ 4.14291646  4.28244258  5.00352372  5.01678448  5.19616626  5.71328912\n",
      "  6.25947345  6.26510223  6.10559872  6.06140911  5.90738213  5.78447713\n",
      "  5.68973659  5.62674185  5.30043187  4.7109906   4.70595502  4.65229001\n",
      "  4.44072286  3.3631275 ]\n",
      "[ 4.14291646  4.28244258  5.00352372  5.01678448  5.19616626  5.71328912\n",
      "  6.25947345  6.26510223  6.10559872  6.06140911  5.90738213  5.78447713\n",
      "  5.68973659  5.62674185  5.30043187  4.7109906   4.70595502  4.65229001\n",
      "  4.44072286  3.3631275 ]\n",
      "[ 4.14291646  4.28244258  5.00352372  5.01678448  5.19616626  5.71328912\n",
      "  6.25947345  6.26510223  6.10559872  6.06140911  5.90738213  5.78447713\n",
      "  5.68973659  5.62674185  5.30043187  4.7109906   4.70595502  4.65229001\n",
      "  4.44072286  3.3631275 ]\n",
      "[ 4.14291646  4.28244258  5.00352372  5.01678448  5.19616626  5.71328912\n",
      "  6.25947345  6.26510223  6.10559872  6.06140911  5.90738213  5.78447713\n",
      "  5.68973659  5.62674185  5.30043187  4.7109906   4.70595502  4.65229001\n",
      "  4.44072286  3.3631275 ]\n",
      "[ 4.14291646  4.28244258  5.00352372  5.01678448  5.19616626  5.71328912\n",
      "  6.25947345  6.26510223  6.10559872  6.06140911  5.90738213  5.78447713\n",
      "  5.68973659  5.62674185  5.30043187  4.7109906   4.70595502  4.65229001\n",
      "  4.44072286  3.3631275 ]\n",
      "[ 4.14980036  4.2732842   5.0038042   5.01747473  5.20048089  5.71022594\n",
      "  6.25690436  6.26428944  6.11115874  6.06595684  5.90747022  5.78160893\n",
      "  5.68567525  5.62254789  5.30287528  4.71524673  4.71002805  4.65422553\n",
      "  4.43167398  3.36383013]\n",
      "[ 4.14980036  4.2732842   5.0038042   5.01747473  5.20048089  5.71022594\n",
      "  6.25690436  6.26428944  6.11115874  6.06595684  5.90747022  5.78160893\n",
      "  5.68567525  5.62254789  5.30287528  4.71524673  4.71002805  4.65422553\n",
      "  4.43167398  3.36383013]\n",
      "[ 4.14980036  4.2732842   5.0038042   5.01747473  5.20048089  5.71022594\n",
      "  6.25690436  6.26428944  6.11115874  6.06595684  5.90747022  5.78160893\n",
      "  5.68567525  5.62254789  5.30287528  4.71524673  4.71002805  4.65422553\n",
      "  4.43167398  3.36383013]\n",
      "[ 4.14980036  4.2732842   5.0038042   5.01747473  5.20048089  5.71022594\n",
      "  6.25690436  6.26428944  6.11115874  6.06595684  5.90747022  5.78160893\n",
      "  5.68567525  5.62254789  5.30287528  4.71524673  4.71002805  4.65422553\n",
      "  4.43167398  3.36383013]\n",
      "[ 4.14980036  4.2732842   5.0038042   5.01747473  5.20048089  5.71022594\n",
      "  6.25690436  6.26428944  6.11115874  6.06595684  5.90747022  5.78160893\n",
      "  5.68567525  5.62254789  5.30287528  4.71524673  4.71002805  4.65422553\n",
      "  4.43167398  3.36383013]\n",
      "[ 4.14980036  4.2732842   5.0038042   5.01747473  5.20048089  5.71022594\n",
      "  6.25690436  6.26428944  6.11115874  6.06595684  5.90747022  5.78160893\n",
      "  5.68567525  5.62254789  5.30287528  4.71524673  4.71002805  4.65422553\n",
      "  4.43167398  3.36383013]\n",
      "[ 4.14980036  4.2732842   5.0038042   5.01747473  5.20048089  5.71022594\n",
      "  6.25690436  6.26428944  6.11115874  6.06595684  5.90747022  5.78160893\n",
      "  5.68567525  5.62254789  5.30287528  4.71524673  4.71002805  4.65422553\n",
      "  4.43167398  3.36383013]\n",
      "[ 4.14980036  4.2732842   5.0038042   5.01747473  5.20048089  5.71022594\n",
      "  6.25690436  6.26428944  6.11115874  6.06595684  5.90747022  5.78160893\n",
      "  5.68567525  5.62254789  5.30287528  4.71524673  4.71002805  4.65422553\n",
      "  4.43167398  3.36383013]\n",
      "[ 4.14980036  4.2732842   5.0038042   5.01747473  5.20048089  5.71022594\n",
      "  6.25690436  6.26428944  6.11115874  6.06595684  5.90747022  5.78160893\n",
      "  5.68567525  5.62254789  5.30287528  4.71524673  4.71002805  4.65422553\n",
      "  4.43167398  3.36383013]\n",
      "[ 4.14980036  4.2732842   5.0038042   5.01747473  5.20048089  5.71022594\n",
      "  6.25690436  6.26428944  6.11115874  6.06595684  5.90747022  5.78160893\n",
      "  5.68567525  5.62254789  5.30287528  4.71524673  4.71002805  4.65422553\n",
      "  4.43167398  3.36383013]\n",
      "[ 4.12095539  4.31420271  4.99327639  5.00633685  5.19053443  5.74432665\n",
      "  6.24032832  6.24653946  6.12336896  6.08115789  5.920527    5.78373776\n",
      "  5.67764262  5.60838874  5.28721672  4.73374589  4.72801471  4.66554684\n",
      "  4.39705008  3.36566429]\n",
      "[ 4.12095539  4.31420271  4.99327639  5.00633685  5.19053443  5.74432665\n",
      "  6.24032832  6.24653946  6.12336896  6.08115789  5.920527    5.78373776\n",
      "  5.67764262  5.60838874  5.28721672  4.73374589  4.72801471  4.66554684\n",
      "  4.39705008  3.36566429]\n",
      "[ 4.12095539  4.31420271  4.99327639  5.00633685  5.19053443  5.74432665\n",
      "  6.24032832  6.24653946  6.12336896  6.08115789  5.920527    5.78373776\n",
      "  5.67764262  5.60838874  5.28721672  4.73374589  4.72801471  4.66554684\n",
      "  4.39705008  3.36566429]\n",
      "[ 4.12095539  4.31420271  4.99327639  5.00633685  5.19053443  5.74432665\n",
      "  6.24032832  6.24653946  6.12336896  6.08115789  5.920527    5.78373776\n",
      "  5.67764262  5.60838874  5.28721672  4.73374589  4.72801471  4.66554684\n",
      "  4.39705008  3.36566429]\n",
      "[ 4.12095539  4.31420271  4.99327639  5.00633685  5.19053443  5.74432665\n",
      "  6.24032832  6.24653946  6.12336896  6.08115789  5.920527    5.78373776\n",
      "  5.67764262  5.60838874  5.28721672  4.73374589  4.72801471  4.66554684\n",
      "  4.39705008  3.36566429]\n",
      "[ 4.12095539  4.31420271  4.99327639  5.00633685  5.19053443  5.74432665\n",
      "  6.24032832  6.24653946  6.12336896  6.08115789  5.920527    5.78373776\n",
      "  5.67764262  5.60838874  5.28721672  4.73374589  4.72801471  4.66554684\n",
      "  4.39705008  3.36566429]\n",
      "[ 4.12095539  4.31420271  4.99327639  5.00633685  5.19053443  5.74432665\n",
      "  6.24032832  6.24653946  6.12336896  6.08115789  5.920527    5.78373776\n",
      "  5.67764262  5.60838874  5.28721672  4.73374589  4.72801471  4.66554684\n",
      "  4.39705008  3.36566429]\n",
      "[ 4.12095539  4.31420271  4.99327639  5.00633685  5.19053443  5.74432665\n",
      "  6.24032832  6.24653946  6.12336896  6.08115789  5.920527    5.78373776\n",
      "  5.67764262  5.60838874  5.28721672  4.73374589  4.72801471  4.66554684\n",
      "  4.39705008  3.36566429]\n",
      "[ 4.12095539  4.31420271  4.99327639  5.00633685  5.19053443  5.74432665\n",
      "  6.24032832  6.24653946  6.12336896  6.08115789  5.920527    5.78373776\n",
      "  5.67764262  5.60838874  5.28721672  4.73374589  4.72801471  4.66554684\n",
      "  4.39705008  3.36566429]\n",
      "[ 4.12095539  4.31420271  4.99327639  5.00633685  5.19053443  5.74432665\n",
      "  6.24032832  6.24653946  6.12336896  6.08115789  5.920527    5.78373776\n",
      "  5.67764262  5.60838874  5.28721672  4.73374589  4.72801471  4.66554684\n",
      "  4.39705008  3.36566429]\n",
      "[ 4.13018442  4.30033172  5.00456135  5.01584278  5.17587715  5.73796889\n",
      "  6.25497247  6.24970201  6.09796323  6.06468821  5.93181543  5.80300089\n",
      "  5.69237399  5.61576166  5.24802221  4.74651412  4.74087575  4.67776235\n",
      "  4.37387993  3.36646314]\n",
      "[ 4.13018442  4.30033172  5.00456135  5.01584278  5.17587715  5.73796889\n",
      "  6.25497247  6.24970201  6.09796323  6.06468821  5.93181543  5.80300089\n",
      "  5.69237399  5.61576166  5.24802221  4.74651412  4.74087575  4.67776235\n",
      "  4.37387993  3.36646314]\n",
      "[ 4.13018442  4.30033172  5.00456135  5.01584278  5.17587715  5.73796889\n",
      "  6.25497247  6.24970201  6.09796323  6.06468821  5.93181543  5.80300089\n",
      "  5.69237399  5.61576166  5.24802221  4.74651412  4.74087575  4.67776235\n",
      "  4.37387993  3.36646314]\n",
      "[ 4.13018442  4.30033172  5.00456135  5.01584278  5.17587715  5.73796889\n",
      "  6.25497247  6.24970201  6.09796323  6.06468821  5.93181543  5.80300089\n",
      "  5.69237399  5.61576166  5.24802221  4.74651412  4.74087575  4.67776235\n",
      "  4.37387993  3.36646314]\n",
      "[ 4.13018442  4.30033172  5.00456135  5.01584278  5.17587715  5.73796889\n",
      "  6.25497247  6.24970201  6.09796323  6.06468821  5.93181543  5.80300089\n",
      "  5.69237399  5.61576166  5.24802221  4.74651412  4.74087575  4.67776235\n",
      "  4.37387993  3.36646314]\n",
      "[ 4.13018442  4.30033172  5.00456135  5.01584278  5.17587715  5.73796889\n",
      "  6.25497247  6.24970201  6.09796323  6.06468821  5.93181543  5.80300089\n",
      "  5.69237399  5.61576166  5.24802221  4.74651412  4.74087575  4.67776235\n",
      "  4.37387993  3.36646314]\n",
      "[ 4.13018442  4.30033172  5.00456135  5.01584278  5.17587715  5.73796889\n",
      "  6.25497247  6.24970201  6.09796323  6.06468821  5.93181543  5.80300089\n",
      "  5.69237399  5.61576166  5.24802221  4.74651412  4.74087575  4.67776235\n",
      "  4.37387993  3.36646314]\n",
      "[ 4.13018442  4.30033172  5.00456135  5.01584278  5.17587715  5.73796889\n",
      "  6.25497247  6.24970201  6.09796323  6.06468821  5.93181543  5.80300089\n",
      "  5.69237399  5.61576166  5.24802221  4.74651412  4.74087575  4.67776235\n",
      "  4.37387993  3.36646314]\n",
      "[ 4.13018442  4.30033172  5.00456135  5.01584278  5.17587715  5.73796889\n",
      "  6.25497247  6.24970201  6.09796323  6.06468821  5.93181543  5.80300089\n",
      "  5.69237399  5.61576166  5.24802221  4.74651412  4.74087575  4.67776235\n",
      "  4.37387993  3.36646314]\n",
      "[ 4.13018442  4.30033172  5.00456135  5.01584278  5.17587715  5.73796889\n",
      "  6.25497247  6.24970201  6.09796323  6.06468821  5.93181543  5.80300089\n",
      "  5.69237399  5.61576166  5.24802221  4.74651412  4.74087575  4.67776235\n",
      "  4.37387993  3.36646314]\n",
      "[ 4.13245476  4.29661749  5.01213272  5.02151919  5.15994114  5.74335636\n",
      "  6.25596503  6.24568514  6.09778472  6.06720844  5.93593281  5.80286926\n",
      "  5.68874422  5.61074848  5.25377081  4.74594275  4.74009221  4.67514643\n",
      "  4.37624852  3.36640123]\n",
      "[ 4.13245476  4.29661749  5.01213272  5.02151919  5.15994114  5.74335636\n",
      "  6.25596503  6.24568514  6.09778472  6.06720844  5.93593281  5.80286926\n",
      "  5.68874422  5.61074848  5.25377081  4.74594275  4.74009221  4.67514643\n",
      "  4.37624852  3.36640123]\n",
      "[ 4.13245476  4.29661749  5.01213272  5.02151919  5.15994114  5.74335636\n",
      "  6.25596503  6.24568514  6.09778472  6.06720844  5.93593281  5.80286926\n",
      "  5.68874422  5.61074848  5.25377081  4.74594275  4.74009221  4.67514643\n",
      "  4.37624852  3.36640123]\n",
      "[ 4.13245476  4.29661749  5.01213272  5.02151919  5.15994114  5.74335636\n",
      "  6.25596503  6.24568514  6.09778472  6.06720844  5.93593281  5.80286926\n",
      "  5.68874422  5.61074848  5.25377081  4.74594275  4.74009221  4.67514643\n",
      "  4.37624852  3.36640123]\n",
      "[ 4.13245476  4.29661749  5.01213272  5.02151919  5.15994114  5.74335636\n",
      "  6.25596503  6.24568514  6.09778472  6.06720844  5.93593281  5.80286926\n",
      "  5.68874422  5.61074848  5.25377081  4.74594275  4.74009221  4.67514643\n",
      "  4.37624852  3.36640123]\n",
      "[ 4.13245476  4.29661749  5.01213272  5.02151919  5.15994114  5.74335636\n",
      "  6.25596503  6.24568514  6.09778472  6.06720844  5.93593281  5.80286926\n",
      "  5.68874422  5.61074848  5.25377081  4.74594275  4.74009221  4.67514643\n",
      "  4.37624852  3.36640123]\n",
      "[ 4.13245476  4.29661749  5.01213272  5.02151919  5.15994114  5.74335636\n",
      "  6.25596503  6.24568514  6.09778472  6.06720844  5.93593281  5.80286926\n",
      "  5.68874422  5.61074848  5.25377081  4.74594275  4.74009221  4.67514643\n",
      "  4.37624852  3.36640123]\n",
      "[ 4.13245476  4.29661749  5.01213272  5.02151919  5.15994114  5.74335636\n",
      "  6.25596503  6.24568514  6.09778472  6.06720844  5.93593281  5.80286926\n",
      "  5.68874422  5.61074848  5.25377081  4.74594275  4.74009221  4.67514643\n",
      "  4.37624852  3.36640123]\n",
      "[ 4.13245476  4.29661749  5.01213272  5.02151919  5.15994114  5.74335636\n",
      "  6.25596503  6.24568514  6.09778472  6.06720844  5.93593281  5.80286926\n",
      "  5.68874422  5.61074848  5.25377081  4.74594275  4.74009221  4.67514643\n",
      "  4.37624852  3.36640123]\n",
      "[ 4.13245476  4.29661749  5.01213272  5.02151919  5.15994114  5.74335636\n",
      "  6.25596503  6.24568514  6.09778472  6.06720844  5.93593281  5.80286926\n",
      "  5.68874422  5.61074848  5.25377081  4.74594275  4.74009221  4.67514643\n",
      "  4.37624852  3.36640123]\n"
     ]
    },
    {
     "data": {
      "image/png": "[encoded data removed]",
      "text/plain": [
       "<matplotlib.figure.Figure at 0x1179ffc90>"
      ]
     },
     "metadata": {},
     "output_type": "display_data"
    }
   ],
   "source": [
    "from sklearn import linear_model\n",
    "\n",
    "bs = [] # bias values\n",
    "vars = [] # variance values\n",
    "exps = np.arange(0, 12, .1)\n",
    "\n",
    "for i in exps:\n",
    "    X = polynomials(domain, i)\n",
    "    # Create linear regression object\n",
    "    #regr = ???\n",
    "    #regr.fit(X, Y)\n",
    "\n",
    "    #yhat = ???\n",
    "    #sse = ???\n",
    "    #var = ???\n",
    "    #bias = ???\n",
    "    \n",
    "    regr = linear_model.LinearRegression()\n",
    "    regr.fit(X, Y)\n",
    "    yhat = regr.predict(X)\n",
    "    sse = np.mean((np.mean(yhat) - Y) ** 2)\n",
    "    var = np.var(yhat)\n",
    "    bias = sse - var - 0.01\n",
    "    \n",
    "    bs.append(bias)\n",
    "    vars.append(var)\n",
    "\n",
    "plt.plot(exps, bs, label=\"Bias\")\n",
    "plt.plot(exps, vars, label=\"Variance\")\n",
    "ax = plt.gca()\n",
    "\n",
    "handles, labels = ax.get_legend_handles_labels()\n",
    "ax.legend(handles, labels)\n",
    "\n",
    "plt.show()"
   ]
  },
  {
   "cell_type": "markdown",
   "metadata": {
    "slideshow": {
     "slide_type": "slide"
    }
   },
   "source": [
    "Notice that the fits for $n = 2, 3, 4$ are pretty good. As the exponent increases, the best fit curve is overfitting the dataset, and the shape of the curve does not reflect what we know the underlying data to really look like. In this case we have error due to variance -- with too many parameters, our model is fitting the random variations in the data which we generally want to avoid."
   ]
  },
  {
   "cell_type": "code",
   "execution_count": null,
   "metadata": {
    "collapsed": true
   },
   "outputs": [],
   "source": [
    "for i in range(1, 7):\n",
    "    # Generate some data\n",
    "    f = lambda x: 1 - 2 * x + 3 * x ** i + np.random.normal(mu, sigma)\n",
    "    data = generate_data(f, 0, 2, n=20)\n",
    "\n",
    "    domain = np.array([x[0] for x in data])\n",
    "    Y = np.array([x[1] for x in data])\n",
    "\n",
    "    X = np.array([domain]).transpose()\n",
    "    # Create linear regression object\n",
    "   \n",
    "    # Computer the errors\n",
    "\n",
    "    # Plot outputs"
   ]
  },
  {
   "cell_type": "markdown",
   "metadata": {
    "slideshow": {
     "slide_type": "skip"
    }
   },
   "source": [
    "# Advanced exercises (optional)\n",
    "\n",
    "Some functions, like $sin$ and $exp$ can be better fit with increasing large polynomials.\n",
    "\n",
    "* By modifying the above code, fit polynomials of degree $n$ as $n$ ranges from 1 to 10 to $sin$ on the interval $[0, 2 \\pi]$.\n",
    "* Can you explain why the bias and variance continue to decrease as $n$ gets large?"
   ]
  },
  {
   "cell_type": "code",
   "execution_count": null,
   "metadata": {
    "collapsed": true,
    "slideshow": {
     "slide_type": "skip"
    }
   },
   "outputs": [],
   "source": [
    "import math\n",
    "f = lambda x: math.sin(x) + np.random.normal(mu, sigma)\n",
    "data = generate_data(f, 0, 2*3.14, n=100)\n",
    "\n",
    "domain = np.array([x[0] for x in data])\n",
    "Y = np.array([x[1] for x in data])\n",
    "\n",
    "for i in range(1, 10):\n",
    "    pass\n",
    "    # Fit a polynomial of degree i to the data\n",
    "    \n",
    "    # Compute the errors\n",
    "\n",
    "    # Plot outputs"
   ]
  },
  {
   "cell_type": "markdown",
   "metadata": {
    "slideshow": {
     "slide_type": "skip"
    }
   },
   "source": [
    "### Repeat the same exercise with the function\n",
    "\n",
    "$$ y = e^x $$\n",
    "\n",
    "You should again find that larger polynomials fit the data better.\n"
   ]
  },
  {
   "cell_type": "markdown",
   "metadata": {
    "slideshow": {
     "slide_type": "skip"
    }
   },
   "source": [
    "### A bad model for the exponential\n",
    "\n",
    "To see a model with high variance, try fitting the model:\n",
    "\n",
    "```\n",
    "y = a sin(x) + b cos(x)\n",
    "```\n",
    "\n",
    "to `y = e^x`. Does this model have more bias or variance?"
   ]
  }
 ],
 "metadata": {
  "anaconda-cloud": {},
  "celltoolbar": "Slideshow",
  "kernelspec": {
   "display_name": "Python [Root]",
   "language": "python",
   "name": "Python [Root]"
  },
  "language_info": {
   "codemirror_mode": {
    "name": "ipython",
    "version": 2
   },
   "file_extension": ".py",
   "mimetype": "text/x-python",
   "name": "python",
   "nbconvert_exporter": "python",
   "pygments_lexer": "ipython2",
   "version": "2.7.12"
  }
 },
 "nbformat": 4,
 "nbformat_minor": 0
}
