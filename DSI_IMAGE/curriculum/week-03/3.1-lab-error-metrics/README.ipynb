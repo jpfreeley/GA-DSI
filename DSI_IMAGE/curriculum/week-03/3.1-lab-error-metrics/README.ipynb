{
 "cells": [
  {
   "cell_type": "markdown",
   "metadata": {},
   "source": [
    "---\n",
    "title: Evaluating Model Fit\n",
    "type: lab\n",
    "duration: \"1:25\"\n",
    "creator:\n",
    "    name: Marc Harper\n",
    "    city: LA\n",
    "---\n",
    "\n",
    "# ![](https://ga-dash.s3.amazonaws.com/production/assets/logo-9f88ae6c9c3871690e33280fcf557f33.png) Evaluating Model Fit\n",
    "\n",
    "## Introduction\n",
    "\n",
    "In this lab we'll learn about a new measure of model fit called the coefficient of determination or _r-squared_.\n",
    "\n",
    "#### Requirements\n",
    "\n",
    "- Make several models and compute the goodness of fit values\n",
    "- Learn how to interpret r-squared\n",
    "- Explore the effect of outliers on model fit\n",
    "\n",
    "**Bonus:**\n",
    "- Explore the relationship between model complexity and goodness of fit\n",
    "- Read through the case study on confounding\n",
    "\n",
    "#### Starter code\n",
    "\n",
    "Take a look at the [starter code](./code/starter-code/W3-Lab2.2-Starter.ipynb) as soon as you are ready.\n",
    "\n",
    "> [Solution Code](./code/solution-code/W3-Lab2.2-Solutions.ipynb)\n",
    "\n",
    "#### Deliverable\n",
    "\n",
    "* A completed Jupyter notebook\n",
    "\n",
    "\n",
    "## Additional Resources\n",
    "\n",
    "- [Interpreting r-squared](http://blog.minitab.com/blog/adventures-in-statistics/regression-analysis-how-do-i-interpret-r-squared-and-assess-the-goodness-of-fit)\n",
    "- Hilarious graphs that prove that [correlation is not causation](http://www.fastcodesign.com/3030529/infographic-of-the-day/hilarious-graphs-prove-that-correlation-isnt-causation/4)\n"
   ]
  }
 ],
 "metadata": {
  "anaconda-cloud": {},
  "kernelspec": {
   "display_name": "Python [Root]",
   "language": "python",
   "name": "Python [Root]"
  },
  "language_info": {
   "codemirror_mode": {
    "name": "ipython",
    "version": 2
   },
   "file_extension": ".py",
   "mimetype": "text/x-python",
   "name": "python",
   "nbconvert_exporter": "python",
   "pygments_lexer": "ipython2",
   "version": "2.7.12"
  }
 },
 "nbformat": 4,
 "nbformat_minor": 0
}
