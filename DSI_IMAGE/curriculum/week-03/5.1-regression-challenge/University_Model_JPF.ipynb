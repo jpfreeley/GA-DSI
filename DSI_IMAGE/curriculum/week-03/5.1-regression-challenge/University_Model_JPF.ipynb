{
 "cells": [
  {
   "cell_type": "code",
   "execution_count": 47,
   "metadata": {
    "ExecuteTime": {
     "end_time": "2016-10-07T12:13:54.149014",
     "start_time": "2016-10-07T12:13:54.042718"
    },
    "collapsed": false
   },
   "outputs": [],
   "source": [
    "import pandas as pd\n",
    "import seaborn as sns\n",
    "import matplotlib as plt\n",
    "from sklearn import datasets\n",
    "from sklearn import linear_model\n",
    "from sklearn.metrics import r2_score\n",
    "from sklearn.cross_validation import train_test_split\n",
    "from sklearn.cross_validation import cross_val_score\n",
    "from sklearn.cross_validation import cross_val_predict\n",
    "import numpy as np\n",
    "%matplotlib inline\n",
    "\n",
    "dfs = pd.read_csv('/Users/jfreeley/GA-DSI/DSI_IMAGE/curriculum/week-03/5.1-regression-challenge/datasets/ranking-submission.csv')\n",
    "dfc = pd.read_csv('/Users/jfreeley/GA-DSI/DSI_IMAGE/curriculum/week-03/5.1-regression-challenge/datasets/challenge-dataset.csv')\n",
    "\n",
    "dfc.loc[dfc['income'] == '-', 'income'] = 41.0 #MEDIAN of NON-DASHES\n",
    "dfc['income'] = dfc['income'].astype(float)    \n",
    "dfc['international_students'] = dfc['international_students'].str.replace('%', '')\n",
    "dfc.loc[dfc['international_students'].isnull(), 'international_students'] = 13\n",
    "dfc['international_students'] = dfc['international_students'].astype(float)\n",
    "dfc.loc[dfc['international'] == '-', 'international'] = 50.3 #MEDIAN of NON-DASHES\n",
    "dfc['international'] = dfc['international'].astype(float) \n",
    "dfc['world_rank'] = pd.to_numeric(dfc['world_rank'], errors='coerce')\n",
    "dfc['world_rank'].fillna(value=100, inplace=True) # *100* = MEDIAN of NON-DASHES\n",
    "dfc['world_rank'] = dfc['world_rank'].astype(int)\n",
    "dfc['num_students'] = dfc['num_students'].str.replace(',', '')\n",
    "dfc['num_students'] = dfc.loc[:, ['num_students']].astype(float)\n",
    "dfc.loc[dfc['num_students'].isnull(), 'num_students'] = 20851.0 #MEDIAN of NON-NULLS\n",
    "dfc.loc[dfc['student_staff_ratio'].isnull(), 'student_staff_ratio'] = 16.1 #MEDIAN of NON-NULLS\n"
   ]
  },
  {
   "cell_type": "code",
   "execution_count": 48,
   "metadata": {
    "ExecuteTime": {
     "end_time": "2016-10-07T12:14:04.427479",
     "start_time": "2016-10-07T12:14:04.411886"
    },
    "collapsed": false
   },
   "outputs": [
    {
     "data": {
      "text/plain": [
       "world_rank                2603\n",
       "university_name           2603\n",
       "country                   2603\n",
       "teaching                  2603\n",
       "international             2603\n",
       "research                  2603\n",
       "citations                 2603\n",
       "income                    2603\n",
       "total_score               1803\n",
       "num_students              2603\n",
       "student_staff_ratio       2603\n",
       "international_students    2603\n",
       "female_male_ratio         2370\n",
       "year                      2603\n",
       "dtype: int64"
      ]
     },
     "execution_count": 48,
     "metadata": {},
     "output_type": "execute_result"
    }
   ],
   "source": [
    "#print dfc.head(5)\n",
    "\n",
    "#def clean_intl(x):\n",
    "#    x.strip('%')\n",
    "\n",
    "#dfc['student_staff_ratio'].unique()\n",
    "#dfc_stu_not = dfc[dfc['student_staff_ratio'].notnull()]\n",
    "#dfc_stu_not['student_staff_ratio'].median()\n",
    "\n",
    "#dfc['income'] = dfc['international_students'].apply(clean_intl)\n",
    "#dfc['income'].unique()\n",
    "#print dfc.dtypes\n",
    "#dfc_train = dfc[dfc['total_score'].notnull()]\n",
    "#dfc_train.count()\n",
    "dfc.count()"
   ]
  },
  {
   "cell_type": "code",
   "execution_count": 49,
   "metadata": {
    "ExecuteTime": {
     "end_time": "2016-10-07T12:14:59.040166",
     "start_time": "2016-10-07T12:14:58.452004"
    },
    "collapsed": false
   },
   "outputs": [
    {
     "name": "stderr",
     "output_type": "stream",
     "text": [
      "/Applications/anaconda/anaconda/lib/python2.7/site-packages/ipykernel/__main__.py:4: SettingWithCopyWarning: \n",
      "A value is trying to be set on a copy of a slice from a DataFrame\n",
      "\n",
      "See the caveats in the documentation: http://pandas.pydata.org/pandas-docs/stable/indexing.html#indexing-view-versus-copy\n"
     ]
    },
    {
     "data": {
      "text/plain": [
       "<matplotlib.axes._subplots.AxesSubplot at 0x117d53f10>"
      ]
     },
     "execution_count": 49,
     "metadata": {},
     "output_type": "execute_result"
    },
    {
     "data": {
      "image/png": "[encoded data removed]",
      "text/plain": [
       "<matplotlib.figure.Figure at 0x117d3dd50>"
      ]
     },
     "metadata": {},
     "output_type": "display_data"
    }
   ],
   "source": [
    "cols = ['international','num_students','income', 'teaching', 'research', 'citations', \\\n",
    "        'international_students', 'total_score']\n",
    "df2 = dfc.copy()[cols]\n",
    "dfc_X = df2[(df2['total_score'] != '-') & (df2['total_score'].notnull())]\n",
    "dfc_X.drop('total_score', axis=1, inplace=True)\n",
    "#print dfc_X.dtypes\n",
    "dfc_train = dfc[(dfc['total_score'] != '-') & (dfc['total_score'].notnull())]\n",
    "train_cols = ['total_score']\n",
    "train = dfc_train.copy()[train_cols]\n",
    "\n",
    " \n",
    "#print df2\n",
    "sns.heatmap(df2.corr())"
   ]
  },
  {
   "cell_type": "code",
   "execution_count": 50,
   "metadata": {
    "ExecuteTime": {
     "end_time": "2016-10-07T16:05:59.267269",
     "start_time": "2016-10-07T16:05:59.243380"
    },
    "collapsed": false
   },
   "outputs": [
    {
     "name": "stdout",
     "output_type": "stream",
     "text": [
      "0     1\n",
      "1     8\n",
      "2    27\n",
      "3    64\n",
      "dtype: int64\n"
     ]
    }
   ],
   "source": [
    "a = pd.Series([1,2,3,4])\n",
    "print a.apply(lambda x: x**3)"
   ]
  }
 ],
 "metadata": {
  "anaconda-cloud": {},
  "kernelspec": {
   "display_name": "Python [Root]",
   "language": "python",
   "name": "Python [Root]"
  },
  "language_info": {
   "codemirror_mode": {
    "name": "ipython",
    "version": 2
   },
   "file_extension": ".py",
   "mimetype": "text/x-python",
   "name": "python",
   "nbconvert_exporter": "python",
   "pygments_lexer": "ipython2",
   "version": "2.7.12"
  }
 },
 "nbformat": 4,
 "nbformat_minor": 0
}
