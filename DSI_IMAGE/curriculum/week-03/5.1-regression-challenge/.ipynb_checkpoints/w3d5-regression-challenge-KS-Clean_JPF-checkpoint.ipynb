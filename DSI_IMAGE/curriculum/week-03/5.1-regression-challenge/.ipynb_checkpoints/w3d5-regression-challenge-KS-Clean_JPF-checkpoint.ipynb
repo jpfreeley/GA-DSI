{
 "cells": [
  {
   "cell_type": "code",
   "execution_count": 1,
   "metadata": {
    "ExecuteTime": {
     "end_time": "2016-10-07T13:24:01.804447",
     "start_time": "2016-10-07T13:23:58.679662"
    },
    "collapsed": false
   },
   "outputs": [
    {
     "name": "stderr",
     "output_type": "stream",
     "text": [
      "/Applications/anaconda/anaconda/lib/python2.7/site-packages/sklearn/cross_validation.py:44: DeprecationWarning: This module was deprecated in version 0.18 in favor of the model_selection module into which all the refactored classes and functions are moved. Also note that the interface of the new CV iterators are different from that of this module. This module will be removed in 0.20.\n",
      "  \"This module will be removed in 0.20.\", DeprecationWarning)\n"
     ]
    }
   ],
   "source": [
    "import pandas as pd\n",
    "import numpy as np\n",
    "import seaborn as sns\n",
    "import matplotlib as plt\n",
    "%matplotlib inline \n",
    "\n",
    "from sklearn import datasets\n",
    "from sklearn import linear_model\n",
    "from sklearn.metrics import r2_score\n",
    "from sklearn.cross_validation import train_test_split\n",
    "from sklearn.cross_validation import cross_val_score\n",
    "from sklearn.cross_validation import cross_val_predict"
   ]
  },
  {
   "cell_type": "code",
   "execution_count": 2,
   "metadata": {
    "ExecuteTime": {
     "end_time": "2016-10-07T13:24:01.838453",
     "start_time": "2016-10-07T13:24:01.808167"
    },
    "collapsed": false
   },
   "outputs": [],
   "source": [
    "dfs = pd.read_csv('/Users/jfreeley/GA-DSI/DSI_IMAGE/curriculum/week-03/5.1-regression-challenge/datasets/ranking-submission.csv')\n",
    "dfc = pd.read_csv('/Users/jfreeley/GA-DSI/DSI_IMAGE/curriculum/week-03/5.1-regression-challenge/datasets/challenge-dataset.csv')"
   ]
  },
  {
   "cell_type": "code",
   "execution_count": 3,
   "metadata": {
    "ExecuteTime": {
     "end_time": "2016-10-07T13:24:01.928278",
     "start_time": "2016-10-07T13:24:01.842610"
    },
    "collapsed": false
   },
   "outputs": [],
   "source": [
    "dfc.loc[dfc['income'] == '-', 'income'] = 41.0 #MEDIAN of NON-DASHES\n",
    "dfc['income'] = dfc['income'].astype(float)    \n",
    "dfc['international_students'] = dfc['international_students'].str.replace('%', '')\n",
    "dfc.loc[dfc['international_students'].isnull(), 'international_students'] = 13\n",
    "dfc['international_students'] = dfc['international_students'].astype(float)\n",
    "dfc.loc[dfc['international'] == '-', 'international'] = 50.3 #MEDIAN of NON-DASHES\n",
    "dfc['international'] = dfc['international'].astype(float) \n",
    "dfc['world_rank'] = pd.to_numeric(dfc['world_rank'], errors='coerce')\n",
    "dfc['world_rank'].fillna(value=100, inplace=True) # *100* = MEDIAN of NON-DASHES\n",
    "dfc['world_rank'] = dfc['world_rank'].astype(int)\n",
    "dfc['num_students'] = dfc['num_students'].str.replace(',', '')\n",
    "dfc['num_students'] = dfc.loc[:, ['num_students']].astype(float)\n",
    "dfc['num_students'] = dfc.loc[:, ['num_students']].astype(float)\n",
    "dfc.loc[dfc['num_students'].isnull(), 'num_students'] = 20851.0 #MEDIAN of NON-NULLS\n",
    "dfc.loc[dfc['student_staff_ratio'].isnull(), 'student_staff_ratio'] = 16.1 #MEDIAN of NON-NULLS"
   ]
  },
  {
   "cell_type": "code",
   "execution_count": 4,
   "metadata": {
    "ExecuteTime": {
     "end_time": "2016-10-07T13:24:02.699191",
     "start_time": "2016-10-07T13:24:01.931514"
    },
    "collapsed": false
   },
   "outputs": [
    {
     "name": "stderr",
     "output_type": "stream",
     "text": [
      "/Applications/anaconda/anaconda/lib/python2.7/site-packages/ipykernel/__main__.py:9: SettingWithCopyWarning: \n",
      "A value is trying to be set on a copy of a slice from a DataFrame\n",
      "\n",
      "See the caveats in the documentation: http://pandas.pydata.org/pandas-docs/stable/indexing.html#indexing-view-versus-copy\n"
     ]
    },
    {
     "data": {
      "text/plain": [
       "<matplotlib.axes._subplots.AxesSubplot at 0x11846dd50>"
      ]
     },
     "execution_count": 4,
     "metadata": {},
     "output_type": "execute_result"
    },
    {
     "data": {
      "image/png": "[encoded data removed]",
      "text/plain": [
       "<matplotlib.figure.Figure at 0x11846d450>"
      ]
     },
     "metadata": {},
     "output_type": "display_data"
    }
   ],
   "source": [
    "cols = ['international','num_students','income', 'teaching', 'research', 'citations', \\\n",
    "        'international_students', 'total_score', 'year']\n",
    "\n",
    "df2 = dfc.copy()[cols]\n",
    "dfc_X = df2[(df2['total_score'] != '-') & (df2['total_score'].notnull())]\n",
    "\n",
    "dfc_u_2016 = dfc.copy()\n",
    "dfc_u_2016 = dfc_u_2016['university_name'][(dfc_u_2016['year'] == 2016)]\n",
    "dfc_train = dfc_X['total_score'].astype(float)\n",
    "dfc_X.drop('total_score', axis=1, inplace=True)\n",
    "\n",
    "dfc_X_2016 = df2[(df2['year'] == 2016)]\n",
    "dfc_X_2016 =dfc_X_2016.drop('total_score', axis =1)\n",
    "\n",
    "#print df2\n",
    "sns.heatmap(df2.corr())"
   ]
  },
  {
   "cell_type": "code",
   "execution_count": 11,
   "metadata": {
    "ExecuteTime": {
     "end_time": "2016-10-07T13:33:25.445769",
     "start_time": "2016-10-07T13:33:25.327133"
    },
    "collapsed": false
   },
   "outputs": [
    {
     "ename": "ValueError",
     "evalue": "need more than 1 value to unpack",
     "output_type": "error",
     "traceback": [
      "\u001b[0;31m---------------------------------------------------------------------------\u001b[0m",
      "\u001b[0;31mValueError\u001b[0m                                Traceback (most recent call last)",
      "\u001b[0;32m<ipython-input-11-de9fb07a3695>\u001b[0m in \u001b[0;36m<module>\u001b[0;34m()\u001b[0m\n\u001b[1;32m     20\u001b[0m \u001b[0mranking\u001b[0m \u001b[0;34m=\u001b[0m \u001b[0mselector\u001b[0m\u001b[0;34m.\u001b[0m\u001b[0mranking_\u001b[0m\u001b[0;34m\u001b[0m\u001b[0m\n\u001b[1;32m     21\u001b[0m \u001b[0;32mimport\u001b[0m \u001b[0mmatplotlib\u001b[0m\u001b[0;34m.\u001b[0m\u001b[0mpyplot\u001b[0m \u001b[0;32mas\u001b[0m \u001b[0mplt\u001b[0m\u001b[0;34m\u001b[0m\u001b[0m\n\u001b[0;32m---> 22\u001b[0;31m \u001b[0mplt\u001b[0m\u001b[0;34m.\u001b[0m\u001b[0mmatshow\u001b[0m\u001b[0;34m(\u001b[0m\u001b[0mranking\u001b[0m\u001b[0;34m,\u001b[0m \u001b[0mcmap\u001b[0m\u001b[0;34m=\u001b[0m\u001b[0mplt\u001b[0m\u001b[0;34m.\u001b[0m\u001b[0mcm\u001b[0m\u001b[0;34m.\u001b[0m\u001b[0mBlues\u001b[0m\u001b[0;34m)\u001b[0m\u001b[0;34m\u001b[0m\u001b[0m\n\u001b[0m\u001b[1;32m     23\u001b[0m \u001b[0mplt\u001b[0m\u001b[0;34m.\u001b[0m\u001b[0mcolorbar\u001b[0m\u001b[0;34m(\u001b[0m\u001b[0;34m)\u001b[0m\u001b[0;34m\u001b[0m\u001b[0m\n\u001b[1;32m     24\u001b[0m \u001b[0mplt\u001b[0m\u001b[0;34m.\u001b[0m\u001b[0mtitle\u001b[0m\u001b[0;34m(\u001b[0m\u001b[0;34m\"Ranking of pixels with RFE\"\u001b[0m\u001b[0;34m)\u001b[0m\u001b[0;34m\u001b[0m\u001b[0m\n",
      "\u001b[0;32m/Applications/anaconda/anaconda/lib/python2.7/site-packages/matplotlib/pyplot.pyc\u001b[0m in \u001b[0;36mmatshow\u001b[0;34m(A, fignum, **kw)\u001b[0m\n\u001b[1;32m   2335\u001b[0m     \u001b[0;32melse\u001b[0m\u001b[0;34m:\u001b[0m\u001b[0;34m\u001b[0m\u001b[0m\n\u001b[1;32m   2336\u001b[0m         \u001b[0;31m# Extract actual aspect ratio of array and make appropriately sized figure\u001b[0m\u001b[0;34m\u001b[0m\u001b[0;34m\u001b[0m\u001b[0m\n\u001b[0;32m-> 2337\u001b[0;31m         \u001b[0mfig\u001b[0m \u001b[0;34m=\u001b[0m \u001b[0mfigure\u001b[0m\u001b[0;34m(\u001b[0m\u001b[0mfignum\u001b[0m\u001b[0;34m,\u001b[0m \u001b[0mfigsize\u001b[0m\u001b[0;34m=\u001b[0m\u001b[0mfigaspect\u001b[0m\u001b[0;34m(\u001b[0m\u001b[0mA\u001b[0m\u001b[0;34m)\u001b[0m\u001b[0;34m)\u001b[0m\u001b[0;34m\u001b[0m\u001b[0m\n\u001b[0m\u001b[1;32m   2338\u001b[0m         \u001b[0max\u001b[0m  \u001b[0;34m=\u001b[0m \u001b[0mfig\u001b[0m\u001b[0;34m.\u001b[0m\u001b[0madd_axes\u001b[0m\u001b[0;34m(\u001b[0m\u001b[0;34m[\u001b[0m\u001b[0;36m0.15\u001b[0m\u001b[0;34m,\u001b[0m \u001b[0;36m0.09\u001b[0m\u001b[0;34m,\u001b[0m \u001b[0;36m0.775\u001b[0m\u001b[0;34m,\u001b[0m \u001b[0;36m0.775\u001b[0m\u001b[0;34m]\u001b[0m\u001b[0;34m)\u001b[0m\u001b[0;34m\u001b[0m\u001b[0m\n\u001b[1;32m   2339\u001b[0m \u001b[0;34m\u001b[0m\u001b[0m\n",
      "\u001b[0;32m/Applications/anaconda/anaconda/lib/python2.7/site-packages/matplotlib/figure.pyc\u001b[0m in \u001b[0;36mfigaspect\u001b[0;34m(arg)\u001b[0m\n\u001b[1;32m   1794\u001b[0m     \u001b[0;31m# Extract the aspect ratio of the array\u001b[0m\u001b[0;34m\u001b[0m\u001b[0;34m\u001b[0m\u001b[0m\n\u001b[1;32m   1795\u001b[0m     \u001b[0;32mif\u001b[0m \u001b[0misarray\u001b[0m\u001b[0;34m:\u001b[0m\u001b[0;34m\u001b[0m\u001b[0m\n\u001b[0;32m-> 1796\u001b[0;31m         \u001b[0mnr\u001b[0m\u001b[0;34m,\u001b[0m \u001b[0mnc\u001b[0m \u001b[0;34m=\u001b[0m \u001b[0marg\u001b[0m\u001b[0;34m.\u001b[0m\u001b[0mshape\u001b[0m\u001b[0;34m[\u001b[0m\u001b[0;34m:\u001b[0m\u001b[0;36m2\u001b[0m\u001b[0;34m]\u001b[0m\u001b[0;34m\u001b[0m\u001b[0m\n\u001b[0m\u001b[1;32m   1797\u001b[0m         \u001b[0marr_ratio\u001b[0m \u001b[0;34m=\u001b[0m \u001b[0mfloat\u001b[0m\u001b[0;34m(\u001b[0m\u001b[0mnr\u001b[0m\u001b[0;34m)\u001b[0m \u001b[0;34m/\u001b[0m \u001b[0mnc\u001b[0m\u001b[0;34m\u001b[0m\u001b[0m\n\u001b[1;32m   1798\u001b[0m     \u001b[0;32melse\u001b[0m\u001b[0;34m:\u001b[0m\u001b[0;34m\u001b[0m\u001b[0m\n",
      "\u001b[0;31mValueError\u001b[0m: need more than 1 value to unpack"
     ]
    }
   ],
   "source": [
    "X = dfc_X\n",
    "y =  dfc_train\n",
    "\n",
    "lr = linear_model.LinearRegression()\n",
    "lr_model = lr.fit(X,y)\n",
    "\n",
    "y_pred = lr_model.predict(dfc_X_2016)\n",
    "y_pred_df =  pd.DataFrame(y_pred)\n",
    "pred = pd.Series(y_pred)\n",
    "\n",
    "\n",
    "\"\"\"\n",
    "from sklearn.datasets import make_friedman1\n",
    "from sklearn.feature_selection import RFE\n",
    "from sklearn.svm import SVR\n",
    "X, y = make_friedman1(n_samples=50, n_features=10, random_state=0)\n",
    "estimator = SVR(kernel=\"linear\")\n",
    "selector = RFE(estimator, 5, step=1)\n",
    "selector = selector.fit(X, y)\n",
    "selector.support_ \n",
    "ranking = selector.ranking_\n",
    "import matplotlib.pyplot as plt\n",
    "plt.matshow(ranking, cmap=plt.cm.Blues)\n",
    "plt.colorbar()\n",
    "plt.title(\"Ranking of pixels with RFE\")\n",
    "plt.show()\n",
    "\"\"\"\n"
   ]
  },
  {
   "cell_type": "code",
   "execution_count": 6,
   "metadata": {
    "ExecuteTime": {
     "end_time": "2016-10-07T13:24:02.768427",
     "start_time": "2016-10-07T13:24:02.751046"
    },
    "collapsed": false
   },
   "outputs": [],
   "source": [
    "new = pd.concat([dfc_u_2016, dfc_X_2016],axis=1)\n",
    "new.reset_index(drop=True, inplace=True)"
   ]
  },
  {
   "cell_type": "code",
   "execution_count": 7,
   "metadata": {
    "ExecuteTime": {
     "end_time": "2016-10-07T13:24:02.799735",
     "start_time": "2016-10-07T13:24:02.773585"
    },
    "collapsed": false
   },
   "outputs": [],
   "source": [
    "pred_df = pred.to_frame('pred_score')\n",
    "result_df = pd.concat([new,pred_df], axis = 1)\n",
    "#result_df\n",
    "\n",
    "\"\"\"dfLeft.reset_index(inplace=True)\n",
    "dfRight.reset_index(inplace=True)\n",
    "dfMerged = pd.merge(dfLeft, dfRight,\n",
    "              left_on=['date', 'cusip'],\n",
    "              right_on=['date', 'idc__id'],\n",
    "              how='inner')\n",
    "\"\"\"\n",
    "dfLeft = dfs\n",
    "dfRight = result_df\n",
    "dfMerged = pd.merge(dfLeft, dfRight,\n",
    "              left_on=['university_name'],\n",
    "              right_on=['university_name'],\n",
    "              how='inner')\n",
    "# dfMerged.to_csv(\"/users/kristensu/Desktop/university_preds_SKJP.csv\")"
   ]
  }
 ],
 "metadata": {
  "kernelspec": {
   "display_name": "Python [Root]",
   "language": "python",
   "name": "Python [Root]"
  },
  "language_info": {
   "codemirror_mode": {
    "name": "ipython",
    "version": 2
   },
   "file_extension": ".py",
   "mimetype": "text/x-python",
   "name": "python",
   "nbconvert_exporter": "python",
   "pygments_lexer": "ipython2",
   "version": "2.7.12"
  }
 },
 "nbformat": 4,
 "nbformat_minor": 0
}
