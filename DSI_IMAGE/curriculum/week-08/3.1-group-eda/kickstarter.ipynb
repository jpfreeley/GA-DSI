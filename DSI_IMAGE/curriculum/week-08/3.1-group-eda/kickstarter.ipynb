{
 "cells": [
  {
   "cell_type": "code",
   "execution_count": 3,
   "metadata": {
    "ExecuteTime": {
     "end_time": "2016-11-09T11:26:17.300408",
     "start_time": "2016-11-09T11:26:16.624968"
    },
    "collapsed": true
   },
   "outputs": [],
   "source": [
    "import pandas as pd\n",
    "\n",
    "df = pd.read_csv('https://raw.githubusercontent.com/socathie/paperplane/master/data/most_backed.csv')\n",
    "df.to_csv('most_backed.csv')\n"
   ]
  },
  {
   "cell_type": "code",
   "execution_count": 27,
   "metadata": {
    "ExecuteTime": {
     "end_time": "2016-11-09T11:36:31.683263",
     "start_time": "2016-11-09T11:36:31.618830"
    },
    "collapsed": false
   },
   "outputs": [
    {
     "data": {
      "text/html": [
       "<div>\n",
       "<table border=\"1\" class=\"dataframe\">\n",
       "  <thead>\n",
       "    <tr style=\"text-align: right;\">\n",
       "      <th></th>\n",
       "      <th>Unnamed: 0</th>\n",
       "      <th>amt.pledged</th>\n",
       "      <th>blurb</th>\n",
       "      <th>category</th>\n",
       "      <th>currency</th>\n",
       "      <th>goal</th>\n",
       "      <th>location</th>\n",
       "      <th>num.backers</th>\n",
       "      <th>num.backers.tier</th>\n",
       "      <th>pledge.tier</th>\n",
       "      <th>title</th>\n",
       "      <th>url</th>\n",
       "      <th>num_tiers</th>\n",
       "    </tr>\n",
       "  </thead>\n",
       "  <tbody>\n",
       "    <tr>\n",
       "      <th>0</th>\n",
       "      <td>0</td>\n",
       "      <td>8782571.0</td>\n",
       "      <td>\\nThis is a card game for people who are into ...</td>\n",
       "      <td>Tabletop Games</td>\n",
       "      <td>usd</td>\n",
       "      <td>10000.0</td>\n",
       "      <td>Los Angeles, CA</td>\n",
       "      <td>219382</td>\n",
       "      <td>[15505, 202934, 200, 5]</td>\n",
       "      <td>[20.0, 35.0, 100.0, 500.0]</td>\n",
       "      <td>Exploding Kittens</td>\n",
       "      <td>/projects/elanlee/exploding-kittens</td>\n",
       "      <td>4</td>\n",
       "    </tr>\n",
       "    <tr>\n",
       "      <th>1</th>\n",
       "      <td>1</td>\n",
       "      <td>6465690.0</td>\n",
       "      <td>\\nAn unusually addicting, high-quality desk to...</td>\n",
       "      <td>Product Design</td>\n",
       "      <td>usd</td>\n",
       "      <td>15000.0</td>\n",
       "      <td>Denver, CO</td>\n",
       "      <td>154926</td>\n",
       "      <td>[788, 250, 43073, 21796, 41727, 21627, 12215, ...</td>\n",
       "      <td>[1.0, 14.0, 19.0, 19.0, 35.0, 35.0, 79.0, 79.0...</td>\n",
       "      <td>Fidget Cube: A Vinyl Desk Toy</td>\n",
       "      <td>/projects/antsylabs/fidget-cube-a-vinyl-desk-toy</td>\n",
       "      <td>4</td>\n",
       "    </tr>\n",
       "    <tr>\n",
       "      <th>2</th>\n",
       "      <td>2</td>\n",
       "      <td>5408916.0</td>\n",
       "      <td>\\nBring Reading Rainbow’s library of interacti...</td>\n",
       "      <td>Web</td>\n",
       "      <td>usd</td>\n",
       "      <td>1000000.0</td>\n",
       "      <td>Los Angeles, CA</td>\n",
       "      <td>105857</td>\n",
       "      <td>[19639, 14343, 9136, 2259, 5666, 24512, 4957, ...</td>\n",
       "      <td>[5.0, 10.0, 25.0, 30.0, 35.0, 50.0, 75.0, 100....</td>\n",
       "      <td>Bring Reading Rainbow Back for Every Child, Ev...</td>\n",
       "      <td>/projects/readingrainbow/bring-reading-rainbow...</td>\n",
       "      <td>4</td>\n",
       "    </tr>\n",
       "  </tbody>\n",
       "</table>\n",
       "</div>"
      ],
      "text/plain": [
       "   Unnamed: 0  amt.pledged                                              blurb  \\\n",
       "0           0    8782571.0  \\nThis is a card game for people who are into ...   \n",
       "1           1    6465690.0  \\nAn unusually addicting, high-quality desk to...   \n",
       "2           2    5408916.0  \\nBring Reading Rainbow’s library of interacti...   \n",
       "\n",
       "         category currency       goal         location  num.backers  \\\n",
       "0  Tabletop Games      usd    10000.0  Los Angeles, CA       219382   \n",
       "1  Product Design      usd    15000.0       Denver, CO       154926   \n",
       "2             Web      usd  1000000.0  Los Angeles, CA       105857   \n",
       "\n",
       "                                    num.backers.tier  \\\n",
       "0                            [15505, 202934, 200, 5]   \n",
       "1  [788, 250, 43073, 21796, 41727, 21627, 12215, ...   \n",
       "2  [19639, 14343, 9136, 2259, 5666, 24512, 4957, ...   \n",
       "\n",
       "                                         pledge.tier  \\\n",
       "0                         [20.0, 35.0, 100.0, 500.0]   \n",
       "1  [1.0, 14.0, 19.0, 19.0, 35.0, 35.0, 79.0, 79.0...   \n",
       "2  [5.0, 10.0, 25.0, 30.0, 35.0, 50.0, 75.0, 100....   \n",
       "\n",
       "                                               title  \\\n",
       "0                                  Exploding Kittens   \n",
       "1                      Fidget Cube: A Vinyl Desk Toy   \n",
       "2  Bring Reading Rainbow Back for Every Child, Ev...   \n",
       "\n",
       "                                                 url  num_tiers  \n",
       "0                /projects/elanlee/exploding-kittens          4  \n",
       "1   /projects/antsylabs/fidget-cube-a-vinyl-desk-toy          4  \n",
       "2  /projects/readingrainbow/bring-reading-rainbow...          4  "
      ]
     },
     "execution_count": 27,
     "metadata": {},
     "output_type": "execute_result"
    }
   ],
   "source": [
    "df.head(3)"
   ]
  },
  {
   "cell_type": "code",
   "execution_count": 144,
   "metadata": {
    "ExecuteTime": {
     "end_time": "2016-11-09T12:47:08.986012",
     "start_time": "2016-11-09T12:47:08.954749"
    },
    "collapsed": false
   },
   "outputs": [
    {
     "name": "stdout",
     "output_type": "stream",
     "text": [
      "<class 'pandas.core.frame.DataFrame'>\n",
      "RangeIndex: 4000 entries, 0 to 3999\n",
      "Data columns (total 16 columns):\n",
      "Unnamed: 0           4000 non-null int64\n",
      "amt.pledged          4000 non-null float64\n",
      "blurb                4000 non-null object\n",
      "category             4000 non-null object\n",
      "currency             4000 non-null object\n",
      "goal                 4000 non-null float64\n",
      "location             4000 non-null object\n",
      "num.backers          4000 non-null int64\n",
      "num.backers.tier     4000 non-null object\n",
      "pledge.tier          4000 non-null object\n",
      "title                4000 non-null object\n",
      "url                  4000 non-null object\n",
      "num_tiers            4000 non-null int64\n",
      "pledge.tier.list     4000 non-null int64\n",
      "2                    1 non-null float64\n",
      "pledge.tier.count    4000 non-null object\n",
      "dtypes: float64(3), int64(4), object(9)\n",
      "memory usage: 500.1+ KB\n"
     ]
    }
   ],
   "source": [
    "df['pledge.tier.count'] = df['pledge.tier.count'].astype(object)\n",
    "df.info()"
   ]
  },
  {
   "cell_type": "code",
   "execution_count": 181,
   "metadata": {
    "ExecuteTime": {
     "end_time": "2016-11-09T13:02:50.903345",
     "start_time": "2016-11-09T13:02:50.888735"
    },
    "collapsed": true
   },
   "outputs": [],
   "source": [
    "def list_el_to_num(x):\n",
    "    lst = x.replace('[','').replace(']','').split(',')\n",
    "    lst = [i.strip() for i in lst]\n",
    "    list_int = [float(i) for i in lst if i != \"...\"]\n",
    "    list_sum = sum(list_int)\n",
    "    list_percent = [(float(x)/float(list_sum))*100 for x in list_int]\n",
    "    return str(list_percent)\n",
    "df['pledge.tier.count'] = df['num.backers.tier'].apply(list_el_to_num)\n",
    "df['pledge.tier.count']"
   ]
  },
  {
   "cell_type": "raw",
   "metadata": {
    "ExecuteTime": {
     "end_time": "2016-11-09T13:00:50.414566",
     "start_time": "2016-11-09T13:00:50.271863"
    }
   },
   "source": [
    "for i in df[\"num.backers.tier\"]:\n",
    "    list_el_to_num(i)"
   ]
  },
  {
   "cell_type": "code",
   "execution_count": 182,
   "metadata": {
    "ExecuteTime": {
     "end_time": "2016-11-09T13:02:51.985256",
     "start_time": "2016-11-09T13:02:51.740252"
    },
    "collapsed": false
   },
   "outputs": [],
   "source": []
  },
  {
   "cell_type": "code",
   "execution_count": 183,
   "metadata": {
    "ExecuteTime": {
     "end_time": "2016-11-09T13:03:17.456695",
     "start_time": "2016-11-09T13:03:17.434274"
    },
    "collapsed": false
   },
   "outputs": [
    {
     "data": {
      "text/plain": [
       "0       [7.091436307422111, 92.81480397358263, 0.09147...\n",
       "1       [0.50927421960835, 0.1615717701803141, 27.8375...\n",
       "2       [21.18554476806904, 15.472491909385115, 9.8554...\n",
       "3       [6.726706315491363, 9.541772868875672, 13.0376...\n",
       "4       [55.516187300263994, 28.52577462831735, 1.2620...\n",
       "5       [12.913890180277907, 29.690324913476935, 6.815...\n",
       "6       [0.4278695605226217, 20.235395745599828, 15.80...\n",
       "7       [0.4306948180755958, 33.96646830249178, 28.424...\n",
       "8       [1.8173083522064375, 31.53386864319539, 29.761...\n",
       "9       [16.39445080091533, 19.88558352402746, 0.13872...\n",
       "10      [3.284549049363081, 38.285205667342744, 0.5573...\n",
       "11      [3.833074374835097, 0.2931605640409252, 59.803...\n",
       "12      [3.672461061067092, 51.30449191094508, 9.70837...\n",
       "13      [7.57587236170245, 4.239458173608691, 12.94868...\n",
       "14      [1.4164042259420717, 31.267937758885495, 25.52...\n",
       "15      [0.6840375513028163, 10.20709826553237, 42.304...\n",
       "16      [2.8599589587810432, 3.066780849585548, 1.6157...\n",
       "17      [1.7481270067784518, 0.5043297765381247, 0.215...\n",
       "18      [53.7935109054207, 14.48804424531863, 13.07501...\n",
       "19      [11.44560165260802, 6.507144086761921, 11.3380...\n",
       "20      [20.951091943475866, 14.241145164250321, 13.08...\n",
       "21      [0.7132795206046106, 0.7468193099747333, 0.223...\n",
       "22      [11.405369648030293, 42.701703962225416, 12.57...\n",
       "23      [0.24199422033221343, 23.494584498273145, 23.4...\n",
       "24      [1.3769280591071555, 44.60383332933529, 6.3952...\n",
       "25      [12.734960012225564, 12.734960012225564, 10.17...\n",
       "26      [0.39288442649787186, 0.18007202881152462, 0.0...\n",
       "27      [42.963250374147776, 23.496480239454577, 3.871...\n",
       "28      [1.013070030249415, 24.693225272530107, 18.066...\n",
       "29      [24.249462865106555, 36.13901631728703, 9.7787...\n",
       "                              ...                        \n",
       "3970    [28.388278388278387, 29.57875457875458, 8.1501...\n",
       "3971    [28.144796380090497, 20.361990950226243, 23.61...\n",
       "3972    [2.432179607109448, 6.26753975678204, 9.354536...\n",
       "3973    [9.033423667570009, 4.607046070460704, 0.27100...\n",
       "3974    [0.27522935779816515, 0.9174311926605505, 22.9...\n",
       "3975    [7.427536231884058, 8.695652173913043, 49.3659...\n",
       "3976    [2.73224043715847, 27.413479052823313, 2.73224...\n",
       "3977    [9.074410163339383, 48.185117967332125, 5.3539...\n",
       "3978    [2.922374429223744, 0.730593607305936, 18.2648...\n",
       "3979    [2.9465930018416207, 0.6445672191528545, 0.092...\n",
       "3980    [8.201304753028891, 9.319664492078285, 17.2413...\n",
       "3981    [1.17011701170117, 57.515751575157516, 36.1836...\n",
       "3982    [5.7272727272727275, 79.72727272727272, 7.6363...\n",
       "3983    [8.210332103321033, 1.7527675276752765, 4.5202...\n",
       "3984    [8.13953488372093, 27.228682170542633, 21.8992...\n",
       "3985    [0.45537340619307837, 7.468123861566485, 25.50...\n",
       "3986    [23.02025782688766, 61.233885819521184, 12.246...\n",
       "3987    [38.125802310654684, 29.396662387676507, 25.93...\n",
       "3988    [18.315018315018314, 11.446886446886447, 18.31...\n",
       "3989    [2.7198549410698094, 63.37262012692656, 14.143...\n",
       "3990    [1.8656716417910446, 4.57089552238806, 3.73134...\n",
       "3991    [4.119850187265917, 33.61423220973783, 37.8277...\n",
       "3992    [27.13472485768501, 23.055028462998102, 12.333...\n",
       "3993    [47.06439393939394, 11.742424242424242, 5.6818...\n",
       "3994    [6.478102189781023, 4.562043795620438, 37.8649...\n",
       "3995    [10.95890410958904, 9.1324200913242, 36.347031...\n",
       "3996    [18.307267709291626, 19.50321987120515, 0.9199...\n",
       "3997    [90.65335753176043, 4.537205081669692, 4.08348...\n",
       "3998    [0.9954751131221719, 0.09049773755656108, 4.52...\n",
       "3999    [39.98178506375228, 6.9216757741347905, 40.983...\n",
       "Name: pledge.tier.count, dtype: object"
      ]
     },
     "execution_count": 183,
     "metadata": {},
     "output_type": "execute_result"
    }
   ],
   "source": []
  },
  {
   "cell_type": "code",
   "execution_count": 97,
   "metadata": {
    "ExecuteTime": {
     "end_time": "2016-11-09T12:28:24.210277",
     "start_time": "2016-11-09T12:28:24.168934"
    },
    "collapsed": false
   },
   "outputs": [
    {
     "data": {
      "text/plain": [
       "count    4000.000000\n",
       "mean       14.504500\n",
       "std         9.955439\n",
       "min         1.000000\n",
       "25%         8.000000\n",
       "50%        12.000000\n",
       "75%        18.000000\n",
       "max       101.000000\n",
       "Name: pledge.tier.list, dtype: float64"
      ]
     },
     "execution_count": 97,
     "metadata": {},
     "output_type": "execute_result"
    }
   ],
   "source": [
    "df['pledge.tier.list'].describe()"
   ]
  },
  {
   "cell_type": "code",
   "execution_count": 84,
   "metadata": {
    "ExecuteTime": {
     "end_time": "2016-11-09T11:54:58.596609",
     "start_time": "2016-11-09T11:54:58.579953"
    },
    "collapsed": false
   },
   "outputs": [
    {
     "data": {
      "text/plain": [
       "0        4\n",
       "1       12\n",
       "2       64\n",
       "3       32\n",
       "4        9\n",
       "5       12\n",
       "6       28\n",
       "7       21\n",
       "8       29\n",
       "9       12\n",
       "10      39\n",
       "11      11\n",
       "12      18\n",
       "13      20\n",
       "14      29\n",
       "15      21\n",
       "16      10\n",
       "17      11\n",
       "18      15\n",
       "19      41\n",
       "20      62\n",
       "21      43\n",
       "22      14\n",
       "23      37\n",
       "24      14\n",
       "25      14\n",
       "26      19\n",
       "27      14\n",
       "28      16\n",
       "29       8\n",
       "        ..\n",
       "3970    16\n",
       "3971    12\n",
       "3972    19\n",
       "3973     5\n",
       "3974    11\n",
       "3975     9\n",
       "3976    11\n",
       "3977     5\n",
       "3978    11\n",
       "3979    47\n",
       "3980    20\n",
       "3981     6\n",
       "3982     8\n",
       "3983    23\n",
       "3984     6\n",
       "3985    13\n",
       "3986     5\n",
       "3987    10\n",
       "3988     8\n",
       "3989    10\n",
       "3990    17\n",
       "3991     4\n",
       "3992    11\n",
       "3993     7\n",
       "3994     8\n",
       "3995     9\n",
       "3996    15\n",
       "3997     7\n",
       "3998    19\n",
       "3999     5\n",
       "Name: pledge.tier.list, dtype: int64"
      ]
     },
     "execution_count": 84,
     "metadata": {},
     "output_type": "execute_result"
    }
   ],
   "source": [
    "df['pledge.tier.list']"
   ]
  },
  {
   "cell_type": "code",
   "execution_count": null,
   "metadata": {
    "collapsed": true
   },
   "outputs": [],
   "source": []
  }
 ],
 "metadata": {
  "anaconda-cloud": {},
  "kernelspec": {
   "display_name": "Python [default]",
   "language": "python",
   "name": "python2"
  },
  "language_info": {
   "codemirror_mode": {
    "name": "ipython",
    "version": 2
   },
   "file_extension": ".py",
   "mimetype": "text/x-python",
   "name": "python",
   "nbconvert_exporter": "python",
   "pygments_lexer": "ipython2",
   "version": "2.7.12"
  }
 },
 "nbformat": 4,
 "nbformat_minor": 1
}
