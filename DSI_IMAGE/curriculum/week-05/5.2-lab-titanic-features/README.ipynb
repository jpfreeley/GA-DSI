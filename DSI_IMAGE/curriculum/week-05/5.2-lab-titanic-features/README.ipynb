{
 "cells": [
  {
   "cell_type": "markdown",
   "metadata": {},
   "source": [
    "---\n",
    "title: Feature Selection Lab\n",
    "type: lab\n",
    "duration: \"1:25\"\n",
    "creator:\n",
    "    name: Francesco Mosconi\n",
    "    city: SF\n",
    "---\n",
    "\n",
    "# ![](https://ga-dash.s3.amazonaws.com/production/assets/logo-9f88ae6c9c3871690e33280fcf557f33.png) Feature Selection Lab\n",
    "\n",
    "## Introduction\n",
    "\n",
    "In this lab we will improve upon the analysis of the titanic dataset, performing feature selection and regularization.\n",
    "\n",
    "## Exercise\n",
    "\n",
    "#### Requirements\n",
    "\n",
    "- Create column names\n",
    "- K-best feature selection\n",
    "- Recursive feature elimination\n",
    "- Logistic regression coefficients\n",
    "- Compare feature sets\n",
    "\n",
    "**Bonus:**\n",
    "\n",
    "- Plot the Logistic Regression coefficients\n",
    "\n",
    "#### Starter code\n",
    "\n",
    "[Starter code](code/starter-code/starter-code-4_2.ipynb)\n",
    ">[Solution code](code/solution-code/solution-code-4_2.ipynb)\n",
    "\n",
    "#### Deliverable\n",
    "\n",
    "![Coefficients plot](assets/images/coefficients.png)\n",
    "\n",
    "## Additional Resources\n",
    "\n",
    "- [Scikit Learn Feature Selection](http://scikit-learn.org/stable/modules/feature_selection.html)\n",
    "- [Logistic Regression](http://scikit-learn.org/stable/modules/generated/sklearn.linear_model.LogisticRegression.html)\n",
    "\n"
   ]
  }
 ],
 "metadata": {
  "anaconda-cloud": {},
  "kernelspec": {
   "display_name": "Python [default]",
   "language": "python",
   "name": "python2"
  },
  "language_info": {
   "codemirror_mode": {
    "name": "ipython",
    "version": 2
   },
   "file_extension": ".py",
   "mimetype": "text/x-python",
   "name": "python",
   "nbconvert_exporter": "python",
   "pygments_lexer": "ipython2",
   "version": "2.7.12"
  }
 },
 "nbformat": 4,
 "nbformat_minor": 1
}
