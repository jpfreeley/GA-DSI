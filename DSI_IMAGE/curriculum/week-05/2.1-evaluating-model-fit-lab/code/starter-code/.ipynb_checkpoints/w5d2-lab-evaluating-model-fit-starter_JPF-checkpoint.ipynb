{
 "cells": [
  {
   "cell_type": "markdown",
   "metadata": {},
   "source": [
    "In this lab today, we will run the kNN model to determine the best ‘k’ value in order to determine whether a wine is of high quality. \n",
    "\n",
    "Use the following features: ‘density’, ‘sulphates’, residual sugar’.\n",
    "\n",
    "Please check 'k' values from 1 to 50 in order to determine the best value.\n",
    "\n",
    "Below is starert code which obtains demo data from Amazon Web Services website:"
   ]
  },
  {
   "cell_type": "markdown",
   "metadata": {
    "ExecuteTime": {
     "end_time": "2016-10-18T11:35:29.166196",
     "start_time": "2016-10-18T11:35:21.312670"
    },
    "collapsed": false
   },
   "source": [
    "import numpy as np\n",
    "import pandas as pd\n",
    "import pylab as pl\n",
    "from sklearn.neighbors import KNeighborsClassifier\n",
    "\n",
    "df = pd.read_csv(\"https://s3.amazonaws.com/demo-datasets/wine.csv\")\n",
    "\n",
    "test_idx = np.random.uniform(0, 1, len(df)) <= 0.3\n",
    "train = df[test_idx==True]\n",
    "test = df[test_idx==False]\n",
    "y_column = ['high_quality']\n",
    "\n",
    "features = ['density', 'sulphates', 'residual_sugar']\n",
    "\n",
    "from sklearn.neighbors import KNeighborsClassifier\n",
    "k = 1\n",
    "mse_list = []\n",
    "results = pd.DataFrame()\n",
    "\n",
    "while k <= 50:\n",
    "    # Create the knn model.\n",
    "    knn = KNeighborsClassifier(n_neighbors=k)\n",
    "    # Fit the model on the training data.\n",
    "    knn.fit(train[features], train[y_column])\n",
    "    # Make point predictions on the test set using the fit model.\n",
    "    predictions = knn.predict(test[features])\n",
    "    results['predictions'+str(k)] = pd.Series(predictions)\n",
    "    \n",
    "    \n",
    "    # Get the actual values for the test set.\n",
    "    \n",
    "    actual = test[y_column]\n",
    "    actual.reset_index(inplace=True, drop=True)\n",
    "    results['actual'] = actual\n",
    "    error = (abs(results['predictions'+str(k)] - results['actual'])).sum()/results.shape[0]\n",
    "#     error = predictions - actual\n",
    "#     print \"Error\", error\n",
    "    # Compute the mean squared error of our predictions.\n",
    "    #mse = (((predictions - actual) ** 2).sum()) / len(predictions)\n",
    "    mse_list.append([k,error])\n",
    "    print \"K\", k, \"Error\", error\n",
    "    \n",
    "    k += 1\n",
    "mse_df = pd.DataFrame(mse_list)\n",
    "\n",
    "\n"
   ]
  },
  {
   "cell_type": "code",
   "execution_count": 102,
   "metadata": {
    "ExecuteTime": {
     "end_time": "2016-10-18T11:34:35.641932",
     "start_time": "2016-10-18T11:34:35.631574"
    },
    "collapsed": false
   },
   "outputs": [
    {
     "data": {
      "text/plain": [
       "0.15167318141980865"
      ]
     },
     "execution_count": 102,
     "metadata": {},
     "output_type": "execute_result"
    }
   ],
   "source": [
    "mse_df[0].min()\n",
    "mse[mse[0] == mse_df[0].min()]"
   ]
  },
  {
   "cell_type": "raw",
   "metadata": {},
   "source": []
  },
  {
   "cell_type": "code",
   "execution_count": null,
   "metadata": {
    "collapsed": true
   },
   "outputs": [],
   "source": [
    "def calculate_distance(p, q):\n",
    "    \"\"\" Calculate Euclidean distance between two points.\"\"\"\n",
    "    # Assume points are tuples of ([x,y],label)\n",
    "    return ((p[0]-q[0])**2 + (p[1]-q[1])**2) ** 0.5\n",
    "\n",
    "import collections\n",
    "labels = ['a','b','c','c']\n",
    "print(collections.Counter(labels))\n",
    "\n",
    "def neighbor_vote(labels):\n",
    "    \"\"\" Get the majority label from k neighbors.\"\"\"\n",
    "    # Is it possible to have a tie? How would you handle that?\n",
    "    #print(labels)\n",
    "    vote = collections.Counter(labels).most_common(1)[0][0]\n",
    "    return vote\n",
    "\n",
    "def knn_classifier(labeled_points, new_point, k):\n",
    "    \"\"\" Given classified points and one new point, return a prediction based on the votes of k neighbors.\"\"\"\n",
    "    if k % 2 == 0:\n",
    "        return \"Must use odd k, to prevent ties\"\n",
    "    label_distances = []\n",
    "\n",
    "    for p in labeled_points:\n",
    "        #print(p[0], new_point)\n",
    "        distance = calculate_distance(p[0],new_point)\n",
    "        label_distances.append((distance,p[1]))\n",
    "    \n",
    "    label_distances.sort() # Put them in order\n",
    "    #print(label_distances)\n",
    "    prediction = neighbor_vote([label[1] for label in label_distances[:k]])\n",
    "    return prediction"
   ]
  }
 ],
 "metadata": {
  "anaconda-cloud": {},
  "kernelspec": {
   "display_name": "Python [default]",
   "language": "python",
   "name": "python2"
  },
  "language_info": {
   "codemirror_mode": {
    "name": "ipython",
    "version": 2
   },
   "file_extension": ".py",
   "mimetype": "text/x-python",
   "name": "python",
   "nbconvert_exporter": "python",
   "pygments_lexer": "ipython2",
   "version": "2.7.12"
  }
 },
 "nbformat": 4,
 "nbformat_minor": 0
}
