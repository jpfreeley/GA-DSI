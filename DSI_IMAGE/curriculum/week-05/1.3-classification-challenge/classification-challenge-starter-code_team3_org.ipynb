{
 "cells": [
  {
   "cell_type": "code",
   "execution_count": 102,
   "metadata": {
    "ExecuteTime": {
     "end_time": "2016-10-17T16:19:50.248643",
     "start_time": "2016-10-17T16:19:50.221886"
    },
    "collapsed": false,
    "scrolled": true
   },
   "outputs": [],
   "source": [
    "import pandas as pd\n",
    "import matplotlib.pyplot as plt\n",
    "%matplotlib inline\n",
    "import numpy as np\n",
    "\n",
    "from sklearn.linear_model import LogisticRegression\n",
    "from sklearn.cross_validation import train_test_split\n",
    "\n",
    "from sklearn.metrics import classification_report\n",
    "from sklearn.metrics import roc_auc_score\n",
    "from sklearn.metrics import roc_curve\n",
    "from sklearn.metrics import auc\n",
    "from sklearn.metrics import confusion_matrix"
   ]
  },
  {
   "cell_type": "raw",
   "metadata": {},
   "source": []
  },
  {
   "cell_type": "code",
   "execution_count": 103,
   "metadata": {
    "ExecuteTime": {
     "end_time": "2016-10-17T16:19:51.650053",
     "start_time": "2016-10-17T16:19:51.502032"
    },
    "collapsed": false
   },
   "outputs": [
    {
     "data": {
      "text/html": [
       "<div>\n",
       "<table border=\"1\" class=\"dataframe\">\n",
       "  <thead>\n",
       "    <tr style=\"text-align: right;\">\n",
       "      <th></th>\n",
       "      <th>Unnamed: 0</th>\n",
       "      <th>age</th>\n",
       "      <th>type_employer</th>\n",
       "      <th>education</th>\n",
       "      <th>education_num</th>\n",
       "      <th>marital</th>\n",
       "      <th>occupation</th>\n",
       "      <th>relationship</th>\n",
       "      <th>race</th>\n",
       "      <th>sex</th>\n",
       "      <th>capital_gain</th>\n",
       "      <th>capital_loss</th>\n",
       "      <th>hr_per_week</th>\n",
       "      <th>country</th>\n",
       "      <th>income</th>\n",
       "    </tr>\n",
       "  </thead>\n",
       "  <tbody>\n",
       "    <tr>\n",
       "      <th>0</th>\n",
       "      <td>4</td>\n",
       "      <td>53</td>\n",
       "      <td>Private</td>\n",
       "      <td>11th</td>\n",
       "      <td>7</td>\n",
       "      <td>Married-civ-spouse</td>\n",
       "      <td>Handlers-cleaners</td>\n",
       "      <td>Husband</td>\n",
       "      <td>Black</td>\n",
       "      <td>Male</td>\n",
       "      <td>0</td>\n",
       "      <td>0</td>\n",
       "      <td>40</td>\n",
       "      <td>United-States</td>\n",
       "      <td>0</td>\n",
       "    </tr>\n",
       "    <tr>\n",
       "      <th>1</th>\n",
       "      <td>14656</td>\n",
       "      <td>32</td>\n",
       "      <td>Private</td>\n",
       "      <td>HS-grad</td>\n",
       "      <td>9</td>\n",
       "      <td>Married-civ-spouse</td>\n",
       "      <td>Adm-clerical</td>\n",
       "      <td>Wife</td>\n",
       "      <td>White</td>\n",
       "      <td>Female</td>\n",
       "      <td>0</td>\n",
       "      <td>0</td>\n",
       "      <td>40</td>\n",
       "      <td>United-States</td>\n",
       "      <td>1</td>\n",
       "    </tr>\n",
       "    <tr>\n",
       "      <th>2</th>\n",
       "      <td>26677</td>\n",
       "      <td>29</td>\n",
       "      <td>Private</td>\n",
       "      <td>10th</td>\n",
       "      <td>6</td>\n",
       "      <td>Married-spouse-absent</td>\n",
       "      <td>Adm-clerical</td>\n",
       "      <td>Unmarried</td>\n",
       "      <td>White</td>\n",
       "      <td>Female</td>\n",
       "      <td>0</td>\n",
       "      <td>0</td>\n",
       "      <td>40</td>\n",
       "      <td>Mexico</td>\n",
       "      <td>0</td>\n",
       "    </tr>\n",
       "    <tr>\n",
       "      <th>3</th>\n",
       "      <td>4281</td>\n",
       "      <td>30</td>\n",
       "      <td>Private</td>\n",
       "      <td>Assoc-voc</td>\n",
       "      <td>11</td>\n",
       "      <td>Married-civ-spouse</td>\n",
       "      <td>Handlers-cleaners</td>\n",
       "      <td>Husband</td>\n",
       "      <td>White</td>\n",
       "      <td>Male</td>\n",
       "      <td>0</td>\n",
       "      <td>0</td>\n",
       "      <td>40</td>\n",
       "      <td>Mexico</td>\n",
       "      <td>0</td>\n",
       "    </tr>\n",
       "    <tr>\n",
       "      <th>4</th>\n",
       "      <td>15668</td>\n",
       "      <td>66</td>\n",
       "      <td>Private</td>\n",
       "      <td>HS-grad</td>\n",
       "      <td>9</td>\n",
       "      <td>Widowed</td>\n",
       "      <td>Priv-house-serv</td>\n",
       "      <td>Not-in-family</td>\n",
       "      <td>White</td>\n",
       "      <td>Female</td>\n",
       "      <td>0</td>\n",
       "      <td>0</td>\n",
       "      <td>8</td>\n",
       "      <td>United-States</td>\n",
       "      <td>0</td>\n",
       "    </tr>\n",
       "  </tbody>\n",
       "</table>\n",
       "</div>"
      ],
      "text/plain": [
       "   Unnamed: 0  age type_employer  education  education_num  \\\n",
       "0           4   53       Private       11th              7   \n",
       "1       14656   32       Private    HS-grad              9   \n",
       "2       26677   29       Private       10th              6   \n",
       "3        4281   30       Private  Assoc-voc             11   \n",
       "4       15668   66       Private    HS-grad              9   \n",
       "\n",
       "                 marital         occupation   relationship   race     sex  \\\n",
       "0     Married-civ-spouse  Handlers-cleaners        Husband  Black    Male   \n",
       "1     Married-civ-spouse       Adm-clerical           Wife  White  Female   \n",
       "2  Married-spouse-absent       Adm-clerical      Unmarried  White  Female   \n",
       "3     Married-civ-spouse  Handlers-cleaners        Husband  White    Male   \n",
       "4                Widowed    Priv-house-serv  Not-in-family  White  Female   \n",
       "\n",
       "   capital_gain  capital_loss  hr_per_week        country  income  \n",
       "0             0             0           40  United-States       0  \n",
       "1             0             0           40  United-States       1  \n",
       "2             0             0           40         Mexico       0  \n",
       "3             0             0           40         Mexico       0  \n",
       "4             0             0            8  United-States       0  "
      ]
     },
     "execution_count": 103,
     "metadata": {},
     "output_type": "execute_result"
    }
   ],
   "source": [
    "df = pd.read_csv('./classification_challenge_training.csv') # read in the census-derived data; mind the separator\n",
    "df.head()\n"
   ]
  },
  {
   "cell_type": "code",
   "execution_count": 104,
   "metadata": {
    "ExecuteTime": {
     "end_time": "2016-10-17T16:19:53.045980",
     "start_time": "2016-10-17T16:19:52.470014"
    },
    "collapsed": false
   },
   "outputs": [
    {
     "name": "stdout",
     "output_type": "stream",
     "text": [
      "<class 'pandas.core.frame.DataFrame'>\n",
      "Int64Index: 22582 entries, 0 to 24419\n",
      "Data columns (total 15 columns):\n",
      "Unnamed: 0       22582 non-null int64\n",
      "age              22582 non-null int64\n",
      "type_employer    22582 non-null object\n",
      "education        22582 non-null object\n",
      "education_num    22582 non-null int64\n",
      "marital          22582 non-null object\n",
      "occupation       22582 non-null object\n",
      "relationship     22582 non-null object\n",
      "race             22582 non-null object\n",
      "sex              22582 non-null object\n",
      "capital_gain     22582 non-null int64\n",
      "capital_loss     22582 non-null int64\n",
      "hr_per_week      22582 non-null int64\n",
      "country          22582 non-null object\n",
      "income           22582 non-null int64\n",
      "dtypes: int64(7), object(8)\n",
      "memory usage: 2.8+ MB\n"
     ]
    }
   ],
   "source": [
    "# Check values and their counts\n",
    "pd.set_option('display.max_rows', 500)\n",
    "df.apply(lambda c: c.value_counts()).T.stack()\n",
    "df[['education', 'education_num']].drop_duplicates()\n",
    "\n",
    "#df_clean = df[df['type_employer'] != '?']\n",
    "#df_clean_all1 = df_clean[(df_clean['country'] != '?')]\n",
    "df_clean_all2 = df_clean_all1[(df_clean_all1['country'] != 'Cambodia')]\n",
    "#df_clean_all = df_clean_all2[df_clean_all2['occupation'] != '?']\n",
    "df_clean_all.info()\n",
    "\n"
   ]
  },
  {
   "cell_type": "code",
   "execution_count": 105,
   "metadata": {
    "ExecuteTime": {
     "end_time": "2016-10-17T16:19:56.515198",
     "start_time": "2016-10-17T16:19:56.471842"
    },
    "collapsed": false
   },
   "outputs": [
    {
     "data": {
      "text/plain": [
       "(22582, 11)"
      ]
     },
     "execution_count": 105,
     "metadata": {},
     "output_type": "execute_result"
    }
   ],
   "source": [
    "\"\"\"Clean/munge your data.\"\"\"\n",
    "\n",
    "\n",
    "col_list = df_clean_all.columns\n",
    "cols_to_drop = ['Unnamed: 0', 'education_num', 'income', 'relationship']\n",
    "df2 = df_clean_all.copy()\n",
    "df2.drop(cols_to_drop, axis=1, inplace=True)\n",
    "\n",
    "\n",
    "#X_train, X_test, Y_train, Y_test = train_test_split(df, target) ## create train-test out of the data given\n",
    "#col_list\n",
    "df2.shape"
   ]
  },
  {
   "cell_type": "code",
   "execution_count": 106,
   "metadata": {
    "ExecuteTime": {
     "end_time": "2016-10-17T16:19:58.354169",
     "start_time": "2016-10-17T16:19:58.349104"
    },
    "collapsed": true
   },
   "outputs": [],
   "source": [
    "#X = df2\n",
    "#y = df_clean_all['income']\n",
    "#X_train, X_test, Y_train, Y_test = train_test_split(df2, y)"
   ]
  },
  {
   "cell_type": "code",
   "execution_count": 107,
   "metadata": {
    "ExecuteTime": {
     "end_time": "2016-10-17T16:20:00.529707",
     "start_time": "2016-10-17T16:20:00.513971"
    },
    "collapsed": false
   },
   "outputs": [
    {
     "data": {
      "text/plain": [
       "United-States                 20574\n",
       "Mexico                          472\n",
       "Philippines                     133\n",
       "Germany                          96\n",
       "Canada                           81\n",
       "Puerto-Rico                      79\n",
       "India                            78\n",
       "El-Salvador                      72\n",
       "Cuba                             70\n",
       "Jamaica                          60\n",
       "England                          59\n",
       "China                            58\n",
       "South                            57\n",
       "Italy                            55\n",
       "Vietnam                          50\n",
       "Dominican-Republic               50\n",
       "Japan                            47\n",
       "Columbia                         46\n",
       "Guatemala                        46\n",
       "Poland                           42\n",
       "Iran                             34\n",
       "Haiti                            29\n",
       "Portugal                         28\n",
       "Taiwan                           28\n",
       "Peru                             27\n",
       "Ecuador                          24\n",
       "Greece                           23\n",
       "Nicaragua                        22\n",
       "France                           20\n",
       "Ireland                          19\n",
       "Thailand                         16\n",
       "Hong                             15\n",
       "Yugoslavia                       14\n",
       "Laos                             14\n",
       "Outlying-US(Guam-USVI-etc)       10\n",
       "Scotland                         10\n",
       "Hungary                           8\n",
       "Trinadad&Tobago                   8\n",
       "Honduras                          7\n",
       "Holand-Netherlands                1\n",
       "Name: country, dtype: int64"
      ]
     },
     "execution_count": 107,
     "metadata": {},
     "output_type": "execute_result"
    }
   ],
   "source": [
    "df_clean_all['country'].value_counts()"
   ]
  },
  {
   "cell_type": "code",
   "execution_count": 109,
   "metadata": {
    "ExecuteTime": {
     "end_time": "2016-10-17T16:20:38.088464",
     "start_time": "2016-10-17T16:20:36.004477"
    },
    "collapsed": true
   },
   "outputs": [],
   "source": [
    "\"\"\" Fit a binary classification predictor.\"\"\"\n",
    "from sklearn.linear_model import LogisticRegression\n",
    "import patsy\n",
    "\n",
    "X = patsy.dmatrix('~ age + C(type_employer) + C(education) + C(marital) + C(occupation)\\\n",
    "                    + C(race) + C(sex) + capital_gain + capital_loss + hr_per_week + C(country)', df2)\n",
    "y = df_clean_all['income'].values\n",
    "\n",
    "X_train, X_test, Y_train, Y_test = train_test_split(X, y, train_size = .66)\n",
    "model = LogisticRegression() \n",
    "\n",
    "#model.fit(X, y) # This fits the model to learn the coefficients\n",
    "model.fit(X_train, Y_train) # This fits the model to learn the coefficients\n",
    "#examine_coefficients(model, X)\n",
    "\n",
    "y_pred = model.predict(X_test)\n",
    "y_score = model.decision_function(X_test) # Submit these response, the output of model.decision_function"
   ]
  },
  {
   "cell_type": "code",
   "execution_count": 110,
   "metadata": {
    "ExecuteTime": {
     "end_time": "2016-10-17T16:23:21.884956",
     "start_time": "2016-10-17T16:20:38.255896"
    },
    "collapsed": false
   },
   "outputs": [
    {
     "data": {
      "text/plain": [
       "GridSearchCV(cv=15, error_score='raise',\n",
       "       estimator=LogisticRegression(C=1.0, class_weight=None, dual=False, fit_intercept=True,\n",
       "          intercept_scaling=1, max_iter=100, multi_class='ovr', n_jobs=1,\n",
       "          penalty='l2', random_state=None, solver='liblinear', tol=0.0001,\n",
       "          verbose=0, warm_start=False),\n",
       "       fit_params={}, iid=True, n_jobs=1,\n",
       "       param_grid={'penalty': ['l1', 'l2'], 'C': [0.01, 0.1, 0.15, 0.25, 0.275, 0.33, 0.5, 0.66, 0.75, 1.0, 2.5, 5.0, 10.0]},\n",
       "       pre_dispatch='2*n_jobs', refit=True, scoring=None, verbose=False)"
      ]
     },
     "execution_count": 110,
     "metadata": {},
     "output_type": "execute_result"
    }
   ],
   "source": [
    "from sklearn.grid_search import GridSearchCV\n",
    "\n",
    "logreg = LogisticRegression(solver='liblinear')\n",
    "C_vals = [0.01, 0.1, .15, .25, .275, .33, 0.5, .66, 0.75, 1.0, 2.5, 5.0, 10.0]\n",
    "penalties = ['l1','l2']\n",
    "\n",
    "gs = GridSearchCV(logreg, {'penalty': penalties, 'C': C_vals}, verbose=False, cv=15)\n",
    "gs.fit(X, y)\n"
   ]
  },
  {
   "cell_type": "code",
   "execution_count": 111,
   "metadata": {
    "ExecuteTime": {
     "end_time": "2016-10-17T16:25:53.476996",
     "start_time": "2016-10-17T16:25:53.464826"
    },
    "collapsed": false
   },
   "outputs": [
    {
     "data": {
      "text/plain": [
       "{'C': 0.75, 'penalty': 'l1'}"
      ]
     },
     "execution_count": 111,
     "metadata": {},
     "output_type": "execute_result"
    }
   ],
   "source": [
    "gs.best_params_"
   ]
  },
  {
   "cell_type": "code",
   "execution_count": 112,
   "metadata": {
    "ExecuteTime": {
     "end_time": "2016-10-17T16:25:54.295165",
     "start_time": "2016-10-17T16:25:53.934367"
    },
    "collapsed": false
   },
   "outputs": [],
   "source": [
    "logreg = LogisticRegression(C=gs.best_params_['C'], penalty=gs.best_params_['penalty'])\n",
    "cv_model = logreg.fit(X_train, Y_train)\n",
    "cv_predict = cv_model.predict(X_test)"
   ]
  },
  {
   "cell_type": "code",
   "execution_count": 113,
   "metadata": {
    "ExecuteTime": {
     "end_time": "2016-10-17T16:25:54.417311",
     "start_time": "2016-10-17T16:25:54.406204"
    },
    "collapsed": false
   },
   "outputs": [
    {
     "name": "stdout",
     "output_type": "stream",
     "text": [
      "             precision    recall  f1-score   support\n",
      "\n",
      "          0       0.88      0.93      0.90      5781\n",
      "          1       0.73      0.61      0.67      1897\n",
      "\n",
      "avg / total       0.84      0.85      0.84      7678\n",
      "\n"
     ]
    }
   ],
   "source": [
    "print classification_report(Y_test, cv_predict, labels=cv_model.classes_)"
   ]
  },
  {
   "cell_type": "code",
   "execution_count": 114,
   "metadata": {
    "ExecuteTime": {
     "end_time": "2016-10-17T16:25:54.918335",
     "start_time": "2016-10-17T16:25:54.908483"
    },
    "collapsed": false
   },
   "outputs": [
    {
     "name": "stdout",
     "output_type": "stream",
     "text": [
      "             precision    recall  f1-score   support\n",
      "\n",
      "          0       0.88      0.93      0.90      5781\n",
      "          1       0.74      0.60      0.66      1897\n",
      "\n",
      "avg / total       0.84      0.85      0.84      7678\n",
      "\n"
     ]
    }
   ],
   "source": [
    "print classification_report(Y_test, y_pred, labels=model.classes_)"
   ]
  },
  {
   "cell_type": "code",
   "execution_count": 125,
   "metadata": {
    "ExecuteTime": {
     "end_time": "2016-10-17T16:53:32.377615",
     "start_time": "2016-10-17T16:53:31.485454"
    },
    "collapsed": false
   },
   "outputs": [
    {
     "name": "stdout",
     "output_type": "stream",
     "text": [
      "           predicted_over50k  predicted_under50k\n",
      "over_50k                1147                 750\n",
      "under_50k                410                5371\n",
      "             precision    recall  f1-score   support\n",
      "\n",
      "          0       0.88      0.93      0.90      5781\n",
      "          1       0.74      0.60      0.66      1897\n",
      "\n",
      "avg / total       0.84      0.85      0.84      7678\n",
      "\n"
     ]
    },
    {
     "data": {
      "image/png": "[encoded data removed]",
      "text/plain": [
       "<matplotlib.figure.Figure at 0x1156af490>"
      ]
     },
     "metadata": {},
     "output_type": "display_data"
    }
   ],
   "source": [
    "\"\"\" Check your performance so far.\"\"\"\n",
    "\n",
    "conmat = np.array(confusion_matrix(Y_test, y_pred, labels=[1,0]))\n",
    "confusion = pd.DataFrame(conmat, index=['over_50k', 'under_50k'],\n",
    "                            columns=['predicted_over50k','predicted_under50k'])\n",
    "\n",
    "print(confusion)\n",
    "print classification_report(Y_test,y_pred)\n",
    "roc_auc_score(Y_test, y_score)\n",
    "\n",
    "\"\"\" Plot AUC\"\"\"\n",
    "\n",
    "FPR = dict()\n",
    "TPR = dict()\n",
    "ROC_AUC = dict()\n",
    "\n",
    "# For class 1, find the area under the curve\n",
    "FPR[1], TPR[1], _ = roc_curve(Y_test, y_score)\n",
    "ROC_AUC[1] = auc(FPR[1], TPR[1])\n",
    "\n",
    "# Plot of a ROC curve for class 1 (has_cancer)\n",
    "plt.figure(figsize=[11,9])\n",
    "plt.plot(FPR[1], TPR[1], label='ROC curve (area = %0.2f)' % ROC_AUC[1], linewidth=4)\n",
    "plt.plot([0, 1], [0, 1], 'k--', linewidth=4)\n",
    "plt.xlim([0.0, 1.0])\n",
    "plt.ylim([0.0, 1.05])\n",
    "plt.xlabel('False Positive Rate', fontsize=18)\n",
    "plt.ylabel('True Positive Rate', fontsize=18)\n",
    "plt.title('Receiver operating characteristic for high/low income', fontsize=18)\n",
    "plt.legend(loc=\"lower right\")\n",
    "plt.show()"
   ]
  },
  {
   "cell_type": "code",
   "execution_count": 132,
   "metadata": {
    "ExecuteTime": {
     "end_time": "2016-10-17T17:11:11.369807",
     "start_time": "2016-10-17T17:11:10.609276"
    },
    "collapsed": false
   },
   "outputs": [
    {
     "ename": "ValueError",
     "evalue": "X has 92 features per sample; expecting 89",
     "output_type": "error",
     "traceback": [
      "\u001b[0;31m---------------------------------------------------------------------------\u001b[0m",
      "\u001b[0;31mValueError\u001b[0m                                Traceback (most recent call last)",
      "\u001b[0;32m<ipython-input-132-479e6832010d>\u001b[0m in \u001b[0;36m<module>\u001b[0;34m()\u001b[0m\n\u001b[1;32m     12\u001b[0m \u001b[0;34m\u001b[0m\u001b[0m\n\u001b[1;32m     13\u001b[0m \u001b[0mX_submit\u001b[0m \u001b[0;34m=\u001b[0m \u001b[0mpatsy\u001b[0m\u001b[0;34m.\u001b[0m\u001b[0mdmatrix\u001b[0m\u001b[0;34m(\u001b[0m\u001b[0;34m'~ age + C(type_employer) + C(education) + C(marital) + C(occupation)                    + C(race) + C(sex) + capital_gain + capital_loss + hr_per_week + C(country)'\u001b[0m\u001b[0;34m,\u001b[0m \u001b[0mdf_submit\u001b[0m\u001b[0;34m)\u001b[0m\u001b[0;34m\u001b[0m\u001b[0m\n\u001b[0;32m---> 14\u001b[0;31m \u001b[0my_pred_submit\u001b[0m \u001b[0;34m=\u001b[0m \u001b[0mcv_model\u001b[0m\u001b[0;34m.\u001b[0m\u001b[0mpredict\u001b[0m\u001b[0;34m(\u001b[0m\u001b[0mX_submit\u001b[0m\u001b[0;34m)\u001b[0m\u001b[0;34m\u001b[0m\u001b[0m\n\u001b[0m\u001b[1;32m     15\u001b[0m \u001b[0my_score_submit\u001b[0m \u001b[0;34m=\u001b[0m \u001b[0mmodel\u001b[0m\u001b[0;34m.\u001b[0m\u001b[0mdecision_function\u001b[0m\u001b[0;34m(\u001b[0m\u001b[0mX_submit\u001b[0m\u001b[0;34m)\u001b[0m \u001b[0;31m# Submit these response, the output of model.decision_function\u001b[0m\u001b[0;34m\u001b[0m\u001b[0m\n",
      "\u001b[0;32m/Applications/anaconda/anaconda/lib/python2.7/site-packages/sklearn/linear_model/base.pyc\u001b[0m in \u001b[0;36mpredict\u001b[0;34m(self, X)\u001b[0m\n\u001b[1;32m    334\u001b[0m             \u001b[0mPredicted\u001b[0m \u001b[0;32mclass\u001b[0m \u001b[0mlabel\u001b[0m \u001b[0mper\u001b[0m \u001b[0msample\u001b[0m\u001b[0;34m.\u001b[0m\u001b[0;34m\u001b[0m\u001b[0m\n\u001b[1;32m    335\u001b[0m         \"\"\"\n\u001b[0;32m--> 336\u001b[0;31m         \u001b[0mscores\u001b[0m \u001b[0;34m=\u001b[0m \u001b[0mself\u001b[0m\u001b[0;34m.\u001b[0m\u001b[0mdecision_function\u001b[0m\u001b[0;34m(\u001b[0m\u001b[0mX\u001b[0m\u001b[0;34m)\u001b[0m\u001b[0;34m\u001b[0m\u001b[0m\n\u001b[0m\u001b[1;32m    337\u001b[0m         \u001b[0;32mif\u001b[0m \u001b[0mlen\u001b[0m\u001b[0;34m(\u001b[0m\u001b[0mscores\u001b[0m\u001b[0;34m.\u001b[0m\u001b[0mshape\u001b[0m\u001b[0;34m)\u001b[0m \u001b[0;34m==\u001b[0m \u001b[0;36m1\u001b[0m\u001b[0;34m:\u001b[0m\u001b[0;34m\u001b[0m\u001b[0m\n\u001b[1;32m    338\u001b[0m             \u001b[0mindices\u001b[0m \u001b[0;34m=\u001b[0m \u001b[0;34m(\u001b[0m\u001b[0mscores\u001b[0m \u001b[0;34m>\u001b[0m \u001b[0;36m0\u001b[0m\u001b[0;34m)\u001b[0m\u001b[0;34m.\u001b[0m\u001b[0mastype\u001b[0m\u001b[0;34m(\u001b[0m\u001b[0mnp\u001b[0m\u001b[0;34m.\u001b[0m\u001b[0mint\u001b[0m\u001b[0;34m)\u001b[0m\u001b[0;34m\u001b[0m\u001b[0m\n",
      "\u001b[0;32m/Applications/anaconda/anaconda/lib/python2.7/site-packages/sklearn/linear_model/base.pyc\u001b[0m in \u001b[0;36mdecision_function\u001b[0;34m(self, X)\u001b[0m\n\u001b[1;32m    315\u001b[0m         \u001b[0;32mif\u001b[0m \u001b[0mX\u001b[0m\u001b[0;34m.\u001b[0m\u001b[0mshape\u001b[0m\u001b[0;34m[\u001b[0m\u001b[0;36m1\u001b[0m\u001b[0;34m]\u001b[0m \u001b[0;34m!=\u001b[0m \u001b[0mn_features\u001b[0m\u001b[0;34m:\u001b[0m\u001b[0;34m\u001b[0m\u001b[0m\n\u001b[1;32m    316\u001b[0m             raise ValueError(\"X has %d features per sample; expecting %d\"\n\u001b[0;32m--> 317\u001b[0;31m                              % (X.shape[1], n_features))\n\u001b[0m\u001b[1;32m    318\u001b[0m \u001b[0;34m\u001b[0m\u001b[0m\n\u001b[1;32m    319\u001b[0m         scores = safe_sparse_dot(X, self.coef_.T,\n",
      "\u001b[0;31mValueError\u001b[0m: X has 92 features per sample; expecting 89"
     ]
    }
   ],
   "source": [
    "dfs = pd.read_csv('./classification_challenge_submission.csv') # read in the census-derived data; mind the separator\n",
    "\n",
    "# dfs_clean = dfs[dfs['type_employer'] != '?']\n",
    "# dfs_clean_all1 = dfs_clean[dfs_clean['country'] != '?']\n",
    "# dfs_clean_all = dfs_clean_all1[dfs_clean_all1['occupation'] != '?']\n",
    "\n",
    "# dfs_clean_all.info()\n",
    "# col_list = dfs_clean_all.columns\n",
    "# cols_to_drop = ['Unnamed: 0', 'education_num', 'relationship']\n",
    "df_submit = dfs.copy()\n",
    "df_submit.drop(cols_to_drop, axis=1, inplace=True)\n",
    "\n",
    "X_submit = patsy.dmatrix('~ age + C(type_employer) + C(education) + C(marital) + C(occupation)\\\n",
    "                    + C(race) + C(sex) + capital_gain + capital_loss + hr_per_week + C(country)', df_submit)\n",
    "y_pred_submit = cv_model.predict(X_submit)\n",
    "y_score_submit = model.decision_function(X_submit) # Submit these response, the output of model.decision_function"
   ]
  },
  {
   "cell_type": "code",
   "execution_count": 129,
   "metadata": {
    "ExecuteTime": {
     "end_time": "2016-10-17T16:54:23.510011",
     "start_time": "2016-10-17T16:54:23.498733"
    },
    "collapsed": false
   },
   "outputs": [],
   "source": [
    "y_pred_df = pd.DataFrame(y_score_submit)\n",
    "final = pd.concat([dfs,y_pred_df], axis=1)"
   ]
  },
  {
   "cell_type": "code",
   "execution_count": 131,
   "metadata": {
    "ExecuteTime": {
     "end_time": "2016-10-17T16:55:01.046775",
     "start_time": "2016-10-17T16:55:01.034337"
    },
    "collapsed": false
   },
   "outputs": [
    {
     "data": {
      "text/plain": [
       "(8141, 15)"
      ]
     },
     "execution_count": 131,
     "metadata": {},
     "output_type": "execute_result"
    }
   ],
   "source": [
    "real_final = final.rename(columns={0:'income'})\n",
    "real_final.shape"
   ]
  },
  {
   "cell_type": "code",
   "execution_count": 124,
   "metadata": {
    "ExecuteTime": {
     "end_time": "2016-10-17T16:33:58.354877",
     "start_time": "2016-10-17T16:33:58.275507"
    },
    "collapsed": true
   },
   "outputs": [],
   "source": [
    "real_final.to_csv('final.csv')"
   ]
  },
  {
   "cell_type": "code",
   "execution_count": null,
   "metadata": {
    "collapsed": true
   },
   "outputs": [],
   "source": []
  },
  {
   "cell_type": "code",
   "execution_count": null,
   "metadata": {
    "collapsed": true
   },
   "outputs": [],
   "source": []
  },
  {
   "cell_type": "code",
   "execution_count": null,
   "metadata": {
    "collapsed": true
   },
   "outputs": [],
   "source": []
  },
  {
   "cell_type": "code",
   "execution_count": null,
   "metadata": {
    "collapsed": true
   },
   "outputs": [],
   "source": []
  }
 ],
 "metadata": {
  "anaconda-cloud": {},
  "kernelspec": {
   "display_name": "Python [default]",
   "language": "python",
   "name": "python2"
  },
  "language_info": {
   "codemirror_mode": {
    "name": "ipython",
    "version": 2
   },
   "file_extension": ".py",
   "mimetype": "text/x-python",
   "name": "python",
   "nbconvert_exporter": "python",
   "pygments_lexer": "ipython2",
   "version": "2.7.12"
  }
 },
 "nbformat": 4,
 "nbformat_minor": 0
}
