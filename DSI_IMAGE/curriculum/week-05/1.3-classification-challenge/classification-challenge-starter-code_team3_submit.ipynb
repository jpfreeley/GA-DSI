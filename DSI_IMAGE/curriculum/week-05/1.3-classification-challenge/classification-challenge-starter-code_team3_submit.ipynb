{
 "cells": [
  {
   "cell_type": "code",
   "execution_count": 3,
   "metadata": {
    "ExecuteTime": {
     "end_time": "2016-10-17T15:19:52.212454",
     "start_time": "2016-10-17T15:19:52.192635"
    },
    "collapsed": false,
    "scrolled": true
   },
   "outputs": [],
   "source": [
    "import pandas as pd\n",
    "import matplotlib.pyplot as plt\n",
    "%matplotlib inline\n",
    "import numpy as np\n",
    "\n",
    "from sklearn.linear_model import LogisticRegression\n",
    "from sklearn.cross_validation import train_test_split\n",
    "\n",
    "from sklearn.metrics import classification_report\n",
    "from sklearn.metrics import roc_auc_score\n",
    "from sklearn.metrics import roc_curve\n",
    "from sklearn.metrics import auc\n",
    "from sklearn.metrics import confusion_matrix"
   ]
  },
  {
   "cell_type": "code",
   "execution_count": 4,
   "metadata": {
    "ExecuteTime": {
     "end_time": "2016-10-17T15:19:53.802567",
     "start_time": "2016-10-17T15:19:53.574539"
    },
    "collapsed": false
   },
   "outputs": [
    {
     "data": {
      "text/html": [
       "<div>\n",
       "<table border=\"1\" class=\"dataframe\">\n",
       "  <thead>\n",
       "    <tr style=\"text-align: right;\">\n",
       "      <th></th>\n",
       "      <th>Unnamed: 0</th>\n",
       "      <th>age</th>\n",
       "      <th>type_employer</th>\n",
       "      <th>education</th>\n",
       "      <th>education_num</th>\n",
       "      <th>marital</th>\n",
       "      <th>occupation</th>\n",
       "      <th>relationship</th>\n",
       "      <th>race</th>\n",
       "      <th>sex</th>\n",
       "      <th>capital_gain</th>\n",
       "      <th>capital_loss</th>\n",
       "      <th>hr_per_week</th>\n",
       "      <th>country</th>\n",
       "    </tr>\n",
       "  </thead>\n",
       "  <tbody>\n",
       "    <tr>\n",
       "      <th>0</th>\n",
       "      <td>18099</td>\n",
       "      <td>45</td>\n",
       "      <td>Federal-gov</td>\n",
       "      <td>Some-college</td>\n",
       "      <td>10</td>\n",
       "      <td>Married-civ-spouse</td>\n",
       "      <td>Adm-clerical</td>\n",
       "      <td>Husband</td>\n",
       "      <td>Black</td>\n",
       "      <td>Male</td>\n",
       "      <td>0</td>\n",
       "      <td>0</td>\n",
       "      <td>20</td>\n",
       "      <td>United-States</td>\n",
       "    </tr>\n",
       "    <tr>\n",
       "      <th>1</th>\n",
       "      <td>10672</td>\n",
       "      <td>17</td>\n",
       "      <td>Private</td>\n",
       "      <td>12th</td>\n",
       "      <td>8</td>\n",
       "      <td>Never-married</td>\n",
       "      <td>Sales</td>\n",
       "      <td>Own-child</td>\n",
       "      <td>White</td>\n",
       "      <td>Male</td>\n",
       "      <td>0</td>\n",
       "      <td>0</td>\n",
       "      <td>40</td>\n",
       "      <td>United-States</td>\n",
       "    </tr>\n",
       "    <tr>\n",
       "      <th>2</th>\n",
       "      <td>17947</td>\n",
       "      <td>24</td>\n",
       "      <td>Private</td>\n",
       "      <td>Bachelors</td>\n",
       "      <td>13</td>\n",
       "      <td>Never-married</td>\n",
       "      <td>Adm-clerical</td>\n",
       "      <td>Own-child</td>\n",
       "      <td>White</td>\n",
       "      <td>Male</td>\n",
       "      <td>0</td>\n",
       "      <td>0</td>\n",
       "      <td>40</td>\n",
       "      <td>United-States</td>\n",
       "    </tr>\n",
       "    <tr>\n",
       "      <th>3</th>\n",
       "      <td>13753</td>\n",
       "      <td>46</td>\n",
       "      <td>Private</td>\n",
       "      <td>HS-grad</td>\n",
       "      <td>9</td>\n",
       "      <td>Married-civ-spouse</td>\n",
       "      <td>Craft-repair</td>\n",
       "      <td>Husband</td>\n",
       "      <td>Black</td>\n",
       "      <td>Male</td>\n",
       "      <td>4064</td>\n",
       "      <td>0</td>\n",
       "      <td>40</td>\n",
       "      <td>United-States</td>\n",
       "    </tr>\n",
       "    <tr>\n",
       "      <th>4</th>\n",
       "      <td>4279</td>\n",
       "      <td>59</td>\n",
       "      <td>Private</td>\n",
       "      <td>Bachelors</td>\n",
       "      <td>13</td>\n",
       "      <td>Separated</td>\n",
       "      <td>Adm-clerical</td>\n",
       "      <td>Unmarried</td>\n",
       "      <td>White</td>\n",
       "      <td>Male</td>\n",
       "      <td>0</td>\n",
       "      <td>0</td>\n",
       "      <td>60</td>\n",
       "      <td>United-States</td>\n",
       "    </tr>\n",
       "  </tbody>\n",
       "</table>\n",
       "</div>"
      ],
      "text/plain": [
       "   Unnamed: 0  age type_employer     education  education_num  \\\n",
       "0       18099   45   Federal-gov  Some-college             10   \n",
       "1       10672   17       Private          12th              8   \n",
       "2       17947   24       Private     Bachelors             13   \n",
       "3       13753   46       Private       HS-grad              9   \n",
       "4        4279   59       Private     Bachelors             13   \n",
       "\n",
       "              marital    occupation relationship   race   sex  capital_gain  \\\n",
       "0  Married-civ-spouse  Adm-clerical      Husband  Black  Male             0   \n",
       "1       Never-married         Sales    Own-child  White  Male             0   \n",
       "2       Never-married  Adm-clerical    Own-child  White  Male             0   \n",
       "3  Married-civ-spouse  Craft-repair      Husband  Black  Male          4064   \n",
       "4           Separated  Adm-clerical    Unmarried  White  Male             0   \n",
       "\n",
       "   capital_loss  hr_per_week        country  \n",
       "0             0           20  United-States  \n",
       "1             0           40  United-States  \n",
       "2             0           40  United-States  \n",
       "3             0           40  United-States  \n",
       "4             0           60  United-States  "
      ]
     },
     "execution_count": 4,
     "metadata": {},
     "output_type": "execute_result"
    }
   ],
   "source": [
    "df = pd.read_csv('./classification_challenge_submission.csv') # read in the census-derived data; mind the separator\n",
    "df.head()"
   ]
  },
  {
   "cell_type": "code",
   "execution_count": 5,
   "metadata": {
    "ExecuteTime": {
     "end_time": "2016-10-17T15:19:55.732342",
     "start_time": "2016-10-17T15:19:55.476150"
    },
    "collapsed": false
   },
   "outputs": [
    {
     "name": "stdout",
     "output_type": "stream",
     "text": [
      "<class 'pandas.core.frame.DataFrame'>\n",
      "Int64Index: 7567 entries, 0 to 8140\n",
      "Data columns (total 14 columns):\n",
      "Unnamed: 0       7567 non-null int64\n",
      "age              7567 non-null int64\n",
      "type_employer    7567 non-null object\n",
      "education        7567 non-null object\n",
      "education_num    7567 non-null int64\n",
      "marital          7567 non-null object\n",
      "occupation       7567 non-null object\n",
      "relationship     7567 non-null object\n",
      "race             7567 non-null object\n",
      "sex              7567 non-null object\n",
      "capital_gain     7567 non-null int64\n",
      "capital_loss     7567 non-null int64\n",
      "hr_per_week      7567 non-null int64\n",
      "country          7567 non-null object\n",
      "dtypes: int64(6), object(8)\n",
      "memory usage: 886.8+ KB\n"
     ]
    }
   ],
   "source": [
    "# Check values and their counts\n",
    "pd.set_option('display.max_rows', 500)\n",
    "df.apply(lambda c: c.value_counts()).T.stack()\n",
    "df[['education', 'education_num']].drop_duplicates()\n",
    "\n",
    "df_clean = df[df['type_employer'] != '?']\n",
    "df_clean_all1 = df_clean[df_clean['country'] != '?']\n",
    "df_clean_all = df_clean_all1[df_clean_all1['occupation'] != '?']\n",
    "df_clean_all.info()\n",
    "\n"
   ]
  },
  {
   "cell_type": "code",
   "execution_count": 7,
   "metadata": {
    "ExecuteTime": {
     "end_time": "2016-10-17T15:22:01.848645",
     "start_time": "2016-10-17T15:22:01.828863"
    },
    "collapsed": false
   },
   "outputs": [
    {
     "data": {
      "text/plain": [
       "(7567, 11)"
      ]
     },
     "execution_count": 7,
     "metadata": {},
     "output_type": "execute_result"
    }
   ],
   "source": [
    "\"\"\"Clean/munge your data.\"\"\"\n",
    "\n",
    "\n",
    "col_list = df_clean_all.columns\n",
    "cols_to_drop = ['Unnamed: 0', 'education_num', 'relationship']\n",
    "df2 = df_clean_all.copy()\n",
    "df2.drop(cols_to_drop, axis=1, inplace=True)\n",
    "\n",
    "\n",
    "#X_train, X_test, Y_train, Y_test = train_test_split(df, target) ## create train-test out of the data given\n",
    "#col_list\n",
    "df2.shape"
   ]
  },
  {
   "cell_type": "code",
   "execution_count": null,
   "metadata": {
    "ExecuteTime": {
     "end_time": "2016-10-17T14:15:36.429707",
     "start_time": "2016-10-17T18:15:36.374Z"
    },
    "collapsed": true
   },
   "outputs": [],
   "source": [
    "#X = df2\n",
    "#y = df_clean_all['income']\n",
    "#X_train, X_test, Y_train, Y_test = train_test_split(df2, y)"
   ]
  },
  {
   "cell_type": "code",
   "execution_count": 93,
   "metadata": {
    "ExecuteTime": {
     "end_time": "2016-10-17T14:47:02.540640",
     "start_time": "2016-10-17T14:47:02.524072"
    },
    "collapsed": false
   },
   "outputs": [
    {
     "data": {
      "text/plain": [
       "United-States                 20574\n",
       "Mexico                          472\n",
       "Philippines                     133\n",
       "Germany                          96\n",
       "Canada                           81\n",
       "Puerto-Rico                      79\n",
       "India                            78\n",
       "El-Salvador                      72\n",
       "Cuba                             70\n",
       "Jamaica                          60\n",
       "England                          59\n",
       "China                            58\n",
       "South                            57\n",
       "Italy                            55\n",
       "Vietnam                          50\n",
       "Dominican-Republic               50\n",
       "Japan                            47\n",
       "Columbia                         46\n",
       "Guatemala                        46\n",
       "Poland                           42\n",
       "Iran                             34\n",
       "Haiti                            29\n",
       "Portugal                         28\n",
       "Taiwan                           28\n",
       "Peru                             27\n",
       "Ecuador                          24\n",
       "Greece                           23\n",
       "Nicaragua                        22\n",
       "France                           20\n",
       "Ireland                          19\n",
       "Thailand                         16\n",
       "Hong                             15\n",
       "Yugoslavia                       14\n",
       "Laos                             14\n",
       "Cambodia                         13\n",
       "Outlying-US(Guam-USVI-etc)       10\n",
       "Scotland                         10\n",
       "Hungary                           8\n",
       "Trinadad&Tobago                   8\n",
       "Honduras                          7\n",
       "Holand-Netherlands                1\n",
       "Name: country, dtype: int64"
      ]
     },
     "execution_count": 93,
     "metadata": {},
     "output_type": "execute_result"
    }
   ],
   "source": [
    "df_clean_all['country'].value_counts()"
   ]
  },
  {
   "cell_type": "code",
   "execution_count": 123,
   "metadata": {
    "ExecuteTime": {
     "end_time": "2016-10-17T15:10:32.045833",
     "start_time": "2016-10-17T15:10:29.919118"
    },
    "collapsed": true
   },
   "outputs": [],
   "source": [
    "\"\"\" Fit a binary classification predictor.\"\"\"\n",
    "from sklearn.linear_model import LogisticRegression\n",
    "import patsy\n",
    "\n",
    "X = patsy.dmatrix('~ age + C(type_employer) + C(education) + C(marital) + C(occupation)\\\n",
    "                    + C(race) + C(sex) + capital_gain + capital_loss + hr_per_week + C(country)', df2)\n",
    "y = df_clean_all['income'].values\n",
    "\n",
    "#X_train, X_test, Y_train, Y_test = train_test_split(X, y, train_size = .66)\n",
    "model = LogisticRegression() \n",
    "\n",
    "#model.fit(X, y) # This fits the model to learn the coefficients\n",
    "model.fit(X_train, Y_train) # This fits the model to learn the coefficients\n",
    "#examine_coefficients(model, X)\n",
    "\n",
    "y_pred = model.predict(X_test)\n",
    "y_score = model.decision_function(X_test) # Submit these response, the output of model.decision_function"
   ]
  },
  {
   "cell_type": "code",
   "execution_count": 107,
   "metadata": {
    "ExecuteTime": {
     "end_time": "2016-10-17T14:55:27.011950",
     "start_time": "2016-10-17T14:52:23.706802"
    },
    "collapsed": false
   },
   "outputs": [
    {
     "name": "stderr",
     "output_type": "stream",
     "text": [
      "/Applications/anaconda/anaconda/lib/python2.7/site-packages/sklearn/grid_search.py:43: DeprecationWarning: This module was deprecated in version 0.18 in favor of the model_selection module into which all the refactored classes and functions are moved. This module will be removed in 0.20.\n",
      "  DeprecationWarning)\n"
     ]
    },
    {
     "data": {
      "text/plain": [
       "GridSearchCV(cv=15, error_score='raise',\n",
       "       estimator=LogisticRegression(C=1.0, class_weight=None, dual=False, fit_intercept=True,\n",
       "          intercept_scaling=1, max_iter=100, multi_class='ovr', n_jobs=1,\n",
       "          penalty='l2', random_state=None, solver='liblinear', tol=0.0001,\n",
       "          verbose=0, warm_start=False),\n",
       "       fit_params={}, iid=True, n_jobs=1,\n",
       "       param_grid={'penalty': ['l1', 'l2'], 'C': [0.0001, 0.001, 0.01, 0.1, 0.15, 0.25, 0.275, 0.33, 0.5, 0.66, 0.75, 1.0, 2.5, 5.0, 10.0, 100.0, 1000.0]},\n",
       "       pre_dispatch='2*n_jobs', refit=True, scoring=None, verbose=False)"
      ]
     },
     "execution_count": 107,
     "metadata": {},
     "output_type": "execute_result"
    }
   ],
   "source": [
    "from sklearn.grid_search import GridSearchCV\n",
    "\n",
    "logreg = LogisticRegression(solver='liblinear')\n",
    "C_vals = [0.0001, 0.001, 0.01, 0.1, .15, .25, .275, .33, 0.5, .66, 0.75, 1.0, 2.5, 5.0, 10.0, 100.0, 1000.0]\n",
    "penalties = ['l1','l2']\n",
    "\n",
    "gs = GridSearchCV(logreg, {'penalty': penalties, 'C': C_vals}, verbose=False, cv=15)\n",
    "gs.fit(X, y)\n"
   ]
  },
  {
   "cell_type": "code",
   "execution_count": 108,
   "metadata": {
    "ExecuteTime": {
     "end_time": "2016-10-17T14:55:27.024506",
     "start_time": "2016-10-17T14:55:27.015385"
    },
    "collapsed": false
   },
   "outputs": [
    {
     "data": {
      "text/plain": [
       "{'C': 1.0, 'penalty': 'l1'}"
      ]
     },
     "execution_count": 108,
     "metadata": {},
     "output_type": "execute_result"
    }
   ],
   "source": [
    "gs.best_params_"
   ]
  },
  {
   "cell_type": "code",
   "execution_count": 116,
   "metadata": {
    "ExecuteTime": {
     "end_time": "2016-10-17T15:05:12.575771",
     "start_time": "2016-10-17T15:05:12.241122"
    },
    "collapsed": false
   },
   "outputs": [],
   "source": [
    "logreg = LogisticRegression(C=gs.best_params_['C'], penalty=gs.best_params_['penalty'])\n",
    "cv_model = logreg.fit(X_train, Y_train)\n",
    "cv_predict = cv_model.predict(X_test)"
   ]
  },
  {
   "cell_type": "code",
   "execution_count": 121,
   "metadata": {
    "ExecuteTime": {
     "end_time": "2016-10-17T15:05:51.273719",
     "start_time": "2016-10-17T15:05:51.264541"
    },
    "collapsed": false
   },
   "outputs": [
    {
     "name": "stdout",
     "output_type": "stream",
     "text": [
      "             precision    recall  f1-score   support\n",
      "\n",
      "          0       0.88      0.93      0.90      5766\n",
      "          1       0.75      0.61      0.67      1917\n",
      "\n",
      "avg / total       0.85      0.85      0.85      7683\n",
      "\n"
     ]
    }
   ],
   "source": [
    "print classification_report(Y_test, cv_predict, labels=cv_model.classes_)"
   ]
  },
  {
   "cell_type": "code",
   "execution_count": 124,
   "metadata": {
    "ExecuteTime": {
     "end_time": "2016-10-17T15:10:39.391866",
     "start_time": "2016-10-17T15:10:39.382774"
    },
    "collapsed": false
   },
   "outputs": [
    {
     "name": "stdout",
     "output_type": "stream",
     "text": [
      "             precision    recall  f1-score   support\n",
      "\n",
      "          0       0.88      0.93      0.90      5804\n",
      "          1       0.73      0.62      0.67      1879\n",
      "\n",
      "avg / total       0.84      0.85      0.85      7683\n",
      "\n"
     ]
    }
   ],
   "source": [
    "print classification_report(Y_test, y_pred, labels=model.classes_)"
   ]
  },
  {
   "cell_type": "code",
   "execution_count": 125,
   "metadata": {
    "ExecuteTime": {
     "end_time": "2016-10-17T15:11:25.298613",
     "start_time": "2016-10-17T15:11:24.373696"
    },
    "collapsed": false
   },
   "outputs": [
    {
     "name": "stdout",
     "output_type": "stream",
     "text": [
      "           predicted_over50k  predicted_under50k\n",
      "over_50k                1163                 716\n",
      "under_50k                433                5371\n",
      "             precision    recall  f1-score   support\n",
      "\n",
      "          0       0.88      0.93      0.90      5804\n",
      "          1       0.73      0.62      0.67      1879\n",
      "\n",
      "avg / total       0.84      0.85      0.85      7683\n",
      "\n"
     ]
    },
    {
     "data": {
      "image/png": "[encoded data removed]",
      "text/plain": [
       "<matplotlib.figure.Figure at 0x11481b750>"
      ]
     },
     "metadata": {},
     "output_type": "display_data"
    }
   ],
   "source": [
    "\"\"\" Check your performance so far.\"\"\"\n",
    "\n",
    "conmat = np.array(confusion_matrix(Y_test, y_pred, labels=[1,0]))\n",
    "confusion = pd.DataFrame(conmat, index=['over_50k', 'under_50k'],\n",
    "                            columns=['predicted_over50k','predicted_under50k'])\n",
    "\n",
    "print(confusion)\n",
    "print classification_report(Y_test,y_pred)\n",
    "roc_auc_score(Y_test, y_score)\n",
    "\n",
    "\"\"\" Plot AUC\"\"\"\n",
    "\n",
    "FPR = dict()\n",
    "TPR = dict()\n",
    "ROC_AUC = dict()\n",
    "\n",
    "# For class 1, find the area under the curve\n",
    "FPR[1], TPR[1], _ = roc_curve(Y_test, y_score)\n",
    "ROC_AUC[1] = auc(FPR[1], TPR[1])\n",
    "\n",
    "# Plot of a ROC curve for class 1 (has_cancer)\n",
    "plt.figure(figsize=[11,9])\n",
    "plt.plot(FPR[1], TPR[1], label='ROC curve (area = %0.2f)' % ROC_AUC[1], linewidth=4)\n",
    "plt.plot([0, 1], [0, 1], 'k--', linewidth=4)\n",
    "plt.xlim([0.0, 1.0])\n",
    "plt.ylim([0.0, 1.05])\n",
    "plt.xlabel('False Positive Rate', fontsize=18)\n",
    "plt.ylabel('True Positive Rate', fontsize=18)\n",
    "plt.title('Receiver operating characteristic for high/low income', fontsize=18)\n",
    "plt.legend(loc=\"lower right\")\n",
    "plt.show()"
   ]
  }
 ],
 "metadata": {
  "anaconda-cloud": {},
  "kernelspec": {
   "display_name": "Python [default]",
   "language": "python",
   "name": "python2"
  },
  "language_info": {
   "codemirror_mode": {
    "name": "ipython",
    "version": 2
   },
   "file_extension": ".py",
   "mimetype": "text/x-python",
   "name": "python",
   "nbconvert_exporter": "python",
   "pygments_lexer": "ipython2",
   "version": "2.7.12"
  }
 },
 "nbformat": 4,
 "nbformat_minor": 0
}
