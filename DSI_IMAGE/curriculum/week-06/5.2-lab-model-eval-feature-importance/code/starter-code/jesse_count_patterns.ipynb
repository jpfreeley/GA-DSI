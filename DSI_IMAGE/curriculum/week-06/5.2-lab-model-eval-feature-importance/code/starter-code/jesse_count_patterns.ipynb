{
 "cells": [
  {
   "cell_type": "code",
   "execution_count": 4,
   "metadata": {
    "ExecuteTime": {
     "end_time": "2016-10-30T13:58:47.983450",
     "start_time": "2016-10-30T13:58:47.953902"
    },
    "collapsed": false
   },
   "outputs": [
    {
     "name": "stdout",
     "output_type": "stream",
     "text": [
      "a 1\n",
      "aa 1\n",
      "g 1\n",
      "gg 1\n",
      "ggg 1\n",
      "gggg 1\n",
      "ggggg 1\n",
      "gggggg 1\n",
      "gh 2\n",
      "ghgh 2\n",
      "ghghgh 2\n",
      "ghj 3\n",
      "ghjghj 3\n",
      "t 1\n",
      "tt 1\n",
      "ttt 1\n",
      "tttt 1\n",
      "ttttt 1\n",
      "tttttt 1\n",
      "ttttttt 1\n",
      "tttttttt 1\n",
      "ttttttttt 1\n",
      "tttttttttt 1\n",
      "ttttttttttt 1\n",
      "tttttttttttt 1\n",
      "te 2\n",
      "tete 2\n",
      "tetete 2\n",
      "tetetete 2\n",
      "tetetetete 2\n",
      "tetetetetete 2\n",
      "tes 3\n",
      "testes 3\n",
      "testestes 3\n",
      "testestestes 3\n",
      "a 1\n",
      "aa 1\n",
      "aaa 1\n",
      "aaaa 1\n",
      "aaaaa 1\n",
      "aaaaaa 1\n",
      "aaaaaaa 1\n",
      "aaaaaaaa 1\n",
      "ab 2\n",
      "abab 2\n",
      "ababab 2\n",
      "abababab 2\n",
      "a 1\n",
      "aa 1\n",
      "ab 2\n",
      "a 1\n",
      "aa 1\n",
      "aaa 1\n",
      "aaaa 1\n",
      "aaaaa 1\n",
      "aaaaaa 1\n",
      "aaaaaaa 1\n",
      "aaaaaaaa 1\n",
      "aaaaaaaaa 1\n",
      "aaaaaaaaaa 1\n",
      "aaaaaaaaaaa 1\n",
      "aaaaaaaaaaaa 1\n",
      "aaaaaaaaaaaaa 1\n",
      "aaaaaaaaaaaaaa 1\n",
      "aaaaaaaaaaaaaaa 1\n",
      "aa 2\n",
      "aaaa 2\n",
      "aaaaaa 2\n",
      "aaaaaaaa 2\n",
      "aaaaaaaaaa 2\n",
      "aaaaaaaaaaaa 2\n",
      "aaaaaaaaaaaaaa 2\n",
      "aaa 3\n",
      "aaaaaa 3\n",
      "aaaaaaaaa 3\n",
      "aaaaaaaaaaaa 3\n",
      "aaaaaaaaaaaaaaa 3\n",
      "aaaa 4\n",
      "aaaaaaaa 4\n",
      "aaaaaaaaaaaa 4\n",
      "aaaaa 5\n",
      "aaaaaaaaaa 5\n",
      "aaaaaaaaaaaaaaa 5\n",
      "aaaaaa 6\n",
      "aaaaaaaaaaaa 6\n",
      "aaaaaaa 7\n",
      "aaaaaaaaaaaaaa 7\n",
      "aaaaaaaa 8\n",
      "aaaaaaaaa 9\n",
      "aaaaaaaaaa 10\n",
      "aaaaaaaaaaa 11\n",
      "aaaaaaaaaaaa 12\n",
      "aaaaaaaaaaaaa 13\n",
      "aaaaaaaaaaaaaa 14\n",
      "aaaaaaaaaaaaaab 15\n"
     ]
    },
    {
     "data": {
      "text/plain": [
       "[2, 2, 0, 4, 4, 1, 1]"
      ]
     },
     "execution_count": 4,
     "metadata": {},
     "output_type": "execute_result"
    }
   ],
   "source": [
    "def answer(s):\n",
    "    q = len(s)\n",
    "    if q == 0:\n",
    "        return 0\n",
    "    for z in range(q):\n",
    "        y = \"\"\n",
    "        for x in range(q/len(s[0:z+1])):\n",
    "            y = y + s[0:z+1]\n",
    "            print y, len(s[0:z+1])\n",
    "        if y == s:\n",
    "                return q/len(s[0:z+1])\n",
    "    return 1\n",
    "    \n",
    "    \n",
    "    \n",
    "test = [\"aa\", \"ghjghj\", \"\", \"testestestes\", \"abababab\", \"ab\",\"aaaaaaaaaaaaaab\"]\n",
    "[answer(x) for x in test]"
   ]
  }
 ],
 "metadata": {
  "kernelspec": {
   "display_name": "Python [default]",
   "language": "python",
   "name": "python2"
  },
  "language_info": {
   "codemirror_mode": {
    "name": "ipython",
    "version": 2
   },
   "file_extension": ".py",
   "mimetype": "text/x-python",
   "name": "python",
   "nbconvert_exporter": "python",
   "pygments_lexer": "ipython2",
   "version": "2.7.12"
  }
 },
 "nbformat": 4,
 "nbformat_minor": 1
}
