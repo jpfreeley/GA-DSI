{
 "cells": [
  {
   "cell_type": "code",
   "execution_count": 33,
   "metadata": {
    "ExecuteTime": {
     "end_time": "2016-10-27T12:28:59.020532",
     "start_time": "2016-10-27T12:28:54.376906"
    },
    "collapsed": false
   },
   "outputs": [
    {
     "name": "stdout",
     "output_type": "stream",
     "text": [
      "What is the number? 110\n",
      "Raw number is 110.\n",
      "Roman equivalent is CX\n"
     ]
    }
   ],
   "source": [
    "# n is a single digit\n",
    "rom_dict = {'o':[\"I\", 'V', 'X'], 't':[\"X\", 'L', 'C'], 'h':[\"C\", 'D', 'M']}\n",
    "def conv_digit(n, oth):\n",
    "    \n",
    "    n = int(n)\n",
    "    \n",
    "    if n < 4:\n",
    "        return rom_dict[oth][0] * n\n",
    "    \n",
    "    elif n == 4:\n",
    "        return rom_dict[oth][0] + rom_dict[oth][1]\n",
    "        \n",
    "    elif n >= 5 and n <9:\n",
    "        return rom_dict[oth][1] + rom_dict[oth][0]*(n-5)\n",
    "    \n",
    "    elif n == 9:\n",
    "        return rom_dict[oth][0] + rom_dict[oth][2]\n",
    "def get_rom_num(num):\n",
    "    \n",
    "    try:\n",
    "        \n",
    "        int(num)\n",
    "    except:\n",
    "        return \"Need integers!\"\n",
    "    \n",
    "    huns = ''\n",
    "    tens = ''\n",
    "    ones = ''\n",
    "    if int(num) > 1000 or int(num) < 0:\n",
    "        return \"Don't be funny!\"\n",
    "    elif int(num) == 0:\n",
    "        return \"Romans didn't have zeros!! Sad...\"\n",
    "    elif len(num) == 4:\n",
    "        return \"M\"\n",
    "    elif len(num) == 3:\n",
    "        huns = conv_digit(num[0], 'h')\n",
    "        tens = conv_digit(num[1], 't')\n",
    "        ones = conv_digit(num[2], 'o')\n",
    "    elif len(num) == 2:\n",
    "        tens = conv_digit(num[0], 't')\n",
    "        ones = conv_digit(num[1], 'o')\n",
    "    elif len(num) == 1:\n",
    "        ones = conv_digit(num[0], 'o')\n",
    "    return huns+tens+ones\n",
    "    \n",
    "num = raw_input(\"What is the number? \")\n",
    "print \"Raw number is %s.\" % num\n",
    "print \"Roman equivalent is\", get_rom_num(num)"
   ]
  },
  {
   "cell_type": "raw",
   "metadata": {},
   "source": [
    "    "
   ]
  },
  {
   "cell_type": "code",
   "execution_count": null,
   "metadata": {
    "collapsed": true
   },
   "outputs": [],
   "source": [
    "---\n",
    "title: Roman Numerals\n",
    "duration: \"1:00\"\n",
    "---\n",
    "\n",
    "# ![](https://ga-dash.s3.amazonaws.com/production/assets/logo-9f88ae6c9c3871690e33280fcf557f33.png) Morning Exercise: Romans Numerals\n",
    "Week 6 | Exercise 1.0\n",
    "\n",
    "![](http://blog.world-mysteries.com/wp-content/uploads/2012/02/gk_mtable.jpg)\n",
    "\n",
    "Take the Roman numerals from 1-1000. [Here's a lookup table](http://literacy.kent.edu/Minigrants/Cinci/romanchart.htm) if you need a refresher.\n",
    "\n",
    "1. Write a function to_roman() that converts an integer to its value as a Roman numeral.\n",
    "2. Write a function from_roman() that does the reverse: convert a string of Roman numerals to its integer value.\n",
    "3. Submit each of your functions to Slack. Look at your classmates functions. See if you can find a way to break their code.\n",
    "\n",
    "Your functions should be able to handle integers from 1-1000 and return out the appropriate errors if the input is out of range, or of the wrong type.\n",
    "\n",
    "Here's your partner for this morning:\n",
    "\n",
    "```bash\n",
    "('Tim', 'Kristen')\n",
    "\n",
    "('Tiana', 'Andrew')\n",
    "\n",
    "('Jocelyn', 'Sam')\n",
    "\n",
    "('Betsy', 'Rachel')\n",
    "\n",
    "('Joshua', 'Jesse')\n",
    "\n",
    "('Doug', 'Amish')\n",
    "\n",
    "('Thomas', 'Amer')\n",
    "\n",
    "('Debjani', 'Sara')\n",
    "\n",
    "('JP', 'Peida')\n",
    "\n",
    "('Mike', '*')\n",
    "\n",
    "\n",
    "```\n"
   ]
  }
 ],
 "metadata": {
  "anaconda-cloud": {},
  "kernelspec": {
   "display_name": "Python [default]",
   "language": "python",
   "name": "python2"
  },
  "language_info": {
   "codemirror_mode": {
    "name": "ipython",
    "version": 2
   },
   "file_extension": ".py",
   "mimetype": "text/x-python",
   "name": "python",
   "nbconvert_exporter": "python",
   "pygments_lexer": "ipython2",
   "version": "2.7.12"
  }
 },
 "nbformat": 4,
 "nbformat_minor": 1
}
