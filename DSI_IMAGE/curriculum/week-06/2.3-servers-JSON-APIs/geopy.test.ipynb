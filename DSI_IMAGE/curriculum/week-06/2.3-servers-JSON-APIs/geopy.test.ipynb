{
 "cells": [
  {
   "cell_type": "code",
   "execution_count": 5,
   "metadata": {
    "ExecuteTime": {
     "end_time": "2016-10-25T14:43:57.050343",
     "start_time": "2016-10-25T14:43:55.656512"
    },
    "collapsed": false
   },
   "outputs": [
    {
     "name": "stdout",
     "output_type": "stream",
     "text": [
      "Flatiron Building, 175, 5th Avenue, Flatiron, Manhattan, New York County, NYC, New York, 10010, United States of America\n",
      "(40.7410861, -73.9896297241625)\n",
      "{u'display_name': u'Flatiron Building, 175, 5th Avenue, Flatiron, Manhattan, New York County, NYC, New York, 10010, United States of America', u'importance': 0.68300331552197, u'place_id': u'125392758', u'lon': u'-73.9896297241625', u'lat': u'40.7410861', u'osm_type': u'way', u'licence': u'Data \\xa9 OpenStreetMap contributors, ODbL 1.0. http://www.openstreetmap.org/copyright', u'osm_id': u'264768896', u'boundingbox': [u'40.7407597', u'40.7413004', u'-73.9898714', u'-73.9895013'], u'type': u'attraction', u'class': u'tourism', u'icon': u'https://nominatim.openstreetmap.org/images/mapicons/poi_point_of_interest.p.20.png'}\n",
      "\n"
     ]
    },
    {
     "data": {
      "text/plain": [
       "'{\"display_name\": \"Flatiron Building, 175, 5th Avenue, Flatiron, Manhattan, New York County, NYC, New York, 10010, United States of America\", \"importance\": 0.68300331552197, \"place_id\": \"125392758\", \"lon\": \"-73.9896297241625\", \"lat\": \"40.7410861\", \"osm_type\": \"way\", \"licence\": \"Data \\\\u00a9 OpenStreetMap contributors, ODbL 1.0. http://www.openstreetmap.org/copyright\", \"osm_id\": \"264768896\", \"boundingbox\": [\"40.7407597\", \"40.7413004\", \"-73.9898714\", \"-73.9895013\"], \"type\": \"attraction\", \"class\": \"tourism\", \"icon\": \"https://nominatim.openstreetmap.org/images/mapicons/poi_point_of_interest.p.20.png\"}'"
      ]
     },
     "execution_count": 5,
     "metadata": {},
     "output_type": "execute_result"
    }
   ],
   "source": [
    "from geopy.geocoders import Nominatim\n",
    "geolocator = Nominatim()\n",
    "location = geolocator.geocode(\"175 5th Avenue NYC\")\n",
    "print(location.address)\n",
    "print((location.latitude, location.longitude))\n",
    "print(location.raw)\n",
    "print \n",
    "\n",
    "import json\n",
    "json.dumps(location.raw)"
   ]
  },
  {
   "cell_type": "code",
   "execution_count": null,
   "metadata": {
    "collapsed": true
   },
   "outputs": [],
   "source": []
  }
 ],
 "metadata": {
  "kernelspec": {
   "display_name": "Python [default]",
   "language": "python",
   "name": "python2"
  },
  "language_info": {
   "codemirror_mode": {
    "name": "ipython",
    "version": 2
   },
   "file_extension": ".py",
   "mimetype": "text/x-python",
   "name": "python",
   "nbconvert_exporter": "python",
   "pygments_lexer": "ipython2",
   "version": "2.7.12"
  }
 },
 "nbformat": 4,
 "nbformat_minor": 1
}
