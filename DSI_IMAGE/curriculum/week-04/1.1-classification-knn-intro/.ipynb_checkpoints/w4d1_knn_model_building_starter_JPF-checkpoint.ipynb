{
 "cells": [
  {
   "cell_type": "code",
   "execution_count": 193,
   "metadata": {
    "ExecuteTime": {
     "end_time": "2016-10-11T12:52:54.565305",
     "start_time": "2016-10-11T12:52:54.544332"
    },
    "collapsed": false
   },
   "outputs": [],
   "source": [
    "import pandas as pd\n",
    "from collections import Counter\n",
    "import matplotlib as plt\n",
    "import seaborn as sns\n",
    "%matplotlib inline"
   ]
  },
  {
   "cell_type": "code",
   "execution_count": 184,
   "metadata": {
    "ExecuteTime": {
     "end_time": "2016-10-11T12:51:38.257478",
     "start_time": "2016-10-11T12:51:38.249162"
    },
    "collapsed": false
   },
   "outputs": [],
   "source": [
    "def calculate_distance(p, q):\n",
    "    \"\"\" Calculate Euclidean distance between two points.\"\"\"\n",
    "    distance =(\\\n",
    "               ((float(p[0]) - float(q[0])) ** 2) + \\\n",
    "               ((float(p[1]) - float(q[1])) ** 2)\\\n",
    "              ) ** 0.5\n",
    "    return distance"
   ]
  },
  {
   "cell_type": "code",
   "execution_count": 185,
   "metadata": {
    "ExecuteTime": {
     "end_time": "2016-10-11T12:51:39.276375",
     "start_time": "2016-10-11T12:51:39.268571"
    },
    "collapsed": false
   },
   "outputs": [
    {
     "data": {
      "text/plain": [
       "1.4142135623730951"
      ]
     },
     "execution_count": 185,
     "metadata": {},
     "output_type": "execute_result"
    }
   ],
   "source": [
    "p = [1,1]\n",
    "q = [2,2]\n",
    "calculate_distance(p,q)"
   ]
  },
  {
   "cell_type": "code",
   "execution_count": 186,
   "metadata": {
    "ExecuteTime": {
     "end_time": "2016-10-11T12:51:39.918299",
     "start_time": "2016-10-11T12:51:39.910556"
    },
    "collapsed": false
   },
   "outputs": [],
   "source": [
    "\n",
    "\n",
    "def neighbor_vote(labels):\n",
    "    \"\"\" Get the majority label from k neighbors.\"\"\"\n",
    "    data = Counter(labels)\n",
    "      # Returns all unique items and their counts\n",
    "    vote = data.most_common(1)\n",
    "    # Is it possible to have a tie? How would you handle that?\n",
    "    return vote"
   ]
  },
  {
   "cell_type": "code",
   "execution_count": 210,
   "metadata": {
    "ExecuteTime": {
     "end_time": "2016-10-11T13:02:59.217944",
     "start_time": "2016-10-11T13:02:59.192269"
    },
    "collapsed": false
   },
   "outputs": [],
   "source": [
    "import pandas as pd\n",
    "def knn_classifier(labeled_points, new_point, k):\n",
    "    points_list = []\n",
    "    for i in labeled_points:\n",
    "        label = i[0]\n",
    "        x = i[1]\n",
    "        y = i[2]\n",
    "        from_pt = [x , y]\n",
    "        distance = calculate_distance(from_pt,new_point)\n",
    "        point = [label, distance]\n",
    "        points_list.append(point)\n",
    "    \"\"\" Given classified points and one new point, return a prediction based on the votes of k neighbors.\"\"\"\n",
    "    df = pd.DataFrame(points_list)\n",
    "    df = df.sort([1])\n",
    "    label_list = df[0].values.tolist()\n",
    "    label_list = label_list[0:k]\n",
    "    prediction = neighbor_vote(label_list)\n",
    "    prediction = prediction[0][0]\n",
    "    return prediction\n",
    "\n",
    "\n"
   ]
  },
  {
   "cell_type": "code",
   "execution_count": 216,
   "metadata": {
    "ExecuteTime": {
     "end_time": "2016-10-11T13:03:36.391333",
     "start_time": "2016-10-11T13:03:36.290417"
    },
    "collapsed": false
   },
   "outputs": [
    {
     "name": "stdout",
     "output_type": "stream",
     "text": [
      "[1.0, 1.0, 1.0, 0.0, 0.0, 0.0, 0.0, 1.0, 0.0, 0.0, 0.0, 0.0, 1.0, 0.0, 1.0, 0.0, 1.0, 1.0, 0.0, 0.0, 1.0, 1.0, 0.0, 0.0, 1.0, 0.0, 0.0, 1.0, 0.0, 1.0]\n"
     ]
    },
    {
     "name": "stderr",
     "output_type": "stream",
     "text": [
      "/Applications/anaconda/anaconda/lib/python2.7/site-packages/ipykernel/__main__.py:14: FutureWarning: sort(columns=....) is deprecated, use sort_values(by=.....)\n"
     ]
    }
   ],
   "source": [
    "from sklearn import datasets\n",
    "import pandas as pd\n",
    "import numpy as np\n",
    "from sklearn.cross_validation import train_test_split\n",
    "\n",
    "# import data\n",
    "iris = datasets.load_iris()\n",
    "X = iris.data[:100, :2]  # use the first two features and just the first two classes.\n",
    "y = iris.target[:100]\n",
    "X_train, X_test, y_train, y_test = train_test_split(X, y, test_size=0.30, random_state=42)\n",
    "\n",
    "# Split 70/30 into initial data and new points to classify\n",
    "training_df = pd.DataFrame({'feature1':X_train[:,0],'feature2':X_train[:,1],'class':y_train})\n",
    "test_df = pd.DataFrame({'feature1':X_test[:,0],'feature2':X_test[:,1],'class':y_test})\n",
    "\n",
    "\n",
    "\n",
    "labeled_points = training_df.values.tolist()\n",
    "\n",
    "test_df_list = test_df.values.tolist()\n",
    "\n",
    "k = 1\n",
    "for k in range(2,3):\n",
    "    prediction = []\n",
    "    for i in test_df_list:\n",
    "        new_point = [i[1],i[2]]\n",
    "        prediction.append(knn_classifier(labeled_points, new_point, k))\n",
    "    print prediction\n"
   ]
  },
  {
   "cell_type": "code",
   "execution_count": 217,
   "metadata": {
    "ExecuteTime": {
     "end_time": "2016-10-11T13:03:38.182962",
     "start_time": "2016-10-11T13:03:38.175877"
    },
    "collapsed": false
   },
   "outputs": [
    {
     "data": {
      "text/plain": [
       "' Iteratively classify new points in test_df, based on the labeled points in training_df, and track your accuracy.'"
      ]
     },
     "execution_count": 217,
     "metadata": {},
     "output_type": "execute_result"
    }
   ],
   "source": [
    "\"\"\" Iteratively classify new points in test_df, based on the labeled points in training_df, and track your accuracy.\"\"\""
   ]
  },
  {
   "cell_type": "code",
   "execution_count": 221,
   "metadata": {
    "ExecuteTime": {
     "end_time": "2016-10-11T13:04:15.167182",
     "start_time": "2016-10-11T13:04:15.156653"
    },
    "collapsed": false
   },
   "outputs": [],
   "source": [
    "\n",
    "test_pred = pd.DataFrame(prediction)\n",
    "test_df = pd.concat([test_df,test_pred], axis=1)\n",
    "test_df = test_df.rename(columns={'0': 'pred'}, inplace=True)\n",
    "test_df"
   ]
  },
  {
   "cell_type": "code",
   "execution_count": null,
   "metadata": {
    "collapsed": true
   },
   "outputs": [],
   "source": []
  },
  {
   "cell_type": "code",
   "execution_count": 200,
   "metadata": {
    "ExecuteTime": {
     "end_time": "2016-10-11T12:57:32.523990",
     "start_time": "2016-10-11T12:57:31.622038"
    },
    "collapsed": false
   },
   "outputs": [
    {
     "data": {
      "text/plain": [
       "<seaborn.axisgrid.PairGrid at 0x11a8451d0>"
      ]
     },
     "execution_count": 200,
     "metadata": {},
     "output_type": "execute_result"
    },
    {
     "data": {
      "image/png": "[encoded data removed]",
      "text/plain": [
       "<matplotlib.figure.Figure at 0x11a845e10>"
      ]
     },
     "metadata": {},
     "output_type": "display_data"
    },
    {
     "data": {
      "image/png": "[encoded data removed]",
      "text/plain": [
       "<matplotlib.figure.Figure at 0x11aa24950>"
      ]
     },
     "metadata": {},
     "output_type": "display_data"
    }
   ],
   "source": [
    "\n",
    "\n",
    "\"\"\" BONUS: plot the labeled points and an example of a new point being classified.\"\"\"\n",
    "sns.pairplot(training_df, x_vars='feature1', y_vars='feature2', hue='class')\n",
    "sns.pairplot(test_df, x_vars='feature1', y_vars='feature2', hue='class')"
   ]
  },
  {
   "cell_type": "code",
   "execution_count": null,
   "metadata": {
    "collapsed": true
   },
   "outputs": [],
   "source": []
  }
 ],
 "metadata": {
  "kernelspec": {
   "display_name": "Python [default]",
   "language": "python",
   "name": "python2"
  },
  "language_info": {
   "codemirror_mode": {
    "name": "ipython",
    "version": 2
   },
   "file_extension": ".py",
   "mimetype": "text/x-python",
   "name": "python",
   "nbconvert_exporter": "python",
   "pygments_lexer": "ipython2",
   "version": "2.7.12"
  }
 },
 "nbformat": 4,
 "nbformat_minor": 0
}
