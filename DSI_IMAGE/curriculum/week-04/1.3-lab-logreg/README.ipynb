{
 "cells": [
  {
   "cell_type": "markdown",
   "metadata": {},
   "source": [
    "---\n",
    "title: Logistic Regression Lab\n",
    "type: lab\n",
    "duration: \"1:25\"\n",
    "creator:\n",
    "    name: Faith / Jon\n",
    "    city: DC / ATL\n",
    "---\n",
    "\n",
    "# ![](https://ga-dash.s3.amazonaws.com/production/assets/logo-9f88ae6c9c3871690e33280fcf557f33.png) Logistic Regression Lab\n",
    "\n",
    "## Introduction\n",
    "\n",
    "Statsmodels is a Python module that allows users to explore data, estimate statistical models, and perform statistical tests. It features an extensive list of descriptive statistics, statistical tests, plotting functions, and result statistics for different types of data.\n",
    "\n",
    "Researchers across fields use statsmodels for statistical computing and data analysis in Python. Demonstrate your understanding by performing logistic regression using Statsmodels.\n",
    "\n",
    "## Exercise\n",
    "\n",
    "Perform a logistic regression (logit) on the IRIS dataset using all four features. Refer to the [statsmodel documentation](http://statsmodels.sourceforge.net/stable/index.html) for further information on the methods for specifying and fitting data.\n",
    "\n",
    "#### Requirements\n",
    "\n",
    "- Practice Statsmodels to run Logistic on the project dataset\n",
    "- Explain how to evaluate a logistic regression model\n",
    "- Explain how to tune the model\n",
    "- Introduce new data to the model and see if it makes a difference\n",
    "\n",
    "#### Starter code\n",
    "\n",
    "Here's a link to the [starter code](./code/starter-code/week4-2.2-starter.ipynb)\n",
    "\n",
    "\n",
    "> [Solution code found here](./code/solution-code/week4-2.2-solution.ipynb)\n",
    "\n",
    "#### Deliverable\n",
    "\n",
    "- Outline methods and models\n",
    "- Build a logistic regression model\n",
    "- Create a writeup on the interpretation of findings including an executive summary with conclusions and next steps\n",
    "\n",
    "## Additional Resources\n",
    "- [Great statsmodel review](http://blog.yhat.com/posts/logistic-regression-and-python.html)\n",
    "- [statsmodel documentation](http://statsmodels.sourceforge.net/stable/index.html)\n"
   ]
  }
 ],
 "metadata": {
  "anaconda-cloud": {},
  "kernelspec": {
   "display_name": "Python [default]",
   "language": "python",
   "name": "python2"
  },
  "language_info": {
   "codemirror_mode": {
    "name": "ipython",
    "version": 2
   },
   "file_extension": ".py",
   "mimetype": "text/x-python",
   "name": "python",
   "nbconvert_exporter": "python",
   "pygments_lexer": "ipython2",
   "version": "2.7.12"
  }
 },
 "nbformat": 4,
 "nbformat_minor": 1
}
