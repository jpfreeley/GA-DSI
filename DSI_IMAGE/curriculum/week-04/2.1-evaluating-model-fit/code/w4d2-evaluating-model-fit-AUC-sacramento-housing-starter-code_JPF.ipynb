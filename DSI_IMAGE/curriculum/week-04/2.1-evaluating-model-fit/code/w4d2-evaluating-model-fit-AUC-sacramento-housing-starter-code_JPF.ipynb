{
 "cells": [
  {
   "cell_type": "markdown",
   "metadata": {},
   "source": [
    "Load required packages"
   ]
  },
  {
   "cell_type": "code",
   "execution_count": 19,
   "metadata": {
    "ExecuteTime": {
     "end_time": "2016-10-12T11:44:38.619296",
     "start_time": "2016-10-12T11:44:38.607026"
    },
    "collapsed": false
   },
   "outputs": [],
   "source": [
    "import numpy as np\n",
    "import pandas as pd\n",
    "import matplotlib.pyplot as plt\n",
    "from sklearn.linear_model import LogisticRegression\n",
    "from sklearn.metrics import roc_curve, auc\n",
    "from sklearn.cross_validation import train_test_split\n",
    "from sklearn.metrics import confusion_matrix, accuracy_score, precision_score, recall_score\n",
    "from sklearn.metrics import classification_report\n",
    "\n",
    "plt.style.use('seaborn-white')\n",
    "%matplotlib inline"
   ]
  },
  {
   "cell_type": "markdown",
   "metadata": {},
   "source": [
    "Some plotting functions to help you plot the ROC curve"
   ]
  },
  {
   "cell_type": "code",
   "execution_count": 2,
   "metadata": {
    "ExecuteTime": {
     "end_time": "2016-10-12T11:18:30.778149",
     "start_time": "2016-10-12T11:18:30.757537"
    },
    "collapsed": true
   },
   "outputs": [],
   "source": [
    "# generic curve plotting function\n",
    "def auc_plotting_function(rate1, rate2, rate1_name, rate2_name, curve_name):\n",
    "    AUC = auc(rate1, rate2)\n",
    "    # Plot of a ROC curve for class 1 (has_cancer)\n",
    "    plt.figure(figsize=[11,9])\n",
    "    plt.plot(rate1, rate2, label=curve_name + ' (area = %0.2f)' % AUC, linewidth=4)\n",
    "    plt.plot([0, 1], [0, 1], 'k--', linewidth=4)\n",
    "    plt.xlim([0.0, 1.0])\n",
    "    plt.ylim([0.0, 1.05])\n",
    "    plt.xlabel(rate1_name, fontsize=18)\n",
    "    plt.ylabel(rate2_name, fontsize=18)\n",
    "    plt.title(curve_name + ' for house price > 200,000', fontsize=18)\n",
    "    plt.legend(loc=\"lower right\")\n",
    "    plt.show()\n",
    "\n",
    "# plot receiving operator characteristic curve\n",
    "def plot_roc(y_true, y_score):\n",
    "    fpr, tpr, _ = roc_curve(y_true, y_score)\n",
    "    auc_plotting_function(fpr, tpr, 'False Positive Rate', 'True Positive Rate', 'ROC')\n"
   ]
  },
  {
   "cell_type": "markdown",
   "metadata": {},
   "source": [
    "Load the Sacramento housing data"
   ]
  },
  {
   "cell_type": "code",
   "execution_count": 3,
   "metadata": {
    "ExecuteTime": {
     "end_time": "2016-10-12T11:18:34.380820",
     "start_time": "2016-10-12T11:18:34.359417"
    },
    "collapsed": false
   },
   "outputs": [],
   "source": [
    "sac = pd.read_csv('../assets/datasets/Sacramentorealestatetransactions.csv')"
   ]
  },
  {
   "cell_type": "markdown",
   "metadata": {},
   "source": [
    "Create a binary variable where 1 indicates a house sold for over 200,000 and 0 indicates a house sold for equal to or less than 200,000.\n",
    "\n",
    "Subset the data to just contain the number of beds, baths, the sq ft, and the over 200k indicator variable."
   ]
  },
  {
   "cell_type": "code",
   "execution_count": 4,
   "metadata": {
    "ExecuteTime": {
     "end_time": "2016-10-12T11:19:18.577773",
     "start_time": "2016-10-12T11:19:18.552595"
    },
    "collapsed": false
   },
   "outputs": [
    {
     "name": "stdout",
     "output_type": "stream",
     "text": [
      "<class 'pandas.core.frame.DataFrame'>\n",
      "RangeIndex: 985 entries, 0 to 984\n",
      "Data columns (total 12 columns):\n",
      "street       985 non-null object\n",
      "city         985 non-null object\n",
      "zip          985 non-null int64\n",
      "state        985 non-null object\n",
      "beds         985 non-null int64\n",
      "baths        985 non-null int64\n",
      "sq__ft       985 non-null int64\n",
      "type         985 non-null object\n",
      "sale_date    985 non-null object\n",
      "price        985 non-null int64\n",
      "latitude     985 non-null float64\n",
      "longitude    985 non-null float64\n",
      "dtypes: float64(2), int64(5), object(5)\n",
      "memory usage: 92.4+ KB\n"
     ]
    }
   ],
   "source": [
    "sac.info()"
   ]
  },
  {
   "cell_type": "code",
   "execution_count": 11,
   "metadata": {
    "ExecuteTime": {
     "end_time": "2016-10-12T11:26:24.061662",
     "start_time": "2016-10-12T11:26:24.041572"
    },
    "collapsed": false
   },
   "outputs": [
    {
     "name": "stdout",
     "output_type": "stream",
     "text": [
      "<class 'pandas.core.frame.DataFrame'>\n",
      "Index: 986 entries, 0 to over200\n",
      "Data columns (total 4 columns):\n",
      "beds       986 non-null int64\n",
      "baths      986 non-null int64\n",
      "sq__ft     986 non-null int64\n",
      "over200    986 non-null int64\n",
      "dtypes: int64(4)\n",
      "memory usage: 38.5+ KB\n"
     ]
    }
   ],
   "source": [
    "sac['over200'] = 1\n",
    "sac.loc[sac['price'] <= 200000, 'over200'] = 0\n",
    "sac['over200'].unique()\n",
    "cols = ['beds', 'baths', 'sq__ft', 'over200']\n",
    "sub = sac[cols]\n",
    "sub.info()"
   ]
  },
  {
   "cell_type": "markdown",
   "metadata": {},
   "source": [
    "Split your data into training and testing sets. The predictors are the beds, baths, and sq ft. The feature is the over 200k class variable. Make the test size 33% (and optionally stratify by the over 200k class)."
   ]
  },
  {
   "cell_type": "markdown",
   "metadata": {},
   "source": [
    "Fit a logistic regression on the training data."
   ]
  },
  {
   "cell_type": "markdown",
   "metadata": {},
   "source": [
    "Print out the confusion matrix"
   ]
  },
  {
   "cell_type": "code",
   "execution_count": 17,
   "metadata": {
    "ExecuteTime": {
     "end_time": "2016-10-12T11:42:30.213413",
     "start_time": "2016-10-12T11:42:30.179492"
    },
    "collapsed": false
   },
   "outputs": [
    {
     "name": "stdout",
     "output_type": "stream",
     "text": [
      "            predicted_over_200k  predicted_under_200k\n",
      "over_200k                   141                    49\n",
      "under_200k                   76                    60\n"
     ]
    }
   ],
   "source": [
    "X_train, X_test, Y_train, Y_test = train_test_split(sub[['beds', 'baths', 'sq__ft']], sub[['over200']].values, \n",
    "                                                    test_size=0.33, random_state=77)\n",
    "\n",
    "logreg = LogisticRegression(random_state=77)\n",
    "logreg.fit(X_train, Y_train)\n",
    "Y_pred = logreg.predict(X_test)\n",
    "\n",
    "conmat = np.array(confusion_matrix(Y_test, Y_pred, labels=[1,0]))\n",
    "\n",
    "confusion = pd.DataFrame(conmat, index=['over_200k', 'under_200k'],\n",
    "                         columns=['predicted_over_200k','predicted_under_200k'])\n",
    "\n",
    "print(confusion)\n"
   ]
  },
  {
   "cell_type": "markdown",
   "metadata": {},
   "source": [
    "Calculate the accuracy, precision, and recall. What can these three metrics tell you about your model?"
   ]
  },
  {
   "cell_type": "code",
   "execution_count": 20,
   "metadata": {
    "ExecuteTime": {
     "end_time": "2016-10-12T11:44:49.683099",
     "start_time": "2016-10-12T11:44:49.673643"
    },
    "collapsed": false
   },
   "outputs": [
    {
     "name": "stdout",
     "output_type": "stream",
     "text": [
      "             precision    recall  f1-score   support\n",
      "\n",
      "          0       0.55      0.44      0.49       136\n",
      "          1       0.65      0.74      0.69       190\n",
      "\n",
      "avg / total       0.61      0.62      0.61       326\n",
      "\n"
     ]
    }
   ],
   "source": [
    "print(classification_report(Y_test, Y_pred))"
   ]
  },
  {
   "cell_type": "markdown",
   "metadata": {},
   "source": [
    "Say as a real estate agent, I prioritize minimizing false positives (predicting a house will sell for over 200k when it actually sells for under) because false positives make me lose money.\n",
    "\n",
    "Change the decision threshold to **lower the false positive rate** and then print out the new confusion matrix. What is the downside to lowering the false positive rate?"
   ]
  },
  {
   "cell_type": "code",
   "execution_count": 36,
   "metadata": {
    "ExecuteTime": {
     "end_time": "2016-10-12T12:32:07.546478",
     "start_time": "2016-10-12T12:32:07.478111"
    },
    "collapsed": false
   },
   "outputs": [
    {
     "name": "stdout",
     "output_type": "stream",
     "text": [
      "   class_0_pp  class_1_pp\n",
      "0    0.277275    0.722725\n",
      "1    0.745636    0.254364\n",
      "2    0.432987    0.567013\n",
      "3    0.419277    0.580723\n",
      "4    0.457138    0.542862\n",
      "5    0.588796    0.411204\n",
      "6    0.459574    0.540426\n",
      "7    0.420429    0.579571\n",
      "8    0.607468    0.392532\n",
      "9    0.492306    0.507694\n",
      "(326, 326)\n",
      "   class_0_pp  class_1_pp  pred_class_thresh50\n",
      "0    0.277275    0.722725                    1\n",
      "1    0.745636    0.254364                    0\n",
      "2    0.432987    0.567013                    1\n",
      "3    0.419277    0.580723                    1\n",
      "4    0.457138    0.542862                    1\n",
      "5    0.588796    0.411204                    0\n",
      "6    0.459574    0.540426                    1\n",
      "7    0.420429    0.579571                    1\n",
      "8    0.607468    0.392532                    0\n",
      "9    0.492306    0.507694                    1\n",
      "   class_0_pp  class_1_pp  pred_class_thresh50  pred_class_thresh10\n",
      "0    0.277275    0.722725                    1                    1\n",
      "1    0.745636    0.254364                    0                    0\n",
      "2    0.432987    0.567013                    1                    0\n",
      "3    0.419277    0.580723                    1                    0\n",
      "4    0.457138    0.542862                    1                    0\n",
      "5    0.588796    0.411204                    0                    0\n",
      "6    0.459574    0.540426                    1                    0\n",
      "7    0.420429    0.579571                    1                    0\n",
      "8    0.607468    0.392532                    0                    0\n",
      "9    0.492306    0.507694                    1                    0\n",
      "             precision    recall  f1-score   support\n",
      "\n",
      "          0       0.55      0.44      0.49       136\n",
      "          1       0.65      0.74      0.69       190\n",
      "\n",
      "avg / total       0.61      0.62      0.61       326\n",
      "\n",
      "             precision    recall  f1-score   support\n",
      "\n",
      "          0       0.55      0.93      0.69       136\n",
      "          1       0.90      0.44      0.59       190\n",
      "\n",
      "avg / total       0.75      0.65      0.63       326\n",
      "\n",
      "            predicted_over_200k  predicted_under_200k\n",
      "over_200k                   141                    49\n",
      "under_200k                   76                    60\n",
      "            predicted_over_200knewThresh  predicted_under_200knewThresh\n",
      "over_200k                             84                            106\n",
      "under_200k                             9                            127\n"
     ]
    }
   ],
   "source": [
    "Y_pp = pd.DataFrame(logreg.predict_proba(X_test), columns=['class_0_pp','class_1_pp'])\n",
    "print(Y_pp.iloc[0:10])\n",
    "print(len(X_test), len(Y_pp))\n",
    "Y_pp['pred_class_thresh50'] = Y_pred\n",
    "print(Y_pp.iloc[0:10])\n",
    "Y_pp['pred_class_thresh10'] = [1 if x >= 0.6 else 0 for x in Y_pp.class_1_pp.values]\n",
    "print(Y_pp.iloc[0:10])\n",
    "\n",
    "\n",
    "conmat_10 = np.array(confusion_matrix(Y_test, Y_pp.pred_class_thresh10.values, labels=[1,0]))\n",
    "\n",
    "confusion_10 = pd.DataFrame(conmat_10, index=['over_200k', 'under_200k'],\n",
    "                         columns=['predicted_over_200knewThresh','predicted_under_200knewThresh'])\n",
    "\n",
    "print(classification_report(Y_test, Y_pred))\n",
    "print(classification_report(Y_test, Y_pp.pred_class_thresh10.values))\n",
    "print(confusion)\n",
    "print(confusion_10)"
   ]
  },
  {
   "cell_type": "markdown",
   "metadata": {},
   "source": [
    "Plot the ROC curve using the plotting function provided."
   ]
  },
  {
   "cell_type": "code",
   "execution_count": 29,
   "metadata": {
    "ExecuteTime": {
     "end_time": "2016-10-12T11:57:15.064088",
     "start_time": "2016-10-12T11:57:14.494397"
    },
    "collapsed": false
   },
   "outputs": [
    {
     "data": {
      "image/png": "[encoded data removed]",
      "text/plain": [
       "<matplotlib.figure.Figure at 0x1041c0cd0>"
      ]
     },
     "metadata": {},
     "output_type": "display_data"
    }
   ],
   "source": [
    "Y_score = logreg.decision_function(X_test)\n",
    "plot_roc(Y_test, Y_score)"
   ]
  },
  {
   "cell_type": "markdown",
   "metadata": {},
   "source": [
    "Bonus: when might precision and recall be more useful than the ROC?"
   ]
  },
  {
   "cell_type": "markdown",
   "metadata": {},
   "source": [
    "Precision and recall are more useful when the proportion of the positive class is smaller, since they are sensitive to this."
   ]
  }
 ],
 "metadata": {
  "kernelspec": {
   "display_name": "Python [default]",
   "language": "python",
   "name": "python2"
  },
  "language_info": {
   "codemirror_mode": {
    "name": "ipython",
    "version": 2
   },
   "file_extension": ".py",
   "mimetype": "text/x-python",
   "name": "python",
   "nbconvert_exporter": "python",
   "pygments_lexer": "ipython2",
   "version": "2.7.12"
  }
 },
 "nbformat": 4,
 "nbformat_minor": 0
}
